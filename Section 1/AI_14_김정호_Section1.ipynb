{
  "nbformat": 4,
  "nbformat_minor": 0,
  "metadata": {
    "colab": {
      "name": "AI_14_김정호_Section1.ipynb",
      "provenance": [],
      "collapsed_sections": [
        "t1n4QuTKq14u",
        "uV7RJAyCqp3B",
        "9-1cVsntbqpY",
        "6sOJDBs9Xset",
        "zBj6LnRUbzO-",
        "saP4Id5Jwc0S",
        "rDQXvi85CPiT",
        "ZdO35MM4DigC",
        "Ibwt3ohP32p_"
      ],
      "toc_visible": true,
      "authorship_tag": "ABX9TyNMzZLr49YiB6nRc+is2y0+",
      "include_colab_link": true
    },
    "kernelspec": {
      "name": "python3",
      "display_name": "Python 3"
    },
    "language_info": {
      "name": "python"
    }
  },
  "cells": [
    {
      "cell_type": "markdown",
      "metadata": {
        "id": "view-in-github",
        "colab_type": "text"
      },
      "source": [
        "<a href=\"https://colab.research.google.com/github/Jeongho-K/Section-Project/blob/main/Section%201/AI_14_%EA%B9%80%EC%A0%95%ED%98%B8_Section1.ipynb\" target=\"_parent\"><img src=\"https://colab.research.google.com/assets/colab-badge.svg\" alt=\"Open In Colab\"/></a>"
      ]
    },
    {
      "cell_type": "markdown",
      "source": [
        "# \b게임회사 다음 분기 계획 결정\n",
        "확인하고자 하는 내용\n",
        "* 지역에 따라서 선호하는 게임 장르가 다를까\n",
        "* 연도별 게임의 트렌드가 있을까\n",
        "* 출고량이 높은 게임에 대한 분석 및 시각화 프로세스"
      ],
      "metadata": {
        "id": "CSLPZalpqkvH"
      }
    },
    {
      "cell_type": "markdown",
      "source": [
        "## EDA(전처리 과정)"
      ],
      "metadata": {
        "id": "t1n4QuTKq14u"
      }
    },
    {
      "cell_type": "markdown",
      "source": [
        "### 데이터 불러오기\n",
        "* Name : 게임의 이름입니다.  \n",
        "* Platform : 게임이 지원되는 플랫폼의 이름입니다.  \n",
        "* Year : 게임이 출시된 연도입니다.  \n",
        "* Genre : 게임의 장르입니다.  \n",
        "* Publisher : 게임을 제작한 회사입니다.  \n",
        "* NA_Sales : 북미지역에서의 출고량입니다.(단위 100만)  \n",
        "* EU_Sales : 유럽지역에서의 출고량입니다.(단위 100만)  \n",
        "* JP_Sales : 일본지역에서의 출고량입니다.(단위 100만)  \n",
        "* Other_Sales : 기타지역에서의 출고량입니다.(단위 100만)  "
      ],
      "metadata": {
        "id": "uV7RJAyCqp3B"
      }
    },
    {
      "cell_type": "code",
      "execution_count": 2,
      "metadata": {
        "id": "4vJ5jgPca-CV"
      },
      "outputs": [],
      "source": [
        "import pandas as pd\n",
        "import numpy as np"
      ]
    },
    {
      "cell_type": "code",
      "source": [
        "# url\n",
        "data_url = 'https://ds-lecture-data.s3.ap-northeast-2.amazonaws.com/datasets/vgames2.csv'\n",
        "# read\n",
        "df = pd.read_csv(data_url, index_col = 0)"
      ],
      "metadata": {
        "id": "x3UDuIw-5LFs"
      },
      "execution_count": 3,
      "outputs": []
    },
    {
      "cell_type": "code",
      "source": [
        "df.head()"
      ],
      "metadata": {
        "colab": {
          "base_uri": "https://localhost:8080/",
          "height": 0
        },
        "id": "5mi21RwjFba4",
        "outputId": "3c3781f9-2ce5-447e-8a0b-3382a735344b"
      },
      "execution_count": 4,
      "outputs": [
        {
          "output_type": "execute_result",
          "data": {
            "text/plain": [
              "                                             Name Platform    Year      Genre  \\\n",
              "1                    Candace Kane's Candy Factory       DS  2008.0     Action   \n",
              "2                                  The Munchables      Wii  2009.0     Action   \n",
              "3  Otome wa Oanesama Boku ni Koi Shiteru Portable      PSP  2010.0  Adventure   \n",
              "4                Deal or No Deal: Special Edition       DS  2010.0       Misc   \n",
              "5       Ben 10 Ultimate Alien: Cosmic Destruction      PS3  2010.0   Platform   \n",
              "\n",
              "            Publisher NA_Sales EU_Sales JP_Sales Other_Sales  \n",
              "1           Destineer     0.04        0        0           0  \n",
              "2  Namco Bandai Games     0.17        0        0        0.01  \n",
              "3           Alchemist        0        0     0.02           0  \n",
              "4           Zoo Games     0.04        0        0           0  \n",
              "5         D3Publisher     0.12     0.09        0        0.04  "
            ],
            "text/html": [
              "\n",
              "  <div id=\"df-1721056e-7997-435d-88c8-63366b1738c3\">\n",
              "    <div class=\"colab-df-container\">\n",
              "      <div>\n",
              "<style scoped>\n",
              "    .dataframe tbody tr th:only-of-type {\n",
              "        vertical-align: middle;\n",
              "    }\n",
              "\n",
              "    .dataframe tbody tr th {\n",
              "        vertical-align: top;\n",
              "    }\n",
              "\n",
              "    .dataframe thead th {\n",
              "        text-align: right;\n",
              "    }\n",
              "</style>\n",
              "<table border=\"1\" class=\"dataframe\">\n",
              "  <thead>\n",
              "    <tr style=\"text-align: right;\">\n",
              "      <th></th>\n",
              "      <th>Name</th>\n",
              "      <th>Platform</th>\n",
              "      <th>Year</th>\n",
              "      <th>Genre</th>\n",
              "      <th>Publisher</th>\n",
              "      <th>NA_Sales</th>\n",
              "      <th>EU_Sales</th>\n",
              "      <th>JP_Sales</th>\n",
              "      <th>Other_Sales</th>\n",
              "    </tr>\n",
              "  </thead>\n",
              "  <tbody>\n",
              "    <tr>\n",
              "      <th>1</th>\n",
              "      <td>Candace Kane's Candy Factory</td>\n",
              "      <td>DS</td>\n",
              "      <td>2008.0</td>\n",
              "      <td>Action</td>\n",
              "      <td>Destineer</td>\n",
              "      <td>0.04</td>\n",
              "      <td>0</td>\n",
              "      <td>0</td>\n",
              "      <td>0</td>\n",
              "    </tr>\n",
              "    <tr>\n",
              "      <th>2</th>\n",
              "      <td>The Munchables</td>\n",
              "      <td>Wii</td>\n",
              "      <td>2009.0</td>\n",
              "      <td>Action</td>\n",
              "      <td>Namco Bandai Games</td>\n",
              "      <td>0.17</td>\n",
              "      <td>0</td>\n",
              "      <td>0</td>\n",
              "      <td>0.01</td>\n",
              "    </tr>\n",
              "    <tr>\n",
              "      <th>3</th>\n",
              "      <td>Otome wa Oanesama Boku ni Koi Shiteru Portable</td>\n",
              "      <td>PSP</td>\n",
              "      <td>2010.0</td>\n",
              "      <td>Adventure</td>\n",
              "      <td>Alchemist</td>\n",
              "      <td>0</td>\n",
              "      <td>0</td>\n",
              "      <td>0.02</td>\n",
              "      <td>0</td>\n",
              "    </tr>\n",
              "    <tr>\n",
              "      <th>4</th>\n",
              "      <td>Deal or No Deal: Special Edition</td>\n",
              "      <td>DS</td>\n",
              "      <td>2010.0</td>\n",
              "      <td>Misc</td>\n",
              "      <td>Zoo Games</td>\n",
              "      <td>0.04</td>\n",
              "      <td>0</td>\n",
              "      <td>0</td>\n",
              "      <td>0</td>\n",
              "    </tr>\n",
              "    <tr>\n",
              "      <th>5</th>\n",
              "      <td>Ben 10 Ultimate Alien: Cosmic Destruction</td>\n",
              "      <td>PS3</td>\n",
              "      <td>2010.0</td>\n",
              "      <td>Platform</td>\n",
              "      <td>D3Publisher</td>\n",
              "      <td>0.12</td>\n",
              "      <td>0.09</td>\n",
              "      <td>0</td>\n",
              "      <td>0.04</td>\n",
              "    </tr>\n",
              "  </tbody>\n",
              "</table>\n",
              "</div>\n",
              "      <button class=\"colab-df-convert\" onclick=\"convertToInteractive('df-1721056e-7997-435d-88c8-63366b1738c3')\"\n",
              "              title=\"Convert this dataframe to an interactive table.\"\n",
              "              style=\"display:none;\">\n",
              "        \n",
              "  <svg xmlns=\"http://www.w3.org/2000/svg\" height=\"24px\"viewBox=\"0 0 24 24\"\n",
              "       width=\"24px\">\n",
              "    <path d=\"M0 0h24v24H0V0z\" fill=\"none\"/>\n",
              "    <path d=\"M18.56 5.44l.94 2.06.94-2.06 2.06-.94-2.06-.94-.94-2.06-.94 2.06-2.06.94zm-11 1L8.5 8.5l.94-2.06 2.06-.94-2.06-.94L8.5 2.5l-.94 2.06-2.06.94zm10 10l.94 2.06.94-2.06 2.06-.94-2.06-.94-.94-2.06-.94 2.06-2.06.94z\"/><path d=\"M17.41 7.96l-1.37-1.37c-.4-.4-.92-.59-1.43-.59-.52 0-1.04.2-1.43.59L10.3 9.45l-7.72 7.72c-.78.78-.78 2.05 0 2.83L4 21.41c.39.39.9.59 1.41.59.51 0 1.02-.2 1.41-.59l7.78-7.78 2.81-2.81c.8-.78.8-2.07 0-2.86zM5.41 20L4 18.59l7.72-7.72 1.47 1.35L5.41 20z\"/>\n",
              "  </svg>\n",
              "      </button>\n",
              "      \n",
              "  <style>\n",
              "    .colab-df-container {\n",
              "      display:flex;\n",
              "      flex-wrap:wrap;\n",
              "      gap: 12px;\n",
              "    }\n",
              "\n",
              "    .colab-df-convert {\n",
              "      background-color: #E8F0FE;\n",
              "      border: none;\n",
              "      border-radius: 50%;\n",
              "      cursor: pointer;\n",
              "      display: none;\n",
              "      fill: #1967D2;\n",
              "      height: 32px;\n",
              "      padding: 0 0 0 0;\n",
              "      width: 32px;\n",
              "    }\n",
              "\n",
              "    .colab-df-convert:hover {\n",
              "      background-color: #E2EBFA;\n",
              "      box-shadow: 0px 1px 2px rgba(60, 64, 67, 0.3), 0px 1px 3px 1px rgba(60, 64, 67, 0.15);\n",
              "      fill: #174EA6;\n",
              "    }\n",
              "\n",
              "    [theme=dark] .colab-df-convert {\n",
              "      background-color: #3B4455;\n",
              "      fill: #D2E3FC;\n",
              "    }\n",
              "\n",
              "    [theme=dark] .colab-df-convert:hover {\n",
              "      background-color: #434B5C;\n",
              "      box-shadow: 0px 1px 3px 1px rgba(0, 0, 0, 0.15);\n",
              "      filter: drop-shadow(0px 1px 2px rgba(0, 0, 0, 0.3));\n",
              "      fill: #FFFFFF;\n",
              "    }\n",
              "  </style>\n",
              "\n",
              "      <script>\n",
              "        const buttonEl =\n",
              "          document.querySelector('#df-1721056e-7997-435d-88c8-63366b1738c3 button.colab-df-convert');\n",
              "        buttonEl.style.display =\n",
              "          google.colab.kernel.accessAllowed ? 'block' : 'none';\n",
              "\n",
              "        async function convertToInteractive(key) {\n",
              "          const element = document.querySelector('#df-1721056e-7997-435d-88c8-63366b1738c3');\n",
              "          const dataTable =\n",
              "            await google.colab.kernel.invokeFunction('convertToInteractive',\n",
              "                                                     [key], {});\n",
              "          if (!dataTable) return;\n",
              "\n",
              "          const docLinkHtml = 'Like what you see? Visit the ' +\n",
              "            '<a target=\"_blank\" href=https://colab.research.google.com/notebooks/data_table.ipynb>data table notebook</a>'\n",
              "            + ' to learn more about interactive tables.';\n",
              "          element.innerHTML = '';\n",
              "          dataTable['output_type'] = 'display_data';\n",
              "          await google.colab.output.renderOutput(dataTable, element);\n",
              "          const docLink = document.createElement('div');\n",
              "          docLink.innerHTML = docLinkHtml;\n",
              "          element.appendChild(docLink);\n",
              "        }\n",
              "      </script>\n",
              "    </div>\n",
              "  </div>\n",
              "  "
            ]
          },
          "metadata": {},
          "execution_count": 4
        }
      ]
    },
    {
      "cell_type": "code",
      "source": [
        "np.shape(df)"
      ],
      "metadata": {
        "colab": {
          "base_uri": "https://localhost:8080/"
        },
        "id": "_c_RPo8iZ0Xu",
        "outputId": "8bf138fa-ccfb-4d91-c2a7-e91e58d23de6"
      },
      "execution_count": 5,
      "outputs": [
        {
          "output_type": "execute_result",
          "data": {
            "text/plain": [
              "(16598, 9)"
            ]
          },
          "metadata": {},
          "execution_count": 5
        }
      ]
    },
    {
      "cell_type": "markdown",
      "source": [
        "### 데이터 중복행 제거"
      ],
      "metadata": {
        "id": "9-1cVsntbqpY"
      }
    },
    {
      "cell_type": "code",
      "source": [
        "df[df.duplicated()]"
      ],
      "metadata": {
        "colab": {
          "base_uri": "https://localhost:8080/",
          "height": 0
        },
        "id": "lP-01fJ_WI8u",
        "outputId": "8069b291-7951-4c6c-fda7-e656da2ef066"
      },
      "execution_count": 6,
      "outputs": [
        {
          "output_type": "execute_result",
          "data": {
            "text/plain": [
              "                             Name Platform  Year    Genre Publisher NA_Sales  \\\n",
              "9185  Wii de Asobu: Metroid Prime      Wii   NaN  Shooter  Nintendo        0   \n",
              "\n",
              "     EU_Sales JP_Sales Other_Sales  \n",
              "9185        0     0.02           0  "
            ],
            "text/html": [
              "\n",
              "  <div id=\"df-bdd8b436-6c59-4431-9790-8a2052ae4b4e\">\n",
              "    <div class=\"colab-df-container\">\n",
              "      <div>\n",
              "<style scoped>\n",
              "    .dataframe tbody tr th:only-of-type {\n",
              "        vertical-align: middle;\n",
              "    }\n",
              "\n",
              "    .dataframe tbody tr th {\n",
              "        vertical-align: top;\n",
              "    }\n",
              "\n",
              "    .dataframe thead th {\n",
              "        text-align: right;\n",
              "    }\n",
              "</style>\n",
              "<table border=\"1\" class=\"dataframe\">\n",
              "  <thead>\n",
              "    <tr style=\"text-align: right;\">\n",
              "      <th></th>\n",
              "      <th>Name</th>\n",
              "      <th>Platform</th>\n",
              "      <th>Year</th>\n",
              "      <th>Genre</th>\n",
              "      <th>Publisher</th>\n",
              "      <th>NA_Sales</th>\n",
              "      <th>EU_Sales</th>\n",
              "      <th>JP_Sales</th>\n",
              "      <th>Other_Sales</th>\n",
              "    </tr>\n",
              "  </thead>\n",
              "  <tbody>\n",
              "    <tr>\n",
              "      <th>9185</th>\n",
              "      <td>Wii de Asobu: Metroid Prime</td>\n",
              "      <td>Wii</td>\n",
              "      <td>NaN</td>\n",
              "      <td>Shooter</td>\n",
              "      <td>Nintendo</td>\n",
              "      <td>0</td>\n",
              "      <td>0</td>\n",
              "      <td>0.02</td>\n",
              "      <td>0</td>\n",
              "    </tr>\n",
              "  </tbody>\n",
              "</table>\n",
              "</div>\n",
              "      <button class=\"colab-df-convert\" onclick=\"convertToInteractive('df-bdd8b436-6c59-4431-9790-8a2052ae4b4e')\"\n",
              "              title=\"Convert this dataframe to an interactive table.\"\n",
              "              style=\"display:none;\">\n",
              "        \n",
              "  <svg xmlns=\"http://www.w3.org/2000/svg\" height=\"24px\"viewBox=\"0 0 24 24\"\n",
              "       width=\"24px\">\n",
              "    <path d=\"M0 0h24v24H0V0z\" fill=\"none\"/>\n",
              "    <path d=\"M18.56 5.44l.94 2.06.94-2.06 2.06-.94-2.06-.94-.94-2.06-.94 2.06-2.06.94zm-11 1L8.5 8.5l.94-2.06 2.06-.94-2.06-.94L8.5 2.5l-.94 2.06-2.06.94zm10 10l.94 2.06.94-2.06 2.06-.94-2.06-.94-.94-2.06-.94 2.06-2.06.94z\"/><path d=\"M17.41 7.96l-1.37-1.37c-.4-.4-.92-.59-1.43-.59-.52 0-1.04.2-1.43.59L10.3 9.45l-7.72 7.72c-.78.78-.78 2.05 0 2.83L4 21.41c.39.39.9.59 1.41.59.51 0 1.02-.2 1.41-.59l7.78-7.78 2.81-2.81c.8-.78.8-2.07 0-2.86zM5.41 20L4 18.59l7.72-7.72 1.47 1.35L5.41 20z\"/>\n",
              "  </svg>\n",
              "      </button>\n",
              "      \n",
              "  <style>\n",
              "    .colab-df-container {\n",
              "      display:flex;\n",
              "      flex-wrap:wrap;\n",
              "      gap: 12px;\n",
              "    }\n",
              "\n",
              "    .colab-df-convert {\n",
              "      background-color: #E8F0FE;\n",
              "      border: none;\n",
              "      border-radius: 50%;\n",
              "      cursor: pointer;\n",
              "      display: none;\n",
              "      fill: #1967D2;\n",
              "      height: 32px;\n",
              "      padding: 0 0 0 0;\n",
              "      width: 32px;\n",
              "    }\n",
              "\n",
              "    .colab-df-convert:hover {\n",
              "      background-color: #E2EBFA;\n",
              "      box-shadow: 0px 1px 2px rgba(60, 64, 67, 0.3), 0px 1px 3px 1px rgba(60, 64, 67, 0.15);\n",
              "      fill: #174EA6;\n",
              "    }\n",
              "\n",
              "    [theme=dark] .colab-df-convert {\n",
              "      background-color: #3B4455;\n",
              "      fill: #D2E3FC;\n",
              "    }\n",
              "\n",
              "    [theme=dark] .colab-df-convert:hover {\n",
              "      background-color: #434B5C;\n",
              "      box-shadow: 0px 1px 3px 1px rgba(0, 0, 0, 0.15);\n",
              "      filter: drop-shadow(0px 1px 2px rgba(0, 0, 0, 0.3));\n",
              "      fill: #FFFFFF;\n",
              "    }\n",
              "  </style>\n",
              "\n",
              "      <script>\n",
              "        const buttonEl =\n",
              "          document.querySelector('#df-bdd8b436-6c59-4431-9790-8a2052ae4b4e button.colab-df-convert');\n",
              "        buttonEl.style.display =\n",
              "          google.colab.kernel.accessAllowed ? 'block' : 'none';\n",
              "\n",
              "        async function convertToInteractive(key) {\n",
              "          const element = document.querySelector('#df-bdd8b436-6c59-4431-9790-8a2052ae4b4e');\n",
              "          const dataTable =\n",
              "            await google.colab.kernel.invokeFunction('convertToInteractive',\n",
              "                                                     [key], {});\n",
              "          if (!dataTable) return;\n",
              "\n",
              "          const docLinkHtml = 'Like what you see? Visit the ' +\n",
              "            '<a target=\"_blank\" href=https://colab.research.google.com/notebooks/data_table.ipynb>data table notebook</a>'\n",
              "            + ' to learn more about interactive tables.';\n",
              "          element.innerHTML = '';\n",
              "          dataTable['output_type'] = 'display_data';\n",
              "          await google.colab.output.renderOutput(dataTable, element);\n",
              "          const docLink = document.createElement('div');\n",
              "          docLink.innerHTML = docLinkHtml;\n",
              "          element.appendChild(docLink);\n",
              "        }\n",
              "      </script>\n",
              "    </div>\n",
              "  </div>\n",
              "  "
            ]
          },
          "metadata": {},
          "execution_count": 6
        }
      ]
    },
    {
      "cell_type": "code",
      "source": [
        "df = df.drop_duplicates(ignore_index = True)"
      ],
      "metadata": {
        "id": "84WJ1NfUXFEd"
      },
      "execution_count": 7,
      "outputs": []
    },
    {
      "cell_type": "markdown",
      "source": [
        "### 결측치 제거"
      ],
      "metadata": {
        "id": "6sOJDBs9Xset"
      }
    },
    {
      "cell_type": "code",
      "source": [
        "df.isnull().sum()"
      ],
      "metadata": {
        "colab": {
          "base_uri": "https://localhost:8080/"
        },
        "id": "_JYDgtG8IkTV",
        "outputId": "23b56bfb-e6d7-4444-cd1b-3dd884a1d439"
      },
      "execution_count": 8,
      "outputs": [
        {
          "output_type": "execute_result",
          "data": {
            "text/plain": [
              "Name             0\n",
              "Platform         0\n",
              "Year           270\n",
              "Genre           50\n",
              "Publisher       58\n",
              "NA_Sales         0\n",
              "EU_Sales         0\n",
              "JP_Sales         0\n",
              "Other_Sales      0\n",
              "dtype: int64"
            ]
          },
          "metadata": {},
          "execution_count": 8
        }
      ]
    },
    {
      "cell_type": "code",
      "source": [
        "df = df.dropna()"
      ],
      "metadata": {
        "id": "edIkLWthbFD4"
      },
      "execution_count": 9,
      "outputs": []
    },
    {
      "cell_type": "code",
      "source": [
        "df.isnull().sum()"
      ],
      "metadata": {
        "colab": {
          "base_uri": "https://localhost:8080/"
        },
        "id": "AC46M3wxIpmW",
        "outputId": "69ab449f-ea20-4572-e65e-0a4a0e45d425"
      },
      "execution_count": 10,
      "outputs": [
        {
          "output_type": "execute_result",
          "data": {
            "text/plain": [
              "Name           0\n",
              "Platform       0\n",
              "Year           0\n",
              "Genre          0\n",
              "Publisher      0\n",
              "NA_Sales       0\n",
              "EU_Sales       0\n",
              "JP_Sales       0\n",
              "Other_Sales    0\n",
              "dtype: int64"
            ]
          },
          "metadata": {},
          "execution_count": 10
        }
      ]
    },
    {
      "cell_type": "markdown",
      "source": [
        "### 데이터내 이상값, 데이터형 처리\n",
        "'Name', 'Publisher'는 고유명사이므로 처리하지 않고 코드북이 없을때도 유추할 수 있는 나머지 변수에서 이상값을 찾아 처리를 진행했다."
      ],
      "metadata": {
        "id": "zBj6LnRUbzO-"
      }
    },
    {
      "cell_type": "code",
      "source": [
        "df.info()"
      ],
      "metadata": {
        "colab": {
          "base_uri": "https://localhost:8080/"
        },
        "id": "Z3hUoYo4dvT9",
        "outputId": "005e23d5-e0b0-45a3-86ab-1595902fb172"
      },
      "execution_count": 11,
      "outputs": [
        {
          "output_type": "stream",
          "name": "stdout",
          "text": [
            "<class 'pandas.core.frame.DataFrame'>\n",
            "Int64Index: 16241 entries, 0 to 16596\n",
            "Data columns (total 9 columns):\n",
            " #   Column       Non-Null Count  Dtype  \n",
            "---  ------       --------------  -----  \n",
            " 0   Name         16241 non-null  object \n",
            " 1   Platform     16241 non-null  object \n",
            " 2   Year         16241 non-null  float64\n",
            " 3   Genre        16241 non-null  object \n",
            " 4   Publisher    16241 non-null  object \n",
            " 5   NA_Sales     16241 non-null  object \n",
            " 6   EU_Sales     16241 non-null  object \n",
            " 7   JP_Sales     16241 non-null  object \n",
            " 8   Other_Sales  16241 non-null  object \n",
            "dtypes: float64(1), object(8)\n",
            "memory usage: 1.2+ MB\n"
          ]
        }
      ]
    },
    {
      "cell_type": "markdown",
      "source": [
        "#### Name"
      ],
      "metadata": {
        "id": "8W3B_h1h2n9q"
      }
    },
    {
      "cell_type": "code",
      "source": [
        "df.loc[:,'Name'].unique()"
      ],
      "metadata": {
        "colab": {
          "base_uri": "https://localhost:8080/"
        },
        "id": "CySjbPnC2rd_",
        "outputId": "3f7e39bb-01d2-4c92-8bed-03365d5678d4"
      },
      "execution_count": 12,
      "outputs": [
        {
          "output_type": "execute_result",
          "data": {
            "text/plain": [
              "array([\"Candace Kane's Candy Factory\", 'The Munchables',\n",
              "       'Otome wa Oanesama Boku ni Koi Shiteru Portable', ...,\n",
              "       'White Album: Tsuzurareru Fuyu no Omoide', 'Minna no Chizu 2',\n",
              "       'Rainbow Islands: Revolution'], dtype=object)"
            ]
          },
          "metadata": {},
          "execution_count": 12
        }
      ]
    },
    {
      "cell_type": "markdown",
      "source": [
        "#### Platform\n",
        "이상값은 없어 보인다"
      ],
      "metadata": {
        "id": "iG0zeZbzdhWL"
      }
    },
    {
      "cell_type": "code",
      "source": [
        "df.loc[:,'Platform'].unique()"
      ],
      "metadata": {
        "colab": {
          "base_uri": "https://localhost:8080/"
        },
        "id": "rlQIXeowWB0X",
        "outputId": "f2f7c7c5-197e-40aa-b7e2-89dc5f9304b3"
      },
      "execution_count": 13,
      "outputs": [
        {
          "output_type": "execute_result",
          "data": {
            "text/plain": [
              "array(['DS', 'Wii', 'PSP', 'PS3', 'PC', 'PS', 'GBA', 'PS4', 'PS2', 'XB',\n",
              "       'X360', 'GC', '3DS', '2600', 'SAT', 'GB', 'NES', 'DC', 'N64',\n",
              "       'XOne', 'SNES', 'WiiU', 'PSV', 'GEN', 'SCD', 'WS', 'NG', 'TG16',\n",
              "       '3DO', 'GG', 'PCFX'], dtype=object)"
            ]
          },
          "metadata": {},
          "execution_count": 13
        }
      ]
    },
    {
      "cell_type": "markdown",
      "source": [
        "#### Year\n",
        "데이터형 변경: 'float' -> 'int'  \n",
        "* 년도는 정수이므로 데이터형을 변경한다.\n",
        "\n",
        "70이상 100이하는 1900을 더하고 70미만은 2000을 더함\n",
        "* 상업적 게임이 나온 첫 시기는 70년대 이므로 70이상은 1900년대로 처리, 70미만은 2000년대로 처리한다."
      ],
      "metadata": {
        "id": "xBk_HhoOdpsC"
      }
    },
    {
      "cell_type": "code",
      "source": [
        "df.loc[:,'Year'] = df.loc[:,'Year'].astype('int')"
      ],
      "metadata": {
        "id": "0jABpJKqd0K3"
      },
      "execution_count": 14,
      "outputs": []
    },
    {
      "cell_type": "code",
      "source": [
        "df.loc[:,'Year'].unique()"
      ],
      "metadata": {
        "colab": {
          "base_uri": "https://localhost:8080/"
        },
        "id": "kQSAf0WicpcR",
        "outputId": "95f79b5d-b4a5-4d47-c629-06341fe41a96"
      },
      "execution_count": 15,
      "outputs": [
        {
          "output_type": "execute_result",
          "data": {
            "text/plain": [
              "array([2008, 2009, 2010, 2005, 2011, 2007, 2001, 2003, 2006, 2014, 2015,\n",
              "       2002, 1997, 2013, 1996, 2004, 2000, 1984, 1998, 2016, 1985, 1999,\n",
              "          9,   97, 1995, 1993, 2012, 1987, 1982,   11, 1994, 1990,   15,\n",
              "       1992, 1991, 1983, 1988, 1981,    3, 1989,   96,    6,    8, 1986,\n",
              "          1,    5,    4,   10,   98,    7,   16,   86,   14,   95, 2017,\n",
              "       1980, 2020,    2,   13,    0,   12,   94])"
            ]
          },
          "metadata": {},
          "execution_count": 15
        }
      ]
    },
    {
      "cell_type": "code",
      "source": [
        "# 70이상 100이하는 1900을 더하고 70미만은 2000을 더함\n",
        "df['Year'] = df['Year'].apply(lambda x: x+1900 if (x>=70)&(x<100) else x+2000 if x<70 else x)"
      ],
      "metadata": {
        "id": "ItygQq96cpXJ"
      },
      "execution_count": 16,
      "outputs": []
    },
    {
      "cell_type": "code",
      "source": [
        "df.loc[:,'Year'].unique()"
      ],
      "metadata": {
        "colab": {
          "base_uri": "https://localhost:8080/"
        },
        "id": "nbonZGapqpGt",
        "outputId": "91042364-a85c-481c-9252-4184b245b4f0"
      },
      "execution_count": 17,
      "outputs": [
        {
          "output_type": "execute_result",
          "data": {
            "text/plain": [
              "array([2008, 2009, 2010, 2005, 2011, 2007, 2001, 2003, 2006, 2014, 2015,\n",
              "       2002, 1997, 2013, 1996, 2004, 2000, 1984, 1998, 2016, 1985, 1999,\n",
              "       1995, 1993, 2012, 1987, 1982, 1994, 1990, 1992, 1991, 1983, 1988,\n",
              "       1981, 1989, 1986, 2017, 1980, 2020])"
            ]
          },
          "metadata": {},
          "execution_count": 17
        }
      ]
    },
    {
      "cell_type": "markdown",
      "source": [
        "#### Genre\n",
        "이상값은 없어 보인다"
      ],
      "metadata": {
        "id": "8HAyLzrXvcs5"
      }
    },
    {
      "cell_type": "code",
      "source": [
        "df.loc[:,'Genre'].unique()"
      ],
      "metadata": {
        "colab": {
          "base_uri": "https://localhost:8080/"
        },
        "id": "Kjgs9HJnzGGq",
        "outputId": "5417283b-a2be-48c0-f2a0-417db04961b4"
      },
      "execution_count": 18,
      "outputs": [
        {
          "output_type": "execute_result",
          "data": {
            "text/plain": [
              "array(['Action', 'Adventure', 'Misc', 'Platform', 'Sports', 'Simulation',\n",
              "       'Racing', 'Role-Playing', 'Puzzle', 'Strategy', 'Fighting',\n",
              "       'Shooter'], dtype=object)"
            ]
          },
          "metadata": {},
          "execution_count": 18
        }
      ]
    },
    {
      "cell_type": "markdown",
      "source": [
        "#### Publisher"
      ],
      "metadata": {
        "id": "JbM9Gqbm2exK"
      }
    },
    {
      "cell_type": "code",
      "source": [
        "df.loc[:,'Publisher'].unique()"
      ],
      "metadata": {
        "colab": {
          "base_uri": "https://localhost:8080/"
        },
        "id": "nOd9d4Vl2Jon",
        "outputId": "38154dbd-5a12-4fb8-a0eb-f0b655bae3b8"
      },
      "execution_count": 19,
      "outputs": [
        {
          "output_type": "execute_result",
          "data": {
            "text/plain": [
              "array(['Destineer', 'Namco Bandai Games', 'Alchemist', 'Zoo Games',\n",
              "       'D3Publisher', 'Konami Digital Entertainment', 'Deep Silver',\n",
              "       'Tecmo Koei', 'Sega', 'THQ', 'Empire Interactive', 'Ubisoft',\n",
              "       'Paradox Interactive', '505 Games', 'Tomy Corporation',\n",
              "       'Eidos Interactive', 'Microsoft Game Studios',\n",
              "       'Nippon Ichi Software', 'Kalypso Media', 'Electronic Arts',\n",
              "       'Sony Computer Entertainment', 'Activision',\n",
              "       'Tru Blu Entertainment', 'Warner Bros. Interactive Entertainment',\n",
              "       'Midway Games', 'Mindscape', 'Wargaming.net', 'Capcom',\n",
              "       'Acclaim Entertainment', 'Unknown', 'Nintendo',\n",
              "       'Disney Interactive Studios', 'Crave Entertainment', 'Sunflowers',\n",
              "       'Arc System Works', 'Milestone S.r.l', 'Kamui', 'Hudson Soft',\n",
              "       'Square Enix', 'Focus Home Interactive', 'Take-Two Interactive',\n",
              "       'Game Factory', 'Takara Tomy', 'SquareSoft', 'Global Star',\n",
              "       'Infogrames', 'GT Interactive', 'Storm City Games',\n",
              "       'Gathering of Developers', 'Giza10', 'Imagineer', 'Atari',\n",
              "       'SouthPeak Games', 'Graffiti', 'Banpresto', 'Gust',\n",
              "       'From Software', 'TDK Mediactive', '5pb', 'Nobilis', 'Taito',\n",
              "       'Foreign Media Games', 'Nippon Columbia', 'Vivendi Games',\n",
              "       'Codemasters', 'Bethesda Softworks', '3DO', 'Enix Corporation',\n",
              "       'Ignition Entertainment', 'ASCII Media Works',\n",
              "       'Virgin Interactive', 'Easy Interactive', 'SCi', 'Idea Factory',\n",
              "       'Jaleco', 'Majesco Entertainment', 'ArtDink', 'System Soft',\n",
              "       'CBS Electronics', 'Kaga Create', 'Phantagram',\n",
              "       'Zoo Digital Publishing', 'BAM! Entertainment',\n",
              "       'Jester Interactive', 'Quinrose', 'Game Arts', 'Headup Games',\n",
              "       'Rising Star Games', 'TGL', 'Gremlin Interactive Ltd',\n",
              "       '10TACLE Studios', 'Activision Value', 'responDESIGN',\n",
              "       'Rage Software', 'Little Orbit', 'Marvelous Interactive',\n",
              "       'Avanquest', 'Marvelous Entertainment', 'Kadokawa Shoten',\n",
              "       'Compile Heart', 'Takara', 'Seta Corporation', 'Comfort',\n",
              "       'LucasArts', 'NEC Interchannel', 'SNK Playmore', 'Russel', 'FuRyu',\n",
              "       'dramatic create', 'Koch Media', 'LSP Games', 'Microids',\n",
              "       'Psygnosis', 'Culture Brain', 'Saurus', 'Hackberry',\n",
              "       'FuRyu Corporation', 'Midas Interactive Entertainment',\n",
              "       'Office Create', 'Media Factory', 'Asylum Entertainment',\n",
              "       'ValuSoft', 'Universal Interactive', 'bitComposer Games',\n",
              "       'Rocket Company', 'Atlus', 'Number None', 'Genki', 'Compile',\n",
              "       'Telltale Games', 'UFO Interactive', 'Magix', 'NewKidCo', 'Coleco',\n",
              "       'Harmonix Music Systems', 'Sting', 'Hudson Entertainment',\n",
              "       'Ghostlight', 'Sunsoft', 'Spike', 'Home Entertainment Suppliers',\n",
              "       'Screenlife', 'Moss', 'Ubisoft Annecy', 'Oxygen Interactive',\n",
              "       'Kemco', 'P2 Games', 'Datam Polystar', 'Palcom', 'Enterbrain',\n",
              "       'Starfish', '20th Century Fox Video Games', 'Xplosiv',\n",
              "       'Scholastic Inc.', 'Phenomedia', 'GOA', 'Yamasa Entertainment',\n",
              "       'MTV Games', 'PQube', 'Aqua Plus', 'Daedalic',\n",
              "       'ASCII Entertainment', 'Nordic Games', 'Ongakukan',\n",
              "       'Interchannel-Holon', 'Avanquest Software', 'Black Bean Games',\n",
              "       'DTP Entertainment', 'NEC', 'Black Label Games',\n",
              "       'O3 Entertainment', 'Micro Cabin', 'Marvel Entertainment',\n",
              "       'Telegames', 'Hasbro Interactive', 'Tigervision', 'Funsta',\n",
              "       'Kadokawa Games', 'Success', 'Level 5', 'Sammy Corporation',\n",
              "       'Axela', 'Milestone S.r.l.', 'Agatsuma Entertainment', 'Vap',\n",
              "       'System 3 Arcade Software', 'Broccoli', 'Media Rings', 'Interplay',\n",
              "       'Swing! Entertainment', 'Fox Interactive', 'Aques',\n",
              "       'DreamCatcher Interactive', 'General Entertainment',\n",
              "       'Sony Online Entertainment', 'Shogakukan', 'Rebellion',\n",
              "       'Starpath Corp.', 'Square', 'Quintet', 'Touchstone', 'Mumbo Jumbo',\n",
              "       'Epoch', 'Parker Bros.', 'TDK Core', 'Mattel Interactive',\n",
              "       'Prototype', 'Merscom LLC', 'Insomniac Games',\n",
              "       'Human Entertainment', 'Nichibutsu', 'Playlogic Game Factory',\n",
              "       'Ocean', 'Cloud Imperium Games Corporation', 'Funcom',\n",
              "       'Hamster Corporation', 'Idea Factory International',\n",
              "       'Destination Software, Inc', 'DHM Interactive', 'Myelin Media',\n",
              "       'SNK', 'Licensed 4U', 'GSP', 'City Interactive', 'PopCap Games',\n",
              "       'AQ Interactive', 'Victor Interactive', 'Titus',\n",
              "       'Excalibur Publishing', 'Popcorn Arcade', 'Valcon Games', 'Mojang',\n",
              "       'Metro 3D', 'Vatical Entertainment', 'ChunSoft', 'Astragon',\n",
              "       'CyberFront', 'Big Ben Interactive', 'Big Fish Games',\n",
              "       'Conspiracy Entertainment', 'Naxat Soft', 'Paon Corporation',\n",
              "       'Bigben Interactive', 'MediaQuest', 'Blast! Entertainment Ltd',\n",
              "       'Data Design Interactive', 'Nexon', 'Neko Entertainment', 'iWin',\n",
              "       'Introversion Software', 'GameMill Entertainment', 'Play It',\n",
              "       'Asgard', 'ASC Games', '989 Studios', 'MTO', 'Mercury Games',\n",
              "       'Navarre Corp', 'Boost On', 'Maxis', 'Rondomedia',\n",
              "       'MC2 Entertainment', 'CDV Software Entertainment', 'Funbox Media',\n",
              "       'Angel Studios', 'Xseed Games', 'Performance Designed Products',\n",
              "       'Sony Computer Entertainment Europe', 'Wanadoo',\n",
              "       'Lexicon Entertainment', 'Aruze Corp', 'TopWare Interactive',\n",
              "       'Virtual Play Games', 'Seventh Chord', 'JoWood Productions',\n",
              "       'Pinnacle', 'Iceberg Interactive', 'Agetec', 'Mastertronic',\n",
              "       'Vic Tokai', 'ITT Family Games', 'Gameloft',\n",
              "       'Sony Music Entertainment', 'Mastiff', 'imageepoch Inc.',\n",
              "       'Arena Entertainment', 'TOHO', 'Bomb', 'Interchannel',\n",
              "       'LEGO Media', 'Grand Prix Games', 'Mitsui', 'Zushi Games',\n",
              "       'O-Games', 'NCSoft', 'Arika', 'CPG Products',\n",
              "       'Slitherine Software', 'Alternative Software', 'Data Age',\n",
              "       'Plenty', 'PlayV', 'Karin Entertainment', 'Knowledge Adventure',\n",
              "       'Valve Software', 'Gotham Games', 'Pioneer LDC', 'Genterprise',\n",
              "       'G.Rev', 'Kids Station', 'Asmik Ace Entertainment',\n",
              "       'Monte Christo Multimedia', 'Cave', 'Milestone', 'Views',\n",
              "       'Benesse', 'Encore', 'XS Games', 'Avalon Interactive',\n",
              "       'EON Digital Entertainment', 'Mentor Interactive',\n",
              "       'Irem Software Engineering', 'Brash Entertainment',\n",
              "       'Flashpoint Games', 'Imagic', 'KID', 'Media Works', 'Altron',\n",
              "       'Mirai Shounen', 'SSI', 'Strategy First',\n",
              "       'Ascaron Entertainment GmbH', 'Natsume', 'Warashi', 'IE Institute',\n",
              "       'Warp', 'Mad Catz', 'NCS', 'The Learning Company', 'Sweets',\n",
              "       'Game Life', 'HMH Interactive', 'Xicat Interactive',\n",
              "       'Rebellion Developments', 'Yeti', 'Ackkstudios',\n",
              "       'CokeM Interactive', 'Evolved Games', 'Video System',\n",
              "       'Aksys Games', 'PM Studios', 'Coconuts Japan',\n",
              "       'Sunrise Interactive', 'Bohemia Interactive', \"Yuke's\", 'Tivola',\n",
              "       'GungHo', 'Tradewest', 'Tommo', 'GN Software', 'Gaga', 'Aspyr',\n",
              "       'Trion Worlds', 'Revolution (Japan)', 'Misawa', 'Pack-In-Video',\n",
              "       'Hect', 'TalonSoft', 'Aerosoft', 'RTL', 'Minato Station',\n",
              "       'Activision Blizzard', 'Playmates', 'CTO SpA',\n",
              "       'BMG Interactive Entertainment', 'Media Entertainment',\n",
              "       'Hip Interactive', 'Acquire', 'Jack of All Games',\n",
              "       'The Adventure Company', 'Epic Games', 'DSI Games', 'Fortyfive',\n",
              "       'Indie Games', 'NovaLogic', 'Happinet', 'Reef Entertainment',\n",
              "       'Masque Publishing', 'Imadio', 'Microprose', 'Falcom Corporation',\n",
              "       'Square EA', 'Red Storm Entertainment', 'Dusenberry Martin Racing',\n",
              "       'Sonnet', 'Tripwire Interactive', 'RED Entertainment',\n",
              "       'Global A Entertainment', 'Athena', 'Groove Games',\n",
              "       'Mud Duck Productions', 'Ertain', 'System 3', 'Marvelous Games',\n",
              "       'Gamecock', 'Panther Software', 'Playmore', 'Vir2L Studios',\n",
              "       'mixi, Inc', 'HAL Laboratory', 'BushiRoad', 'Jorudan', 'JVC',\n",
              "       'Alawar Entertainment', 'Inti Creates', 'Laguna', 'NetRevo',\n",
              "       'Daedalic Entertainment', 'Time Warner Interactive',\n",
              "       'Slightly Mad Studios', 'Max Five', 'Devolver Digital', 'CCP',\n",
              "       'Flight-Plan', 'Quelle', 'Dorart', 'ESP', 'Answer Software',\n",
              "       'Phoenix Games', 'Yumedia', 'Elite', 'Elf', 'Nordcurrent', 'New',\n",
              "       'Paon', 'Nihon Falcom Corporation', 'Commseed', 'BPS', 'Tryfirst',\n",
              "       'FunSoft', 'Legacy Interactive', 'Princess Soft',\n",
              "       'Graphsim Entertainment', 'Creative Core',\n",
              "       'Electronic Arts Victor', 'Mamba Games', 'Her Interactive',\n",
              "       'Maximum Family Games', 'DreamWorks Interactive', 'Detn8 Games',\n",
              "       'Universal Gamex', 'Hearty Robin', 'GameTek', 'RedOctane',\n",
              "       'U.S. Gold', 'Wizard Video Games',\n",
              "       'Sony Computer Entertainment America', 'Telstar',\n",
              "       'Yacht Club Games', 'PopTop Software', 'Experience Inc.',\n",
              "       'Michaelsoft', 'Gakken', 'T&E Soft', 'Origin Systems',\n",
              "       'Gainax Network Systems', 'inXile Entertainment',\n",
              "       'Focus Multimedia', 'SCS Software', 'Hello Games',\n",
              "       'Essential Games', 'Xing Entertainment', 'Riverhillsoft',\n",
              "       '1C Company', 'Data East', 'Mycom', '7G//AMES', 'DigiCube', 'Fuji',\n",
              "       'Simon & Schuster Interactive', 'Pow',\n",
              "       'Pacific Century Cyber Works', 'Extreme Entertainment Group',\n",
              "       'Image Epoch', 'Core Design Ltd.', 'Otomate', 'Piacci', 'ASK',\n",
              "       'WayForward Technologies', 'Pack In Soft', 'Red Orb', 'Takuyo',\n",
              "       'UIG Entertainment', 'Crystal Dynamics', 'Blue Byte', 'Rain Games',\n",
              "       'Gamebridge', 'New World Computing', 'fonfun', 'Berkeley',\n",
              "       'Interworks Unlimited, Inc.', 'Societa', 'On Demand',\n",
              "       'Crimson Cow', 'Griffin International', 'Visco', 'Syscom',\n",
              "       'King Records', 'Tetris Online', 'EA Games', 'Locus',\n",
              "       'Paradox Development', 'Nippon Telenet', 'Accolade', 'id Software',\n",
              "       'HuneX', 'Interplay Productions', 'Evolution Games',\n",
              "       'Kokopeli Digital Studios', 'Ascaron Entertainment', '989 Sports',\n",
              "       'Illusion Softworks', 'Kando Games', 'Pony Canyon', 'Intergrow',\n",
              "       'Glams', 'Nitroplus', 'Zenrin', 'Team17 Software', 'Fields',\n",
              "       'Havas Interactive', '49Games', 'Alvion', 'Quest', 'Imageworks',\n",
              "       'Stainless Games', 'Daito', 'Enjoy Gaming ltd.', 'Aria',\n",
              "       'Kool Kizz', 'Sold Out', 'Magical Company', 'Imax', 'Summitsoft',\n",
              "       'Cygames', 'Men-A-Vision', 'Adeline Software',\n",
              "       'Revolution Software', 'Valve', 'Codemasters Online', 'TYO',\n",
              "       'Phantom EFX', 'Liquid Games', 'American Softworks', 'SPS', 'Edia',\n",
              "       'Nippon Amuse', 'Asmik Corp', 'MLB.com', 'White Park Bay Software',\n",
              "       'Abylight', 'Ecole', 'TechnoSoft', 'Culture Publishers',\n",
              "       'Ivolgamus', '2D Boy', 'Technos Japan Corporation', 'Giga',\n",
              "       'Westwood Studios', 'UEP Systems', 'KSS', 'Type-Moon',\n",
              "       'Lighthouse Interactive', 'NDA Productions', 'Mystique'],\n",
              "      dtype=object)"
            ]
          },
          "metadata": {},
          "execution_count": 19
        }
      ]
    },
    {
      "cell_type": "markdown",
      "source": [
        "#### NA_Sales\n",
        "숫자, 숫자M, 숫자K 3경우 데이터가 보인다. 데이터 절삭이 있어 소수점 3째자리 부터 숫자를 알 수 없다. 때문에 해당 스케일을 맞추기 위해 이들 단위를 기존 100만으로 맞춰준다.\n",
        "* 숫자: 단위 100만으로 나둔다.\n",
        "* 숫자M: 단위는 100만으로 맞으므로 M만을 제거한다.\n",
        "* 숫자K: 단위가 1천으로 K를 제거 후 1,000으로 나눈다.\n",
        "* 소수점 3째자리 부터 절삭한 것으로 보인다.  \n",
        "\n",
        "데이터형 변경: 'object' -> 'float'  \n",
        "* sales는 출고량이므로 float로 변경(단위 100만)"
      ],
      "metadata": {
        "id": "GBNGXAf10I_Q"
      }
    },
    {
      "cell_type": "code",
      "source": [
        "df.loc[:,'NA_Sales'].unique()"
      ],
      "metadata": {
        "colab": {
          "base_uri": "https://localhost:8080/"
        },
        "id": "NSn4HCYt0MeZ",
        "outputId": "ab25185b-1bc7-4f3e-a429-609a88e5c581"
      },
      "execution_count": 20,
      "outputs": [
        {
          "output_type": "execute_result",
          "data": {
            "text/plain": [
              "array(['0.04', '0.17', '0', '0.12', '0.02', '0.07', '480K', '0.14',\n",
              "       '0.01', '0.57', '0.06', '0.08', '0.48', '0.03', '0.05', '0.29',\n",
              "       '0.19', '0.3', '0.26', '0.11', '0.18', '0.33', '0.51', '60K',\n",
              "       '0.13', '0.34', '0.25', '0.41', '0.52', '0.22', '0.35', '0.1',\n",
              "       '0.67', '0.59', '0.36', '0.21', '1.19', '5.91', '1.98', '0.09',\n",
              "       '0K', '0.5', '0.94', '0.16', '0.63', '0.43', '0.2', '1.23', '0.44',\n",
              "       '0.42', '0.97', '2.67', '0.28', '6.05', '0.47', '0.49', '0.62',\n",
              "       '0.24', '0.72', '1.74', '0.46', '0.65', '0.32', '1.53', '0.23',\n",
              "       '0.53', '0.37', '1.26', '0.39', '0.58', '1.94', '2.31', '1.03',\n",
              "       '0.82', '0.4', '0.93', '0.56', '0.96', '1.64', '0.69', '1.25',\n",
              "       '0.27', '0.92', '0.58M', '1.24', '0.25M', '0.86', '0.73', '0.55',\n",
              "       '1.54', '1.02', '1.27', '0.54', '0.15', '1.09', '3.44', '2.29',\n",
              "       '0.88', '5.55M', '1.37', '2.3', '0.99', '1.15', '0.98', '0.75',\n",
              "       '0.74', '0.7', '0.14M', '0.45', '1.2', '1.41', '0.68', '1.23M',\n",
              "       '1.56', '0.31', '1.45', '1.11', '2.9', '0M', '0.83', '0.78',\n",
              "       '3.38', '0.64', '1.08', '0.38', '1.47', '0.06M', '0.77', '1.05',\n",
              "       '6.85', '3.83', '3.79', '1.13M', '0.9', '3.78', '1.89', '1.17',\n",
              "       '4.03', '0.89', '0.61', '0.71', '23.2', '1.44', '1.31', '3.06',\n",
              "       '3.14', '1.66', '0.79', '1.39', '0.31M', '490K', '1.85', '0.76',\n",
              "       '2.06', '1.36', '1.3', '1.06', '1.1', '240K', '2.08', '1.04',\n",
              "       '0.66', '2.64', '1.58', '0.05M', '3.11', '4.34', '150K', '1.78',\n",
              "       '0.85', '2.91', '0.13M', '1', '1.01', '4100K', '1.07', '3.8',\n",
              "       '2.5', '2.2', '1.5', '1.91', '0.95', '2.03', '2.1', '1.4', '3.18',\n",
              "       '1.73', '1.12', '1.72', '2.05', '1.63', '1.22', '1.13', '1.49',\n",
              "       '2.55', '0.87', '0.81', '0.6', '0.61M', '2.62', '0.84', '2.38',\n",
              "       '1.32', '20K', '3.02', '1.75', '2.02', '1.82', '1.68', '9.03',\n",
              "       '2.56', '1.87', '2.65', '1.48', '3.19', '1.33', '41.49', '30K',\n",
              "       '1.93', '1.16', '1.21', '0.02M', '2.52', '2.28', '5.99', '14.03',\n",
              "       '2.93', '2.45', '0.11M', '2.14', '2.99', '0.01M', '2.6', '1.35',\n",
              "       '0.36M', '50K', '1.28', '2.95', '70K', '15.75', '1.18', '1.42',\n",
              "       '8.94', '7.01', '190K', '1.62', '0.91', '0.8', '2.09', '1.96',\n",
              "       '1.52', '2.39', '1.79', '0.43M', '2.19', '1.43', '1.76', '2.78',\n",
              "       '1.3M', '1.71', '29.08', '3.13', '3.1', '4.99', '4.23', '2.35',\n",
              "       '14.97', '1.65', '1210K', '2.26', '3.64', '2.71', '3.49', '3.33',\n",
              "       '1.46', '1.7', '4.4', '4.02', '2.53', '1610K', '2.01', '100K',\n",
              "       '1.55', '4.47', '1.9', '2.25', '3.98', '2.51', '1.61', '1.84',\n",
              "       '1.81', '170K', '8.41', '2.11', '2.74', '2.42', '3.92', '6.72',\n",
              "       '2.54', '4', '0.9M', '40K', '2.12', '7.28', '2.13', '1.59', '1.88',\n",
              "       '3.39', '450K', '2.96', '8.52', '2.82', '9.67', '7.97', '8.25',\n",
              "       '1.86', '1.67', '1.51', '6.91', '1.57', '3.88', '3.27', '4.14',\n",
              "       '1.92', '220K', '1.29', '2.04', '1.11M', '310K', '0.07M', '2.15',\n",
              "       '6.16', '4.09', '11.38', '1.69', '1.34', '820K', '2.17', '80K',\n",
              "       '4.36', '2.8', '290K', '3.05', '130K', '5.39', '2.66M', '2.47',\n",
              "       '4.15', '4.46', '1.18M', '11.27', '1.38', '3.66', '4.12', '0.55M',\n",
              "       '2.41', '2.57', '2', '2.58', '5.89', '2.18', '1.99', '2.72',\n",
              "       '2.36', '120K', '0.08M', '0.22M', '5.77', '3.68', '3.23', '5.84',\n",
              "       '9', '2.85', '10.83', '6.82', '3.54', '0.3M', '0.04M', '3.42',\n",
              "       '6.99', '1780K', '2930K', '1.14', '2.49', '5.98', '2.33', '1.97',\n",
              "       '5.58', '0.15M', '0.1M', '3.7', '2.07', '4.41', '1.83', '0.29M',\n",
              "       '4.98', '10K', '280K', '2.43', '26.93', '6.42', '3.81', '5.57',\n",
              "       '9.81', '0.37M', '0.12M', '3.28', '3.74', '540K', '2.66', '9.09',\n",
              "       '1.77', '9.63M', '6.06', '4.79', '2.59', '2.48', '0.34M', '2.97',\n",
              "       '2.63', '4.74', '9.07', '0.26M', '3.51', '1.6', '5.03', '3.22',\n",
              "       '3.01', '2.22', '2.77', '3.25', '550K', '2010K', '5.8', '3.59',\n",
              "       '2.4', '1.95', '5.08', '770K', '2.84', '15.85', '7.03M', '4.89',\n",
              "       '3.24', '4.01', '340K', '2.32', '3.4', '90K', '12.78', '2.21',\n",
              "       '3.36', '4.75', '600K', '0.46M', '0.03M', '6.76', '2570K', '3',\n",
              "       '4.05', '5.54', '0.72M', '2.75', '3.21', '6.63', '9.43', '3.03',\n",
              "       '3.5', '2.7', '0.96M', '9.54', '6.75', '3.63', '270K', '420K',\n",
              "       '0.28M', '2.79', '4.21', '2.23', '4.52', '0.45M', '720K', '2.89',\n",
              "       '0.53M', '4.76', '470K', '14.59', '320K', '4.18'], dtype=object)"
            ]
          },
          "metadata": {},
          "execution_count": 20
        }
      ]
    },
    {
      "cell_type": "code",
      "source": [
        "df['NA_Sales'] = df['NA_Sales'].replace({\"K\":\"*1e-3\", \"M\":\"\"}, regex=True).map(pd.eval)"
      ],
      "metadata": {
        "id": "RN9jtbiujByB"
      },
      "execution_count": 21,
      "outputs": []
    },
    {
      "cell_type": "code",
      "source": [
        "df.loc[:,'NA_Sales'].unique()"
      ],
      "metadata": {
        "colab": {
          "base_uri": "https://localhost:8080/"
        },
        "id": "WJ1oCXJCjm7g",
        "outputId": "e4702241-2578-42ce-d7f1-ce64ecf73b8a"
      },
      "execution_count": 22,
      "outputs": [
        {
          "output_type": "execute_result",
          "data": {
            "text/plain": [
              "array([4.000e-02, 1.700e-01, 0.000e+00, 1.200e-01, 2.000e-02, 7.000e-02,\n",
              "       4.800e-01, 1.400e-01, 1.000e-02, 5.700e-01, 6.000e-02, 8.000e-02,\n",
              "       3.000e-02, 5.000e-02, 2.900e-01, 1.900e-01, 3.000e-01, 2.600e-01,\n",
              "       1.100e-01, 1.800e-01, 3.300e-01, 5.100e-01, 1.300e-01, 3.400e-01,\n",
              "       2.500e-01, 4.100e-01, 5.200e-01, 2.200e-01, 3.500e-01, 1.000e-01,\n",
              "       6.700e-01, 5.900e-01, 3.600e-01, 2.100e-01, 1.190e+00, 5.910e+00,\n",
              "       1.980e+00, 9.000e-02, 5.000e-01, 9.400e-01, 1.600e-01, 6.300e-01,\n",
              "       4.300e-01, 2.000e-01, 1.230e+00, 4.400e-01, 4.200e-01, 9.700e-01,\n",
              "       2.670e+00, 2.800e-01, 6.050e+00, 4.700e-01, 4.900e-01, 6.200e-01,\n",
              "       2.400e-01, 7.200e-01, 1.740e+00, 4.600e-01, 6.500e-01, 3.200e-01,\n",
              "       1.530e+00, 2.300e-01, 5.300e-01, 3.700e-01, 1.260e+00, 3.900e-01,\n",
              "       5.800e-01, 1.940e+00, 2.310e+00, 1.030e+00, 8.200e-01, 4.000e-01,\n",
              "       9.300e-01, 5.600e-01, 9.600e-01, 1.640e+00, 6.900e-01, 1.250e+00,\n",
              "       2.700e-01, 9.200e-01, 1.240e+00, 8.600e-01, 7.300e-01, 5.500e-01,\n",
              "       1.540e+00, 1.020e+00, 1.270e+00, 5.400e-01, 1.500e-01, 1.090e+00,\n",
              "       3.440e+00, 2.290e+00, 8.800e-01, 5.550e+00, 1.370e+00, 2.300e+00,\n",
              "       9.900e-01, 1.150e+00, 9.800e-01, 7.500e-01, 7.400e-01, 7.000e-01,\n",
              "       4.500e-01, 1.200e+00, 1.410e+00, 6.800e-01, 1.560e+00, 3.100e-01,\n",
              "       1.450e+00, 1.110e+00, 2.900e+00, 8.300e-01, 7.800e-01, 3.380e+00,\n",
              "       6.400e-01, 1.080e+00, 3.800e-01, 1.470e+00, 7.700e-01, 1.050e+00,\n",
              "       6.850e+00, 3.830e+00, 3.790e+00, 1.130e+00, 9.000e-01, 3.780e+00,\n",
              "       1.890e+00, 1.170e+00, 4.030e+00, 8.900e-01, 6.100e-01, 7.100e-01,\n",
              "       2.320e+01, 1.440e+00, 1.310e+00, 3.060e+00, 3.140e+00, 1.660e+00,\n",
              "       7.900e-01, 1.390e+00, 1.850e+00, 7.600e-01, 2.060e+00, 1.360e+00,\n",
              "       1.300e+00, 1.060e+00, 1.100e+00, 2.080e+00, 1.040e+00, 6.600e-01,\n",
              "       2.640e+00, 1.580e+00, 3.110e+00, 4.340e+00, 1.780e+00, 8.500e-01,\n",
              "       2.910e+00, 1.000e+00, 1.010e+00, 4.100e+00, 1.070e+00, 3.800e+00,\n",
              "       2.500e+00, 2.200e+00, 1.500e+00, 1.910e+00, 9.500e-01, 2.030e+00,\n",
              "       2.100e+00, 1.400e+00, 3.180e+00, 1.730e+00, 1.120e+00, 1.720e+00,\n",
              "       2.050e+00, 1.630e+00, 1.220e+00, 1.490e+00, 2.550e+00, 8.700e-01,\n",
              "       8.100e-01, 6.000e-01, 2.620e+00, 8.400e-01, 2.380e+00, 1.320e+00,\n",
              "       3.020e+00, 1.750e+00, 2.020e+00, 1.820e+00, 1.680e+00, 9.030e+00,\n",
              "       2.560e+00, 1.870e+00, 2.650e+00, 1.480e+00, 3.190e+00, 1.330e+00,\n",
              "       4.149e+01, 1.930e+00, 1.160e+00, 1.210e+00, 2.520e+00, 2.280e+00,\n",
              "       5.990e+00, 1.403e+01, 2.930e+00, 2.450e+00, 2.140e+00, 2.990e+00,\n",
              "       2.600e+00, 1.350e+00, 1.280e+00, 2.950e+00, 1.575e+01, 1.180e+00,\n",
              "       1.420e+00, 8.940e+00, 7.010e+00, 1.620e+00, 9.100e-01, 8.000e-01,\n",
              "       2.090e+00, 1.960e+00, 1.520e+00, 2.390e+00, 1.790e+00, 2.190e+00,\n",
              "       1.430e+00, 1.760e+00, 2.780e+00, 1.710e+00, 2.908e+01, 3.130e+00,\n",
              "       3.100e+00, 4.990e+00, 4.230e+00, 2.350e+00, 1.497e+01, 1.650e+00,\n",
              "       2.260e+00, 3.640e+00, 2.710e+00, 3.490e+00, 3.330e+00, 1.460e+00,\n",
              "       1.700e+00, 4.400e+00, 4.020e+00, 2.530e+00, 1.610e+00, 2.010e+00,\n",
              "       1.550e+00, 4.470e+00, 1.900e+00, 2.250e+00, 3.980e+00, 2.510e+00,\n",
              "       1.840e+00, 1.810e+00, 8.410e+00, 2.110e+00, 2.740e+00, 2.420e+00,\n",
              "       3.920e+00, 6.720e+00, 2.540e+00, 4.000e+00, 2.120e+00, 7.280e+00,\n",
              "       2.130e+00, 1.590e+00, 1.880e+00, 3.390e+00, 2.960e+00, 8.520e+00,\n",
              "       2.820e+00, 9.670e+00, 7.970e+00, 8.250e+00, 1.860e+00, 1.670e+00,\n",
              "       1.510e+00, 6.910e+00, 1.570e+00, 3.880e+00, 3.270e+00, 4.140e+00,\n",
              "       1.920e+00, 1.290e+00, 2.040e+00, 2.150e+00, 6.160e+00, 4.090e+00,\n",
              "       1.138e+01, 1.690e+00, 1.340e+00, 8.200e-01, 2.170e+00, 4.360e+00,\n",
              "       2.800e+00, 3.050e+00, 5.390e+00, 2.660e+00, 2.470e+00, 4.150e+00,\n",
              "       4.460e+00, 1.127e+01, 1.380e+00, 3.660e+00, 4.120e+00, 2.410e+00,\n",
              "       2.570e+00, 2.000e+00, 2.580e+00, 5.890e+00, 2.180e+00, 1.990e+00,\n",
              "       2.720e+00, 2.360e+00, 5.770e+00, 3.680e+00, 3.230e+00, 5.840e+00,\n",
              "       9.000e+00, 2.850e+00, 1.083e+01, 6.820e+00, 3.540e+00, 3.420e+00,\n",
              "       6.990e+00, 1.140e+00, 2.490e+00, 5.980e+00, 2.330e+00, 1.970e+00,\n",
              "       5.580e+00, 3.700e+00, 2.070e+00, 4.410e+00, 1.830e+00, 4.980e+00,\n",
              "       2.430e+00, 2.693e+01, 6.420e+00, 3.810e+00, 5.570e+00, 9.810e+00,\n",
              "       3.280e+00, 3.740e+00, 9.090e+00, 1.770e+00, 9.630e+00, 6.060e+00,\n",
              "       4.790e+00, 2.590e+00, 2.480e+00, 2.970e+00, 2.630e+00, 4.740e+00,\n",
              "       9.070e+00, 3.510e+00, 1.600e+00, 5.030e+00, 3.220e+00, 3.010e+00,\n",
              "       2.220e+00, 2.770e+00, 3.250e+00, 2.010e+00, 5.800e+00, 3.590e+00,\n",
              "       2.400e+00, 1.950e+00, 5.080e+00, 2.840e+00, 1.585e+01, 7.030e+00,\n",
              "       4.890e+00, 3.240e+00, 4.010e+00, 2.320e+00, 3.400e+00, 1.278e+01,\n",
              "       2.210e+00, 3.360e+00, 4.750e+00, 6.760e+00, 3.000e+00, 4.050e+00,\n",
              "       5.540e+00, 2.750e+00, 3.210e+00, 6.630e+00, 9.430e+00, 3.030e+00,\n",
              "       3.500e+00, 2.700e+00, 9.540e+00, 6.750e+00, 3.630e+00, 2.790e+00,\n",
              "       4.210e+00, 2.230e+00, 4.520e+00, 2.890e+00, 4.760e+00, 4.700e-01,\n",
              "       1.459e+01, 4.180e+00])"
            ]
          },
          "metadata": {},
          "execution_count": 22
        }
      ]
    },
    {
      "cell_type": "markdown",
      "source": [
        "#### EU_Sales\n",
        "숫자, 숫자M, 숫자K 3경우 데이터가 보인다. 데이터 절삭이 있어 소수점 3째자리 부터 숫자를 알 수 없다. 때문에 해당 스케일을 맞추기 위해 이들 단위를 기존 100만으로 맞춰준다.\n",
        "* 숫자: 단위 100만으로 나둔다.\n",
        "* 숫자M: 단위는 100만으로 맞으므로 M만을 제거한다.\n",
        "* 숫자K: 단위가 1천으로 K를 제거 후 1,000으로 나눈다.\n",
        "* 소수점 3째자리 부터 절삭한 것으로 보인다.  \n",
        "\n",
        "데이터형 변경: 'object' -> 'float'  \n",
        "* sales는 출고량이므로 float로 변경(단위 100만)"
      ],
      "metadata": {
        "id": "_S9v-p3J8cD-"
      }
    },
    {
      "cell_type": "code",
      "source": [
        "df.loc[:,'EU_Sales'].unique()"
      ],
      "metadata": {
        "colab": {
          "base_uri": "https://localhost:8080/"
        },
        "outputId": "f6ef01d5-0b43-4cbd-c5de-755cce2d3c52",
        "id": "M8RqZy1WBcD4"
      },
      "execution_count": 23,
      "outputs": [
        {
          "output_type": "execute_result",
          "data": {
            "text/plain": [
              "array(['0', '0.09', '0.01', '0.03', '0.33M', '0.05', '0.02', '0.16',\n",
              "       '0.45', '0.04', '0.53', '0.23', '0.1', '0.22', '0.2', '0.03M',\n",
              "       '0.33', '0.08', '0.26', '0.07', '0.11', '0.17', '0.06', '0.14',\n",
              "       '0.12', '0.24', '0.13', '0.21', '0.15', '0.3', '2.38', '0.55',\n",
              "       '0K', '1.12', '0.43', '50K', '0.63', '0.35', '1.11', '0.41',\n",
              "       '0.01M', '0.89', '3.15', '0.18', '0.54', '0.25', '0.29', '0.34',\n",
              "       '0.61', '0.27', '0.86', '0.87', '0.32', '0.44', '2.48', '0.48',\n",
              "       '0.47', '0.66', '0.76', '0.27M', '0.15M', '1.94', '0.97', '0.72',\n",
              "       '620K', '0.49', '5.36', '0.31', '0.62', '0.4', '0.57', '0.46',\n",
              "       '1.97', '1.02', '1.75', '0.28', '2.46', '0.38', '0.5', '0.9',\n",
              "       '0.19', '0.39', '0.67', '0.64', '0.37', '0.51', '2.83', '0.59',\n",
              "       '0.75', '0.52', '1.34', '760K', '80K', '5.09', '1.09', '2.19',\n",
              "       '2.17', '0.91', '2.26', '0.83', '0.74', '0.88', '0.77', '1.24',\n",
              "       '0.92', '0.8', '0.36', '20K', '1.15', '0.58', '1.51', '0M', '40K',\n",
              "       '1.14', '2560K', '2.09', '1.63', '2.8', '2.65', '2.07', '1.89',\n",
              "       '0.73', '0.42', '5.81', '440K', '1.39', '0.71', '0.84', '1.3',\n",
              "       '280K', '10K', '1.83', '0.85', '1.16', '2.12', '1.53', '1.58',\n",
              "       '0.56', '0.11M', '1.56', '1.06', '1.41', '660K', '0.65', '0.32M',\n",
              "       '0.82', '0.6', '0.78', '6.06', '0.95', '1.31', '4.32', '1.17',\n",
              "       '1.07', '1.25', '4.28', '1.68', '0.68', '29.02', '0.04M', '1.55',\n",
              "       '1.1', '2.15', '9.2', '0.99', '3.29', '4.29', '0.79M', '1.27',\n",
              "       '1.77', '3.52', '1.61', '11.01', '0.16M', '0.61M', '8.03', '9.27',\n",
              "       '30K', '1.03', '1.08', '1.37', '0.69', '1.28', '1.47', '130K',\n",
              "       '1.19', '0.05M', '3.58', '1.92', '2.3', '1.22', '0.66M', '5.88',\n",
              "       '3.37', '1.01', '1.73', '4.94', '0.94', '1.86', '1', '0.21M',\n",
              "       '70K', '1.2', '1.29', '1.79', '0.98', '0.79', '0.02M', '1.4',\n",
              "       '1.57', '210K', '2.27', '2.77', '3.87', '1.13', '1.24M', '3.02',\n",
              "       '1.5', '1.78', '1350K', '0.7', '110K', '5.49', '6.42', '1.66',\n",
              "       '1.36', '1.23', '2.63', '1.95', '1.18', '0.81', '6.21', '1.33',\n",
              "       '2.71', '1.72', '4.88', '0.19M', '3.63', '1.05', '3.73', '2.75',\n",
              "       '4.3', '2.78', '2.85M', '3.42', '2.21', '1.35', '2.02', '2.04',\n",
              "       '9.23', '1.71', '3.3', '2.43', '1.43', '370K', '1.88', '8.89',\n",
              "       '2.93M', '2130K', '2', '2.28', '1.49', '0.06M', '2.01', '1.52',\n",
              "       '2.55', '3.69', '3.9', '5.04', '1.26', '1.87', '2.1', '1.59',\n",
              "       '2.32', '190K', '5.05', '2.05', '100K', '2.35', '2.89', '6.18',\n",
              "       '2.93', '140K', '1.96', '2.79', '1.04', '1.38', '4.51', '1.42',\n",
              "       '260K', '0.13M', '1.91', '4.44', '300K', '2.29M', '0.12M', '3.07',\n",
              "       '1.85', '4.52', '1.99', '3.28', '1.8', '7.57', '1.65', '0.93',\n",
              "       '0.07M', '8.59', '5.31', '1.9', '2.22', '1.98', '0.96', '1.74',\n",
              "       '3.91', '11', '3.03', '0.59M', '2.86', '2.23', '1.69', '1.54',\n",
              "       '2.47', '1.84', '1.44', '3.4', '290K', '3.48', '3.11', '12.88',\n",
              "       '2.99', '2.11', '2.39', '3.75', '9.26', '0.08M', '0.37M', '320K',\n",
              "       '2.25', '90K', '3.1', '1.62', '5.82', '960K', '200K', '3.14',\n",
              "       '2.36', '2.4', '2.64', '3.44', '2.61', '1.21', '1.93', '1.53M',\n",
              "       '1.64', '60K', '160K', '3.76', '2.51', '2.42', '7.06'],\n",
              "      dtype=object)"
            ]
          },
          "metadata": {},
          "execution_count": 23
        }
      ]
    },
    {
      "cell_type": "code",
      "source": [
        "df['EU_Sales'] = df['EU_Sales'].replace({\"K\":\"*1e-3\", \"M\":\"\"}, regex=True).map(pd.eval)"
      ],
      "metadata": {
        "id": "_O265m6NBcD9"
      },
      "execution_count": 24,
      "outputs": []
    },
    {
      "cell_type": "code",
      "source": [
        "df.loc[:,'EU_Sales'].unique()"
      ],
      "metadata": {
        "colab": {
          "base_uri": "https://localhost:8080/"
        },
        "outputId": "ee79e9a1-0fba-495c-80f4-8959befad78d",
        "id": "F6Mv7O9OBcD-"
      },
      "execution_count": 25,
      "outputs": [
        {
          "output_type": "execute_result",
          "data": {
            "text/plain": [
              "array([0.000e+00, 9.000e-02, 1.000e-02, 3.000e-02, 3.300e-01, 5.000e-02,\n",
              "       2.000e-02, 1.600e-01, 4.500e-01, 4.000e-02, 5.300e-01, 2.300e-01,\n",
              "       1.000e-01, 2.200e-01, 2.000e-01, 8.000e-02, 2.600e-01, 7.000e-02,\n",
              "       1.100e-01, 1.700e-01, 6.000e-02, 1.400e-01, 1.200e-01, 2.400e-01,\n",
              "       1.300e-01, 2.100e-01, 1.500e-01, 3.000e-01, 2.380e+00, 5.500e-01,\n",
              "       1.120e+00, 4.300e-01, 6.300e-01, 3.500e-01, 1.110e+00, 4.100e-01,\n",
              "       8.900e-01, 3.150e+00, 1.800e-01, 5.400e-01, 2.500e-01, 2.900e-01,\n",
              "       3.400e-01, 6.100e-01, 2.700e-01, 8.600e-01, 8.700e-01, 3.200e-01,\n",
              "       4.400e-01, 2.480e+00, 4.800e-01, 4.700e-01, 6.600e-01, 7.600e-01,\n",
              "       1.940e+00, 9.700e-01, 7.200e-01, 6.200e-01, 4.900e-01, 5.360e+00,\n",
              "       3.100e-01, 4.000e-01, 5.700e-01, 4.600e-01, 1.970e+00, 1.020e+00,\n",
              "       1.750e+00, 2.800e-01, 2.460e+00, 3.800e-01, 5.000e-01, 9.000e-01,\n",
              "       1.900e-01, 3.900e-01, 6.700e-01, 6.400e-01, 3.700e-01, 5.100e-01,\n",
              "       2.830e+00, 5.900e-01, 7.500e-01, 5.200e-01, 1.340e+00, 5.090e+00,\n",
              "       1.090e+00, 2.190e+00, 2.170e+00, 9.100e-01, 2.260e+00, 8.300e-01,\n",
              "       7.400e-01, 8.800e-01, 7.700e-01, 1.240e+00, 9.200e-01, 8.000e-01,\n",
              "       3.600e-01, 1.150e+00, 5.800e-01, 1.510e+00, 1.140e+00, 2.560e+00,\n",
              "       2.090e+00, 1.630e+00, 2.800e+00, 2.650e+00, 2.070e+00, 1.890e+00,\n",
              "       7.300e-01, 4.200e-01, 5.810e+00, 1.390e+00, 7.100e-01, 8.400e-01,\n",
              "       1.300e+00, 1.830e+00, 8.500e-01, 1.160e+00, 2.120e+00, 1.530e+00,\n",
              "       1.580e+00, 5.600e-01, 1.560e+00, 1.060e+00, 1.410e+00, 6.500e-01,\n",
              "       8.200e-01, 6.000e-01, 7.800e-01, 6.060e+00, 9.500e-01, 1.310e+00,\n",
              "       4.320e+00, 1.170e+00, 1.070e+00, 1.250e+00, 4.280e+00, 1.680e+00,\n",
              "       6.800e-01, 2.902e+01, 1.550e+00, 1.100e+00, 2.150e+00, 9.200e+00,\n",
              "       9.900e-01, 3.290e+00, 4.290e+00, 7.900e-01, 1.270e+00, 1.770e+00,\n",
              "       3.520e+00, 1.610e+00, 1.101e+01, 8.030e+00, 9.270e+00, 1.030e+00,\n",
              "       1.080e+00, 1.370e+00, 6.900e-01, 1.280e+00, 1.470e+00, 1.190e+00,\n",
              "       3.580e+00, 1.920e+00, 2.300e+00, 1.220e+00, 5.880e+00, 3.370e+00,\n",
              "       1.010e+00, 1.730e+00, 4.940e+00, 9.400e-01, 1.860e+00, 1.000e+00,\n",
              "       1.200e+00, 1.290e+00, 1.790e+00, 9.800e-01, 1.400e+00, 1.570e+00,\n",
              "       2.270e+00, 2.770e+00, 3.870e+00, 1.130e+00, 3.020e+00, 1.500e+00,\n",
              "       1.780e+00, 1.350e+00, 7.000e-01, 5.490e+00, 6.420e+00, 1.660e+00,\n",
              "       1.360e+00, 1.230e+00, 2.630e+00, 1.950e+00, 1.180e+00, 8.100e-01,\n",
              "       6.210e+00, 1.330e+00, 2.710e+00, 1.720e+00, 4.880e+00, 3.630e+00,\n",
              "       1.050e+00, 3.730e+00, 2.750e+00, 4.300e+00, 2.780e+00, 2.850e+00,\n",
              "       3.420e+00, 2.210e+00, 2.020e+00, 2.040e+00, 9.230e+00, 1.710e+00,\n",
              "       3.300e+00, 2.430e+00, 1.430e+00, 1.880e+00, 8.890e+00, 2.930e+00,\n",
              "       2.130e+00, 2.000e+00, 2.280e+00, 1.490e+00, 2.010e+00, 1.520e+00,\n",
              "       2.550e+00, 3.690e+00, 3.900e+00, 5.040e+00, 1.260e+00, 1.870e+00,\n",
              "       2.100e+00, 1.590e+00, 2.320e+00, 5.050e+00, 2.050e+00, 2.350e+00,\n",
              "       2.890e+00, 6.180e+00, 1.960e+00, 2.790e+00, 1.040e+00, 1.380e+00,\n",
              "       4.510e+00, 1.420e+00, 1.910e+00, 4.440e+00, 2.290e+00, 3.070e+00,\n",
              "       1.850e+00, 4.520e+00, 1.990e+00, 3.280e+00, 1.800e+00, 7.570e+00,\n",
              "       1.650e+00, 9.300e-01, 8.590e+00, 5.310e+00, 1.900e+00, 2.220e+00,\n",
              "       1.980e+00, 9.600e-01, 1.740e+00, 3.910e+00, 1.100e+01, 3.030e+00,\n",
              "       2.860e+00, 2.230e+00, 1.690e+00, 1.540e+00, 2.470e+00, 1.840e+00,\n",
              "       1.440e+00, 3.400e+00, 3.480e+00, 3.110e+00, 1.288e+01, 2.990e+00,\n",
              "       2.110e+00, 2.390e+00, 3.750e+00, 9.260e+00, 2.250e+00, 3.100e+00,\n",
              "       1.620e+00, 5.820e+00, 3.140e+00, 2.360e+00, 2.400e+00, 2.640e+00,\n",
              "       3.440e+00, 2.610e+00, 1.210e+00, 1.930e+00, 1.640e+00, 3.760e+00,\n",
              "       2.510e+00, 2.420e+00, 7.060e+00])"
            ]
          },
          "metadata": {},
          "execution_count": 25
        }
      ]
    },
    {
      "cell_type": "markdown",
      "source": [
        "#### JP_Sales\n",
        "숫자, 숫자M, 숫자K 3경우 데이터가 보인다. 데이터 절삭이 있어 소수점 3째자리 부터 숫자를 알 수 없다. 때문에 해당 스케일을 맞추기 위해 이들 단위를 기존 100만으로 맞춰준다.\n",
        "* 숫자: 단위 100만으로 나둔다.\n",
        "* 숫자M: 단위는 100만으로 맞으므로 M만을 제거한다.\n",
        "* 숫자K: 단위가 1천으로 K를 제거 후 1,000으로 나눈다.\n",
        "* 소수점 3째자리 부터 절삭한 것으로 보인다.  \n",
        "\n",
        "데이터형 변경: 'object' -> 'float'  \n",
        "* sales는 출고량이므로 float로 변경(단위 100만)"
      ],
      "metadata": {
        "id": "bLimE7388b-L"
      }
    },
    {
      "cell_type": "code",
      "source": [
        "df.loc[:,'JP_Sales'].unique()"
      ],
      "metadata": {
        "colab": {
          "base_uri": "https://localhost:8080/"
        },
        "outputId": "78ccab44-aa7f-4d64-dde4-335baa292590",
        "id": "k3yHu_QoBfkC"
      },
      "execution_count": 26,
      "outputs": [
        {
          "output_type": "execute_result",
          "data": {
            "text/plain": [
              "array(['0', '0.02', '0.14', '0.11', '0.04', '0K', '0.03', '0.01', '0.08',\n",
              "       '0.3', '0.25', '0.05', '0.16', '0.12', '0.07', '0.85', '0.37',\n",
              "       '0.41', '0.51', '0.89', '1.17', '0.13', '0.17', '0.6', '0.06',\n",
              "       '0.53', '1.25', '0.18', '0.15', '4.1', '0.22', '0.46', '0.34',\n",
              "       '1.2', '0.31', '0.65', '0.21', '1.96', '0.09', '0.28', '0.64',\n",
              "       '0.57', '0.36', '0.19', '0.26', '0.75', '0.44', '0.27', '0.5',\n",
              "       '0.62', '0.87', '0.2', '0.23', '2.35', '0.69', '0.97', '0.01M',\n",
              "       '0.49', '5.32', '0.4', '2.62', '1.08', '0.56', '0.1', '2.23',\n",
              "       '1.07', '0.47', '0M', '0.29', '0.76', '0.72', '0.33', '0.91',\n",
              "       '0.74', '0.24', '0.55', '0.48', '0.32', '30K', '0.7', '0.75M',\n",
              "       '0.9', '0.86', '1.18', '0.45M', '0.63', '0.35', '1.87', '1.31',\n",
              "       '0.38', '1.75', '0.06M', '1.06', '1.13', '4.22', '1.1', '0.88',\n",
              "       '0.59', '0.83', '1.12', '1.33', '1.26', '1.35', '40K', '0.99',\n",
              "       '1.29', '50K', '0.02M', '0.79', '0.45', '3.15M', '1.39', '0.39',\n",
              "       '4.87', '2.55', '2.73', '0.42', '1', '1.45', '1.01', '1.38',\n",
              "       '0.77', '0.96', '2.2', '0.78', '1.11', '210K', '0.54', '160K',\n",
              "       '0.73', '1.52', '3.03', '1.34', '0.8', '1.05', '120K', '0.81',\n",
              "       '1.04', '3.77', '0.93', '2.12', '2.93', '1.21', '0.43', '80K',\n",
              "       '1.15', '20K', '5.33', '1.97', '3.28', '1.09', '3.6', '2780K',\n",
              "       '0.52', '1.53', '0.71', '1.69', '0.58', '2.41', '6.81', '1.27',\n",
              "       '3.08', '1.44', '0.84', '4.13', '0.92', '1.49', '3.96', '2.54',\n",
              "       '1.5', '2.1', '1.36', '0.66', '0.03M', '130K', '0.77M', '2.68',\n",
              "       '4.35', '240K', '2.46', '2.02', '2.28', '3.63', '470K', '1.03',\n",
              "       '330K', '1.6', '1.91', '1.19', '1.3', '2.11', '1.57', '1.14',\n",
              "       '0.07M', '2.69', '0.71M', '6.5', '0.82', '0.1M', '3', '150K',\n",
              "       '0.13M', '10K', '1.98', '0.67', '10.22', '70K', '0.93M', '1.71',\n",
              "       '3.67', '2.65', '2.43', '3.12M', '2.06', '0.16M', '4.36', '0.11M',\n",
              "       '90K', '1.42', '0.94', '7.2', '1020K', '4.18', '2.32', '3.81',\n",
              "       '2.78', '1.56', '260K', '1.61', '1.46', '1.63', '1.76', '2.13',\n",
              "       '2.47', '1.54', '0.05M', '1.48', '6.04', '5.65', '0.68', '0.61',\n",
              "       '2.53', '5.38', '1.4', '1.81', '2.67', '1.93', '3.19', '1.51',\n",
              "       '2.34', '2', '1.24', '1.28', '2.87', '3.79', '0.09M', '2.42',\n",
              "       '3.18', '0.04M', '3.54', '4.16', '1.65', '1.16', '1.7', '0.95',\n",
              "       '3.61', '3.84', '2.66', '1.89', '1.58', '0.98', '3.44', '3.14',\n",
              "       '2.17', '1.06M', '2.05', '1.32', '4.7', '1.37'], dtype=object)"
            ]
          },
          "metadata": {},
          "execution_count": 26
        }
      ]
    },
    {
      "cell_type": "code",
      "source": [
        "df['JP_Sales'] = df['JP_Sales'].replace({\"K\":\"*1e-3\", \"M\":\"\"}, regex=True).map(pd.eval)"
      ],
      "metadata": {
        "id": "aPwCirRgBfkC"
      },
      "execution_count": 27,
      "outputs": []
    },
    {
      "cell_type": "code",
      "source": [
        "df.loc[:,'JP_Sales'].unique()"
      ],
      "metadata": {
        "colab": {
          "base_uri": "https://localhost:8080/"
        },
        "outputId": "6a6d4492-125a-4697-a925-9c423a41ef71",
        "id": "3eJRws7cBfkC"
      },
      "execution_count": 28,
      "outputs": [
        {
          "output_type": "execute_result",
          "data": {
            "text/plain": [
              "array([0.000e+00, 2.000e-02, 1.400e-01, 1.100e-01, 4.000e-02, 3.000e-02,\n",
              "       1.000e-02, 8.000e-02, 3.000e-01, 2.500e-01, 5.000e-02, 1.600e-01,\n",
              "       1.200e-01, 7.000e-02, 8.500e-01, 3.700e-01, 4.100e-01, 5.100e-01,\n",
              "       8.900e-01, 1.170e+00, 1.300e-01, 1.700e-01, 6.000e-01, 6.000e-02,\n",
              "       5.300e-01, 1.250e+00, 1.800e-01, 1.500e-01, 4.100e+00, 2.200e-01,\n",
              "       4.600e-01, 3.400e-01, 1.200e+00, 3.100e-01, 6.500e-01, 2.100e-01,\n",
              "       1.960e+00, 9.000e-02, 2.800e-01, 6.400e-01, 5.700e-01, 3.600e-01,\n",
              "       1.900e-01, 2.600e-01, 7.500e-01, 4.400e-01, 2.700e-01, 5.000e-01,\n",
              "       6.200e-01, 8.700e-01, 2.000e-01, 2.300e-01, 2.350e+00, 6.900e-01,\n",
              "       9.700e-01, 4.900e-01, 5.320e+00, 4.000e-01, 2.620e+00, 1.080e+00,\n",
              "       5.600e-01, 1.000e-01, 2.230e+00, 1.070e+00, 4.700e-01, 2.900e-01,\n",
              "       7.600e-01, 7.200e-01, 3.300e-01, 9.100e-01, 7.400e-01, 2.400e-01,\n",
              "       5.500e-01, 4.800e-01, 3.200e-01, 7.000e-01, 9.000e-01, 8.600e-01,\n",
              "       1.180e+00, 4.500e-01, 6.300e-01, 3.500e-01, 1.870e+00, 1.310e+00,\n",
              "       3.800e-01, 1.750e+00, 1.060e+00, 1.130e+00, 4.220e+00, 1.100e+00,\n",
              "       8.800e-01, 5.900e-01, 8.300e-01, 1.120e+00, 1.330e+00, 1.260e+00,\n",
              "       1.350e+00, 9.900e-01, 1.290e+00, 7.900e-01, 3.150e+00, 1.390e+00,\n",
              "       3.900e-01, 4.870e+00, 2.550e+00, 2.730e+00, 4.200e-01, 1.000e+00,\n",
              "       1.450e+00, 1.010e+00, 1.380e+00, 7.700e-01, 9.600e-01, 2.200e+00,\n",
              "       7.800e-01, 1.110e+00, 5.400e-01, 7.300e-01, 1.520e+00, 3.030e+00,\n",
              "       1.340e+00, 8.000e-01, 1.050e+00, 8.100e-01, 1.040e+00, 3.770e+00,\n",
              "       9.300e-01, 2.120e+00, 2.930e+00, 1.210e+00, 4.300e-01, 1.150e+00,\n",
              "       5.330e+00, 1.970e+00, 3.280e+00, 1.090e+00, 3.600e+00, 2.780e+00,\n",
              "       5.200e-01, 1.530e+00, 7.100e-01, 1.690e+00, 5.800e-01, 2.410e+00,\n",
              "       6.810e+00, 1.270e+00, 3.080e+00, 1.440e+00, 8.400e-01, 4.130e+00,\n",
              "       9.200e-01, 1.490e+00, 3.960e+00, 2.540e+00, 1.500e+00, 2.100e+00,\n",
              "       1.360e+00, 6.600e-01, 2.680e+00, 4.350e+00, 2.460e+00, 2.020e+00,\n",
              "       2.280e+00, 3.630e+00, 4.700e-01, 1.030e+00, 1.600e+00, 1.910e+00,\n",
              "       1.190e+00, 1.300e+00, 2.110e+00, 1.570e+00, 1.140e+00, 2.690e+00,\n",
              "       6.500e+00, 8.200e-01, 3.000e+00, 1.980e+00, 6.700e-01, 1.022e+01,\n",
              "       1.710e+00, 3.670e+00, 2.650e+00, 2.430e+00, 3.120e+00, 2.060e+00,\n",
              "       4.360e+00, 1.420e+00, 9.400e-01, 7.200e+00, 1.020e+00, 4.180e+00,\n",
              "       2.320e+00, 3.810e+00, 2.780e+00, 1.560e+00, 1.610e+00, 1.460e+00,\n",
              "       1.630e+00, 1.760e+00, 2.130e+00, 2.470e+00, 1.540e+00, 1.480e+00,\n",
              "       6.040e+00, 5.650e+00, 6.800e-01, 6.100e-01, 2.530e+00, 5.380e+00,\n",
              "       1.400e+00, 1.810e+00, 2.670e+00, 1.930e+00, 3.190e+00, 1.510e+00,\n",
              "       2.340e+00, 2.000e+00, 1.240e+00, 1.280e+00, 2.870e+00, 3.790e+00,\n",
              "       2.420e+00, 3.180e+00, 3.540e+00, 4.160e+00, 1.650e+00, 1.160e+00,\n",
              "       1.700e+00, 9.500e-01, 3.610e+00, 3.840e+00, 2.660e+00, 1.890e+00,\n",
              "       1.580e+00, 9.800e-01, 3.440e+00, 3.140e+00, 2.170e+00, 2.050e+00,\n",
              "       1.320e+00, 4.700e+00, 1.370e+00])"
            ]
          },
          "metadata": {},
          "execution_count": 28
        }
      ]
    },
    {
      "cell_type": "markdown",
      "source": [
        "#### Other_Sales\n",
        "숫자, 숫자M, 숫자K 3경우 데이터가 보인다. 데이터 절삭이 있어 소수점 3째자리 부터 숫자를 알 수 없다. 때문에 해당 스케일을 맞추기 위해 이들 단위를 기존 100만으로 맞춰준다.\n",
        "* 숫자: 단위 100만으로 나둔다.\n",
        "* 숫자M: 단위는 100만으로 맞으므로 M만을 제거한다.\n",
        "* 숫자K: 단위가 1천으로 K를 제거 후 1,000으로 나눈다.\n",
        "* 소수점 3째자리 부터 절삭한 것으로 보인다.  \n",
        "\n",
        "데이터형 변경: 'object' -> 'float'  \n",
        "* sales는 출고량이므로 float로 변경(단위 100만)"
      ],
      "metadata": {
        "id": "ONsomysj8byr"
      }
    },
    {
      "cell_type": "code",
      "source": [
        "df.loc[:,'Other_Sales'].unique()"
      ],
      "metadata": {
        "colab": {
          "base_uri": "https://localhost:8080/"
        },
        "outputId": "a0e14c1d-ab42-4f9c-e221-81cd4aa2668a",
        "id": "2LtvhZesBgWX"
      },
      "execution_count": 29,
      "outputs": [
        {
          "output_type": "execute_result",
          "data": {
            "text/plain": [
              "array(['0', '0.01', '0.04', '0.06', '0.15', '0.23', '0.02', '0.08',\n",
              "       '0.05', '0.03', '0.1', '0M', '0.01M', '0.2', '0.9', '0.32', '0.07',\n",
              "       '0.34', '0.22', '0.37', '0.14', '1.07', '10K', '0.25', '0K',\n",
              "       '0.24', '0.16', '0.09', '0.21', '0.58', '30K', '0.13', '0.18',\n",
              "       '0.12', '0.27', '0.77', '0.39', '0.44', '0.26', '1.18', '0.11',\n",
              "       '0.72', '0.28', '0.19', '1.09', '0.54', '0.06M', '1.75', '2.46',\n",
              "       '0.31', '0.17', '0.33', '1.16', '0.7', '50K', '0.42', '0.29',\n",
              "       '0.41', '0.61', '1.14', '0.64', '0.43', '0.3', '0.35', '0.66',\n",
              "       '0.05M', '0.4', '2.02', '0.79', '0.69', '0.73', '0.18M', '0.99',\n",
              "       '40K', '80K', '0.36', '1.26', '0.52', '1.73', '0.03M', '0.47',\n",
              "       '1.68', '0.48', '1.32', '0.59', '8.46', '2.85', '1.23', '0.75',\n",
              "       '1.47', '0.49', '0.88', '0.57', '2.96', '2.15', '4.14', '0.53',\n",
              "       '0.04M', '0.38', '0.02M', '0.46', '0.65', '0.51', '1.04', '2.52',\n",
              "       '0.78', '1.67', '0.2M', '1.48', '0.87', '1.41', '20K', '0.5',\n",
              "       '1.78', '340K', '0.71', '60K', '0.63', '0.82', '0.45', '1.05',\n",
              "       '0.1M', '2.12', '1.29', '1.13', '1.21', '1.12', '0.62', '1.02',\n",
              "       '0.56', '0.83', '0.59M', '0.08M', '1.38', '2.9', '190K', '1.37',\n",
              "       '0.55', '0.13M', '270K', '1', '1.01', '2.93', '0.84', '1.63',\n",
              "       '0.91', '2.01', '2.31', '1.1', '0.76', '1.3', '0.96', '1.83',\n",
              "       '1.33', '0.6', '0.68', '0.74', '1.92', '1.79', '0.94', '0.89',\n",
              "       '2.75', '0.85', '0.8', '1.51', '1.06', '0.14M', '120K', '0.98',\n",
              "       '0.93', '3.31', '0.67', '230K', '0.86', '2.05', '1.42', '1.82',\n",
              "       '1.03', '1.62', '310K', '7.53', '10.57', '0.4M', '0.31M', '560K',\n",
              "       '0.22M', '70K', '1.93', '2.26'], dtype=object)"
            ]
          },
          "metadata": {},
          "execution_count": 29
        }
      ]
    },
    {
      "cell_type": "code",
      "source": [
        "df['Other_Sales'] = df['Other_Sales'].replace({\"K\":\"*1e-3\", \"M\":\"\"}, regex=True).map(pd.eval)"
      ],
      "metadata": {
        "id": "-ds7vfxlBgWX"
      },
      "execution_count": 30,
      "outputs": []
    },
    {
      "cell_type": "code",
      "source": [
        "df.loc[:,'Other_Sales'].unique()"
      ],
      "metadata": {
        "colab": {
          "base_uri": "https://localhost:8080/"
        },
        "outputId": "6a0af3d8-acea-44d5-8434-b8b70bc461de",
        "id": "e_LMXwojBgWX"
      },
      "execution_count": 31,
      "outputs": [
        {
          "output_type": "execute_result",
          "data": {
            "text/plain": [
              "array([0.000e+00, 1.000e-02, 4.000e-02, 6.000e-02, 1.500e-01, 2.300e-01,\n",
              "       2.000e-02, 8.000e-02, 5.000e-02, 3.000e-02, 1.000e-01, 2.000e-01,\n",
              "       9.000e-01, 3.200e-01, 7.000e-02, 3.400e-01, 2.200e-01, 3.700e-01,\n",
              "       1.400e-01, 1.070e+00, 2.500e-01, 2.400e-01, 1.600e-01, 9.000e-02,\n",
              "       2.100e-01, 5.800e-01, 1.300e-01, 1.800e-01, 1.200e-01, 2.700e-01,\n",
              "       7.700e-01, 3.900e-01, 4.400e-01, 2.600e-01, 1.180e+00, 1.100e-01,\n",
              "       7.200e-01, 2.800e-01, 1.900e-01, 1.090e+00, 5.400e-01, 1.750e+00,\n",
              "       2.460e+00, 3.100e-01, 1.700e-01, 3.300e-01, 1.160e+00, 7.000e-01,\n",
              "       4.200e-01, 2.900e-01, 4.100e-01, 6.100e-01, 1.140e+00, 6.400e-01,\n",
              "       4.300e-01, 3.000e-01, 3.500e-01, 6.600e-01, 4.000e-01, 2.020e+00,\n",
              "       7.900e-01, 6.900e-01, 7.300e-01, 9.900e-01, 3.600e-01, 1.260e+00,\n",
              "       5.200e-01, 1.730e+00, 4.700e-01, 1.680e+00, 4.800e-01, 1.320e+00,\n",
              "       5.900e-01, 8.460e+00, 2.850e+00, 1.230e+00, 7.500e-01, 1.470e+00,\n",
              "       4.900e-01, 8.800e-01, 5.700e-01, 2.960e+00, 2.150e+00, 4.140e+00,\n",
              "       5.300e-01, 3.800e-01, 4.600e-01, 6.500e-01, 5.100e-01, 1.040e+00,\n",
              "       2.520e+00, 7.800e-01, 1.670e+00, 1.480e+00, 8.700e-01, 1.410e+00,\n",
              "       5.000e-01, 1.780e+00, 7.100e-01, 6.300e-01, 8.200e-01, 4.500e-01,\n",
              "       1.050e+00, 2.120e+00, 1.290e+00, 1.130e+00, 1.210e+00, 1.120e+00,\n",
              "       6.200e-01, 1.020e+00, 5.600e-01, 8.300e-01, 1.380e+00, 2.900e+00,\n",
              "       1.370e+00, 5.500e-01, 1.000e+00, 1.010e+00, 2.930e+00, 8.400e-01,\n",
              "       1.630e+00, 9.100e-01, 2.010e+00, 2.310e+00, 1.100e+00, 7.600e-01,\n",
              "       1.300e+00, 9.600e-01, 1.830e+00, 1.330e+00, 6.000e-01, 6.800e-01,\n",
              "       7.400e-01, 1.920e+00, 1.790e+00, 9.400e-01, 8.900e-01, 2.750e+00,\n",
              "       8.500e-01, 8.000e-01, 1.510e+00, 1.060e+00, 9.800e-01, 9.300e-01,\n",
              "       3.310e+00, 6.700e-01, 8.600e-01, 2.050e+00, 1.420e+00, 1.820e+00,\n",
              "       1.030e+00, 1.620e+00, 7.530e+00, 1.057e+01, 1.930e+00, 2.260e+00])"
            ]
          },
          "metadata": {},
          "execution_count": 31
        }
      ]
    },
    {
      "cell_type": "markdown",
      "source": [
        "### Feature추가(출고량 합)"
      ],
      "metadata": {
        "id": "saP4Id5Jwc0S"
      }
    },
    {
      "cell_type": "code",
      "source": [
        "df['Total_Sales'] = df['NA_Sales'] + df['EU_Sales'] + df['JP_Sales'] + df['Other_Sales']"
      ],
      "metadata": {
        "id": "Zrqi0jwIw1Wl"
      },
      "execution_count": 32,
      "outputs": []
    },
    {
      "cell_type": "markdown",
      "source": [
        "### 최종 데이터"
      ],
      "metadata": {
        "id": "rDQXvi85CPiT"
      }
    },
    {
      "cell_type": "code",
      "source": [
        "df"
      ],
      "metadata": {
        "colab": {
          "base_uri": "https://localhost:8080/",
          "height": 0
        },
        "id": "z5DOoCs9CBY7",
        "outputId": "c903a7da-f86b-41b3-fa1a-64899f62f87b"
      },
      "execution_count": 33,
      "outputs": [
        {
          "output_type": "execute_result",
          "data": {
            "text/plain": [
              "                                                 Name Platform  Year  \\\n",
              "0                        Candace Kane's Candy Factory       DS  2008   \n",
              "1                                      The Munchables      Wii  2009   \n",
              "2      Otome wa Oanesama Boku ni Koi Shiteru Portable      PSP  2010   \n",
              "3                    Deal or No Deal: Special Edition       DS  2010   \n",
              "4           Ben 10 Ultimate Alien: Cosmic Destruction      PS3  2010   \n",
              "...                                               ...      ...   ...   \n",
              "16592                         Ice Age 2: The Meltdown       GC  2006   \n",
              "16593                     Rainbow Islands: Revolution      PSP  2005   \n",
              "16594                                        NBA 2K16      PS3  2015   \n",
              "16595                     Toukiden: The Age of Demons      PSV  2013   \n",
              "16596                        The King of Fighters '95       PS  1996   \n",
              "\n",
              "           Genre                    Publisher  NA_Sales  EU_Sales  JP_Sales  \\\n",
              "0         Action                    Destineer      0.04      0.00      0.00   \n",
              "1         Action           Namco Bandai Games      0.17      0.00      0.00   \n",
              "2      Adventure                    Alchemist      0.00      0.00      0.02   \n",
              "3           Misc                    Zoo Games      0.04      0.00      0.00   \n",
              "4       Platform                  D3Publisher      0.12      0.09      0.00   \n",
              "...          ...                          ...       ...       ...       ...   \n",
              "16592   Platform                Vivendi Games      0.15      0.04      0.00   \n",
              "16593     Action            Rising Star Games      0.01      0.00      0.00   \n",
              "16594     Sports         Take-Two Interactive      0.44      0.19      0.03   \n",
              "16595     Action                   Tecmo Koei      0.05      0.05      0.25   \n",
              "16596   Fighting  Sony Computer Entertainment      0.00      0.00      0.16   \n",
              "\n",
              "       Other_Sales  Total_Sales  \n",
              "0             0.00         0.04  \n",
              "1             0.01         0.18  \n",
              "2             0.00         0.02  \n",
              "3             0.00         0.04  \n",
              "4             0.04         0.25  \n",
              "...            ...          ...  \n",
              "16592         0.01         0.20  \n",
              "16593         0.00         0.01  \n",
              "16594         0.13         0.79  \n",
              "16595         0.03         0.38  \n",
              "16596         0.01         0.17  \n",
              "\n",
              "[16241 rows x 10 columns]"
            ],
            "text/html": [
              "\n",
              "  <div id=\"df-2b993659-1a26-47a6-b0b1-9b63f9d32cf2\">\n",
              "    <div class=\"colab-df-container\">\n",
              "      <div>\n",
              "<style scoped>\n",
              "    .dataframe tbody tr th:only-of-type {\n",
              "        vertical-align: middle;\n",
              "    }\n",
              "\n",
              "    .dataframe tbody tr th {\n",
              "        vertical-align: top;\n",
              "    }\n",
              "\n",
              "    .dataframe thead th {\n",
              "        text-align: right;\n",
              "    }\n",
              "</style>\n",
              "<table border=\"1\" class=\"dataframe\">\n",
              "  <thead>\n",
              "    <tr style=\"text-align: right;\">\n",
              "      <th></th>\n",
              "      <th>Name</th>\n",
              "      <th>Platform</th>\n",
              "      <th>Year</th>\n",
              "      <th>Genre</th>\n",
              "      <th>Publisher</th>\n",
              "      <th>NA_Sales</th>\n",
              "      <th>EU_Sales</th>\n",
              "      <th>JP_Sales</th>\n",
              "      <th>Other_Sales</th>\n",
              "      <th>Total_Sales</th>\n",
              "    </tr>\n",
              "  </thead>\n",
              "  <tbody>\n",
              "    <tr>\n",
              "      <th>0</th>\n",
              "      <td>Candace Kane's Candy Factory</td>\n",
              "      <td>DS</td>\n",
              "      <td>2008</td>\n",
              "      <td>Action</td>\n",
              "      <td>Destineer</td>\n",
              "      <td>0.04</td>\n",
              "      <td>0.00</td>\n",
              "      <td>0.00</td>\n",
              "      <td>0.00</td>\n",
              "      <td>0.04</td>\n",
              "    </tr>\n",
              "    <tr>\n",
              "      <th>1</th>\n",
              "      <td>The Munchables</td>\n",
              "      <td>Wii</td>\n",
              "      <td>2009</td>\n",
              "      <td>Action</td>\n",
              "      <td>Namco Bandai Games</td>\n",
              "      <td>0.17</td>\n",
              "      <td>0.00</td>\n",
              "      <td>0.00</td>\n",
              "      <td>0.01</td>\n",
              "      <td>0.18</td>\n",
              "    </tr>\n",
              "    <tr>\n",
              "      <th>2</th>\n",
              "      <td>Otome wa Oanesama Boku ni Koi Shiteru Portable</td>\n",
              "      <td>PSP</td>\n",
              "      <td>2010</td>\n",
              "      <td>Adventure</td>\n",
              "      <td>Alchemist</td>\n",
              "      <td>0.00</td>\n",
              "      <td>0.00</td>\n",
              "      <td>0.02</td>\n",
              "      <td>0.00</td>\n",
              "      <td>0.02</td>\n",
              "    </tr>\n",
              "    <tr>\n",
              "      <th>3</th>\n",
              "      <td>Deal or No Deal: Special Edition</td>\n",
              "      <td>DS</td>\n",
              "      <td>2010</td>\n",
              "      <td>Misc</td>\n",
              "      <td>Zoo Games</td>\n",
              "      <td>0.04</td>\n",
              "      <td>0.00</td>\n",
              "      <td>0.00</td>\n",
              "      <td>0.00</td>\n",
              "      <td>0.04</td>\n",
              "    </tr>\n",
              "    <tr>\n",
              "      <th>4</th>\n",
              "      <td>Ben 10 Ultimate Alien: Cosmic Destruction</td>\n",
              "      <td>PS3</td>\n",
              "      <td>2010</td>\n",
              "      <td>Platform</td>\n",
              "      <td>D3Publisher</td>\n",
              "      <td>0.12</td>\n",
              "      <td>0.09</td>\n",
              "      <td>0.00</td>\n",
              "      <td>0.04</td>\n",
              "      <td>0.25</td>\n",
              "    </tr>\n",
              "    <tr>\n",
              "      <th>...</th>\n",
              "      <td>...</td>\n",
              "      <td>...</td>\n",
              "      <td>...</td>\n",
              "      <td>...</td>\n",
              "      <td>...</td>\n",
              "      <td>...</td>\n",
              "      <td>...</td>\n",
              "      <td>...</td>\n",
              "      <td>...</td>\n",
              "      <td>...</td>\n",
              "    </tr>\n",
              "    <tr>\n",
              "      <th>16592</th>\n",
              "      <td>Ice Age 2: The Meltdown</td>\n",
              "      <td>GC</td>\n",
              "      <td>2006</td>\n",
              "      <td>Platform</td>\n",
              "      <td>Vivendi Games</td>\n",
              "      <td>0.15</td>\n",
              "      <td>0.04</td>\n",
              "      <td>0.00</td>\n",
              "      <td>0.01</td>\n",
              "      <td>0.20</td>\n",
              "    </tr>\n",
              "    <tr>\n",
              "      <th>16593</th>\n",
              "      <td>Rainbow Islands: Revolution</td>\n",
              "      <td>PSP</td>\n",
              "      <td>2005</td>\n",
              "      <td>Action</td>\n",
              "      <td>Rising Star Games</td>\n",
              "      <td>0.01</td>\n",
              "      <td>0.00</td>\n",
              "      <td>0.00</td>\n",
              "      <td>0.00</td>\n",
              "      <td>0.01</td>\n",
              "    </tr>\n",
              "    <tr>\n",
              "      <th>16594</th>\n",
              "      <td>NBA 2K16</td>\n",
              "      <td>PS3</td>\n",
              "      <td>2015</td>\n",
              "      <td>Sports</td>\n",
              "      <td>Take-Two Interactive</td>\n",
              "      <td>0.44</td>\n",
              "      <td>0.19</td>\n",
              "      <td>0.03</td>\n",
              "      <td>0.13</td>\n",
              "      <td>0.79</td>\n",
              "    </tr>\n",
              "    <tr>\n",
              "      <th>16595</th>\n",
              "      <td>Toukiden: The Age of Demons</td>\n",
              "      <td>PSV</td>\n",
              "      <td>2013</td>\n",
              "      <td>Action</td>\n",
              "      <td>Tecmo Koei</td>\n",
              "      <td>0.05</td>\n",
              "      <td>0.05</td>\n",
              "      <td>0.25</td>\n",
              "      <td>0.03</td>\n",
              "      <td>0.38</td>\n",
              "    </tr>\n",
              "    <tr>\n",
              "      <th>16596</th>\n",
              "      <td>The King of Fighters '95</td>\n",
              "      <td>PS</td>\n",
              "      <td>1996</td>\n",
              "      <td>Fighting</td>\n",
              "      <td>Sony Computer Entertainment</td>\n",
              "      <td>0.00</td>\n",
              "      <td>0.00</td>\n",
              "      <td>0.16</td>\n",
              "      <td>0.01</td>\n",
              "      <td>0.17</td>\n",
              "    </tr>\n",
              "  </tbody>\n",
              "</table>\n",
              "<p>16241 rows × 10 columns</p>\n",
              "</div>\n",
              "      <button class=\"colab-df-convert\" onclick=\"convertToInteractive('df-2b993659-1a26-47a6-b0b1-9b63f9d32cf2')\"\n",
              "              title=\"Convert this dataframe to an interactive table.\"\n",
              "              style=\"display:none;\">\n",
              "        \n",
              "  <svg xmlns=\"http://www.w3.org/2000/svg\" height=\"24px\"viewBox=\"0 0 24 24\"\n",
              "       width=\"24px\">\n",
              "    <path d=\"M0 0h24v24H0V0z\" fill=\"none\"/>\n",
              "    <path d=\"M18.56 5.44l.94 2.06.94-2.06 2.06-.94-2.06-.94-.94-2.06-.94 2.06-2.06.94zm-11 1L8.5 8.5l.94-2.06 2.06-.94-2.06-.94L8.5 2.5l-.94 2.06-2.06.94zm10 10l.94 2.06.94-2.06 2.06-.94-2.06-.94-.94-2.06-.94 2.06-2.06.94z\"/><path d=\"M17.41 7.96l-1.37-1.37c-.4-.4-.92-.59-1.43-.59-.52 0-1.04.2-1.43.59L10.3 9.45l-7.72 7.72c-.78.78-.78 2.05 0 2.83L4 21.41c.39.39.9.59 1.41.59.51 0 1.02-.2 1.41-.59l7.78-7.78 2.81-2.81c.8-.78.8-2.07 0-2.86zM5.41 20L4 18.59l7.72-7.72 1.47 1.35L5.41 20z\"/>\n",
              "  </svg>\n",
              "      </button>\n",
              "      \n",
              "  <style>\n",
              "    .colab-df-container {\n",
              "      display:flex;\n",
              "      flex-wrap:wrap;\n",
              "      gap: 12px;\n",
              "    }\n",
              "\n",
              "    .colab-df-convert {\n",
              "      background-color: #E8F0FE;\n",
              "      border: none;\n",
              "      border-radius: 50%;\n",
              "      cursor: pointer;\n",
              "      display: none;\n",
              "      fill: #1967D2;\n",
              "      height: 32px;\n",
              "      padding: 0 0 0 0;\n",
              "      width: 32px;\n",
              "    }\n",
              "\n",
              "    .colab-df-convert:hover {\n",
              "      background-color: #E2EBFA;\n",
              "      box-shadow: 0px 1px 2px rgba(60, 64, 67, 0.3), 0px 1px 3px 1px rgba(60, 64, 67, 0.15);\n",
              "      fill: #174EA6;\n",
              "    }\n",
              "\n",
              "    [theme=dark] .colab-df-convert {\n",
              "      background-color: #3B4455;\n",
              "      fill: #D2E3FC;\n",
              "    }\n",
              "\n",
              "    [theme=dark] .colab-df-convert:hover {\n",
              "      background-color: #434B5C;\n",
              "      box-shadow: 0px 1px 3px 1px rgba(0, 0, 0, 0.15);\n",
              "      filter: drop-shadow(0px 1px 2px rgba(0, 0, 0, 0.3));\n",
              "      fill: #FFFFFF;\n",
              "    }\n",
              "  </style>\n",
              "\n",
              "      <script>\n",
              "        const buttonEl =\n",
              "          document.querySelector('#df-2b993659-1a26-47a6-b0b1-9b63f9d32cf2 button.colab-df-convert');\n",
              "        buttonEl.style.display =\n",
              "          google.colab.kernel.accessAllowed ? 'block' : 'none';\n",
              "\n",
              "        async function convertToInteractive(key) {\n",
              "          const element = document.querySelector('#df-2b993659-1a26-47a6-b0b1-9b63f9d32cf2');\n",
              "          const dataTable =\n",
              "            await google.colab.kernel.invokeFunction('convertToInteractive',\n",
              "                                                     [key], {});\n",
              "          if (!dataTable) return;\n",
              "\n",
              "          const docLinkHtml = 'Like what you see? Visit the ' +\n",
              "            '<a target=\"_blank\" href=https://colab.research.google.com/notebooks/data_table.ipynb>data table notebook</a>'\n",
              "            + ' to learn more about interactive tables.';\n",
              "          element.innerHTML = '';\n",
              "          dataTable['output_type'] = 'display_data';\n",
              "          await google.colab.output.renderOutput(dataTable, element);\n",
              "          const docLink = document.createElement('div');\n",
              "          docLink.innerHTML = docLinkHtml;\n",
              "          element.appendChild(docLink);\n",
              "        }\n",
              "      </script>\n",
              "    </div>\n",
              "  </div>\n",
              "  "
            ]
          },
          "metadata": {},
          "execution_count": 33
        }
      ]
    },
    {
      "cell_type": "code",
      "source": [
        "df.info()"
      ],
      "metadata": {
        "colab": {
          "base_uri": "https://localhost:8080/"
        },
        "id": "ZBtz9US6DbQl",
        "outputId": "8e73e4a9-39f5-41b3-ec2a-9a77401552f6"
      },
      "execution_count": 34,
      "outputs": [
        {
          "output_type": "stream",
          "name": "stdout",
          "text": [
            "<class 'pandas.core.frame.DataFrame'>\n",
            "Int64Index: 16241 entries, 0 to 16596\n",
            "Data columns (total 10 columns):\n",
            " #   Column       Non-Null Count  Dtype  \n",
            "---  ------       --------------  -----  \n",
            " 0   Name         16241 non-null  object \n",
            " 1   Platform     16241 non-null  object \n",
            " 2   Year         16241 non-null  int64  \n",
            " 3   Genre        16241 non-null  object \n",
            " 4   Publisher    16241 non-null  object \n",
            " 5   NA_Sales     16241 non-null  float64\n",
            " 6   EU_Sales     16241 non-null  float64\n",
            " 7   JP_Sales     16241 non-null  float64\n",
            " 8   Other_Sales  16241 non-null  float64\n",
            " 9   Total_Sales  16241 non-null  float64\n",
            "dtypes: float64(5), int64(1), object(4)\n",
            "memory usage: 1.4+ MB\n"
          ]
        }
      ]
    },
    {
      "cell_type": "markdown",
      "source": [
        "## 시각화"
      ],
      "metadata": {
        "id": "zv0dausLKksd"
      }
    },
    {
      "cell_type": "markdown",
      "source": [
        "### Continuous variables 일원량분석(Univariate Exploration)"
      ],
      "metadata": {
        "id": "ZdO35MM4DigC"
      }
    },
    {
      "cell_type": "code",
      "source": [
        "import matplotlib.pyplot as plt\n",
        "import seaborn as sns"
      ],
      "metadata": {
        "id": "RDClr18cYw0c"
      },
      "execution_count": 35,
      "outputs": []
    },
    {
      "cell_type": "markdown",
      "source": [
        "#### NA_Sales"
      ],
      "metadata": {
        "id": "YxOfKWKvMnN2"
      }
    },
    {
      "cell_type": "markdown",
      "source": [
        "1) NA_Sales 통계량"
      ],
      "metadata": {
        "id": "ZEoSOTUZ16Fh"
      }
    },
    {
      "cell_type": "code",
      "source": [
        "df.NA_Sales.describe()"
      ],
      "metadata": {
        "colab": {
          "base_uri": "https://localhost:8080/"
        },
        "id": "ZJ0F59C1bsy2",
        "outputId": "9532fb90-3d84-4444-b0ed-74be372d0799"
      },
      "execution_count": 36,
      "outputs": [
        {
          "output_type": "execute_result",
          "data": {
            "text/plain": [
              "count    16241.000000\n",
              "mean         0.265195\n",
              "std          0.822431\n",
              "min          0.000000\n",
              "25%          0.000000\n",
              "50%          0.080000\n",
              "75%          0.240000\n",
              "max         41.490000\n",
              "Name: NA_Sales, dtype: float64"
            ]
          },
          "metadata": {},
          "execution_count": 36
        }
      ]
    },
    {
      "cell_type": "markdown",
      "source": [
        "2) Histogram"
      ],
      "metadata": {
        "id": "HDjIwhBmMATs"
      }
    },
    {
      "cell_type": "code",
      "source": [
        "plt.hist(df.NA_Sales)"
      ],
      "metadata": {
        "colab": {
          "base_uri": "https://localhost:8080/",
          "height": 0
        },
        "id": "WYrXCyIYM-AX",
        "outputId": "361f7065-285d-4a5a-c6a8-a2bb1b0405e9"
      },
      "execution_count": 37,
      "outputs": [
        {
          "output_type": "execute_result",
          "data": {
            "text/plain": [
              "(array([1.6163e+04, 5.3000e+01, 1.5000e+01, 6.0000e+00, 0.0000e+00,\n",
              "        1.0000e+00, 1.0000e+00, 1.0000e+00, 0.0000e+00, 1.0000e+00]),\n",
              " array([ 0.   ,  4.149,  8.298, 12.447, 16.596, 20.745, 24.894, 29.043,\n",
              "        33.192, 37.341, 41.49 ]),\n",
              " <a list of 10 Patch objects>)"
            ]
          },
          "metadata": {},
          "execution_count": 37
        },
        {
          "output_type": "display_data",
          "data": {
            "text/plain": [
              "<Figure size 432x288 with 1 Axes>"
            ],
            "image/png": "[encoded data removed]"
          },
          "metadata": {
            "needs_background": "light"
          }
        }
      ]
    },
    {
      "cell_type": "code",
      "source": [
        "plt.hist(df.NA_Sales[df.NA_Sales < 1])"
      ],
      "metadata": {
        "colab": {
          "base_uri": "https://localhost:8080/",
          "height": 0
        },
        "id": "AbnN0AZzy1JI",
        "outputId": "6458f23f-581f-4a89-b6b2-982154af1a84"
      },
      "execution_count": 38,
      "outputs": [
        {
          "output_type": "execute_result",
          "data": {
            "text/plain": [
              "(array([8847., 2683., 1302.,  807.,  560.,  363.,  265.,  219.,  162.,\n",
              "         140.]),\n",
              " array([0.   , 0.099, 0.198, 0.297, 0.396, 0.495, 0.594, 0.693, 0.792,\n",
              "        0.891, 0.99 ]),\n",
              " <a list of 10 Patch objects>)"
            ]
          },
          "metadata": {},
          "execution_count": 38
        },
        {
          "output_type": "display_data",
          "data": {
            "text/plain": [
              "<Figure size 432x288 with 1 Axes>"
            ],
            "image/png": "[encoded data removed]"
          },
          "metadata": {
            "needs_background": "light"
          }
        }
      ]
    },
    {
      "cell_type": "markdown",
      "source": [
        "#### EU_Sales"
      ],
      "metadata": {
        "id": "gMbDtmFJ1Jyh"
      }
    },
    {
      "cell_type": "markdown",
      "source": [
        "1) EU_Sales 통계량"
      ],
      "metadata": {
        "id": "RbpR25JK2kvG"
      }
    },
    {
      "cell_type": "code",
      "source": [
        "df.EU_Sales.describe()"
      ],
      "metadata": {
        "colab": {
          "base_uri": "https://localhost:8080/"
        },
        "outputId": "0133aa89-d4e8-429b-cb61-7a93eab2c89e",
        "id": "PMb-DVH92kvG"
      },
      "execution_count": 39,
      "outputs": [
        {
          "output_type": "execute_result",
          "data": {
            "text/plain": [
              "count    16241.000000\n",
              "mean         0.147378\n",
              "std          0.508340\n",
              "min          0.000000\n",
              "25%          0.000000\n",
              "50%          0.020000\n",
              "75%          0.110000\n",
              "max         29.020000\n",
              "Name: EU_Sales, dtype: float64"
            ]
          },
          "metadata": {},
          "execution_count": 39
        }
      ]
    },
    {
      "cell_type": "markdown",
      "source": [
        "2) Histogram"
      ],
      "metadata": {
        "id": "sLH3NrXw2kvH"
      }
    },
    {
      "cell_type": "code",
      "source": [
        "plt.hist(df.EU_Sales)"
      ],
      "metadata": {
        "colab": {
          "base_uri": "https://localhost:8080/",
          "height": 0
        },
        "outputId": "2b29f8d1-d212-4234-a2c6-3d173ffd1142",
        "id": "6uKA0-nI2kvH"
      },
      "execution_count": 40,
      "outputs": [
        {
          "output_type": "execute_result",
          "data": {
            "text/plain": [
              "(array([1.6171e+04, 4.9000e+01, 1.2000e+01, 7.0000e+00, 1.0000e+00,\n",
              "        0.0000e+00, 0.0000e+00, 0.0000e+00, 0.0000e+00, 1.0000e+00]),\n",
              " array([ 0.   ,  2.902,  5.804,  8.706, 11.608, 14.51 , 17.412, 20.314,\n",
              "        23.216, 26.118, 29.02 ]),\n",
              " <a list of 10 Patch objects>)"
            ]
          },
          "metadata": {},
          "execution_count": 40
        },
        {
          "output_type": "display_data",
          "data": {
            "text/plain": [
              "<Figure size 432x288 with 1 Axes>"
            ],
            "image/png": "[encoded data removed]"
          },
          "metadata": {
            "needs_background": "light"
          }
        }
      ]
    },
    {
      "cell_type": "code",
      "source": [
        "plt.hist(df.EU_Sales[df.EU_Sales < 1])"
      ],
      "metadata": {
        "colab": {
          "base_uri": "https://localhost:8080/",
          "height": 0
        },
        "outputId": "029bc51f-747a-476c-ab59-77abea30dd6b",
        "id": "HRL1LOAN2kvH"
      },
      "execution_count": 41,
      "outputs": [
        {
          "output_type": "execute_result",
          "data": {
            "text/plain": [
              "(array([11813.,  1694.,   802.,   486.,   348.,   229.,   151.,    94.,\n",
              "           84.,    73.]),\n",
              " array([0.   , 0.099, 0.198, 0.297, 0.396, 0.495, 0.594, 0.693, 0.792,\n",
              "        0.891, 0.99 ]),\n",
              " <a list of 10 Patch objects>)"
            ]
          },
          "metadata": {},
          "execution_count": 41
        },
        {
          "output_type": "display_data",
          "data": {
            "text/plain": [
              "<Figure size 432x288 with 1 Axes>"
            ],
            "image/png": "[encoded data removed]"
          },
          "metadata": {
            "needs_background": "light"
          }
        }
      ]
    },
    {
      "cell_type": "markdown",
      "source": [
        "#### JP_Sales"
      ],
      "metadata": {
        "id": "Y1JHUFGf1N07"
      }
    },
    {
      "cell_type": "markdown",
      "source": [
        "1) JP_Sales 통계량"
      ],
      "metadata": {
        "id": "lRfhwaJF2llD"
      }
    },
    {
      "cell_type": "code",
      "source": [
        "df.JP_Sales.describe()"
      ],
      "metadata": {
        "colab": {
          "base_uri": "https://localhost:8080/"
        },
        "outputId": "c8b23020-0d98-4b6e-94b8-49ea391d853c",
        "id": "Tm4tUE-R2llD"
      },
      "execution_count": 42,
      "outputs": [
        {
          "output_type": "execute_result",
          "data": {
            "text/plain": [
              "count    16241.000000\n",
              "mean         0.078283\n",
              "std          0.309272\n",
              "min          0.000000\n",
              "25%          0.000000\n",
              "50%          0.000000\n",
              "75%          0.040000\n",
              "max         10.220000\n",
              "Name: JP_Sales, dtype: float64"
            ]
          },
          "metadata": {},
          "execution_count": 42
        }
      ]
    },
    {
      "cell_type": "markdown",
      "source": [
        "2) Histogram"
      ],
      "metadata": {
        "id": "XnQDtmTj2llD"
      }
    },
    {
      "cell_type": "code",
      "source": [
        "plt.hist(df.JP_Sales)"
      ],
      "metadata": {
        "colab": {
          "base_uri": "https://localhost:8080/",
          "height": 0
        },
        "outputId": "f8427ec5-3613-4406-f969-0ea311e967a2",
        "id": "iY6Wr3wZ2llD"
      },
      "execution_count": 43,
      "outputs": [
        {
          "output_type": "execute_result",
          "data": {
            "text/plain": [
              "(array([1.6011e+04, 1.5300e+02, 3.8000e+01, 2.0000e+01, 1.0000e+01,\n",
              "        5.0000e+00, 2.0000e+00, 1.0000e+00, 0.0000e+00, 1.0000e+00]),\n",
              " array([ 0.   ,  1.022,  2.044,  3.066,  4.088,  5.11 ,  6.132,  7.154,\n",
              "         8.176,  9.198, 10.22 ]),\n",
              " <a list of 10 Patch objects>)"
            ]
          },
          "metadata": {},
          "execution_count": 43
        },
        {
          "output_type": "display_data",
          "data": {
            "text/plain": [
              "<Figure size 432x288 with 1 Axes>"
            ],
            "image/png": "[encoded data removed]"
          },
          "metadata": {
            "needs_background": "light"
          }
        }
      ]
    },
    {
      "cell_type": "code",
      "source": [
        "plt.hist(df.JP_Sales[df.JP_Sales < 1])"
      ],
      "metadata": {
        "colab": {
          "base_uri": "https://localhost:8080/",
          "height": 0
        },
        "outputId": "23f2b002-38df-440a-8eaa-f26c0ae2513e",
        "id": "1o2L0NPu2llD"
      },
      "execution_count": 44,
      "outputs": [
        {
          "output_type": "execute_result",
          "data": {
            "text/plain": [
              "(array([13694.,  1036.,   479.,   288.,   180.,   113.,    64.,    64.,\n",
              "           50.,    35.]),\n",
              " array([0.   , 0.099, 0.198, 0.297, 0.396, 0.495, 0.594, 0.693, 0.792,\n",
              "        0.891, 0.99 ]),\n",
              " <a list of 10 Patch objects>)"
            ]
          },
          "metadata": {},
          "execution_count": 44
        },
        {
          "output_type": "display_data",
          "data": {
            "text/plain": [
              "<Figure size 432x288 with 1 Axes>"
            ],
            "image/png": "[encoded data removed]"
          },
          "metadata": {
            "needs_background": "light"
          }
        }
      ]
    },
    {
      "cell_type": "markdown",
      "source": [
        "#### Other_Sales"
      ],
      "metadata": {
        "id": "zyiryo6c1Ntj"
      }
    },
    {
      "cell_type": "markdown",
      "source": [
        "1) Other_Sales 통계량"
      ],
      "metadata": {
        "id": "NA0sG_Tr2mdw"
      }
    },
    {
      "cell_type": "code",
      "source": [
        "df.Other_Sales.describe()"
      ],
      "metadata": {
        "colab": {
          "base_uri": "https://localhost:8080/"
        },
        "outputId": "565368e5-060f-4fc8-b9da-5ad4d7acab3c",
        "id": "kQQjfq8d2mdw"
      },
      "execution_count": 45,
      "outputs": [
        {
          "output_type": "execute_result",
          "data": {
            "text/plain": [
              "count    16241.000000\n",
              "mean         0.048234\n",
              "std          0.189678\n",
              "min          0.000000\n",
              "25%          0.000000\n",
              "50%          0.010000\n",
              "75%          0.040000\n",
              "max         10.570000\n",
              "Name: Other_Sales, dtype: float64"
            ]
          },
          "metadata": {},
          "execution_count": 45
        }
      ]
    },
    {
      "cell_type": "markdown",
      "source": [
        "2) Histogram"
      ],
      "metadata": {
        "id": "4YzE6di42mdw"
      }
    },
    {
      "cell_type": "code",
      "source": [
        "plt.hist(df.Other_Sales)"
      ],
      "metadata": {
        "colab": {
          "base_uri": "https://localhost:8080/",
          "height": 0
        },
        "outputId": "1c98bada-639e-48df-8bdd-2623433c3609",
        "id": "zLBF4Ykk2mdw"
      },
      "execution_count": 46,
      "outputs": [
        {
          "output_type": "execute_result",
          "data": {
            "text/plain": [
              "(array([1.6172e+04, 5.3000e+01, 1.1000e+01, 2.0000e+00, 0.0000e+00,\n",
              "        0.0000e+00, 0.0000e+00, 1.0000e+00, 1.0000e+00, 1.0000e+00]),\n",
              " array([ 0.   ,  1.057,  2.114,  3.171,  4.228,  5.285,  6.342,  7.399,\n",
              "         8.456,  9.513, 10.57 ]),\n",
              " <a list of 10 Patch objects>)"
            ]
          },
          "metadata": {},
          "execution_count": 46
        },
        {
          "output_type": "display_data",
          "data": {
            "text/plain": [
              "<Figure size 432x288 with 1 Axes>"
            ],
            "image/png": "[encoded data removed]"
          },
          "metadata": {
            "needs_background": "light"
          }
        }
      ]
    },
    {
      "cell_type": "code",
      "source": [
        "plt.hist(df.Other_Sales[df.Other_Sales < 1])"
      ],
      "metadata": {
        "colab": {
          "base_uri": "https://localhost:8080/",
          "height": 0
        },
        "outputId": "1ce0a267-3df5-4215-a21c-5444ad19a952",
        "id": "j5bDhtbu2mdw"
      },
      "execution_count": 47,
      "outputs": [
        {
          "output_type": "execute_result",
          "data": {
            "text/plain": [
              "(array([1.4441e+04, 9.7000e+02, 3.5700e+02, 1.5800e+02, 8.3000e+01,\n",
              "        4.9000e+01, 3.8000e+01, 3.6000e+01, 1.9000e+01, 1.1000e+01]),\n",
              " array([0.   , 0.099, 0.198, 0.297, 0.396, 0.495, 0.594, 0.693, 0.792,\n",
              "        0.891, 0.99 ]),\n",
              " <a list of 10 Patch objects>)"
            ]
          },
          "metadata": {},
          "execution_count": 47
        },
        {
          "output_type": "display_data",
          "data": {
            "text/plain": [
              "<Figure size 432x288 with 1 Axes>"
            ],
            "image/png": "[encoded data removed]"
          },
          "metadata": {
            "needs_background": "light"
          }
        }
      ]
    },
    {
      "cell_type": "markdown",
      "source": [
        "#### Total_Sales"
      ],
      "metadata": {
        "id": "haFzflr61cWI"
      }
    },
    {
      "cell_type": "markdown",
      "source": [
        "1) Total_Sales 통계량"
      ],
      "metadata": {
        "id": "sV4y3TB02nPr"
      }
    },
    {
      "cell_type": "code",
      "source": [
        "df.Total_Sales.describe()"
      ],
      "metadata": {
        "colab": {
          "base_uri": "https://localhost:8080/"
        },
        "outputId": "7e877edf-ccd3-4ba2-831f-80facacf87a2",
        "id": "CjsDU6Yf2nPr"
      },
      "execution_count": 48,
      "outputs": [
        {
          "output_type": "execute_result",
          "data": {
            "text/plain": [
              "count    16241.000000\n",
              "mean         0.539091\n",
              "std          1.563905\n",
              "min          0.000000\n",
              "25%          0.060000\n",
              "50%          0.170000\n",
              "75%          0.480000\n",
              "max         82.740000\n",
              "Name: Total_Sales, dtype: float64"
            ]
          },
          "metadata": {},
          "execution_count": 48
        }
      ]
    },
    {
      "cell_type": "markdown",
      "source": [
        "2) Histogram"
      ],
      "metadata": {
        "id": "ys_4IkEF2nPs"
      }
    },
    {
      "cell_type": "code",
      "source": [
        "plt.hist(df.Total_Sales)"
      ],
      "metadata": {
        "colab": {
          "base_uri": "https://localhost:8080/",
          "height": 0
        },
        "outputId": "1f7e9117-acb4-4610-fd5e-0a60018a6ac6",
        "id": "DdNEDOPb2nPs"
      },
      "execution_count": 49,
      "outputs": [
        {
          "output_type": "execute_result",
          "data": {
            "text/plain": [
              "(array([1.6161e+04, 5.7000e+01, 1.3000e+01, 7.0000e+00, 2.0000e+00,\n",
              "        0.0000e+00, 0.0000e+00, 0.0000e+00, 0.0000e+00, 1.0000e+00]),\n",
              " array([ 0.   ,  8.274, 16.548, 24.822, 33.096, 41.37 , 49.644, 57.918,\n",
              "        66.192, 74.466, 82.74 ]),\n",
              " <a list of 10 Patch objects>)"
            ]
          },
          "metadata": {},
          "execution_count": 49
        },
        {
          "output_type": "display_data",
          "data": {
            "text/plain": [
              "<Figure size 432x288 with 1 Axes>"
            ],
            "image/png": "[encoded data removed]"
          },
          "metadata": {
            "needs_background": "light"
          }
        }
      ]
    },
    {
      "cell_type": "code",
      "source": [
        "plt.hist(df.Total_Sales[df.Total_Sales < 1])"
      ],
      "metadata": {
        "colab": {
          "base_uri": "https://localhost:8080/",
          "height": 0
        },
        "outputId": "46afa6c1-08a6-47f6-90a6-024c3559227b",
        "id": "aarXPtfv2nPs"
      },
      "execution_count": 50,
      "outputs": [
        {
          "output_type": "execute_result",
          "data": {
            "text/plain": [
              "(array([5611., 3070., 1729., 1054.,  844.,  613.,  438.,  340.,  261.,\n",
              "         236.]),\n",
              " array([0. , 0.1, 0.2, 0.3, 0.4, 0.5, 0.6, 0.7, 0.8, 0.9, 1. ]),\n",
              " <a list of 10 Patch objects>)"
            ]
          },
          "metadata": {},
          "execution_count": 50
        },
        {
          "output_type": "display_data",
          "data": {
            "text/plain": [
              "<Figure size 432x288 with 1 Axes>"
            ],
            "image/png": "[encoded data removed]"
          },
          "metadata": {
            "needs_background": "light"
          }
        }
      ]
    },
    {
      "cell_type": "markdown",
      "source": [
        "### Categorical Variables 일원량분석(Univariate Exploration)"
      ],
      "metadata": {
        "id": "Ibwt3ohP32p_"
      }
    },
    {
      "cell_type": "markdown",
      "source": [
        "#### Platform"
      ],
      "metadata": {
        "id": "yrQp7Ywt4VpM"
      }
    },
    {
      "cell_type": "markdown",
      "source": [
        "1) Platform 빈도"
      ],
      "metadata": {
        "id": "8kIzGC4KLWz9"
      }
    },
    {
      "cell_type": "code",
      "source": [
        "df.Platform.value_counts()"
      ],
      "metadata": {
        "colab": {
          "base_uri": "https://localhost:8080/"
        },
        "id": "xSal7tUuG7ho",
        "outputId": "fb8414cc-df39-46a4-ed11-ee7f76bd801e"
      },
      "execution_count": 57,
      "outputs": [
        {
          "output_type": "execute_result",
          "data": {
            "text/plain": [
              "DS      2127\n",
              "PS2     2121\n",
              "PS3     1299\n",
              "Wii     1284\n",
              "X360    1231\n",
              "PSP     1193\n",
              "PS      1185\n",
              "PC       935\n",
              "XB       799\n",
              "GBA      784\n",
              "GC       541\n",
              "3DS      498\n",
              "PSV      409\n",
              "PS4      335\n",
              "N64      313\n",
              "SNES     239\n",
              "XOne     212\n",
              "SAT      173\n",
              "WiiU     143\n",
              "2600     115\n",
              "NES       98\n",
              "GB        97\n",
              "DC        52\n",
              "GEN       27\n",
              "NG        12\n",
              "SCD        6\n",
              "WS         6\n",
              "3DO        3\n",
              "TG16       2\n",
              "GG         1\n",
              "PCFX       1\n",
              "Name: Platform, dtype: int64"
            ]
          },
          "metadata": {},
          "execution_count": 57
        }
      ]
    },
    {
      "cell_type": "markdown",
      "source": [
        "2) histogram"
      ],
      "metadata": {
        "id": "TNFtwy1VLapq"
      }
    },
    {
      "cell_type": "code",
      "source": [
        "sns.countplot(x='Platform' , data=df)"
      ],
      "metadata": {
        "colab": {
          "base_uri": "https://localhost:8080/",
          "height": 297
        },
        "id": "BFOCoDJu4dXH",
        "outputId": "553024b5-7795-45f0-ca3e-0eab20b53d27"
      },
      "execution_count": 58,
      "outputs": [
        {
          "output_type": "execute_result",
          "data": {
            "text/plain": [
              "<matplotlib.axes._subplots.AxesSubplot at 0x7efdb3873e90>"
            ]
          },
          "metadata": {},
          "execution_count": 58
        },
        {
          "output_type": "display_data",
          "data": {
            "text/plain": [
              "<Figure size 432x288 with 1 Axes>"
            ],
            "image/png": "[encoded data removed]"
          },
          "metadata": {
            "needs_background": "light"
          }
        }
      ]
    },
    {
      "cell_type": "markdown",
      "source": [
        "#### Year"
      ],
      "metadata": {
        "id": "BhpA2D3k4X81"
      }
    },
    {
      "cell_type": "markdown",
      "source": [
        "1) Year 빈도"
      ],
      "metadata": {
        "id": "Bz9oUaHtLmFG"
      }
    },
    {
      "cell_type": "code",
      "source": [
        "df.Year.value_counts()"
      ],
      "metadata": {
        "colab": {
          "base_uri": "https://localhost:8080/"
        },
        "outputId": "b399abb5-8f39-4e70-f278-09eebccd0c2a",
        "id": "ipba2oR-H1zQ"
      },
      "execution_count": 59,
      "outputs": [
        {
          "output_type": "execute_result",
          "data": {
            "text/plain": [
              "2009    1428\n",
              "2008    1423\n",
              "2010    1253\n",
              "2007    1195\n",
              "2011    1133\n",
              "2006    1005\n",
              "2005     934\n",
              "2002     826\n",
              "2003     774\n",
              "2004     740\n",
              "2012     652\n",
              "2015     611\n",
              "2014     580\n",
              "2013     545\n",
              "2001     480\n",
              "1998     377\n",
              "2000     348\n",
              "2016     342\n",
              "1999     336\n",
              "1997     289\n",
              "1996     262\n",
              "1995     219\n",
              "1994     121\n",
              "1993      60\n",
              "1981      46\n",
              "1992      43\n",
              "1991      41\n",
              "1982      36\n",
              "1986      21\n",
              "1989      17\n",
              "1983      17\n",
              "1990      16\n",
              "1987      16\n",
              "1988      15\n",
              "1984      14\n",
              "1985      14\n",
              "1980       8\n",
              "2017       3\n",
              "2020       1\n",
              "Name: Year, dtype: int64"
            ]
          },
          "metadata": {},
          "execution_count": 59
        }
      ]
    },
    {
      "cell_type": "markdown",
      "source": [
        "2) histogram"
      ],
      "metadata": {
        "id": "9JJFEF7rLiyq"
      }
    },
    {
      "cell_type": "code",
      "source": [
        "sns.countplot(x='Year' , data=df)"
      ],
      "metadata": {
        "colab": {
          "base_uri": "https://localhost:8080/",
          "height": 297
        },
        "outputId": "5e094a5d-ea47-40f4-e2b4-0d1d5dabd4f1",
        "id": "mI7oUajTH1zQ"
      },
      "execution_count": 60,
      "outputs": [
        {
          "output_type": "execute_result",
          "data": {
            "text/plain": [
              "<matplotlib.axes._subplots.AxesSubplot at 0x7efdb3f56dd0>"
            ]
          },
          "metadata": {},
          "execution_count": 60
        },
        {
          "output_type": "display_data",
          "data": {
            "text/plain": [
              "<Figure size 432x288 with 1 Axes>"
            ],
            "image/png": "[encoded data removed]"
          },
          "metadata": {
            "needs_background": "light"
          }
        }
      ]
    },
    {
      "cell_type": "markdown",
      "source": [
        "#### Genre"
      ],
      "metadata": {
        "id": "AOHE3FAE4Zrv"
      }
    },
    {
      "cell_type": "markdown",
      "source": [
        "1) Genre 빈도"
      ],
      "metadata": {
        "id": "MVa7ZJUMLodp"
      }
    },
    {
      "cell_type": "code",
      "source": [
        "df.Genre.value_counts()"
      ],
      "metadata": {
        "colab": {
          "base_uri": "https://localhost:8080/"
        },
        "outputId": "7e5ba1db-e592-4047-8ab7-8fe31e59b372",
        "id": "lURAUccVH29K"
      },
      "execution_count": 61,
      "outputs": [
        {
          "output_type": "execute_result",
          "data": {
            "text/plain": [
              "Action          3240\n",
              "Sports          2299\n",
              "Misc            1681\n",
              "Role-Playing    1465\n",
              "Shooter         1280\n",
              "Adventure       1268\n",
              "Racing          1219\n",
              "Platform         873\n",
              "Simulation       846\n",
              "Fighting         835\n",
              "Strategy         669\n",
              "Puzzle           566\n",
              "Name: Genre, dtype: int64"
            ]
          },
          "metadata": {},
          "execution_count": 61
        }
      ]
    },
    {
      "cell_type": "markdown",
      "source": [
        "2) histogram"
      ],
      "metadata": {
        "id": "vdYj_iA6Lj2T"
      }
    },
    {
      "cell_type": "code",
      "source": [
        "sns.countplot(x='Genre' , data=df)"
      ],
      "metadata": {
        "colab": {
          "base_uri": "https://localhost:8080/",
          "height": 297
        },
        "outputId": "89296719-4738-4ce3-81ad-12c6583c28c7",
        "id": "pf3TmhVSH29K"
      },
      "execution_count": 62,
      "outputs": [
        {
          "output_type": "execute_result",
          "data": {
            "text/plain": [
              "<matplotlib.axes._subplots.AxesSubplot at 0x7efdb36254d0>"
            ]
          },
          "metadata": {},
          "execution_count": 62
        },
        {
          "output_type": "display_data",
          "data": {
            "text/plain": [
              "<Figure size 432x288 with 1 Axes>"
            ],
            "image/png": "[encoded data removed]"
          },
          "metadata": {
            "needs_background": "light"
          }
        }
      ]
    },
    {
      "cell_type": "markdown",
      "source": [
        "### 이원량분석(Bivariate Exploration)"
      ],
      "metadata": {
        "id": "bKUQymf7KNC8"
      }
    },
    {
      "cell_type": "markdown",
      "source": [
        "#### 지역별 선호하는 게임 장르\n",
        "꺽은선 그래프로 지역별, 총 출고량을 확인"
      ],
      "metadata": {
        "id": "6Mx5MuffNDpG"
      }
    },
    {
      "cell_type": "code",
      "source": [
        "df_genre_to = df.groupby(by=['Genre'])['Total_Sales'].sum() # 전 대륙 선호하는 게임 장르\n",
        "df_genre_to = df_genre_to.reset_index()\n",
        "\n",
        "df_genre_na = df.groupby(by=['Genre'])['NA_Sales'].sum() # 북미 선호하는 게임 장르\n",
        "df_genre_na = df_genre_na.reset_index()\n",
        "\n",
        "df_genre_eu = df.groupby(by=['Genre'])['EU_Sales'].sum() # 유럽 선호하는 게임 장르\n",
        "df_genre_eu = df_genre_eu.reset_index()\n",
        "\n",
        "df_genre_jp = df.groupby(by=['Genre'])['JP_Sales'].sum() # 일본 선호하는 게임 장르\n",
        "df_genre_jp = df_genre_jp.reset_index()\n",
        "\n",
        "df_genre_ot = df.groupby(by=['Genre'])['Other_Sales'].sum() # 기타 선호하는 게임 장르\n",
        "df_genre_ot = df_genre_ot.reset_index()\n",
        "\n",
        "df_genre = pd.concat([df_genre_to, df_genre_na['NA_Sales'], df_genre_eu['EU_Sales'], df_genre_jp['JP_Sales'], df_genre_ot['Other_Sales']], axis=1, join='inner')\n",
        "df_genre"
      ],
      "metadata": {
        "colab": {
          "base_uri": "https://localhost:8080/",
          "height": 426
        },
        "id": "je0Xan9cZBqL",
        "outputId": "7778aff3-342f-4196-becd-2ec982867004"
      },
      "execution_count": 120,
      "outputs": [
        {
          "output_type": "execute_result",
          "data": {
            "text/plain": [
              "           Genre  Total_Sales  NA_Sales  EU_Sales  JP_Sales  Other_Sales\n",
              "0         Action      1712.98    858.75    513.64    156.60       183.99\n",
              "1      Adventure       234.02    101.79     63.66     51.87        16.70\n",
              "2       Fighting       443.54    220.35     99.90     87.14        36.15\n",
              "3           Misc       779.70    394.73    208.15    104.18        72.64\n",
              "4       Platform       827.99    445.38    200.63    130.53        51.45\n",
              "5         Puzzle       240.73    121.58     50.47     56.24        12.44\n",
              "6         Racing       722.55    354.70    235.02     56.32        76.51\n",
              "7   Role-Playing       901.51    318.76    183.09    342.93        56.73\n",
              "8        Shooter      1024.75    574.48    310.23     38.18       101.86\n",
              "9     Simulation       389.28    181.43    112.99     63.54        31.32\n",
              "10        Sports      1305.34    667.26    370.97    134.76       132.35\n",
              "11      Strategy       172.98     67.83     44.82     49.10        11.23"
            ],
            "text/html": [
              "\n",
              "  <div id=\"df-74653f36-f3be-42b8-b875-994fdd47eab7\">\n",
              "    <div class=\"colab-df-container\">\n",
              "      <div>\n",
              "<style scoped>\n",
              "    .dataframe tbody tr th:only-of-type {\n",
              "        vertical-align: middle;\n",
              "    }\n",
              "\n",
              "    .dataframe tbody tr th {\n",
              "        vertical-align: top;\n",
              "    }\n",
              "\n",
              "    .dataframe thead th {\n",
              "        text-align: right;\n",
              "    }\n",
              "</style>\n",
              "<table border=\"1\" class=\"dataframe\">\n",
              "  <thead>\n",
              "    <tr style=\"text-align: right;\">\n",
              "      <th></th>\n",
              "      <th>Genre</th>\n",
              "      <th>Total_Sales</th>\n",
              "      <th>NA_Sales</th>\n",
              "      <th>EU_Sales</th>\n",
              "      <th>JP_Sales</th>\n",
              "      <th>Other_Sales</th>\n",
              "    </tr>\n",
              "  </thead>\n",
              "  <tbody>\n",
              "    <tr>\n",
              "      <th>0</th>\n",
              "      <td>Action</td>\n",
              "      <td>1712.98</td>\n",
              "      <td>858.75</td>\n",
              "      <td>513.64</td>\n",
              "      <td>156.60</td>\n",
              "      <td>183.99</td>\n",
              "    </tr>\n",
              "    <tr>\n",
              "      <th>1</th>\n",
              "      <td>Adventure</td>\n",
              "      <td>234.02</td>\n",
              "      <td>101.79</td>\n",
              "      <td>63.66</td>\n",
              "      <td>51.87</td>\n",
              "      <td>16.70</td>\n",
              "    </tr>\n",
              "    <tr>\n",
              "      <th>2</th>\n",
              "      <td>Fighting</td>\n",
              "      <td>443.54</td>\n",
              "      <td>220.35</td>\n",
              "      <td>99.90</td>\n",
              "      <td>87.14</td>\n",
              "      <td>36.15</td>\n",
              "    </tr>\n",
              "    <tr>\n",
              "      <th>3</th>\n",
              "      <td>Misc</td>\n",
              "      <td>779.70</td>\n",
              "      <td>394.73</td>\n",
              "      <td>208.15</td>\n",
              "      <td>104.18</td>\n",
              "      <td>72.64</td>\n",
              "    </tr>\n",
              "    <tr>\n",
              "      <th>4</th>\n",
              "      <td>Platform</td>\n",
              "      <td>827.99</td>\n",
              "      <td>445.38</td>\n",
              "      <td>200.63</td>\n",
              "      <td>130.53</td>\n",
              "      <td>51.45</td>\n",
              "    </tr>\n",
              "    <tr>\n",
              "      <th>5</th>\n",
              "      <td>Puzzle</td>\n",
              "      <td>240.73</td>\n",
              "      <td>121.58</td>\n",
              "      <td>50.47</td>\n",
              "      <td>56.24</td>\n",
              "      <td>12.44</td>\n",
              "    </tr>\n",
              "    <tr>\n",
              "      <th>6</th>\n",
              "      <td>Racing</td>\n",
              "      <td>722.55</td>\n",
              "      <td>354.70</td>\n",
              "      <td>235.02</td>\n",
              "      <td>56.32</td>\n",
              "      <td>76.51</td>\n",
              "    </tr>\n",
              "    <tr>\n",
              "      <th>7</th>\n",
              "      <td>Role-Playing</td>\n",
              "      <td>901.51</td>\n",
              "      <td>318.76</td>\n",
              "      <td>183.09</td>\n",
              "      <td>342.93</td>\n",
              "      <td>56.73</td>\n",
              "    </tr>\n",
              "    <tr>\n",
              "      <th>8</th>\n",
              "      <td>Shooter</td>\n",
              "      <td>1024.75</td>\n",
              "      <td>574.48</td>\n",
              "      <td>310.23</td>\n",
              "      <td>38.18</td>\n",
              "      <td>101.86</td>\n",
              "    </tr>\n",
              "    <tr>\n",
              "      <th>9</th>\n",
              "      <td>Simulation</td>\n",
              "      <td>389.28</td>\n",
              "      <td>181.43</td>\n",
              "      <td>112.99</td>\n",
              "      <td>63.54</td>\n",
              "      <td>31.32</td>\n",
              "    </tr>\n",
              "    <tr>\n",
              "      <th>10</th>\n",
              "      <td>Sports</td>\n",
              "      <td>1305.34</td>\n",
              "      <td>667.26</td>\n",
              "      <td>370.97</td>\n",
              "      <td>134.76</td>\n",
              "      <td>132.35</td>\n",
              "    </tr>\n",
              "    <tr>\n",
              "      <th>11</th>\n",
              "      <td>Strategy</td>\n",
              "      <td>172.98</td>\n",
              "      <td>67.83</td>\n",
              "      <td>44.82</td>\n",
              "      <td>49.10</td>\n",
              "      <td>11.23</td>\n",
              "    </tr>\n",
              "  </tbody>\n",
              "</table>\n",
              "</div>\n",
              "      <button class=\"colab-df-convert\" onclick=\"convertToInteractive('df-74653f36-f3be-42b8-b875-994fdd47eab7')\"\n",
              "              title=\"Convert this dataframe to an interactive table.\"\n",
              "              style=\"display:none;\">\n",
              "        \n",
              "  <svg xmlns=\"http://www.w3.org/2000/svg\" height=\"24px\"viewBox=\"0 0 24 24\"\n",
              "       width=\"24px\">\n",
              "    <path d=\"M0 0h24v24H0V0z\" fill=\"none\"/>\n",
              "    <path d=\"M18.56 5.44l.94 2.06.94-2.06 2.06-.94-2.06-.94-.94-2.06-.94 2.06-2.06.94zm-11 1L8.5 8.5l.94-2.06 2.06-.94-2.06-.94L8.5 2.5l-.94 2.06-2.06.94zm10 10l.94 2.06.94-2.06 2.06-.94-2.06-.94-.94-2.06-.94 2.06-2.06.94z\"/><path d=\"M17.41 7.96l-1.37-1.37c-.4-.4-.92-.59-1.43-.59-.52 0-1.04.2-1.43.59L10.3 9.45l-7.72 7.72c-.78.78-.78 2.05 0 2.83L4 21.41c.39.39.9.59 1.41.59.51 0 1.02-.2 1.41-.59l7.78-7.78 2.81-2.81c.8-.78.8-2.07 0-2.86zM5.41 20L4 18.59l7.72-7.72 1.47 1.35L5.41 20z\"/>\n",
              "  </svg>\n",
              "      </button>\n",
              "      \n",
              "  <style>\n",
              "    .colab-df-container {\n",
              "      display:flex;\n",
              "      flex-wrap:wrap;\n",
              "      gap: 12px;\n",
              "    }\n",
              "\n",
              "    .colab-df-convert {\n",
              "      background-color: #E8F0FE;\n",
              "      border: none;\n",
              "      border-radius: 50%;\n",
              "      cursor: pointer;\n",
              "      display: none;\n",
              "      fill: #1967D2;\n",
              "      height: 32px;\n",
              "      padding: 0 0 0 0;\n",
              "      width: 32px;\n",
              "    }\n",
              "\n",
              "    .colab-df-convert:hover {\n",
              "      background-color: #E2EBFA;\n",
              "      box-shadow: 0px 1px 2px rgba(60, 64, 67, 0.3), 0px 1px 3px 1px rgba(60, 64, 67, 0.15);\n",
              "      fill: #174EA6;\n",
              "    }\n",
              "\n",
              "    [theme=dark] .colab-df-convert {\n",
              "      background-color: #3B4455;\n",
              "      fill: #D2E3FC;\n",
              "    }\n",
              "\n",
              "    [theme=dark] .colab-df-convert:hover {\n",
              "      background-color: #434B5C;\n",
              "      box-shadow: 0px 1px 3px 1px rgba(0, 0, 0, 0.15);\n",
              "      filter: drop-shadow(0px 1px 2px rgba(0, 0, 0, 0.3));\n",
              "      fill: #FFFFFF;\n",
              "    }\n",
              "  </style>\n",
              "\n",
              "      <script>\n",
              "        const buttonEl =\n",
              "          document.querySelector('#df-74653f36-f3be-42b8-b875-994fdd47eab7 button.colab-df-convert');\n",
              "        buttonEl.style.display =\n",
              "          google.colab.kernel.accessAllowed ? 'block' : 'none';\n",
              "\n",
              "        async function convertToInteractive(key) {\n",
              "          const element = document.querySelector('#df-74653f36-f3be-42b8-b875-994fdd47eab7');\n",
              "          const dataTable =\n",
              "            await google.colab.kernel.invokeFunction('convertToInteractive',\n",
              "                                                     [key], {});\n",
              "          if (!dataTable) return;\n",
              "\n",
              "          const docLinkHtml = 'Like what you see? Visit the ' +\n",
              "            '<a target=\"_blank\" href=https://colab.research.google.com/notebooks/data_table.ipynb>data table notebook</a>'\n",
              "            + ' to learn more about interactive tables.';\n",
              "          element.innerHTML = '';\n",
              "          dataTable['output_type'] = 'display_data';\n",
              "          await google.colab.output.renderOutput(dataTable, element);\n",
              "          const docLink = document.createElement('div');\n",
              "          docLink.innerHTML = docLinkHtml;\n",
              "          element.appendChild(docLink);\n",
              "        }\n",
              "      </script>\n",
              "    </div>\n",
              "  </div>\n",
              "  "
            ]
          },
          "metadata": {},
          "execution_count": 120
        }
      ]
    },
    {
      "cell_type": "markdown",
      "source": [
        "Total Sales"
      ],
      "metadata": {
        "id": "eAWmZLP5cCb-"
      }
    },
    {
      "cell_type": "code",
      "source": [
        "sns.set(style='darkgrid')\n",
        "plt.figure(figsize=(15, 10))\n",
        "plt.title(\"Favorite Game Genre\", fontsize=30)\n",
        "plt.xlabel(\"Genre of game\", fontsize=20)\n",
        "plt.ylabel(\"Sales\", fontsize=20)\n",
        "sns.barplot(data=df_genre, x='Genre', y='Total_Sales')"
      ],
      "metadata": {
        "colab": {
          "base_uri": "https://localhost:8080/",
          "height": 664
        },
        "id": "xf2rCvQdaQ5Z",
        "outputId": "be8af8ea-baa9-4ce6-e8c6-52a2988f3dd2"
      },
      "execution_count": 147,
      "outputs": [
        {
          "output_type": "execute_result",
          "data": {
            "text/plain": [
              "<matplotlib.axes._subplots.AxesSubplot at 0x7efdad525f10>"
            ]
          },
          "metadata": {},
          "execution_count": 147
        },
        {
          "output_type": "display_data",
          "data": {
            "text/plain": [
              "<Figure size 1080x720 with 1 Axes>"
            ],
            "image/png": "[encoded data removed]"
          },
          "metadata": {}
        }
      ]
    },
    {
      "cell_type": "markdown",
      "source": [
        "NA Sales"
      ],
      "metadata": {
        "id": "4r2QCrv6cOA1"
      }
    },
    {
      "cell_type": "code",
      "source": [
        "sns.set(style='darkgrid')\n",
        "plt.figure(figsize=(15, 10))\n",
        "plt.title(\"Favorite Game Genre by North america\", fontsize=30)\n",
        "plt.xlabel(\"Genre of game\", fontsize=20)\n",
        "plt.ylabel(\"Sales\", fontsize=20)\n",
        "sns.barplot(data=df_genre, x='Genre', y='NA_Sales')"
      ],
      "metadata": {
        "colab": {
          "base_uri": "https://localhost:8080/",
          "height": 664
        },
        "id": "gZWpoNMkQDZi",
        "outputId": "f60942aa-81b4-4779-c247-2989c5ce13fc"
      },
      "execution_count": 124,
      "outputs": [
        {
          "output_type": "execute_result",
          "data": {
            "text/plain": [
              "<matplotlib.axes._subplots.AxesSubplot at 0x7efdad94ab50>"
            ]
          },
          "metadata": {},
          "execution_count": 124
        },
        {
          "output_type": "display_data",
          "data": {
            "text/plain": [
              "<Figure size 1080x720 with 1 Axes>"
            ],
            "image/png": "[encoded data removed]"
          },
          "metadata": {}
        }
      ]
    },
    {
      "cell_type": "markdown",
      "source": [
        "EU Sales"
      ],
      "metadata": {
        "id": "YpVzrnBrcS0F"
      }
    },
    {
      "cell_type": "code",
      "source": [
        "sns.set(style='darkgrid')\n",
        "plt.figure(figsize=(15, 10))\n",
        "plt.title(\"Favorite Game Genre by EU\", fontsize=30)\n",
        "plt.xlabel(\"Genre of game\", fontsize=20)\n",
        "plt.ylabel(\"Sales\", fontsize=20)\n",
        "sns.barplot(data=df_genre, x='Genre', y='EU_Sales')"
      ],
      "metadata": {
        "colab": {
          "base_uri": "https://localhost:8080/",
          "height": 664
        },
        "id": "ucwBWc9lQDTs",
        "outputId": "b2fbb332-574f-4cee-f8db-5a7ba69e440c"
      },
      "execution_count": 126,
      "outputs": [
        {
          "output_type": "execute_result",
          "data": {
            "text/plain": [
              "<matplotlib.axes._subplots.AxesSubplot at 0x7efdad7c1b10>"
            ]
          },
          "metadata": {},
          "execution_count": 126
        },
        {
          "output_type": "display_data",
          "data": {
            "text/plain": [
              "<Figure size 1080x720 with 1 Axes>"
            ],
            "image/png": "[encoded data removed]"
          },
          "metadata": {}
        }
      ]
    },
    {
      "cell_type": "markdown",
      "source": [
        "JP Sales"
      ],
      "metadata": {
        "id": "SGlNe_NPcVaB"
      }
    },
    {
      "cell_type": "code",
      "source": [
        "sns.set(style='darkgrid')\n",
        "plt.figure(figsize=(15, 10))\n",
        "plt.title(\"Favorite Game Genre by Japan\", fontsize=30)\n",
        "plt.xlabel(\"Genre of game\", fontsize=20)\n",
        "plt.ylabel(\"Sales\", fontsize=20)\n",
        "sns.barplot(data=df_genre, x='Genre', y='JP_Sales')"
      ],
      "metadata": {
        "colab": {
          "base_uri": "https://localhost:8080/",
          "height": 664
        },
        "id": "_YyYbWEAQDNV",
        "outputId": "c9495920-ef98-497e-96cd-6895c025ca27"
      },
      "execution_count": 128,
      "outputs": [
        {
          "output_type": "execute_result",
          "data": {
            "text/plain": [
              "<matplotlib.axes._subplots.AxesSubplot at 0x7efdad6ea310>"
            ]
          },
          "metadata": {},
          "execution_count": 128
        },
        {
          "output_type": "display_data",
          "data": {
            "text/plain": [
              "<Figure size 1080x720 with 1 Axes>"
            ],
            "image/png": "[encoded data removed]"
          },
          "metadata": {}
        }
      ]
    },
    {
      "cell_type": "markdown",
      "source": [
        "#### 연도별 게임 트렌드\n",
        "lineplot으로 비교하고 max장르를 위에 글로 표시"
      ],
      "metadata": {
        "id": "XD6Xx-ZhNIfQ"
      }
    },
    {
      "cell_type": "code",
      "source": [
        "df_year_sale = df.groupby(by=['Year', 'Genre'])['Total_Sales'].sum().reset_index()\n",
        "df_year_sale.head()"
      ],
      "metadata": {
        "colab": {
          "base_uri": "https://localhost:8080/",
          "height": 206
        },
        "id": "3tMkZCn0eO2Z",
        "outputId": "d326047d-935a-4367-fa82-1a69259da3f1"
      },
      "execution_count": 103,
      "outputs": [
        {
          "output_type": "execute_result",
          "data": {
            "text/plain": [
              "   Year     Genre  Total_Sales\n",
              "0  1980    Action         0.34\n",
              "1  1980  Fighting         0.77\n",
              "2  1980      Misc         2.70\n",
              "3  1980   Shooter         7.07\n",
              "4  1981    Action        14.79"
            ],
            "text/html": [
              "\n",
              "  <div id=\"df-8ec42bbf-35d8-4780-ae55-6e85f89e5603\">\n",
              "    <div class=\"colab-df-container\">\n",
              "      <div>\n",
              "<style scoped>\n",
              "    .dataframe tbody tr th:only-of-type {\n",
              "        vertical-align: middle;\n",
              "    }\n",
              "\n",
              "    .dataframe tbody tr th {\n",
              "        vertical-align: top;\n",
              "    }\n",
              "\n",
              "    .dataframe thead th {\n",
              "        text-align: right;\n",
              "    }\n",
              "</style>\n",
              "<table border=\"1\" class=\"dataframe\">\n",
              "  <thead>\n",
              "    <tr style=\"text-align: right;\">\n",
              "      <th></th>\n",
              "      <th>Year</th>\n",
              "      <th>Genre</th>\n",
              "      <th>Total_Sales</th>\n",
              "    </tr>\n",
              "  </thead>\n",
              "  <tbody>\n",
              "    <tr>\n",
              "      <th>0</th>\n",
              "      <td>1980</td>\n",
              "      <td>Action</td>\n",
              "      <td>0.34</td>\n",
              "    </tr>\n",
              "    <tr>\n",
              "      <th>1</th>\n",
              "      <td>1980</td>\n",
              "      <td>Fighting</td>\n",
              "      <td>0.77</td>\n",
              "    </tr>\n",
              "    <tr>\n",
              "      <th>2</th>\n",
              "      <td>1980</td>\n",
              "      <td>Misc</td>\n",
              "      <td>2.70</td>\n",
              "    </tr>\n",
              "    <tr>\n",
              "      <th>3</th>\n",
              "      <td>1980</td>\n",
              "      <td>Shooter</td>\n",
              "      <td>7.07</td>\n",
              "    </tr>\n",
              "    <tr>\n",
              "      <th>4</th>\n",
              "      <td>1981</td>\n",
              "      <td>Action</td>\n",
              "      <td>14.79</td>\n",
              "    </tr>\n",
              "  </tbody>\n",
              "</table>\n",
              "</div>\n",
              "      <button class=\"colab-df-convert\" onclick=\"convertToInteractive('df-8ec42bbf-35d8-4780-ae55-6e85f89e5603')\"\n",
              "              title=\"Convert this dataframe to an interactive table.\"\n",
              "              style=\"display:none;\">\n",
              "        \n",
              "  <svg xmlns=\"http://www.w3.org/2000/svg\" height=\"24px\"viewBox=\"0 0 24 24\"\n",
              "       width=\"24px\">\n",
              "    <path d=\"M0 0h24v24H0V0z\" fill=\"none\"/>\n",
              "    <path d=\"M18.56 5.44l.94 2.06.94-2.06 2.06-.94-2.06-.94-.94-2.06-.94 2.06-2.06.94zm-11 1L8.5 8.5l.94-2.06 2.06-.94-2.06-.94L8.5 2.5l-.94 2.06-2.06.94zm10 10l.94 2.06.94-2.06 2.06-.94-2.06-.94-.94-2.06-.94 2.06-2.06.94z\"/><path d=\"M17.41 7.96l-1.37-1.37c-.4-.4-.92-.59-1.43-.59-.52 0-1.04.2-1.43.59L10.3 9.45l-7.72 7.72c-.78.78-.78 2.05 0 2.83L4 21.41c.39.39.9.59 1.41.59.51 0 1.02-.2 1.41-.59l7.78-7.78 2.81-2.81c.8-.78.8-2.07 0-2.86zM5.41 20L4 18.59l7.72-7.72 1.47 1.35L5.41 20z\"/>\n",
              "  </svg>\n",
              "      </button>\n",
              "      \n",
              "  <style>\n",
              "    .colab-df-container {\n",
              "      display:flex;\n",
              "      flex-wrap:wrap;\n",
              "      gap: 12px;\n",
              "    }\n",
              "\n",
              "    .colab-df-convert {\n",
              "      background-color: #E8F0FE;\n",
              "      border: none;\n",
              "      border-radius: 50%;\n",
              "      cursor: pointer;\n",
              "      display: none;\n",
              "      fill: #1967D2;\n",
              "      height: 32px;\n",
              "      padding: 0 0 0 0;\n",
              "      width: 32px;\n",
              "    }\n",
              "\n",
              "    .colab-df-convert:hover {\n",
              "      background-color: #E2EBFA;\n",
              "      box-shadow: 0px 1px 2px rgba(60, 64, 67, 0.3), 0px 1px 3px 1px rgba(60, 64, 67, 0.15);\n",
              "      fill: #174EA6;\n",
              "    }\n",
              "\n",
              "    [theme=dark] .colab-df-convert {\n",
              "      background-color: #3B4455;\n",
              "      fill: #D2E3FC;\n",
              "    }\n",
              "\n",
              "    [theme=dark] .colab-df-convert:hover {\n",
              "      background-color: #434B5C;\n",
              "      box-shadow: 0px 1px 3px 1px rgba(0, 0, 0, 0.15);\n",
              "      filter: drop-shadow(0px 1px 2px rgba(0, 0, 0, 0.3));\n",
              "      fill: #FFFFFF;\n",
              "    }\n",
              "  </style>\n",
              "\n",
              "      <script>\n",
              "        const buttonEl =\n",
              "          document.querySelector('#df-8ec42bbf-35d8-4780-ae55-6e85f89e5603 button.colab-df-convert');\n",
              "        buttonEl.style.display =\n",
              "          google.colab.kernel.accessAllowed ? 'block' : 'none';\n",
              "\n",
              "        async function convertToInteractive(key) {\n",
              "          const element = document.querySelector('#df-8ec42bbf-35d8-4780-ae55-6e85f89e5603');\n",
              "          const dataTable =\n",
              "            await google.colab.kernel.invokeFunction('convertToInteractive',\n",
              "                                                     [key], {});\n",
              "          if (!dataTable) return;\n",
              "\n",
              "          const docLinkHtml = 'Like what you see? Visit the ' +\n",
              "            '<a target=\"_blank\" href=https://colab.research.google.com/notebooks/data_table.ipynb>data table notebook</a>'\n",
              "            + ' to learn more about interactive tables.';\n",
              "          element.innerHTML = '';\n",
              "          dataTable['output_type'] = 'display_data';\n",
              "          await google.colab.output.renderOutput(dataTable, element);\n",
              "          const docLink = document.createElement('div');\n",
              "          docLink.innerHTML = docLinkHtml;\n",
              "          element.appendChild(docLink);\n",
              "        }\n",
              "      </script>\n",
              "    </div>\n",
              "  </div>\n",
              "  "
            ]
          },
          "metadata": {},
          "execution_count": 103
        }
      ]
    },
    {
      "cell_type": "code",
      "source": [
        "sns.set(style='darkgrid')\n",
        "plt.figure(figsize=(15, 10))\n",
        "plt.title(\"Favorite Game Genre by Year\", fontsize=30)\n",
        "plt.xlabel(\"Year\", fontsize=20)\n",
        "plt.ylabel(\"Total_Sales\", fontsize=20)\n",
        "sns.lineplot(data=df_year_sale, x=\"Year\", y=\"Total_Sales\", hue=\"Genre\")"
      ],
      "metadata": {
        "colab": {
          "base_uri": "https://localhost:8080/",
          "height": 664
        },
        "id": "SzrVtooGsxEH",
        "outputId": "962988bb-98d4-4ef6-8096-ed4751e013f9"
      },
      "execution_count": 105,
      "outputs": [
        {
          "output_type": "execute_result",
          "data": {
            "text/plain": [
              "<matplotlib.axes._subplots.AxesSubplot at 0x7efdae112850>"
            ]
          },
          "metadata": {},
          "execution_count": 105
        },
        {
          "output_type": "display_data",
          "data": {
            "text/plain": [
              "<Figure size 1080x720 with 1 Axes>"
            ],
            "image/png": "[encoded data removed]"
          },
          "metadata": {}
        }
      ]
    },
    {
      "cell_type": "markdown",
      "source": [
        "max값만 모아서 plot"
      ],
      "metadata": {
        "id": "zeddiQTub5Ws"
      }
    },
    {
      "cell_type": "code",
      "source": [
        "year_sale = df_year_sale.groupby(by=['Year'])['Total_Sales'].transform(max) == df_year_sale['Total_Sales']\n",
        "df_year_sale_max = df_year_sale[year_sale].reset_index(drop=True)\n",
        "df_year_sale_max.head()"
      ],
      "metadata": {
        "colab": {
          "base_uri": "https://localhost:8080/",
          "height": 206
        },
        "id": "ghBCmfchiJcm",
        "outputId": "0bf18ac3-41cc-4153-bfba-4fbd9eb08b2c"
      },
      "execution_count": 106,
      "outputs": [
        {
          "output_type": "execute_result",
          "data": {
            "text/plain": [
              "   Year     Genre  Total_Sales\n",
              "0  1980   Shooter         7.07\n",
              "1  1981    Action        14.79\n",
              "2  1982    Puzzle        10.04\n",
              "3  1983  Platform         6.93\n",
              "4  1984   Shooter        31.10"
            ],
            "text/html": [
              "\n",
              "  <div id=\"df-79698585-f3a7-4c8b-bcb3-086cd4b38615\">\n",
              "    <div class=\"colab-df-container\">\n",
              "      <div>\n",
              "<style scoped>\n",
              "    .dataframe tbody tr th:only-of-type {\n",
              "        vertical-align: middle;\n",
              "    }\n",
              "\n",
              "    .dataframe tbody tr th {\n",
              "        vertical-align: top;\n",
              "    }\n",
              "\n",
              "    .dataframe thead th {\n",
              "        text-align: right;\n",
              "    }\n",
              "</style>\n",
              "<table border=\"1\" class=\"dataframe\">\n",
              "  <thead>\n",
              "    <tr style=\"text-align: right;\">\n",
              "      <th></th>\n",
              "      <th>Year</th>\n",
              "      <th>Genre</th>\n",
              "      <th>Total_Sales</th>\n",
              "    </tr>\n",
              "  </thead>\n",
              "  <tbody>\n",
              "    <tr>\n",
              "      <th>0</th>\n",
              "      <td>1980</td>\n",
              "      <td>Shooter</td>\n",
              "      <td>7.07</td>\n",
              "    </tr>\n",
              "    <tr>\n",
              "      <th>1</th>\n",
              "      <td>1981</td>\n",
              "      <td>Action</td>\n",
              "      <td>14.79</td>\n",
              "    </tr>\n",
              "    <tr>\n",
              "      <th>2</th>\n",
              "      <td>1982</td>\n",
              "      <td>Puzzle</td>\n",
              "      <td>10.04</td>\n",
              "    </tr>\n",
              "    <tr>\n",
              "      <th>3</th>\n",
              "      <td>1983</td>\n",
              "      <td>Platform</td>\n",
              "      <td>6.93</td>\n",
              "    </tr>\n",
              "    <tr>\n",
              "      <th>4</th>\n",
              "      <td>1984</td>\n",
              "      <td>Shooter</td>\n",
              "      <td>31.10</td>\n",
              "    </tr>\n",
              "  </tbody>\n",
              "</table>\n",
              "</div>\n",
              "      <button class=\"colab-df-convert\" onclick=\"convertToInteractive('df-79698585-f3a7-4c8b-bcb3-086cd4b38615')\"\n",
              "              title=\"Convert this dataframe to an interactive table.\"\n",
              "              style=\"display:none;\">\n",
              "        \n",
              "  <svg xmlns=\"http://www.w3.org/2000/svg\" height=\"24px\"viewBox=\"0 0 24 24\"\n",
              "       width=\"24px\">\n",
              "    <path d=\"M0 0h24v24H0V0z\" fill=\"none\"/>\n",
              "    <path d=\"M18.56 5.44l.94 2.06.94-2.06 2.06-.94-2.06-.94-.94-2.06-.94 2.06-2.06.94zm-11 1L8.5 8.5l.94-2.06 2.06-.94-2.06-.94L8.5 2.5l-.94 2.06-2.06.94zm10 10l.94 2.06.94-2.06 2.06-.94-2.06-.94-.94-2.06-.94 2.06-2.06.94z\"/><path d=\"M17.41 7.96l-1.37-1.37c-.4-.4-.92-.59-1.43-.59-.52 0-1.04.2-1.43.59L10.3 9.45l-7.72 7.72c-.78.78-.78 2.05 0 2.83L4 21.41c.39.39.9.59 1.41.59.51 0 1.02-.2 1.41-.59l7.78-7.78 2.81-2.81c.8-.78.8-2.07 0-2.86zM5.41 20L4 18.59l7.72-7.72 1.47 1.35L5.41 20z\"/>\n",
              "  </svg>\n",
              "      </button>\n",
              "      \n",
              "  <style>\n",
              "    .colab-df-container {\n",
              "      display:flex;\n",
              "      flex-wrap:wrap;\n",
              "      gap: 12px;\n",
              "    }\n",
              "\n",
              "    .colab-df-convert {\n",
              "      background-color: #E8F0FE;\n",
              "      border: none;\n",
              "      border-radius: 50%;\n",
              "      cursor: pointer;\n",
              "      display: none;\n",
              "      fill: #1967D2;\n",
              "      height: 32px;\n",
              "      padding: 0 0 0 0;\n",
              "      width: 32px;\n",
              "    }\n",
              "\n",
              "    .colab-df-convert:hover {\n",
              "      background-color: #E2EBFA;\n",
              "      box-shadow: 0px 1px 2px rgba(60, 64, 67, 0.3), 0px 1px 3px 1px rgba(60, 64, 67, 0.15);\n",
              "      fill: #174EA6;\n",
              "    }\n",
              "\n",
              "    [theme=dark] .colab-df-convert {\n",
              "      background-color: #3B4455;\n",
              "      fill: #D2E3FC;\n",
              "    }\n",
              "\n",
              "    [theme=dark] .colab-df-convert:hover {\n",
              "      background-color: #434B5C;\n",
              "      box-shadow: 0px 1px 3px 1px rgba(0, 0, 0, 0.15);\n",
              "      filter: drop-shadow(0px 1px 2px rgba(0, 0, 0, 0.3));\n",
              "      fill: #FFFFFF;\n",
              "    }\n",
              "  </style>\n",
              "\n",
              "      <script>\n",
              "        const buttonEl =\n",
              "          document.querySelector('#df-79698585-f3a7-4c8b-bcb3-086cd4b38615 button.colab-df-convert');\n",
              "        buttonEl.style.display =\n",
              "          google.colab.kernel.accessAllowed ? 'block' : 'none';\n",
              "\n",
              "        async function convertToInteractive(key) {\n",
              "          const element = document.querySelector('#df-79698585-f3a7-4c8b-bcb3-086cd4b38615');\n",
              "          const dataTable =\n",
              "            await google.colab.kernel.invokeFunction('convertToInteractive',\n",
              "                                                     [key], {});\n",
              "          if (!dataTable) return;\n",
              "\n",
              "          const docLinkHtml = 'Like what you see? Visit the ' +\n",
              "            '<a target=\"_blank\" href=https://colab.research.google.com/notebooks/data_table.ipynb>data table notebook</a>'\n",
              "            + ' to learn more about interactive tables.';\n",
              "          element.innerHTML = '';\n",
              "          dataTable['output_type'] = 'display_data';\n",
              "          await google.colab.output.renderOutput(dataTable, element);\n",
              "          const docLink = document.createElement('div');\n",
              "          docLink.innerHTML = docLinkHtml;\n",
              "          element.appendChild(docLink);\n",
              "        }\n",
              "      </script>\n",
              "    </div>\n",
              "  </div>\n",
              "  "
            ]
          },
          "metadata": {},
          "execution_count": 106
        }
      ]
    },
    {
      "cell_type": "code",
      "source": [
        "sns.set(style='darkgrid')\n",
        "plt.figure(figsize=(15, 10))\n",
        "plt.title(\"Favorite Game Genre by Year\", fontsize=30)\n",
        "plt.xlabel(\"Year\", fontsize=20)\n",
        "plt.ylabel(\"Total_Sales\", fontsize=20)\n",
        "sns.lineplot(data=df_year_sale_max, x=\"Year\", y=\"Total_Sales\", hue=\"Genre\")"
      ],
      "metadata": {
        "colab": {
          "base_uri": "https://localhost:8080/",
          "height": 664
        },
        "id": "Et8yKLbMOepo",
        "outputId": "761108e7-0d8f-43f4-8c1c-3720258670db"
      },
      "execution_count": 129,
      "outputs": [
        {
          "output_type": "execute_result",
          "data": {
            "text/plain": [
              "<matplotlib.axes._subplots.AxesSubplot at 0x7efdad660e90>"
            ]
          },
          "metadata": {},
          "execution_count": 129
        },
        {
          "output_type": "display_data",
          "data": {
            "text/plain": [
              "<Figure size 1080x720 with 1 Axes>"
            ],
            "image/png": "[encoded data removed]"
          },
          "metadata": {}
        }
      ]
    },
    {
      "cell_type": "markdown",
      "source": [
        "#### 인기게임 분석\n",
        "2000년이후 게임 출고량을 지역별로 시각화"
      ],
      "metadata": {
        "id": "8kHCn72KNKvC"
      }
    },
    {
      "cell_type": "markdown",
      "source": [
        "Total Sales"
      ],
      "metadata": {
        "id": "QJLGI67ucmiQ"
      }
    },
    {
      "cell_type": "code",
      "source": [
        "df_tmp = df[df['Year']>=2000].sort_values(by=['Total_Sales'], ascending=False)\n",
        "df_sortedto = df_tmp.head(10)\n",
        "df_sortedto = df_sortedto[['Name', 'Platform', 'Year', 'Genre', 'Total_Sales']]\n",
        "df_sortedto = df_sortedto.reset_index(drop=True)\n",
        "df_sortedto.head()"
      ],
      "metadata": {
        "colab": {
          "base_uri": "https://localhost:8080/",
          "height": 206
        },
        "id": "EfOR91Y0cldh",
        "outputId": "a6bd1ba8-1e64-4d3a-d89c-d28f767c3938"
      },
      "execution_count": 184,
      "outputs": [
        {
          "output_type": "execute_result",
          "data": {
            "text/plain": [
              "                    Name Platform  Year     Genre  Total_Sales\n",
              "0             Wii Sports      Wii  2006    Sports        82.74\n",
              "1         Mario Kart Wii      Wii  2008    Racing        35.83\n",
              "2      Wii Sports Resort      Wii  2009    Sports        33.00\n",
              "3  New Super Mario Bros.       DS  2006  Platform        30.01\n",
              "4               Wii Play      Wii  2006      Misc        29.01"
            ],
            "text/html": [
              "\n",
              "  <div id=\"df-534363e3-54d4-4fa0-b530-a8ff0b9d180a\">\n",
              "    <div class=\"colab-df-container\">\n",
              "      <div>\n",
              "<style scoped>\n",
              "    .dataframe tbody tr th:only-of-type {\n",
              "        vertical-align: middle;\n",
              "    }\n",
              "\n",
              "    .dataframe tbody tr th {\n",
              "        vertical-align: top;\n",
              "    }\n",
              "\n",
              "    .dataframe thead th {\n",
              "        text-align: right;\n",
              "    }\n",
              "</style>\n",
              "<table border=\"1\" class=\"dataframe\">\n",
              "  <thead>\n",
              "    <tr style=\"text-align: right;\">\n",
              "      <th></th>\n",
              "      <th>Name</th>\n",
              "      <th>Platform</th>\n",
              "      <th>Year</th>\n",
              "      <th>Genre</th>\n",
              "      <th>Total_Sales</th>\n",
              "    </tr>\n",
              "  </thead>\n",
              "  <tbody>\n",
              "    <tr>\n",
              "      <th>0</th>\n",
              "      <td>Wii Sports</td>\n",
              "      <td>Wii</td>\n",
              "      <td>2006</td>\n",
              "      <td>Sports</td>\n",
              "      <td>82.74</td>\n",
              "    </tr>\n",
              "    <tr>\n",
              "      <th>1</th>\n",
              "      <td>Mario Kart Wii</td>\n",
              "      <td>Wii</td>\n",
              "      <td>2008</td>\n",
              "      <td>Racing</td>\n",
              "      <td>35.83</td>\n",
              "    </tr>\n",
              "    <tr>\n",
              "      <th>2</th>\n",
              "      <td>Wii Sports Resort</td>\n",
              "      <td>Wii</td>\n",
              "      <td>2009</td>\n",
              "      <td>Sports</td>\n",
              "      <td>33.00</td>\n",
              "    </tr>\n",
              "    <tr>\n",
              "      <th>3</th>\n",
              "      <td>New Super Mario Bros.</td>\n",
              "      <td>DS</td>\n",
              "      <td>2006</td>\n",
              "      <td>Platform</td>\n",
              "      <td>30.01</td>\n",
              "    </tr>\n",
              "    <tr>\n",
              "      <th>4</th>\n",
              "      <td>Wii Play</td>\n",
              "      <td>Wii</td>\n",
              "      <td>2006</td>\n",
              "      <td>Misc</td>\n",
              "      <td>29.01</td>\n",
              "    </tr>\n",
              "  </tbody>\n",
              "</table>\n",
              "</div>\n",
              "      <button class=\"colab-df-convert\" onclick=\"convertToInteractive('df-534363e3-54d4-4fa0-b530-a8ff0b9d180a')\"\n",
              "              title=\"Convert this dataframe to an interactive table.\"\n",
              "              style=\"display:none;\">\n",
              "        \n",
              "  <svg xmlns=\"http://www.w3.org/2000/svg\" height=\"24px\"viewBox=\"0 0 24 24\"\n",
              "       width=\"24px\">\n",
              "    <path d=\"M0 0h24v24H0V0z\" fill=\"none\"/>\n",
              "    <path d=\"M18.56 5.44l.94 2.06.94-2.06 2.06-.94-2.06-.94-.94-2.06-.94 2.06-2.06.94zm-11 1L8.5 8.5l.94-2.06 2.06-.94-2.06-.94L8.5 2.5l-.94 2.06-2.06.94zm10 10l.94 2.06.94-2.06 2.06-.94-2.06-.94-.94-2.06-.94 2.06-2.06.94z\"/><path d=\"M17.41 7.96l-1.37-1.37c-.4-.4-.92-.59-1.43-.59-.52 0-1.04.2-1.43.59L10.3 9.45l-7.72 7.72c-.78.78-.78 2.05 0 2.83L4 21.41c.39.39.9.59 1.41.59.51 0 1.02-.2 1.41-.59l7.78-7.78 2.81-2.81c.8-.78.8-2.07 0-2.86zM5.41 20L4 18.59l7.72-7.72 1.47 1.35L5.41 20z\"/>\n",
              "  </svg>\n",
              "      </button>\n",
              "      \n",
              "  <style>\n",
              "    .colab-df-container {\n",
              "      display:flex;\n",
              "      flex-wrap:wrap;\n",
              "      gap: 12px;\n",
              "    }\n",
              "\n",
              "    .colab-df-convert {\n",
              "      background-color: #E8F0FE;\n",
              "      border: none;\n",
              "      border-radius: 50%;\n",
              "      cursor: pointer;\n",
              "      display: none;\n",
              "      fill: #1967D2;\n",
              "      height: 32px;\n",
              "      padding: 0 0 0 0;\n",
              "      width: 32px;\n",
              "    }\n",
              "\n",
              "    .colab-df-convert:hover {\n",
              "      background-color: #E2EBFA;\n",
              "      box-shadow: 0px 1px 2px rgba(60, 64, 67, 0.3), 0px 1px 3px 1px rgba(60, 64, 67, 0.15);\n",
              "      fill: #174EA6;\n",
              "    }\n",
              "\n",
              "    [theme=dark] .colab-df-convert {\n",
              "      background-color: #3B4455;\n",
              "      fill: #D2E3FC;\n",
              "    }\n",
              "\n",
              "    [theme=dark] .colab-df-convert:hover {\n",
              "      background-color: #434B5C;\n",
              "      box-shadow: 0px 1px 3px 1px rgba(0, 0, 0, 0.15);\n",
              "      filter: drop-shadow(0px 1px 2px rgba(0, 0, 0, 0.3));\n",
              "      fill: #FFFFFF;\n",
              "    }\n",
              "  </style>\n",
              "\n",
              "      <script>\n",
              "        const buttonEl =\n",
              "          document.querySelector('#df-534363e3-54d4-4fa0-b530-a8ff0b9d180a button.colab-df-convert');\n",
              "        buttonEl.style.display =\n",
              "          google.colab.kernel.accessAllowed ? 'block' : 'none';\n",
              "\n",
              "        async function convertToInteractive(key) {\n",
              "          const element = document.querySelector('#df-534363e3-54d4-4fa0-b530-a8ff0b9d180a');\n",
              "          const dataTable =\n",
              "            await google.colab.kernel.invokeFunction('convertToInteractive',\n",
              "                                                     [key], {});\n",
              "          if (!dataTable) return;\n",
              "\n",
              "          const docLinkHtml = 'Like what you see? Visit the ' +\n",
              "            '<a target=\"_blank\" href=https://colab.research.google.com/notebooks/data_table.ipynb>data table notebook</a>'\n",
              "            + ' to learn more about interactive tables.';\n",
              "          element.innerHTML = '';\n",
              "          dataTable['output_type'] = 'display_data';\n",
              "          await google.colab.output.renderOutput(dataTable, element);\n",
              "          const docLink = document.createElement('div');\n",
              "          docLink.innerHTML = docLinkHtml;\n",
              "          element.appendChild(docLink);\n",
              "        }\n",
              "      </script>\n",
              "    </div>\n",
              "  </div>\n",
              "  "
            ]
          },
          "metadata": {},
          "execution_count": 184
        }
      ]
    },
    {
      "cell_type": "code",
      "source": [
        "plt.figure(figsize=(30, 18))\n",
        "sns.barplot(x='Name', y='Total_Sales', data=df_sortedto)\n",
        "\n",
        "plt.title(\"Top 10 best-selling games\", fontsize=30)\n",
        "plt.xlabel(\"Release Year\", fontsize=20)\n",
        "plt.ylabel(\"Total sales\", fontsize=20)\n",
        "plt.show()"
      ],
      "metadata": {
        "colab": {
          "base_uri": "https://localhost:8080/",
          "height": 641
        },
        "id": "cwOoJPA_X9Eq",
        "outputId": "38ee84e2-8e2d-4a3f-976d-257f27aa4d2c"
      },
      "execution_count": 189,
      "outputs": [
        {
          "output_type": "display_data",
          "data": {
            "text/plain": [
              "<Figure size 2160x1296 with 1 Axes>"
            ],
            "image/png": "[encoded data removed]"
          },
          "metadata": {}
        }
      ]
    },
    {
      "cell_type": "markdown",
      "source": [
        "NA Sales"
      ],
      "metadata": {
        "id": "rjstieYrb2kG"
      }
    },
    {
      "cell_type": "code",
      "source": [
        "df_tmp = df[df['Year']>=2000].sort_values(by=['NA_Sales'], ascending=False)\n",
        "df_sortedNA = df_tmp.head(10)\n",
        "df_sortedNA = df_sortedNA[['Name', 'Year', 'Genre', 'NA_Sales']]\n",
        "df_sortedNA = df_sortedNA.reset_index(drop=True)\n",
        "df_sortedNA.head()"
      ],
      "metadata": {
        "id": "j9lPnmYEX4GH",
        "colab": {
          "base_uri": "https://localhost:8080/",
          "height": 206
        },
        "outputId": "5e0cbb66-312b-478f-8f67-cbf696d04b96"
      },
      "execution_count": 191,
      "outputs": [
        {
          "output_type": "execute_result",
          "data": {
            "text/plain": [
              "                        Name  Year     Genre  NA_Sales\n",
              "0                 Wii Sports  2006    Sports     41.49\n",
              "1             Mario Kart Wii  2008    Racing     15.85\n",
              "2          Wii Sports Resort  2009    Sports     15.75\n",
              "3         Kinect Adventures!  2010      Misc     14.97\n",
              "4  New Super Mario Bros. Wii  2009  Platform     14.59"
            ],
            "text/html": [
              "\n",
              "  <div id=\"df-6ee44121-50a1-420f-ae98-43a675a92741\">\n",
              "    <div class=\"colab-df-container\">\n",
              "      <div>\n",
              "<style scoped>\n",
              "    .dataframe tbody tr th:only-of-type {\n",
              "        vertical-align: middle;\n",
              "    }\n",
              "\n",
              "    .dataframe tbody tr th {\n",
              "        vertical-align: top;\n",
              "    }\n",
              "\n",
              "    .dataframe thead th {\n",
              "        text-align: right;\n",
              "    }\n",
              "</style>\n",
              "<table border=\"1\" class=\"dataframe\">\n",
              "  <thead>\n",
              "    <tr style=\"text-align: right;\">\n",
              "      <th></th>\n",
              "      <th>Name</th>\n",
              "      <th>Year</th>\n",
              "      <th>Genre</th>\n",
              "      <th>NA_Sales</th>\n",
              "    </tr>\n",
              "  </thead>\n",
              "  <tbody>\n",
              "    <tr>\n",
              "      <th>0</th>\n",
              "      <td>Wii Sports</td>\n",
              "      <td>2006</td>\n",
              "      <td>Sports</td>\n",
              "      <td>41.49</td>\n",
              "    </tr>\n",
              "    <tr>\n",
              "      <th>1</th>\n",
              "      <td>Mario Kart Wii</td>\n",
              "      <td>2008</td>\n",
              "      <td>Racing</td>\n",
              "      <td>15.85</td>\n",
              "    </tr>\n",
              "    <tr>\n",
              "      <th>2</th>\n",
              "      <td>Wii Sports Resort</td>\n",
              "      <td>2009</td>\n",
              "      <td>Sports</td>\n",
              "      <td>15.75</td>\n",
              "    </tr>\n",
              "    <tr>\n",
              "      <th>3</th>\n",
              "      <td>Kinect Adventures!</td>\n",
              "      <td>2010</td>\n",
              "      <td>Misc</td>\n",
              "      <td>14.97</td>\n",
              "    </tr>\n",
              "    <tr>\n",
              "      <th>4</th>\n",
              "      <td>New Super Mario Bros. Wii</td>\n",
              "      <td>2009</td>\n",
              "      <td>Platform</td>\n",
              "      <td>14.59</td>\n",
              "    </tr>\n",
              "  </tbody>\n",
              "</table>\n",
              "</div>\n",
              "      <button class=\"colab-df-convert\" onclick=\"convertToInteractive('df-6ee44121-50a1-420f-ae98-43a675a92741')\"\n",
              "              title=\"Convert this dataframe to an interactive table.\"\n",
              "              style=\"display:none;\">\n",
              "        \n",
              "  <svg xmlns=\"http://www.w3.org/2000/svg\" height=\"24px\"viewBox=\"0 0 24 24\"\n",
              "       width=\"24px\">\n",
              "    <path d=\"M0 0h24v24H0V0z\" fill=\"none\"/>\n",
              "    <path d=\"M18.56 5.44l.94 2.06.94-2.06 2.06-.94-2.06-.94-.94-2.06-.94 2.06-2.06.94zm-11 1L8.5 8.5l.94-2.06 2.06-.94-2.06-.94L8.5 2.5l-.94 2.06-2.06.94zm10 10l.94 2.06.94-2.06 2.06-.94-2.06-.94-.94-2.06-.94 2.06-2.06.94z\"/><path d=\"M17.41 7.96l-1.37-1.37c-.4-.4-.92-.59-1.43-.59-.52 0-1.04.2-1.43.59L10.3 9.45l-7.72 7.72c-.78.78-.78 2.05 0 2.83L4 21.41c.39.39.9.59 1.41.59.51 0 1.02-.2 1.41-.59l7.78-7.78 2.81-2.81c.8-.78.8-2.07 0-2.86zM5.41 20L4 18.59l7.72-7.72 1.47 1.35L5.41 20z\"/>\n",
              "  </svg>\n",
              "      </button>\n",
              "      \n",
              "  <style>\n",
              "    .colab-df-container {\n",
              "      display:flex;\n",
              "      flex-wrap:wrap;\n",
              "      gap: 12px;\n",
              "    }\n",
              "\n",
              "    .colab-df-convert {\n",
              "      background-color: #E8F0FE;\n",
              "      border: none;\n",
              "      border-radius: 50%;\n",
              "      cursor: pointer;\n",
              "      display: none;\n",
              "      fill: #1967D2;\n",
              "      height: 32px;\n",
              "      padding: 0 0 0 0;\n",
              "      width: 32px;\n",
              "    }\n",
              "\n",
              "    .colab-df-convert:hover {\n",
              "      background-color: #E2EBFA;\n",
              "      box-shadow: 0px 1px 2px rgba(60, 64, 67, 0.3), 0px 1px 3px 1px rgba(60, 64, 67, 0.15);\n",
              "      fill: #174EA6;\n",
              "    }\n",
              "\n",
              "    [theme=dark] .colab-df-convert {\n",
              "      background-color: #3B4455;\n",
              "      fill: #D2E3FC;\n",
              "    }\n",
              "\n",
              "    [theme=dark] .colab-df-convert:hover {\n",
              "      background-color: #434B5C;\n",
              "      box-shadow: 0px 1px 3px 1px rgba(0, 0, 0, 0.15);\n",
              "      filter: drop-shadow(0px 1px 2px rgba(0, 0, 0, 0.3));\n",
              "      fill: #FFFFFF;\n",
              "    }\n",
              "  </style>\n",
              "\n",
              "      <script>\n",
              "        const buttonEl =\n",
              "          document.querySelector('#df-6ee44121-50a1-420f-ae98-43a675a92741 button.colab-df-convert');\n",
              "        buttonEl.style.display =\n",
              "          google.colab.kernel.accessAllowed ? 'block' : 'none';\n",
              "\n",
              "        async function convertToInteractive(key) {\n",
              "          const element = document.querySelector('#df-6ee44121-50a1-420f-ae98-43a675a92741');\n",
              "          const dataTable =\n",
              "            await google.colab.kernel.invokeFunction('convertToInteractive',\n",
              "                                                     [key], {});\n",
              "          if (!dataTable) return;\n",
              "\n",
              "          const docLinkHtml = 'Like what you see? Visit the ' +\n",
              "            '<a target=\"_blank\" href=https://colab.research.google.com/notebooks/data_table.ipynb>data table notebook</a>'\n",
              "            + ' to learn more about interactive tables.';\n",
              "          element.innerHTML = '';\n",
              "          dataTable['output_type'] = 'display_data';\n",
              "          await google.colab.output.renderOutput(dataTable, element);\n",
              "          const docLink = document.createElement('div');\n",
              "          docLink.innerHTML = docLinkHtml;\n",
              "          element.appendChild(docLink);\n",
              "        }\n",
              "      </script>\n",
              "    </div>\n",
              "  </div>\n",
              "  "
            ]
          },
          "metadata": {},
          "execution_count": 191
        }
      ]
    },
    {
      "cell_type": "code",
      "source": [
        "plt.figure(figsize=(30, 18))\n",
        "sns.barplot(x='Name', y='NA_Sales', data=df_sortedNA)\n",
        "\n",
        "plt.title(\"Top 10 best-selling games by North America\", fontsize=30)\n",
        "plt.xlabel(\"Release Year\", fontsize=20)\n",
        "plt.ylabel(\"North America sales\", fontsize=20)\n",
        "plt.show()"
      ],
      "metadata": {
        "colab": {
          "base_uri": "https://localhost:8080/",
          "height": 641
        },
        "id": "VW6OJU8nmPxQ",
        "outputId": "21d62aa3-7047-427a-e944-771839e3f7c8"
      },
      "execution_count": 193,
      "outputs": [
        {
          "output_type": "display_data",
          "data": {
            "text/plain": [
              "<Figure size 2160x1296 with 1 Axes>"
            ],
            "image/png": "[encoded data removed]"
          },
          "metadata": {}
        }
      ]
    },
    {
      "cell_type": "markdown",
      "source": [
        "EU Sales"
      ],
      "metadata": {
        "id": "K30Rl3sRc6eb"
      }
    },
    {
      "cell_type": "code",
      "source": [
        "df_tmp = df[df['Year']>=2000].sort_values(by=['EU_Sales'], ascending=False)\n",
        "df_sortedEU = df_tmp.head(10)\n",
        "df_sortedEU = df_sortedEU[['Name', 'Year', 'Genre', 'EU_Sales']]\n",
        "df_sortedEU = df_sortedEU.reset_index(drop=True)\n",
        "df_sortedEU.head()"
      ],
      "metadata": {
        "colab": {
          "base_uri": "https://localhost:8080/",
          "height": 206
        },
        "id": "OCWITfKVcezM",
        "outputId": "d5a00c99-16c9-4b49-d3bf-264bc126d299"
      },
      "execution_count": 186,
      "outputs": [
        {
          "output_type": "execute_result",
          "data": {
            "text/plain": [
              "                 Name  Year       Genre  EU_Sales\n",
              "0          Wii Sports  2006      Sports     29.02\n",
              "1      Mario Kart Wii  2008      Racing     12.88\n",
              "2   Wii Sports Resort  2009      Sports     11.01\n",
              "3          Nintendogs  2005  Simulation     11.00\n",
              "4  Grand Theft Auto V  2013      Action      9.27"
            ],
            "text/html": [
              "\n",
              "  <div id=\"df-8eca4f58-8d53-4dc3-ac60-0d7d1e49dd93\">\n",
              "    <div class=\"colab-df-container\">\n",
              "      <div>\n",
              "<style scoped>\n",
              "    .dataframe tbody tr th:only-of-type {\n",
              "        vertical-align: middle;\n",
              "    }\n",
              "\n",
              "    .dataframe tbody tr th {\n",
              "        vertical-align: top;\n",
              "    }\n",
              "\n",
              "    .dataframe thead th {\n",
              "        text-align: right;\n",
              "    }\n",
              "</style>\n",
              "<table border=\"1\" class=\"dataframe\">\n",
              "  <thead>\n",
              "    <tr style=\"text-align: right;\">\n",
              "      <th></th>\n",
              "      <th>Name</th>\n",
              "      <th>Year</th>\n",
              "      <th>Genre</th>\n",
              "      <th>EU_Sales</th>\n",
              "    </tr>\n",
              "  </thead>\n",
              "  <tbody>\n",
              "    <tr>\n",
              "      <th>0</th>\n",
              "      <td>Wii Sports</td>\n",
              "      <td>2006</td>\n",
              "      <td>Sports</td>\n",
              "      <td>29.02</td>\n",
              "    </tr>\n",
              "    <tr>\n",
              "      <th>1</th>\n",
              "      <td>Mario Kart Wii</td>\n",
              "      <td>2008</td>\n",
              "      <td>Racing</td>\n",
              "      <td>12.88</td>\n",
              "    </tr>\n",
              "    <tr>\n",
              "      <th>2</th>\n",
              "      <td>Wii Sports Resort</td>\n",
              "      <td>2009</td>\n",
              "      <td>Sports</td>\n",
              "      <td>11.01</td>\n",
              "    </tr>\n",
              "    <tr>\n",
              "      <th>3</th>\n",
              "      <td>Nintendogs</td>\n",
              "      <td>2005</td>\n",
              "      <td>Simulation</td>\n",
              "      <td>11.00</td>\n",
              "    </tr>\n",
              "    <tr>\n",
              "      <th>4</th>\n",
              "      <td>Grand Theft Auto V</td>\n",
              "      <td>2013</td>\n",
              "      <td>Action</td>\n",
              "      <td>9.27</td>\n",
              "    </tr>\n",
              "  </tbody>\n",
              "</table>\n",
              "</div>\n",
              "      <button class=\"colab-df-convert\" onclick=\"convertToInteractive('df-8eca4f58-8d53-4dc3-ac60-0d7d1e49dd93')\"\n",
              "              title=\"Convert this dataframe to an interactive table.\"\n",
              "              style=\"display:none;\">\n",
              "        \n",
              "  <svg xmlns=\"http://www.w3.org/2000/svg\" height=\"24px\"viewBox=\"0 0 24 24\"\n",
              "       width=\"24px\">\n",
              "    <path d=\"M0 0h24v24H0V0z\" fill=\"none\"/>\n",
              "    <path d=\"M18.56 5.44l.94 2.06.94-2.06 2.06-.94-2.06-.94-.94-2.06-.94 2.06-2.06.94zm-11 1L8.5 8.5l.94-2.06 2.06-.94-2.06-.94L8.5 2.5l-.94 2.06-2.06.94zm10 10l.94 2.06.94-2.06 2.06-.94-2.06-.94-.94-2.06-.94 2.06-2.06.94z\"/><path d=\"M17.41 7.96l-1.37-1.37c-.4-.4-.92-.59-1.43-.59-.52 0-1.04.2-1.43.59L10.3 9.45l-7.72 7.72c-.78.78-.78 2.05 0 2.83L4 21.41c.39.39.9.59 1.41.59.51 0 1.02-.2 1.41-.59l7.78-7.78 2.81-2.81c.8-.78.8-2.07 0-2.86zM5.41 20L4 18.59l7.72-7.72 1.47 1.35L5.41 20z\"/>\n",
              "  </svg>\n",
              "      </button>\n",
              "      \n",
              "  <style>\n",
              "    .colab-df-container {\n",
              "      display:flex;\n",
              "      flex-wrap:wrap;\n",
              "      gap: 12px;\n",
              "    }\n",
              "\n",
              "    .colab-df-convert {\n",
              "      background-color: #E8F0FE;\n",
              "      border: none;\n",
              "      border-radius: 50%;\n",
              "      cursor: pointer;\n",
              "      display: none;\n",
              "      fill: #1967D2;\n",
              "      height: 32px;\n",
              "      padding: 0 0 0 0;\n",
              "      width: 32px;\n",
              "    }\n",
              "\n",
              "    .colab-df-convert:hover {\n",
              "      background-color: #E2EBFA;\n",
              "      box-shadow: 0px 1px 2px rgba(60, 64, 67, 0.3), 0px 1px 3px 1px rgba(60, 64, 67, 0.15);\n",
              "      fill: #174EA6;\n",
              "    }\n",
              "\n",
              "    [theme=dark] .colab-df-convert {\n",
              "      background-color: #3B4455;\n",
              "      fill: #D2E3FC;\n",
              "    }\n",
              "\n",
              "    [theme=dark] .colab-df-convert:hover {\n",
              "      background-color: #434B5C;\n",
              "      box-shadow: 0px 1px 3px 1px rgba(0, 0, 0, 0.15);\n",
              "      filter: drop-shadow(0px 1px 2px rgba(0, 0, 0, 0.3));\n",
              "      fill: #FFFFFF;\n",
              "    }\n",
              "  </style>\n",
              "\n",
              "      <script>\n",
              "        const buttonEl =\n",
              "          document.querySelector('#df-8eca4f58-8d53-4dc3-ac60-0d7d1e49dd93 button.colab-df-convert');\n",
              "        buttonEl.style.display =\n",
              "          google.colab.kernel.accessAllowed ? 'block' : 'none';\n",
              "\n",
              "        async function convertToInteractive(key) {\n",
              "          const element = document.querySelector('#df-8eca4f58-8d53-4dc3-ac60-0d7d1e49dd93');\n",
              "          const dataTable =\n",
              "            await google.colab.kernel.invokeFunction('convertToInteractive',\n",
              "                                                     [key], {});\n",
              "          if (!dataTable) return;\n",
              "\n",
              "          const docLinkHtml = 'Like what you see? Visit the ' +\n",
              "            '<a target=\"_blank\" href=https://colab.research.google.com/notebooks/data_table.ipynb>data table notebook</a>'\n",
              "            + ' to learn more about interactive tables.';\n",
              "          element.innerHTML = '';\n",
              "          dataTable['output_type'] = 'display_data';\n",
              "          await google.colab.output.renderOutput(dataTable, element);\n",
              "          const docLink = document.createElement('div');\n",
              "          docLink.innerHTML = docLinkHtml;\n",
              "          element.appendChild(docLink);\n",
              "        }\n",
              "      </script>\n",
              "    </div>\n",
              "  </div>\n",
              "  "
            ]
          },
          "metadata": {},
          "execution_count": 186
        }
      ]
    },
    {
      "cell_type": "code",
      "source": [
        "plt.figure(figsize=(30, 18))\n",
        "sns.barplot(x='Name', y='EU_Sales', data=df_sortedEU)\n",
        "\n",
        "plt.title(\"Top 10 best-selling games by EU\", fontsize=30)\n",
        "plt.xlabel(\"Release Year\", fontsize=20)\n",
        "plt.ylabel(\"EU sales\", fontsize=20)\n",
        "plt.show()"
      ],
      "metadata": {
        "colab": {
          "base_uri": "https://localhost:8080/",
          "height": 641
        },
        "id": "IX0wnhrfmlpJ",
        "outputId": "544c06f3-9f4b-4018-9a85-cc8ce370cd3f"
      },
      "execution_count": 194,
      "outputs": [
        {
          "output_type": "display_data",
          "data": {
            "text/plain": [
              "<Figure size 2160x1296 with 1 Axes>"
            ],
            "image/png": "[encoded data removed]"
          },
          "metadata": {}
        }
      ]
    },
    {
      "cell_type": "markdown",
      "source": [
        "JP Sales"
      ],
      "metadata": {
        "id": "B8IxCJ7rdG0R"
      }
    },
    {
      "cell_type": "code",
      "source": [
        "df_tmp = df[df['Year']>=2000].sort_values(by=['JP_Sales'], ascending=False)\n",
        "df_sortedJP = df_tmp.head(10)\n",
        "df_sortedJP = df_sortedJP[['Name', 'Year', 'Genre', 'JP_Sales']]\n",
        "df_sortedJP = df_sortedJP.reset_index(drop=True)\n",
        "df_sortedJP.head()"
      ],
      "metadata": {
        "colab": {
          "base_uri": "https://localhost:8080/",
          "height": 206
        },
        "id": "s3UO3Y3Mcerc",
        "outputId": "abd757c6-6844-4a69-99bb-f1f1dda15d85"
      },
      "execution_count": 187,
      "outputs": [
        {
          "output_type": "execute_result",
          "data": {
            "text/plain": [
              "                            Name  Year         Genre  JP_Sales\n",
              "0          New Super Mario Bros.  2006      Platform      6.50\n",
              "1  Pokemon Diamond/Pokemon Pearl  2006  Role-Playing      6.04\n",
              "2    Pokemon Black/Pokemon White  2010  Role-Playing      5.65\n",
              "3  Pokemon Ruby/Pokemon Sapphire  2002  Role-Playing      5.38\n",
              "4    Animal Crossing: Wild World  2005    Simulation      5.33"
            ],
            "text/html": [
              "\n",
              "  <div id=\"df-94a59488-573a-4e33-be29-34fd010887a2\">\n",
              "    <div class=\"colab-df-container\">\n",
              "      <div>\n",
              "<style scoped>\n",
              "    .dataframe tbody tr th:only-of-type {\n",
              "        vertical-align: middle;\n",
              "    }\n",
              "\n",
              "    .dataframe tbody tr th {\n",
              "        vertical-align: top;\n",
              "    }\n",
              "\n",
              "    .dataframe thead th {\n",
              "        text-align: right;\n",
              "    }\n",
              "</style>\n",
              "<table border=\"1\" class=\"dataframe\">\n",
              "  <thead>\n",
              "    <tr style=\"text-align: right;\">\n",
              "      <th></th>\n",
              "      <th>Name</th>\n",
              "      <th>Year</th>\n",
              "      <th>Genre</th>\n",
              "      <th>JP_Sales</th>\n",
              "    </tr>\n",
              "  </thead>\n",
              "  <tbody>\n",
              "    <tr>\n",
              "      <th>0</th>\n",
              "      <td>New Super Mario Bros.</td>\n",
              "      <td>2006</td>\n",
              "      <td>Platform</td>\n",
              "      <td>6.50</td>\n",
              "    </tr>\n",
              "    <tr>\n",
              "      <th>1</th>\n",
              "      <td>Pokemon Diamond/Pokemon Pearl</td>\n",
              "      <td>2006</td>\n",
              "      <td>Role-Playing</td>\n",
              "      <td>6.04</td>\n",
              "    </tr>\n",
              "    <tr>\n",
              "      <th>2</th>\n",
              "      <td>Pokemon Black/Pokemon White</td>\n",
              "      <td>2010</td>\n",
              "      <td>Role-Playing</td>\n",
              "      <td>5.65</td>\n",
              "    </tr>\n",
              "    <tr>\n",
              "      <th>3</th>\n",
              "      <td>Pokemon Ruby/Pokemon Sapphire</td>\n",
              "      <td>2002</td>\n",
              "      <td>Role-Playing</td>\n",
              "      <td>5.38</td>\n",
              "    </tr>\n",
              "    <tr>\n",
              "      <th>4</th>\n",
              "      <td>Animal Crossing: Wild World</td>\n",
              "      <td>2005</td>\n",
              "      <td>Simulation</td>\n",
              "      <td>5.33</td>\n",
              "    </tr>\n",
              "  </tbody>\n",
              "</table>\n",
              "</div>\n",
              "      <button class=\"colab-df-convert\" onclick=\"convertToInteractive('df-94a59488-573a-4e33-be29-34fd010887a2')\"\n",
              "              title=\"Convert this dataframe to an interactive table.\"\n",
              "              style=\"display:none;\">\n",
              "        \n",
              "  <svg xmlns=\"http://www.w3.org/2000/svg\" height=\"24px\"viewBox=\"0 0 24 24\"\n",
              "       width=\"24px\">\n",
              "    <path d=\"M0 0h24v24H0V0z\" fill=\"none\"/>\n",
              "    <path d=\"M18.56 5.44l.94 2.06.94-2.06 2.06-.94-2.06-.94-.94-2.06-.94 2.06-2.06.94zm-11 1L8.5 8.5l.94-2.06 2.06-.94-2.06-.94L8.5 2.5l-.94 2.06-2.06.94zm10 10l.94 2.06.94-2.06 2.06-.94-2.06-.94-.94-2.06-.94 2.06-2.06.94z\"/><path d=\"M17.41 7.96l-1.37-1.37c-.4-.4-.92-.59-1.43-.59-.52 0-1.04.2-1.43.59L10.3 9.45l-7.72 7.72c-.78.78-.78 2.05 0 2.83L4 21.41c.39.39.9.59 1.41.59.51 0 1.02-.2 1.41-.59l7.78-7.78 2.81-2.81c.8-.78.8-2.07 0-2.86zM5.41 20L4 18.59l7.72-7.72 1.47 1.35L5.41 20z\"/>\n",
              "  </svg>\n",
              "      </button>\n",
              "      \n",
              "  <style>\n",
              "    .colab-df-container {\n",
              "      display:flex;\n",
              "      flex-wrap:wrap;\n",
              "      gap: 12px;\n",
              "    }\n",
              "\n",
              "    .colab-df-convert {\n",
              "      background-color: #E8F0FE;\n",
              "      border: none;\n",
              "      border-radius: 50%;\n",
              "      cursor: pointer;\n",
              "      display: none;\n",
              "      fill: #1967D2;\n",
              "      height: 32px;\n",
              "      padding: 0 0 0 0;\n",
              "      width: 32px;\n",
              "    }\n",
              "\n",
              "    .colab-df-convert:hover {\n",
              "      background-color: #E2EBFA;\n",
              "      box-shadow: 0px 1px 2px rgba(60, 64, 67, 0.3), 0px 1px 3px 1px rgba(60, 64, 67, 0.15);\n",
              "      fill: #174EA6;\n",
              "    }\n",
              "\n",
              "    [theme=dark] .colab-df-convert {\n",
              "      background-color: #3B4455;\n",
              "      fill: #D2E3FC;\n",
              "    }\n",
              "\n",
              "    [theme=dark] .colab-df-convert:hover {\n",
              "      background-color: #434B5C;\n",
              "      box-shadow: 0px 1px 3px 1px rgba(0, 0, 0, 0.15);\n",
              "      filter: drop-shadow(0px 1px 2px rgba(0, 0, 0, 0.3));\n",
              "      fill: #FFFFFF;\n",
              "    }\n",
              "  </style>\n",
              "\n",
              "      <script>\n",
              "        const buttonEl =\n",
              "          document.querySelector('#df-94a59488-573a-4e33-be29-34fd010887a2 button.colab-df-convert');\n",
              "        buttonEl.style.display =\n",
              "          google.colab.kernel.accessAllowed ? 'block' : 'none';\n",
              "\n",
              "        async function convertToInteractive(key) {\n",
              "          const element = document.querySelector('#df-94a59488-573a-4e33-be29-34fd010887a2');\n",
              "          const dataTable =\n",
              "            await google.colab.kernel.invokeFunction('convertToInteractive',\n",
              "                                                     [key], {});\n",
              "          if (!dataTable) return;\n",
              "\n",
              "          const docLinkHtml = 'Like what you see? Visit the ' +\n",
              "            '<a target=\"_blank\" href=https://colab.research.google.com/notebooks/data_table.ipynb>data table notebook</a>'\n",
              "            + ' to learn more about interactive tables.';\n",
              "          element.innerHTML = '';\n",
              "          dataTable['output_type'] = 'display_data';\n",
              "          await google.colab.output.renderOutput(dataTable, element);\n",
              "          const docLink = document.createElement('div');\n",
              "          docLink.innerHTML = docLinkHtml;\n",
              "          element.appendChild(docLink);\n",
              "        }\n",
              "      </script>\n",
              "    </div>\n",
              "  </div>\n",
              "  "
            ]
          },
          "metadata": {},
          "execution_count": 187
        }
      ]
    },
    {
      "cell_type": "code",
      "source": [
        "plt.figure(figsize=(30, 18))\n",
        "sns.barplot(x='Name', y='JP_Sales', data=df_sortedJP)\n",
        "\n",
        "plt.title(\"Top 10 best-selling games by Japan\", fontsize=30)\n",
        "plt.xlabel(\"Release Year\", fontsize=20)\n",
        "plt.ylabel(\"Japan sales\", fontsize=20)\n",
        "plt.show()"
      ],
      "metadata": {
        "colab": {
          "base_uri": "https://localhost:8080/",
          "height": 628
        },
        "id": "-9ToUZU-mHxH",
        "outputId": "62b1ced7-efca-4b0b-e295-3218f0fe3200"
      },
      "execution_count": 195,
      "outputs": [
        {
          "output_type": "display_data",
          "data": {
            "text/plain": [
              "<Figure size 2160x1296 with 1 Axes>"
            ],
            "image/png": "[encoded data removed]"
          },
          "metadata": {}
        }
      ]
    }
  ]
}