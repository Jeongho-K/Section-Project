{
  "nbformat": 4,
  "nbformat_minor": 0,
  "metadata": {
    "colab": {
      "name": "AI_14_김정호_Section1.ipynb",
      "provenance": [],
      "collapsed_sections": [
        "uV7RJAyCqp3B",
        "9-1cVsntbqpY",
        "6sOJDBs9Xset",
        "zBj6LnRUbzO-",
        "rDQXvi85CPiT"
      ],
      "toc_visible": true,
      "authorship_tag": "ABX9TyOphjFEGOnh9vf5cfyhiL+9",
      "include_colab_link": true
    },
    "kernelspec": {
      "name": "python3",
      "display_name": "Python 3"
    },
    "language_info": {
      "name": "python"
    }
  },
  "cells": [
    {
      "cell_type": "markdown",
      "metadata": {
        "id": "view-in-github",
        "colab_type": "text"
      },
      "source": [
        "<a href=\"https://colab.research.google.com/github/Jeongho-K/Section-Project/blob/main/Section%201/AI_14_%EA%B9%80%EC%A0%95%ED%98%B8_Section1.ipynb\" target=\"_parent\"><img src=\"https://colab.research.google.com/assets/colab-badge.svg\" alt=\"Open In Colab\"/></a>"
      ]
    },
    {
      "cell_type": "markdown",
      "source": [
        "# \b게임회사 다음 분기 계획 결정\n",
        "확인하고자 하는 내용\n",
        "* 지역에 따라서 선호하는 게임 장르가 다를까\n",
        "* 연도별 게임의 트렌드가 있을까\n",
        "* 출고량이 높은 게임에 대한 분석 및 시각화 프로세스"
      ],
      "metadata": {
        "id": "CSLPZalpqkvH"
      }
    },
    {
      "cell_type": "markdown",
      "source": [
        "## EDA(전처리 과정)"
      ],
      "metadata": {
        "id": "t1n4QuTKq14u"
      }
    },
    {
      "cell_type": "markdown",
      "source": [
        "### 데이터 불러오기\n",
        "* Name : 게임의 이름입니다.  \n",
        "* Platform : 게임이 지원되는 플랫폼의 이름입니다.  \n",
        "* Year : 게임이 출시된 연도입니다.  \n",
        "* Genre : 게임의 장르입니다.  \n",
        "* Publisher : 게임을 제작한 회사입니다.  \n",
        "* NA_Sales : 북미지역에서의 출고량입니다.(단위 100만)  \n",
        "* EU_Sales : 유럽지역에서의 출고량입니다.(단위 100만)  \n",
        "* JP_Sales : 일본지역에서의 출고량입니다.(단위 100만)  \n",
        "* Other_Sales : 기타지역에서의 출고량입니다.(단위 100만)  "
      ],
      "metadata": {
        "id": "uV7RJAyCqp3B"
      }
    },
    {
      "cell_type": "code",
      "execution_count": 77,
      "metadata": {
        "id": "4vJ5jgPca-CV"
      },
      "outputs": [],
      "source": [
        "import pandas as pd\n",
        "import numpy as np"
      ]
    },
    {
      "cell_type": "code",
      "source": [
        "# url\n",
        "data_url = 'https://ds-lecture-data.s3.ap-northeast-2.amazonaws.com/datasets/vgames2.csv'\n",
        "# read\n",
        "df = pd.read_csv(data_url, index_col = 0)"
      ],
      "metadata": {
        "id": "x3UDuIw-5LFs"
      },
      "execution_count": 78,
      "outputs": []
    },
    {
      "cell_type": "code",
      "source": [
        "df.head()"
      ],
      "metadata": {
        "colab": {
          "base_uri": "https://localhost:8080/",
          "height": 0
        },
        "id": "5mi21RwjFba4",
        "outputId": "6d075863-deb7-4a74-9ed6-f6d964e4f899"
      },
      "execution_count": 79,
      "outputs": [
        {
          "output_type": "execute_result",
          "data": {
            "text/plain": [
              "                                             Name Platform    Year      Genre  \\\n",
              "1                    Candace Kane's Candy Factory       DS  2008.0     Action   \n",
              "2                                  The Munchables      Wii  2009.0     Action   \n",
              "3  Otome wa Oanesama Boku ni Koi Shiteru Portable      PSP  2010.0  Adventure   \n",
              "4                Deal or No Deal: Special Edition       DS  2010.0       Misc   \n",
              "5       Ben 10 Ultimate Alien: Cosmic Destruction      PS3  2010.0   Platform   \n",
              "\n",
              "            Publisher NA_Sales EU_Sales JP_Sales Other_Sales  \n",
              "1           Destineer     0.04        0        0           0  \n",
              "2  Namco Bandai Games     0.17        0        0        0.01  \n",
              "3           Alchemist        0        0     0.02           0  \n",
              "4           Zoo Games     0.04        0        0           0  \n",
              "5         D3Publisher     0.12     0.09        0        0.04  "
            ],
            "text/html": [
              "\n",
              "  <div id=\"df-0ed8dfd0-ce88-4264-925f-106408a25453\">\n",
              "    <div class=\"colab-df-container\">\n",
              "      <div>\n",
              "<style scoped>\n",
              "    .dataframe tbody tr th:only-of-type {\n",
              "        vertical-align: middle;\n",
              "    }\n",
              "\n",
              "    .dataframe tbody tr th {\n",
              "        vertical-align: top;\n",
              "    }\n",
              "\n",
              "    .dataframe thead th {\n",
              "        text-align: right;\n",
              "    }\n",
              "</style>\n",
              "<table border=\"1\" class=\"dataframe\">\n",
              "  <thead>\n",
              "    <tr style=\"text-align: right;\">\n",
              "      <th></th>\n",
              "      <th>Name</th>\n",
              "      <th>Platform</th>\n",
              "      <th>Year</th>\n",
              "      <th>Genre</th>\n",
              "      <th>Publisher</th>\n",
              "      <th>NA_Sales</th>\n",
              "      <th>EU_Sales</th>\n",
              "      <th>JP_Sales</th>\n",
              "      <th>Other_Sales</th>\n",
              "    </tr>\n",
              "  </thead>\n",
              "  <tbody>\n",
              "    <tr>\n",
              "      <th>1</th>\n",
              "      <td>Candace Kane's Candy Factory</td>\n",
              "      <td>DS</td>\n",
              "      <td>2008.0</td>\n",
              "      <td>Action</td>\n",
              "      <td>Destineer</td>\n",
              "      <td>0.04</td>\n",
              "      <td>0</td>\n",
              "      <td>0</td>\n",
              "      <td>0</td>\n",
              "    </tr>\n",
              "    <tr>\n",
              "      <th>2</th>\n",
              "      <td>The Munchables</td>\n",
              "      <td>Wii</td>\n",
              "      <td>2009.0</td>\n",
              "      <td>Action</td>\n",
              "      <td>Namco Bandai Games</td>\n",
              "      <td>0.17</td>\n",
              "      <td>0</td>\n",
              "      <td>0</td>\n",
              "      <td>0.01</td>\n",
              "    </tr>\n",
              "    <tr>\n",
              "      <th>3</th>\n",
              "      <td>Otome wa Oanesama Boku ni Koi Shiteru Portable</td>\n",
              "      <td>PSP</td>\n",
              "      <td>2010.0</td>\n",
              "      <td>Adventure</td>\n",
              "      <td>Alchemist</td>\n",
              "      <td>0</td>\n",
              "      <td>0</td>\n",
              "      <td>0.02</td>\n",
              "      <td>0</td>\n",
              "    </tr>\n",
              "    <tr>\n",
              "      <th>4</th>\n",
              "      <td>Deal or No Deal: Special Edition</td>\n",
              "      <td>DS</td>\n",
              "      <td>2010.0</td>\n",
              "      <td>Misc</td>\n",
              "      <td>Zoo Games</td>\n",
              "      <td>0.04</td>\n",
              "      <td>0</td>\n",
              "      <td>0</td>\n",
              "      <td>0</td>\n",
              "    </tr>\n",
              "    <tr>\n",
              "      <th>5</th>\n",
              "      <td>Ben 10 Ultimate Alien: Cosmic Destruction</td>\n",
              "      <td>PS3</td>\n",
              "      <td>2010.0</td>\n",
              "      <td>Platform</td>\n",
              "      <td>D3Publisher</td>\n",
              "      <td>0.12</td>\n",
              "      <td>0.09</td>\n",
              "      <td>0</td>\n",
              "      <td>0.04</td>\n",
              "    </tr>\n",
              "  </tbody>\n",
              "</table>\n",
              "</div>\n",
              "      <button class=\"colab-df-convert\" onclick=\"convertToInteractive('df-0ed8dfd0-ce88-4264-925f-106408a25453')\"\n",
              "              title=\"Convert this dataframe to an interactive table.\"\n",
              "              style=\"display:none;\">\n",
              "        \n",
              "  <svg xmlns=\"http://www.w3.org/2000/svg\" height=\"24px\"viewBox=\"0 0 24 24\"\n",
              "       width=\"24px\">\n",
              "    <path d=\"M0 0h24v24H0V0z\" fill=\"none\"/>\n",
              "    <path d=\"M18.56 5.44l.94 2.06.94-2.06 2.06-.94-2.06-.94-.94-2.06-.94 2.06-2.06.94zm-11 1L8.5 8.5l.94-2.06 2.06-.94-2.06-.94L8.5 2.5l-.94 2.06-2.06.94zm10 10l.94 2.06.94-2.06 2.06-.94-2.06-.94-.94-2.06-.94 2.06-2.06.94z\"/><path d=\"M17.41 7.96l-1.37-1.37c-.4-.4-.92-.59-1.43-.59-.52 0-1.04.2-1.43.59L10.3 9.45l-7.72 7.72c-.78.78-.78 2.05 0 2.83L4 21.41c.39.39.9.59 1.41.59.51 0 1.02-.2 1.41-.59l7.78-7.78 2.81-2.81c.8-.78.8-2.07 0-2.86zM5.41 20L4 18.59l7.72-7.72 1.47 1.35L5.41 20z\"/>\n",
              "  </svg>\n",
              "      </button>\n",
              "      \n",
              "  <style>\n",
              "    .colab-df-container {\n",
              "      display:flex;\n",
              "      flex-wrap:wrap;\n",
              "      gap: 12px;\n",
              "    }\n",
              "\n",
              "    .colab-df-convert {\n",
              "      background-color: #E8F0FE;\n",
              "      border: none;\n",
              "      border-radius: 50%;\n",
              "      cursor: pointer;\n",
              "      display: none;\n",
              "      fill: #1967D2;\n",
              "      height: 32px;\n",
              "      padding: 0 0 0 0;\n",
              "      width: 32px;\n",
              "    }\n",
              "\n",
              "    .colab-df-convert:hover {\n",
              "      background-color: #E2EBFA;\n",
              "      box-shadow: 0px 1px 2px rgba(60, 64, 67, 0.3), 0px 1px 3px 1px rgba(60, 64, 67, 0.15);\n",
              "      fill: #174EA6;\n",
              "    }\n",
              "\n",
              "    [theme=dark] .colab-df-convert {\n",
              "      background-color: #3B4455;\n",
              "      fill: #D2E3FC;\n",
              "    }\n",
              "\n",
              "    [theme=dark] .colab-df-convert:hover {\n",
              "      background-color: #434B5C;\n",
              "      box-shadow: 0px 1px 3px 1px rgba(0, 0, 0, 0.15);\n",
              "      filter: drop-shadow(0px 1px 2px rgba(0, 0, 0, 0.3));\n",
              "      fill: #FFFFFF;\n",
              "    }\n",
              "  </style>\n",
              "\n",
              "      <script>\n",
              "        const buttonEl =\n",
              "          document.querySelector('#df-0ed8dfd0-ce88-4264-925f-106408a25453 button.colab-df-convert');\n",
              "        buttonEl.style.display =\n",
              "          google.colab.kernel.accessAllowed ? 'block' : 'none';\n",
              "\n",
              "        async function convertToInteractive(key) {\n",
              "          const element = document.querySelector('#df-0ed8dfd0-ce88-4264-925f-106408a25453');\n",
              "          const dataTable =\n",
              "            await google.colab.kernel.invokeFunction('convertToInteractive',\n",
              "                                                     [key], {});\n",
              "          if (!dataTable) return;\n",
              "\n",
              "          const docLinkHtml = 'Like what you see? Visit the ' +\n",
              "            '<a target=\"_blank\" href=https://colab.research.google.com/notebooks/data_table.ipynb>data table notebook</a>'\n",
              "            + ' to learn more about interactive tables.';\n",
              "          element.innerHTML = '';\n",
              "          dataTable['output_type'] = 'display_data';\n",
              "          await google.colab.output.renderOutput(dataTable, element);\n",
              "          const docLink = document.createElement('div');\n",
              "          docLink.innerHTML = docLinkHtml;\n",
              "          element.appendChild(docLink);\n",
              "        }\n",
              "      </script>\n",
              "    </div>\n",
              "  </div>\n",
              "  "
            ]
          },
          "metadata": {},
          "execution_count": 79
        }
      ]
    },
    {
      "cell_type": "code",
      "source": [
        "np.shape(df)"
      ],
      "metadata": {
        "colab": {
          "base_uri": "https://localhost:8080/"
        },
        "id": "_c_RPo8iZ0Xu",
        "outputId": "18da2bda-bfdb-4a75-921b-ed473d1cfea6"
      },
      "execution_count": 80,
      "outputs": [
        {
          "output_type": "execute_result",
          "data": {
            "text/plain": [
              "(16598, 9)"
            ]
          },
          "metadata": {},
          "execution_count": 80
        }
      ]
    },
    {
      "cell_type": "markdown",
      "source": [
        "### 데이터 중복행 제거"
      ],
      "metadata": {
        "id": "9-1cVsntbqpY"
      }
    },
    {
      "cell_type": "code",
      "source": [
        "df[df.duplicated()]"
      ],
      "metadata": {
        "colab": {
          "base_uri": "https://localhost:8080/",
          "height": 0
        },
        "id": "lP-01fJ_WI8u",
        "outputId": "de2194ef-9e5e-4e06-9841-44eadf19a972"
      },
      "execution_count": 81,
      "outputs": [
        {
          "output_type": "execute_result",
          "data": {
            "text/plain": [
              "                             Name Platform  Year    Genre Publisher NA_Sales  \\\n",
              "9185  Wii de Asobu: Metroid Prime      Wii   NaN  Shooter  Nintendo        0   \n",
              "\n",
              "     EU_Sales JP_Sales Other_Sales  \n",
              "9185        0     0.02           0  "
            ],
            "text/html": [
              "\n",
              "  <div id=\"df-3b12da80-8472-47c8-bee1-3b839cb6f23c\">\n",
              "    <div class=\"colab-df-container\">\n",
              "      <div>\n",
              "<style scoped>\n",
              "    .dataframe tbody tr th:only-of-type {\n",
              "        vertical-align: middle;\n",
              "    }\n",
              "\n",
              "    .dataframe tbody tr th {\n",
              "        vertical-align: top;\n",
              "    }\n",
              "\n",
              "    .dataframe thead th {\n",
              "        text-align: right;\n",
              "    }\n",
              "</style>\n",
              "<table border=\"1\" class=\"dataframe\">\n",
              "  <thead>\n",
              "    <tr style=\"text-align: right;\">\n",
              "      <th></th>\n",
              "      <th>Name</th>\n",
              "      <th>Platform</th>\n",
              "      <th>Year</th>\n",
              "      <th>Genre</th>\n",
              "      <th>Publisher</th>\n",
              "      <th>NA_Sales</th>\n",
              "      <th>EU_Sales</th>\n",
              "      <th>JP_Sales</th>\n",
              "      <th>Other_Sales</th>\n",
              "    </tr>\n",
              "  </thead>\n",
              "  <tbody>\n",
              "    <tr>\n",
              "      <th>9185</th>\n",
              "      <td>Wii de Asobu: Metroid Prime</td>\n",
              "      <td>Wii</td>\n",
              "      <td>NaN</td>\n",
              "      <td>Shooter</td>\n",
              "      <td>Nintendo</td>\n",
              "      <td>0</td>\n",
              "      <td>0</td>\n",
              "      <td>0.02</td>\n",
              "      <td>0</td>\n",
              "    </tr>\n",
              "  </tbody>\n",
              "</table>\n",
              "</div>\n",
              "      <button class=\"colab-df-convert\" onclick=\"convertToInteractive('df-3b12da80-8472-47c8-bee1-3b839cb6f23c')\"\n",
              "              title=\"Convert this dataframe to an interactive table.\"\n",
              "              style=\"display:none;\">\n",
              "        \n",
              "  <svg xmlns=\"http://www.w3.org/2000/svg\" height=\"24px\"viewBox=\"0 0 24 24\"\n",
              "       width=\"24px\">\n",
              "    <path d=\"M0 0h24v24H0V0z\" fill=\"none\"/>\n",
              "    <path d=\"M18.56 5.44l.94 2.06.94-2.06 2.06-.94-2.06-.94-.94-2.06-.94 2.06-2.06.94zm-11 1L8.5 8.5l.94-2.06 2.06-.94-2.06-.94L8.5 2.5l-.94 2.06-2.06.94zm10 10l.94 2.06.94-2.06 2.06-.94-2.06-.94-.94-2.06-.94 2.06-2.06.94z\"/><path d=\"M17.41 7.96l-1.37-1.37c-.4-.4-.92-.59-1.43-.59-.52 0-1.04.2-1.43.59L10.3 9.45l-7.72 7.72c-.78.78-.78 2.05 0 2.83L4 21.41c.39.39.9.59 1.41.59.51 0 1.02-.2 1.41-.59l7.78-7.78 2.81-2.81c.8-.78.8-2.07 0-2.86zM5.41 20L4 18.59l7.72-7.72 1.47 1.35L5.41 20z\"/>\n",
              "  </svg>\n",
              "      </button>\n",
              "      \n",
              "  <style>\n",
              "    .colab-df-container {\n",
              "      display:flex;\n",
              "      flex-wrap:wrap;\n",
              "      gap: 12px;\n",
              "    }\n",
              "\n",
              "    .colab-df-convert {\n",
              "      background-color: #E8F0FE;\n",
              "      border: none;\n",
              "      border-radius: 50%;\n",
              "      cursor: pointer;\n",
              "      display: none;\n",
              "      fill: #1967D2;\n",
              "      height: 32px;\n",
              "      padding: 0 0 0 0;\n",
              "      width: 32px;\n",
              "    }\n",
              "\n",
              "    .colab-df-convert:hover {\n",
              "      background-color: #E2EBFA;\n",
              "      box-shadow: 0px 1px 2px rgba(60, 64, 67, 0.3), 0px 1px 3px 1px rgba(60, 64, 67, 0.15);\n",
              "      fill: #174EA6;\n",
              "    }\n",
              "\n",
              "    [theme=dark] .colab-df-convert {\n",
              "      background-color: #3B4455;\n",
              "      fill: #D2E3FC;\n",
              "    }\n",
              "\n",
              "    [theme=dark] .colab-df-convert:hover {\n",
              "      background-color: #434B5C;\n",
              "      box-shadow: 0px 1px 3px 1px rgba(0, 0, 0, 0.15);\n",
              "      filter: drop-shadow(0px 1px 2px rgba(0, 0, 0, 0.3));\n",
              "      fill: #FFFFFF;\n",
              "    }\n",
              "  </style>\n",
              "\n",
              "      <script>\n",
              "        const buttonEl =\n",
              "          document.querySelector('#df-3b12da80-8472-47c8-bee1-3b839cb6f23c button.colab-df-convert');\n",
              "        buttonEl.style.display =\n",
              "          google.colab.kernel.accessAllowed ? 'block' : 'none';\n",
              "\n",
              "        async function convertToInteractive(key) {\n",
              "          const element = document.querySelector('#df-3b12da80-8472-47c8-bee1-3b839cb6f23c');\n",
              "          const dataTable =\n",
              "            await google.colab.kernel.invokeFunction('convertToInteractive',\n",
              "                                                     [key], {});\n",
              "          if (!dataTable) return;\n",
              "\n",
              "          const docLinkHtml = 'Like what you see? Visit the ' +\n",
              "            '<a target=\"_blank\" href=https://colab.research.google.com/notebooks/data_table.ipynb>data table notebook</a>'\n",
              "            + ' to learn more about interactive tables.';\n",
              "          element.innerHTML = '';\n",
              "          dataTable['output_type'] = 'display_data';\n",
              "          await google.colab.output.renderOutput(dataTable, element);\n",
              "          const docLink = document.createElement('div');\n",
              "          docLink.innerHTML = docLinkHtml;\n",
              "          element.appendChild(docLink);\n",
              "        }\n",
              "      </script>\n",
              "    </div>\n",
              "  </div>\n",
              "  "
            ]
          },
          "metadata": {},
          "execution_count": 81
        }
      ]
    },
    {
      "cell_type": "code",
      "source": [
        "df = df.drop_duplicates(ignore_index = True)"
      ],
      "metadata": {
        "id": "84WJ1NfUXFEd"
      },
      "execution_count": 82,
      "outputs": []
    },
    {
      "cell_type": "markdown",
      "source": [
        "### 결측치 제거"
      ],
      "metadata": {
        "id": "6sOJDBs9Xset"
      }
    },
    {
      "cell_type": "code",
      "source": [
        "df.isnull().sum()"
      ],
      "metadata": {
        "colab": {
          "base_uri": "https://localhost:8080/"
        },
        "id": "_JYDgtG8IkTV",
        "outputId": "cac5122b-3197-46ea-8ce1-be123f5bfdf0"
      },
      "execution_count": 83,
      "outputs": [
        {
          "output_type": "execute_result",
          "data": {
            "text/plain": [
              "Name             0\n",
              "Platform         0\n",
              "Year           270\n",
              "Genre           50\n",
              "Publisher       58\n",
              "NA_Sales         0\n",
              "EU_Sales         0\n",
              "JP_Sales         0\n",
              "Other_Sales      0\n",
              "dtype: int64"
            ]
          },
          "metadata": {},
          "execution_count": 83
        }
      ]
    },
    {
      "cell_type": "code",
      "source": [
        "df = df.dropna()"
      ],
      "metadata": {
        "id": "edIkLWthbFD4"
      },
      "execution_count": 84,
      "outputs": []
    },
    {
      "cell_type": "code",
      "source": [
        "df.isnull().sum()"
      ],
      "metadata": {
        "colab": {
          "base_uri": "https://localhost:8080/"
        },
        "id": "AC46M3wxIpmW",
        "outputId": "9da8849f-78ad-41da-ddb3-7dc5e8c16f41"
      },
      "execution_count": 85,
      "outputs": [
        {
          "output_type": "execute_result",
          "data": {
            "text/plain": [
              "Name           0\n",
              "Platform       0\n",
              "Year           0\n",
              "Genre          0\n",
              "Publisher      0\n",
              "NA_Sales       0\n",
              "EU_Sales       0\n",
              "JP_Sales       0\n",
              "Other_Sales    0\n",
              "dtype: int64"
            ]
          },
          "metadata": {},
          "execution_count": 85
        }
      ]
    },
    {
      "cell_type": "markdown",
      "source": [
        "### 데이터내 이상값, 데이터형 처리\n",
        "'Name', 'Publisher'는 고유명사이므로 처리하지 않고 코드북이 없을때도 유추할 수 있는 나머지 변수에서 이상값을 찾아 처리를 진행했다."
      ],
      "metadata": {
        "id": "zBj6LnRUbzO-"
      }
    },
    {
      "cell_type": "code",
      "source": [
        "df.info()"
      ],
      "metadata": {
        "colab": {
          "base_uri": "https://localhost:8080/"
        },
        "id": "Z3hUoYo4dvT9",
        "outputId": "912ca55f-494b-4e46-ec7f-eb577f42a723"
      },
      "execution_count": 86,
      "outputs": [
        {
          "output_type": "stream",
          "name": "stdout",
          "text": [
            "<class 'pandas.core.frame.DataFrame'>\n",
            "Int64Index: 16241 entries, 0 to 16596\n",
            "Data columns (total 9 columns):\n",
            " #   Column       Non-Null Count  Dtype  \n",
            "---  ------       --------------  -----  \n",
            " 0   Name         16241 non-null  object \n",
            " 1   Platform     16241 non-null  object \n",
            " 2   Year         16241 non-null  float64\n",
            " 3   Genre        16241 non-null  object \n",
            " 4   Publisher    16241 non-null  object \n",
            " 5   NA_Sales     16241 non-null  object \n",
            " 6   EU_Sales     16241 non-null  object \n",
            " 7   JP_Sales     16241 non-null  object \n",
            " 8   Other_Sales  16241 non-null  object \n",
            "dtypes: float64(1), object(8)\n",
            "memory usage: 1.2+ MB\n"
          ]
        }
      ]
    },
    {
      "cell_type": "markdown",
      "source": [
        "#### Name"
      ],
      "metadata": {
        "id": "8W3B_h1h2n9q"
      }
    },
    {
      "cell_type": "code",
      "source": [
        "df.loc[:,'Name'].unique()"
      ],
      "metadata": {
        "colab": {
          "base_uri": "https://localhost:8080/"
        },
        "id": "CySjbPnC2rd_",
        "outputId": "39d2ebe8-41a7-48e0-80e6-6aaba1b7a663"
      },
      "execution_count": 87,
      "outputs": [
        {
          "output_type": "execute_result",
          "data": {
            "text/plain": [
              "array([\"Candace Kane's Candy Factory\", 'The Munchables',\n",
              "       'Otome wa Oanesama Boku ni Koi Shiteru Portable', ...,\n",
              "       'White Album: Tsuzurareru Fuyu no Omoide', 'Minna no Chizu 2',\n",
              "       'Rainbow Islands: Revolution'], dtype=object)"
            ]
          },
          "metadata": {},
          "execution_count": 87
        }
      ]
    },
    {
      "cell_type": "markdown",
      "source": [
        "#### Platform\n",
        "이상값은 없어 보인다"
      ],
      "metadata": {
        "id": "iG0zeZbzdhWL"
      }
    },
    {
      "cell_type": "code",
      "source": [
        "df.loc[:,'Platform'].unique()"
      ],
      "metadata": {
        "colab": {
          "base_uri": "https://localhost:8080/"
        },
        "id": "rlQIXeowWB0X",
        "outputId": "f3ec62fc-8182-40cb-b33a-6a10dd69e45b"
      },
      "execution_count": 88,
      "outputs": [
        {
          "output_type": "execute_result",
          "data": {
            "text/plain": [
              "array(['DS', 'Wii', 'PSP', 'PS3', 'PC', 'PS', 'GBA', 'PS4', 'PS2', 'XB',\n",
              "       'X360', 'GC', '3DS', '2600', 'SAT', 'GB', 'NES', 'DC', 'N64',\n",
              "       'XOne', 'SNES', 'WiiU', 'PSV', 'GEN', 'SCD', 'WS', 'NG', 'TG16',\n",
              "       '3DO', 'GG', 'PCFX'], dtype=object)"
            ]
          },
          "metadata": {},
          "execution_count": 88
        }
      ]
    },
    {
      "cell_type": "markdown",
      "source": [
        "#### Year\n",
        "데이터형 변경: 'float' -> 'int'  \n",
        "* 년도는 정수이므로 데이터형을 변경한다.\n",
        "\n",
        "70이상 100이하는 1900을 더하고 70미만은 2000을 더함\n",
        "* 상업적 게임이 나온 첫 시기는 70년대 이므로 70이상은 1900년대로 처리, 70미만은 2000년대로 처리한다."
      ],
      "metadata": {
        "id": "xBk_HhoOdpsC"
      }
    },
    {
      "cell_type": "code",
      "source": [
        "df.loc[:,'Year'] = df.loc[:,'Year'].astype('int')"
      ],
      "metadata": {
        "id": "0jABpJKqd0K3"
      },
      "execution_count": 89,
      "outputs": []
    },
    {
      "cell_type": "code",
      "source": [
        "df.loc[:,'Year'].unique()"
      ],
      "metadata": {
        "colab": {
          "base_uri": "https://localhost:8080/"
        },
        "id": "kQSAf0WicpcR",
        "outputId": "bef83cc2-87cf-4544-84f7-67c98d68d2c9"
      },
      "execution_count": 90,
      "outputs": [
        {
          "output_type": "execute_result",
          "data": {
            "text/plain": [
              "array([2008, 2009, 2010, 2005, 2011, 2007, 2001, 2003, 2006, 2014, 2015,\n",
              "       2002, 1997, 2013, 1996, 2004, 2000, 1984, 1998, 2016, 1985, 1999,\n",
              "          9,   97, 1995, 1993, 2012, 1987, 1982,   11, 1994, 1990,   15,\n",
              "       1992, 1991, 1983, 1988, 1981,    3, 1989,   96,    6,    8, 1986,\n",
              "          1,    5,    4,   10,   98,    7,   16,   86,   14,   95, 2017,\n",
              "       1980, 2020,    2,   13,    0,   12,   94])"
            ]
          },
          "metadata": {},
          "execution_count": 90
        }
      ]
    },
    {
      "cell_type": "code",
      "source": [
        "# 70이상 100이하는 1900을 더하고 70미만은 2000을 더함\n",
        "df['Year'] = df['Year'].apply(lambda x: x+1900 if (x>=70)&(x<100) else x+2000 if x<70 else x)"
      ],
      "metadata": {
        "id": "ItygQq96cpXJ"
      },
      "execution_count": 91,
      "outputs": []
    },
    {
      "cell_type": "code",
      "source": [
        "df.loc[:,'Year'].unique()"
      ],
      "metadata": {
        "colab": {
          "base_uri": "https://localhost:8080/"
        },
        "id": "nbonZGapqpGt",
        "outputId": "8aa20f07-4d85-43c9-9961-9e7668923ee9"
      },
      "execution_count": 92,
      "outputs": [
        {
          "output_type": "execute_result",
          "data": {
            "text/plain": [
              "array([2008, 2009, 2010, 2005, 2011, 2007, 2001, 2003, 2006, 2014, 2015,\n",
              "       2002, 1997, 2013, 1996, 2004, 2000, 1984, 1998, 2016, 1985, 1999,\n",
              "       1995, 1993, 2012, 1987, 1982, 1994, 1990, 1992, 1991, 1983, 1988,\n",
              "       1981, 1989, 1986, 2017, 1980, 2020])"
            ]
          },
          "metadata": {},
          "execution_count": 92
        }
      ]
    },
    {
      "cell_type": "markdown",
      "source": [
        "#### Genre\n",
        "이상값은 없어 보인다"
      ],
      "metadata": {
        "id": "8HAyLzrXvcs5"
      }
    },
    {
      "cell_type": "code",
      "source": [
        "df.loc[:,'Genre'].unique()"
      ],
      "metadata": {
        "colab": {
          "base_uri": "https://localhost:8080/"
        },
        "id": "Kjgs9HJnzGGq",
        "outputId": "4290abd0-834d-40b8-a761-a3d8c78388f2"
      },
      "execution_count": 93,
      "outputs": [
        {
          "output_type": "execute_result",
          "data": {
            "text/plain": [
              "array(['Action', 'Adventure', 'Misc', 'Platform', 'Sports', 'Simulation',\n",
              "       'Racing', 'Role-Playing', 'Puzzle', 'Strategy', 'Fighting',\n",
              "       'Shooter'], dtype=object)"
            ]
          },
          "metadata": {},
          "execution_count": 93
        }
      ]
    },
    {
      "cell_type": "markdown",
      "source": [
        "#### Publisher"
      ],
      "metadata": {
        "id": "JbM9Gqbm2exK"
      }
    },
    {
      "cell_type": "code",
      "source": [
        "df.loc[:,'Publisher'].unique()"
      ],
      "metadata": {
        "colab": {
          "base_uri": "https://localhost:8080/"
        },
        "id": "nOd9d4Vl2Jon",
        "outputId": "0e562346-b6e9-4093-d0e6-d77391327a83"
      },
      "execution_count": 94,
      "outputs": [
        {
          "output_type": "execute_result",
          "data": {
            "text/plain": [
              "array(['Destineer', 'Namco Bandai Games', 'Alchemist', 'Zoo Games',\n",
              "       'D3Publisher', 'Konami Digital Entertainment', 'Deep Silver',\n",
              "       'Tecmo Koei', 'Sega', 'THQ', 'Empire Interactive', 'Ubisoft',\n",
              "       'Paradox Interactive', '505 Games', 'Tomy Corporation',\n",
              "       'Eidos Interactive', 'Microsoft Game Studios',\n",
              "       'Nippon Ichi Software', 'Kalypso Media', 'Electronic Arts',\n",
              "       'Sony Computer Entertainment', 'Activision',\n",
              "       'Tru Blu Entertainment', 'Warner Bros. Interactive Entertainment',\n",
              "       'Midway Games', 'Mindscape', 'Wargaming.net', 'Capcom',\n",
              "       'Acclaim Entertainment', 'Unknown', 'Nintendo',\n",
              "       'Disney Interactive Studios', 'Crave Entertainment', 'Sunflowers',\n",
              "       'Arc System Works', 'Milestone S.r.l', 'Kamui', 'Hudson Soft',\n",
              "       'Square Enix', 'Focus Home Interactive', 'Take-Two Interactive',\n",
              "       'Game Factory', 'Takara Tomy', 'SquareSoft', 'Global Star',\n",
              "       'Infogrames', 'GT Interactive', 'Storm City Games',\n",
              "       'Gathering of Developers', 'Giza10', 'Imagineer', 'Atari',\n",
              "       'SouthPeak Games', 'Graffiti', 'Banpresto', 'Gust',\n",
              "       'From Software', 'TDK Mediactive', '5pb', 'Nobilis', 'Taito',\n",
              "       'Foreign Media Games', 'Nippon Columbia', 'Vivendi Games',\n",
              "       'Codemasters', 'Bethesda Softworks', '3DO', 'Enix Corporation',\n",
              "       'Ignition Entertainment', 'ASCII Media Works',\n",
              "       'Virgin Interactive', 'Easy Interactive', 'SCi', 'Idea Factory',\n",
              "       'Jaleco', 'Majesco Entertainment', 'ArtDink', 'System Soft',\n",
              "       'CBS Electronics', 'Kaga Create', 'Phantagram',\n",
              "       'Zoo Digital Publishing', 'BAM! Entertainment',\n",
              "       'Jester Interactive', 'Quinrose', 'Game Arts', 'Headup Games',\n",
              "       'Rising Star Games', 'TGL', 'Gremlin Interactive Ltd',\n",
              "       '10TACLE Studios', 'Activision Value', 'responDESIGN',\n",
              "       'Rage Software', 'Little Orbit', 'Marvelous Interactive',\n",
              "       'Avanquest', 'Marvelous Entertainment', 'Kadokawa Shoten',\n",
              "       'Compile Heart', 'Takara', 'Seta Corporation', 'Comfort',\n",
              "       'LucasArts', 'NEC Interchannel', 'SNK Playmore', 'Russel', 'FuRyu',\n",
              "       'dramatic create', 'Koch Media', 'LSP Games', 'Microids',\n",
              "       'Psygnosis', 'Culture Brain', 'Saurus', 'Hackberry',\n",
              "       'FuRyu Corporation', 'Midas Interactive Entertainment',\n",
              "       'Office Create', 'Media Factory', 'Asylum Entertainment',\n",
              "       'ValuSoft', 'Universal Interactive', 'bitComposer Games',\n",
              "       'Rocket Company', 'Atlus', 'Number None', 'Genki', 'Compile',\n",
              "       'Telltale Games', 'UFO Interactive', 'Magix', 'NewKidCo', 'Coleco',\n",
              "       'Harmonix Music Systems', 'Sting', 'Hudson Entertainment',\n",
              "       'Ghostlight', 'Sunsoft', 'Spike', 'Home Entertainment Suppliers',\n",
              "       'Screenlife', 'Moss', 'Ubisoft Annecy', 'Oxygen Interactive',\n",
              "       'Kemco', 'P2 Games', 'Datam Polystar', 'Palcom', 'Enterbrain',\n",
              "       'Starfish', '20th Century Fox Video Games', 'Xplosiv',\n",
              "       'Scholastic Inc.', 'Phenomedia', 'GOA', 'Yamasa Entertainment',\n",
              "       'MTV Games', 'PQube', 'Aqua Plus', 'Daedalic',\n",
              "       'ASCII Entertainment', 'Nordic Games', 'Ongakukan',\n",
              "       'Interchannel-Holon', 'Avanquest Software', 'Black Bean Games',\n",
              "       'DTP Entertainment', 'NEC', 'Black Label Games',\n",
              "       'O3 Entertainment', 'Micro Cabin', 'Marvel Entertainment',\n",
              "       'Telegames', 'Hasbro Interactive', 'Tigervision', 'Funsta',\n",
              "       'Kadokawa Games', 'Success', 'Level 5', 'Sammy Corporation',\n",
              "       'Axela', 'Milestone S.r.l.', 'Agatsuma Entertainment', 'Vap',\n",
              "       'System 3 Arcade Software', 'Broccoli', 'Media Rings', 'Interplay',\n",
              "       'Swing! Entertainment', 'Fox Interactive', 'Aques',\n",
              "       'DreamCatcher Interactive', 'General Entertainment',\n",
              "       'Sony Online Entertainment', 'Shogakukan', 'Rebellion',\n",
              "       'Starpath Corp.', 'Square', 'Quintet', 'Touchstone', 'Mumbo Jumbo',\n",
              "       'Epoch', 'Parker Bros.', 'TDK Core', 'Mattel Interactive',\n",
              "       'Prototype', 'Merscom LLC', 'Insomniac Games',\n",
              "       'Human Entertainment', 'Nichibutsu', 'Playlogic Game Factory',\n",
              "       'Ocean', 'Cloud Imperium Games Corporation', 'Funcom',\n",
              "       'Hamster Corporation', 'Idea Factory International',\n",
              "       'Destination Software, Inc', 'DHM Interactive', 'Myelin Media',\n",
              "       'SNK', 'Licensed 4U', 'GSP', 'City Interactive', 'PopCap Games',\n",
              "       'AQ Interactive', 'Victor Interactive', 'Titus',\n",
              "       'Excalibur Publishing', 'Popcorn Arcade', 'Valcon Games', 'Mojang',\n",
              "       'Metro 3D', 'Vatical Entertainment', 'ChunSoft', 'Astragon',\n",
              "       'CyberFront', 'Big Ben Interactive', 'Big Fish Games',\n",
              "       'Conspiracy Entertainment', 'Naxat Soft', 'Paon Corporation',\n",
              "       'Bigben Interactive', 'MediaQuest', 'Blast! Entertainment Ltd',\n",
              "       'Data Design Interactive', 'Nexon', 'Neko Entertainment', 'iWin',\n",
              "       'Introversion Software', 'GameMill Entertainment', 'Play It',\n",
              "       'Asgard', 'ASC Games', '989 Studios', 'MTO', 'Mercury Games',\n",
              "       'Navarre Corp', 'Boost On', 'Maxis', 'Rondomedia',\n",
              "       'MC2 Entertainment', 'CDV Software Entertainment', 'Funbox Media',\n",
              "       'Angel Studios', 'Xseed Games', 'Performance Designed Products',\n",
              "       'Sony Computer Entertainment Europe', 'Wanadoo',\n",
              "       'Lexicon Entertainment', 'Aruze Corp', 'TopWare Interactive',\n",
              "       'Virtual Play Games', 'Seventh Chord', 'JoWood Productions',\n",
              "       'Pinnacle', 'Iceberg Interactive', 'Agetec', 'Mastertronic',\n",
              "       'Vic Tokai', 'ITT Family Games', 'Gameloft',\n",
              "       'Sony Music Entertainment', 'Mastiff', 'imageepoch Inc.',\n",
              "       'Arena Entertainment', 'TOHO', 'Bomb', 'Interchannel',\n",
              "       'LEGO Media', 'Grand Prix Games', 'Mitsui', 'Zushi Games',\n",
              "       'O-Games', 'NCSoft', 'Arika', 'CPG Products',\n",
              "       'Slitherine Software', 'Alternative Software', 'Data Age',\n",
              "       'Plenty', 'PlayV', 'Karin Entertainment', 'Knowledge Adventure',\n",
              "       'Valve Software', 'Gotham Games', 'Pioneer LDC', 'Genterprise',\n",
              "       'G.Rev', 'Kids Station', 'Asmik Ace Entertainment',\n",
              "       'Monte Christo Multimedia', 'Cave', 'Milestone', 'Views',\n",
              "       'Benesse', 'Encore', 'XS Games', 'Avalon Interactive',\n",
              "       'EON Digital Entertainment', 'Mentor Interactive',\n",
              "       'Irem Software Engineering', 'Brash Entertainment',\n",
              "       'Flashpoint Games', 'Imagic', 'KID', 'Media Works', 'Altron',\n",
              "       'Mirai Shounen', 'SSI', 'Strategy First',\n",
              "       'Ascaron Entertainment GmbH', 'Natsume', 'Warashi', 'IE Institute',\n",
              "       'Warp', 'Mad Catz', 'NCS', 'The Learning Company', 'Sweets',\n",
              "       'Game Life', 'HMH Interactive', 'Xicat Interactive',\n",
              "       'Rebellion Developments', 'Yeti', 'Ackkstudios',\n",
              "       'CokeM Interactive', 'Evolved Games', 'Video System',\n",
              "       'Aksys Games', 'PM Studios', 'Coconuts Japan',\n",
              "       'Sunrise Interactive', 'Bohemia Interactive', \"Yuke's\", 'Tivola',\n",
              "       'GungHo', 'Tradewest', 'Tommo', 'GN Software', 'Gaga', 'Aspyr',\n",
              "       'Trion Worlds', 'Revolution (Japan)', 'Misawa', 'Pack-In-Video',\n",
              "       'Hect', 'TalonSoft', 'Aerosoft', 'RTL', 'Minato Station',\n",
              "       'Activision Blizzard', 'Playmates', 'CTO SpA',\n",
              "       'BMG Interactive Entertainment', 'Media Entertainment',\n",
              "       'Hip Interactive', 'Acquire', 'Jack of All Games',\n",
              "       'The Adventure Company', 'Epic Games', 'DSI Games', 'Fortyfive',\n",
              "       'Indie Games', 'NovaLogic', 'Happinet', 'Reef Entertainment',\n",
              "       'Masque Publishing', 'Imadio', 'Microprose', 'Falcom Corporation',\n",
              "       'Square EA', 'Red Storm Entertainment', 'Dusenberry Martin Racing',\n",
              "       'Sonnet', 'Tripwire Interactive', 'RED Entertainment',\n",
              "       'Global A Entertainment', 'Athena', 'Groove Games',\n",
              "       'Mud Duck Productions', 'Ertain', 'System 3', 'Marvelous Games',\n",
              "       'Gamecock', 'Panther Software', 'Playmore', 'Vir2L Studios',\n",
              "       'mixi, Inc', 'HAL Laboratory', 'BushiRoad', 'Jorudan', 'JVC',\n",
              "       'Alawar Entertainment', 'Inti Creates', 'Laguna', 'NetRevo',\n",
              "       'Daedalic Entertainment', 'Time Warner Interactive',\n",
              "       'Slightly Mad Studios', 'Max Five', 'Devolver Digital', 'CCP',\n",
              "       'Flight-Plan', 'Quelle', 'Dorart', 'ESP', 'Answer Software',\n",
              "       'Phoenix Games', 'Yumedia', 'Elite', 'Elf', 'Nordcurrent', 'New',\n",
              "       'Paon', 'Nihon Falcom Corporation', 'Commseed', 'BPS', 'Tryfirst',\n",
              "       'FunSoft', 'Legacy Interactive', 'Princess Soft',\n",
              "       'Graphsim Entertainment', 'Creative Core',\n",
              "       'Electronic Arts Victor', 'Mamba Games', 'Her Interactive',\n",
              "       'Maximum Family Games', 'DreamWorks Interactive', 'Detn8 Games',\n",
              "       'Universal Gamex', 'Hearty Robin', 'GameTek', 'RedOctane',\n",
              "       'U.S. Gold', 'Wizard Video Games',\n",
              "       'Sony Computer Entertainment America', 'Telstar',\n",
              "       'Yacht Club Games', 'PopTop Software', 'Experience Inc.',\n",
              "       'Michaelsoft', 'Gakken', 'T&E Soft', 'Origin Systems',\n",
              "       'Gainax Network Systems', 'inXile Entertainment',\n",
              "       'Focus Multimedia', 'SCS Software', 'Hello Games',\n",
              "       'Essential Games', 'Xing Entertainment', 'Riverhillsoft',\n",
              "       '1C Company', 'Data East', 'Mycom', '7G//AMES', 'DigiCube', 'Fuji',\n",
              "       'Simon & Schuster Interactive', 'Pow',\n",
              "       'Pacific Century Cyber Works', 'Extreme Entertainment Group',\n",
              "       'Image Epoch', 'Core Design Ltd.', 'Otomate', 'Piacci', 'ASK',\n",
              "       'WayForward Technologies', 'Pack In Soft', 'Red Orb', 'Takuyo',\n",
              "       'UIG Entertainment', 'Crystal Dynamics', 'Blue Byte', 'Rain Games',\n",
              "       'Gamebridge', 'New World Computing', 'fonfun', 'Berkeley',\n",
              "       'Interworks Unlimited, Inc.', 'Societa', 'On Demand',\n",
              "       'Crimson Cow', 'Griffin International', 'Visco', 'Syscom',\n",
              "       'King Records', 'Tetris Online', 'EA Games', 'Locus',\n",
              "       'Paradox Development', 'Nippon Telenet', 'Accolade', 'id Software',\n",
              "       'HuneX', 'Interplay Productions', 'Evolution Games',\n",
              "       'Kokopeli Digital Studios', 'Ascaron Entertainment', '989 Sports',\n",
              "       'Illusion Softworks', 'Kando Games', 'Pony Canyon', 'Intergrow',\n",
              "       'Glams', 'Nitroplus', 'Zenrin', 'Team17 Software', 'Fields',\n",
              "       'Havas Interactive', '49Games', 'Alvion', 'Quest', 'Imageworks',\n",
              "       'Stainless Games', 'Daito', 'Enjoy Gaming ltd.', 'Aria',\n",
              "       'Kool Kizz', 'Sold Out', 'Magical Company', 'Imax', 'Summitsoft',\n",
              "       'Cygames', 'Men-A-Vision', 'Adeline Software',\n",
              "       'Revolution Software', 'Valve', 'Codemasters Online', 'TYO',\n",
              "       'Phantom EFX', 'Liquid Games', 'American Softworks', 'SPS', 'Edia',\n",
              "       'Nippon Amuse', 'Asmik Corp', 'MLB.com', 'White Park Bay Software',\n",
              "       'Abylight', 'Ecole', 'TechnoSoft', 'Culture Publishers',\n",
              "       'Ivolgamus', '2D Boy', 'Technos Japan Corporation', 'Giga',\n",
              "       'Westwood Studios', 'UEP Systems', 'KSS', 'Type-Moon',\n",
              "       'Lighthouse Interactive', 'NDA Productions', 'Mystique'],\n",
              "      dtype=object)"
            ]
          },
          "metadata": {},
          "execution_count": 94
        }
      ]
    },
    {
      "cell_type": "markdown",
      "source": [
        "#### NA_Sales\n",
        "숫자, 숫자M, 숫자K 3경우 데이터가 보인다. 데이터 절삭이 있어 소수점 3째자리 부터 숫자를 알 수 없다. 때문에 해당 스케일을 맞추기 위해 이들 단위를 기존 100만으로 맞춰준다.\n",
        "* 숫자: 단위 100만으로 나둔다.\n",
        "* 숫자M: 단위는 100만으로 맞으므로 M만을 제거한다.\n",
        "* 숫자K: 단위가 1천으로 K를 제거 후 1,000으로 나눈다.\n",
        "* 소수점 3째자리 부터 절삭한 것으로 보인다.  \n",
        "\n",
        "데이터형 변경: 'object' -> 'float'  \n",
        "* sales는 출고량이므로 float로 변경(단위 100만)"
      ],
      "metadata": {
        "id": "GBNGXAf10I_Q"
      }
    },
    {
      "cell_type": "code",
      "source": [
        "df.loc[:,'NA_Sales'].unique()"
      ],
      "metadata": {
        "colab": {
          "base_uri": "https://localhost:8080/"
        },
        "id": "NSn4HCYt0MeZ",
        "outputId": "5bd353fc-be0d-466d-ce27-868ddef7b5cd"
      },
      "execution_count": 95,
      "outputs": [
        {
          "output_type": "execute_result",
          "data": {
            "text/plain": [
              "array(['0.04', '0.17', '0', '0.12', '0.02', '0.07', '480K', '0.14',\n",
              "       '0.01', '0.57', '0.06', '0.08', '0.48', '0.03', '0.05', '0.29',\n",
              "       '0.19', '0.3', '0.26', '0.11', '0.18', '0.33', '0.51', '60K',\n",
              "       '0.13', '0.34', '0.25', '0.41', '0.52', '0.22', '0.35', '0.1',\n",
              "       '0.67', '0.59', '0.36', '0.21', '1.19', '5.91', '1.98', '0.09',\n",
              "       '0K', '0.5', '0.94', '0.16', '0.63', '0.43', '0.2', '1.23', '0.44',\n",
              "       '0.42', '0.97', '2.67', '0.28', '6.05', '0.47', '0.49', '0.62',\n",
              "       '0.24', '0.72', '1.74', '0.46', '0.65', '0.32', '1.53', '0.23',\n",
              "       '0.53', '0.37', '1.26', '0.39', '0.58', '1.94', '2.31', '1.03',\n",
              "       '0.82', '0.4', '0.93', '0.56', '0.96', '1.64', '0.69', '1.25',\n",
              "       '0.27', '0.92', '0.58M', '1.24', '0.25M', '0.86', '0.73', '0.55',\n",
              "       '1.54', '1.02', '1.27', '0.54', '0.15', '1.09', '3.44', '2.29',\n",
              "       '0.88', '5.55M', '1.37', '2.3', '0.99', '1.15', '0.98', '0.75',\n",
              "       '0.74', '0.7', '0.14M', '0.45', '1.2', '1.41', '0.68', '1.23M',\n",
              "       '1.56', '0.31', '1.45', '1.11', '2.9', '0M', '0.83', '0.78',\n",
              "       '3.38', '0.64', '1.08', '0.38', '1.47', '0.06M', '0.77', '1.05',\n",
              "       '6.85', '3.83', '3.79', '1.13M', '0.9', '3.78', '1.89', '1.17',\n",
              "       '4.03', '0.89', '0.61', '0.71', '23.2', '1.44', '1.31', '3.06',\n",
              "       '3.14', '1.66', '0.79', '1.39', '0.31M', '490K', '1.85', '0.76',\n",
              "       '2.06', '1.36', '1.3', '1.06', '1.1', '240K', '2.08', '1.04',\n",
              "       '0.66', '2.64', '1.58', '0.05M', '3.11', '4.34', '150K', '1.78',\n",
              "       '0.85', '2.91', '0.13M', '1', '1.01', '4100K', '1.07', '3.8',\n",
              "       '2.5', '2.2', '1.5', '1.91', '0.95', '2.03', '2.1', '1.4', '3.18',\n",
              "       '1.73', '1.12', '1.72', '2.05', '1.63', '1.22', '1.13', '1.49',\n",
              "       '2.55', '0.87', '0.81', '0.6', '0.61M', '2.62', '0.84', '2.38',\n",
              "       '1.32', '20K', '3.02', '1.75', '2.02', '1.82', '1.68', '9.03',\n",
              "       '2.56', '1.87', '2.65', '1.48', '3.19', '1.33', '41.49', '30K',\n",
              "       '1.93', '1.16', '1.21', '0.02M', '2.52', '2.28', '5.99', '14.03',\n",
              "       '2.93', '2.45', '0.11M', '2.14', '2.99', '0.01M', '2.6', '1.35',\n",
              "       '0.36M', '50K', '1.28', '2.95', '70K', '15.75', '1.18', '1.42',\n",
              "       '8.94', '7.01', '190K', '1.62', '0.91', '0.8', '2.09', '1.96',\n",
              "       '1.52', '2.39', '1.79', '0.43M', '2.19', '1.43', '1.76', '2.78',\n",
              "       '1.3M', '1.71', '29.08', '3.13', '3.1', '4.99', '4.23', '2.35',\n",
              "       '14.97', '1.65', '1210K', '2.26', '3.64', '2.71', '3.49', '3.33',\n",
              "       '1.46', '1.7', '4.4', '4.02', '2.53', '1610K', '2.01', '100K',\n",
              "       '1.55', '4.47', '1.9', '2.25', '3.98', '2.51', '1.61', '1.84',\n",
              "       '1.81', '170K', '8.41', '2.11', '2.74', '2.42', '3.92', '6.72',\n",
              "       '2.54', '4', '0.9M', '40K', '2.12', '7.28', '2.13', '1.59', '1.88',\n",
              "       '3.39', '450K', '2.96', '8.52', '2.82', '9.67', '7.97', '8.25',\n",
              "       '1.86', '1.67', '1.51', '6.91', '1.57', '3.88', '3.27', '4.14',\n",
              "       '1.92', '220K', '1.29', '2.04', '1.11M', '310K', '0.07M', '2.15',\n",
              "       '6.16', '4.09', '11.38', '1.69', '1.34', '820K', '2.17', '80K',\n",
              "       '4.36', '2.8', '290K', '3.05', '130K', '5.39', '2.66M', '2.47',\n",
              "       '4.15', '4.46', '1.18M', '11.27', '1.38', '3.66', '4.12', '0.55M',\n",
              "       '2.41', '2.57', '2', '2.58', '5.89', '2.18', '1.99', '2.72',\n",
              "       '2.36', '120K', '0.08M', '0.22M', '5.77', '3.68', '3.23', '5.84',\n",
              "       '9', '2.85', '10.83', '6.82', '3.54', '0.3M', '0.04M', '3.42',\n",
              "       '6.99', '1780K', '2930K', '1.14', '2.49', '5.98', '2.33', '1.97',\n",
              "       '5.58', '0.15M', '0.1M', '3.7', '2.07', '4.41', '1.83', '0.29M',\n",
              "       '4.98', '10K', '280K', '2.43', '26.93', '6.42', '3.81', '5.57',\n",
              "       '9.81', '0.37M', '0.12M', '3.28', '3.74', '540K', '2.66', '9.09',\n",
              "       '1.77', '9.63M', '6.06', '4.79', '2.59', '2.48', '0.34M', '2.97',\n",
              "       '2.63', '4.74', '9.07', '0.26M', '3.51', '1.6', '5.03', '3.22',\n",
              "       '3.01', '2.22', '2.77', '3.25', '550K', '2010K', '5.8', '3.59',\n",
              "       '2.4', '1.95', '5.08', '770K', '2.84', '15.85', '7.03M', '4.89',\n",
              "       '3.24', '4.01', '340K', '2.32', '3.4', '90K', '12.78', '2.21',\n",
              "       '3.36', '4.75', '600K', '0.46M', '0.03M', '6.76', '2570K', '3',\n",
              "       '4.05', '5.54', '0.72M', '2.75', '3.21', '6.63', '9.43', '3.03',\n",
              "       '3.5', '2.7', '0.96M', '9.54', '6.75', '3.63', '270K', '420K',\n",
              "       '0.28M', '2.79', '4.21', '2.23', '4.52', '0.45M', '720K', '2.89',\n",
              "       '0.53M', '4.76', '470K', '14.59', '320K', '4.18'], dtype=object)"
            ]
          },
          "metadata": {},
          "execution_count": 95
        }
      ]
    },
    {
      "cell_type": "code",
      "source": [
        "df['NA_Sales'] = df['NA_Sales'].replace({\"K\":\"*1e-3\", \"M\":\"\"}, regex=True).map(pd.eval)"
      ],
      "metadata": {
        "id": "RN9jtbiujByB"
      },
      "execution_count": 96,
      "outputs": []
    },
    {
      "cell_type": "code",
      "source": [
        "df.loc[:,'NA_Sales'].unique()"
      ],
      "metadata": {
        "colab": {
          "base_uri": "https://localhost:8080/"
        },
        "id": "WJ1oCXJCjm7g",
        "outputId": "ea61cd8f-afec-4595-deed-aa144f89738f"
      },
      "execution_count": 97,
      "outputs": [
        {
          "output_type": "execute_result",
          "data": {
            "text/plain": [
              "array([4.000e-02, 1.700e-01, 0.000e+00, 1.200e-01, 2.000e-02, 7.000e-02,\n",
              "       4.800e-01, 1.400e-01, 1.000e-02, 5.700e-01, 6.000e-02, 8.000e-02,\n",
              "       3.000e-02, 5.000e-02, 2.900e-01, 1.900e-01, 3.000e-01, 2.600e-01,\n",
              "       1.100e-01, 1.800e-01, 3.300e-01, 5.100e-01, 1.300e-01, 3.400e-01,\n",
              "       2.500e-01, 4.100e-01, 5.200e-01, 2.200e-01, 3.500e-01, 1.000e-01,\n",
              "       6.700e-01, 5.900e-01, 3.600e-01, 2.100e-01, 1.190e+00, 5.910e+00,\n",
              "       1.980e+00, 9.000e-02, 5.000e-01, 9.400e-01, 1.600e-01, 6.300e-01,\n",
              "       4.300e-01, 2.000e-01, 1.230e+00, 4.400e-01, 4.200e-01, 9.700e-01,\n",
              "       2.670e+00, 2.800e-01, 6.050e+00, 4.700e-01, 4.900e-01, 6.200e-01,\n",
              "       2.400e-01, 7.200e-01, 1.740e+00, 4.600e-01, 6.500e-01, 3.200e-01,\n",
              "       1.530e+00, 2.300e-01, 5.300e-01, 3.700e-01, 1.260e+00, 3.900e-01,\n",
              "       5.800e-01, 1.940e+00, 2.310e+00, 1.030e+00, 8.200e-01, 4.000e-01,\n",
              "       9.300e-01, 5.600e-01, 9.600e-01, 1.640e+00, 6.900e-01, 1.250e+00,\n",
              "       2.700e-01, 9.200e-01, 1.240e+00, 8.600e-01, 7.300e-01, 5.500e-01,\n",
              "       1.540e+00, 1.020e+00, 1.270e+00, 5.400e-01, 1.500e-01, 1.090e+00,\n",
              "       3.440e+00, 2.290e+00, 8.800e-01, 5.550e+00, 1.370e+00, 2.300e+00,\n",
              "       9.900e-01, 1.150e+00, 9.800e-01, 7.500e-01, 7.400e-01, 7.000e-01,\n",
              "       4.500e-01, 1.200e+00, 1.410e+00, 6.800e-01, 1.560e+00, 3.100e-01,\n",
              "       1.450e+00, 1.110e+00, 2.900e+00, 8.300e-01, 7.800e-01, 3.380e+00,\n",
              "       6.400e-01, 1.080e+00, 3.800e-01, 1.470e+00, 7.700e-01, 1.050e+00,\n",
              "       6.850e+00, 3.830e+00, 3.790e+00, 1.130e+00, 9.000e-01, 3.780e+00,\n",
              "       1.890e+00, 1.170e+00, 4.030e+00, 8.900e-01, 6.100e-01, 7.100e-01,\n",
              "       2.320e+01, 1.440e+00, 1.310e+00, 3.060e+00, 3.140e+00, 1.660e+00,\n",
              "       7.900e-01, 1.390e+00, 1.850e+00, 7.600e-01, 2.060e+00, 1.360e+00,\n",
              "       1.300e+00, 1.060e+00, 1.100e+00, 2.080e+00, 1.040e+00, 6.600e-01,\n",
              "       2.640e+00, 1.580e+00, 3.110e+00, 4.340e+00, 1.780e+00, 8.500e-01,\n",
              "       2.910e+00, 1.000e+00, 1.010e+00, 4.100e+00, 1.070e+00, 3.800e+00,\n",
              "       2.500e+00, 2.200e+00, 1.500e+00, 1.910e+00, 9.500e-01, 2.030e+00,\n",
              "       2.100e+00, 1.400e+00, 3.180e+00, 1.730e+00, 1.120e+00, 1.720e+00,\n",
              "       2.050e+00, 1.630e+00, 1.220e+00, 1.490e+00, 2.550e+00, 8.700e-01,\n",
              "       8.100e-01, 6.000e-01, 2.620e+00, 8.400e-01, 2.380e+00, 1.320e+00,\n",
              "       3.020e+00, 1.750e+00, 2.020e+00, 1.820e+00, 1.680e+00, 9.030e+00,\n",
              "       2.560e+00, 1.870e+00, 2.650e+00, 1.480e+00, 3.190e+00, 1.330e+00,\n",
              "       4.149e+01, 1.930e+00, 1.160e+00, 1.210e+00, 2.520e+00, 2.280e+00,\n",
              "       5.990e+00, 1.403e+01, 2.930e+00, 2.450e+00, 2.140e+00, 2.990e+00,\n",
              "       2.600e+00, 1.350e+00, 1.280e+00, 2.950e+00, 1.575e+01, 1.180e+00,\n",
              "       1.420e+00, 8.940e+00, 7.010e+00, 1.620e+00, 9.100e-01, 8.000e-01,\n",
              "       2.090e+00, 1.960e+00, 1.520e+00, 2.390e+00, 1.790e+00, 2.190e+00,\n",
              "       1.430e+00, 1.760e+00, 2.780e+00, 1.710e+00, 2.908e+01, 3.130e+00,\n",
              "       3.100e+00, 4.990e+00, 4.230e+00, 2.350e+00, 1.497e+01, 1.650e+00,\n",
              "       2.260e+00, 3.640e+00, 2.710e+00, 3.490e+00, 3.330e+00, 1.460e+00,\n",
              "       1.700e+00, 4.400e+00, 4.020e+00, 2.530e+00, 1.610e+00, 2.010e+00,\n",
              "       1.550e+00, 4.470e+00, 1.900e+00, 2.250e+00, 3.980e+00, 2.510e+00,\n",
              "       1.840e+00, 1.810e+00, 8.410e+00, 2.110e+00, 2.740e+00, 2.420e+00,\n",
              "       3.920e+00, 6.720e+00, 2.540e+00, 4.000e+00, 2.120e+00, 7.280e+00,\n",
              "       2.130e+00, 1.590e+00, 1.880e+00, 3.390e+00, 2.960e+00, 8.520e+00,\n",
              "       2.820e+00, 9.670e+00, 7.970e+00, 8.250e+00, 1.860e+00, 1.670e+00,\n",
              "       1.510e+00, 6.910e+00, 1.570e+00, 3.880e+00, 3.270e+00, 4.140e+00,\n",
              "       1.920e+00, 1.290e+00, 2.040e+00, 2.150e+00, 6.160e+00, 4.090e+00,\n",
              "       1.138e+01, 1.690e+00, 1.340e+00, 8.200e-01, 2.170e+00, 4.360e+00,\n",
              "       2.800e+00, 3.050e+00, 5.390e+00, 2.660e+00, 2.470e+00, 4.150e+00,\n",
              "       4.460e+00, 1.127e+01, 1.380e+00, 3.660e+00, 4.120e+00, 2.410e+00,\n",
              "       2.570e+00, 2.000e+00, 2.580e+00, 5.890e+00, 2.180e+00, 1.990e+00,\n",
              "       2.720e+00, 2.360e+00, 5.770e+00, 3.680e+00, 3.230e+00, 5.840e+00,\n",
              "       9.000e+00, 2.850e+00, 1.083e+01, 6.820e+00, 3.540e+00, 3.420e+00,\n",
              "       6.990e+00, 1.140e+00, 2.490e+00, 5.980e+00, 2.330e+00, 1.970e+00,\n",
              "       5.580e+00, 3.700e+00, 2.070e+00, 4.410e+00, 1.830e+00, 4.980e+00,\n",
              "       2.430e+00, 2.693e+01, 6.420e+00, 3.810e+00, 5.570e+00, 9.810e+00,\n",
              "       3.280e+00, 3.740e+00, 9.090e+00, 1.770e+00, 9.630e+00, 6.060e+00,\n",
              "       4.790e+00, 2.590e+00, 2.480e+00, 2.970e+00, 2.630e+00, 4.740e+00,\n",
              "       9.070e+00, 3.510e+00, 1.600e+00, 5.030e+00, 3.220e+00, 3.010e+00,\n",
              "       2.220e+00, 2.770e+00, 3.250e+00, 2.010e+00, 5.800e+00, 3.590e+00,\n",
              "       2.400e+00, 1.950e+00, 5.080e+00, 2.840e+00, 1.585e+01, 7.030e+00,\n",
              "       4.890e+00, 3.240e+00, 4.010e+00, 2.320e+00, 3.400e+00, 1.278e+01,\n",
              "       2.210e+00, 3.360e+00, 4.750e+00, 6.760e+00, 3.000e+00, 4.050e+00,\n",
              "       5.540e+00, 2.750e+00, 3.210e+00, 6.630e+00, 9.430e+00, 3.030e+00,\n",
              "       3.500e+00, 2.700e+00, 9.540e+00, 6.750e+00, 3.630e+00, 2.790e+00,\n",
              "       4.210e+00, 2.230e+00, 4.520e+00, 2.890e+00, 4.760e+00, 4.700e-01,\n",
              "       1.459e+01, 4.180e+00])"
            ]
          },
          "metadata": {},
          "execution_count": 97
        }
      ]
    },
    {
      "cell_type": "markdown",
      "source": [
        "#### EU_Sales\n",
        "숫자, 숫자M, 숫자K 3경우 데이터가 보인다. 데이터 절삭이 있어 소수점 3째자리 부터 숫자를 알 수 없다. 때문에 해당 스케일을 맞추기 위해 이들 단위를 기존 100만으로 맞춰준다.\n",
        "* 숫자: 단위 100만으로 나둔다.\n",
        "* 숫자M: 단위는 100만으로 맞으므로 M만을 제거한다.\n",
        "* 숫자K: 단위가 1천으로 K를 제거 후 1,000으로 나눈다.\n",
        "* 소수점 3째자리 부터 절삭한 것으로 보인다.  \n",
        "\n",
        "데이터형 변경: 'object' -> 'float'  \n",
        "* sales는 출고량이므로 float로 변경(단위 100만)"
      ],
      "metadata": {
        "id": "_S9v-p3J8cD-"
      }
    },
    {
      "cell_type": "code",
      "source": [
        "df.loc[:,'EU_Sales'].unique()"
      ],
      "metadata": {
        "colab": {
          "base_uri": "https://localhost:8080/"
        },
        "outputId": "ebbeef31-e900-4ee2-e5a7-687d2adb4c6d",
        "id": "M8RqZy1WBcD4"
      },
      "execution_count": 98,
      "outputs": [
        {
          "output_type": "execute_result",
          "data": {
            "text/plain": [
              "array(['0', '0.09', '0.01', '0.03', '0.33M', '0.05', '0.02', '0.16',\n",
              "       '0.45', '0.04', '0.53', '0.23', '0.1', '0.22', '0.2', '0.03M',\n",
              "       '0.33', '0.08', '0.26', '0.07', '0.11', '0.17', '0.06', '0.14',\n",
              "       '0.12', '0.24', '0.13', '0.21', '0.15', '0.3', '2.38', '0.55',\n",
              "       '0K', '1.12', '0.43', '50K', '0.63', '0.35', '1.11', '0.41',\n",
              "       '0.01M', '0.89', '3.15', '0.18', '0.54', '0.25', '0.29', '0.34',\n",
              "       '0.61', '0.27', '0.86', '0.87', '0.32', '0.44', '2.48', '0.48',\n",
              "       '0.47', '0.66', '0.76', '0.27M', '0.15M', '1.94', '0.97', '0.72',\n",
              "       '620K', '0.49', '5.36', '0.31', '0.62', '0.4', '0.57', '0.46',\n",
              "       '1.97', '1.02', '1.75', '0.28', '2.46', '0.38', '0.5', '0.9',\n",
              "       '0.19', '0.39', '0.67', '0.64', '0.37', '0.51', '2.83', '0.59',\n",
              "       '0.75', '0.52', '1.34', '760K', '80K', '5.09', '1.09', '2.19',\n",
              "       '2.17', '0.91', '2.26', '0.83', '0.74', '0.88', '0.77', '1.24',\n",
              "       '0.92', '0.8', '0.36', '20K', '1.15', '0.58', '1.51', '0M', '40K',\n",
              "       '1.14', '2560K', '2.09', '1.63', '2.8', '2.65', '2.07', '1.89',\n",
              "       '0.73', '0.42', '5.81', '440K', '1.39', '0.71', '0.84', '1.3',\n",
              "       '280K', '10K', '1.83', '0.85', '1.16', '2.12', '1.53', '1.58',\n",
              "       '0.56', '0.11M', '1.56', '1.06', '1.41', '660K', '0.65', '0.32M',\n",
              "       '0.82', '0.6', '0.78', '6.06', '0.95', '1.31', '4.32', '1.17',\n",
              "       '1.07', '1.25', '4.28', '1.68', '0.68', '29.02', '0.04M', '1.55',\n",
              "       '1.1', '2.15', '9.2', '0.99', '3.29', '4.29', '0.79M', '1.27',\n",
              "       '1.77', '3.52', '1.61', '11.01', '0.16M', '0.61M', '8.03', '9.27',\n",
              "       '30K', '1.03', '1.08', '1.37', '0.69', '1.28', '1.47', '130K',\n",
              "       '1.19', '0.05M', '3.58', '1.92', '2.3', '1.22', '0.66M', '5.88',\n",
              "       '3.37', '1.01', '1.73', '4.94', '0.94', '1.86', '1', '0.21M',\n",
              "       '70K', '1.2', '1.29', '1.79', '0.98', '0.79', '0.02M', '1.4',\n",
              "       '1.57', '210K', '2.27', '2.77', '3.87', '1.13', '1.24M', '3.02',\n",
              "       '1.5', '1.78', '1350K', '0.7', '110K', '5.49', '6.42', '1.66',\n",
              "       '1.36', '1.23', '2.63', '1.95', '1.18', '0.81', '6.21', '1.33',\n",
              "       '2.71', '1.72', '4.88', '0.19M', '3.63', '1.05', '3.73', '2.75',\n",
              "       '4.3', '2.78', '2.85M', '3.42', '2.21', '1.35', '2.02', '2.04',\n",
              "       '9.23', '1.71', '3.3', '2.43', '1.43', '370K', '1.88', '8.89',\n",
              "       '2.93M', '2130K', '2', '2.28', '1.49', '0.06M', '2.01', '1.52',\n",
              "       '2.55', '3.69', '3.9', '5.04', '1.26', '1.87', '2.1', '1.59',\n",
              "       '2.32', '190K', '5.05', '2.05', '100K', '2.35', '2.89', '6.18',\n",
              "       '2.93', '140K', '1.96', '2.79', '1.04', '1.38', '4.51', '1.42',\n",
              "       '260K', '0.13M', '1.91', '4.44', '300K', '2.29M', '0.12M', '3.07',\n",
              "       '1.85', '4.52', '1.99', '3.28', '1.8', '7.57', '1.65', '0.93',\n",
              "       '0.07M', '8.59', '5.31', '1.9', '2.22', '1.98', '0.96', '1.74',\n",
              "       '3.91', '11', '3.03', '0.59M', '2.86', '2.23', '1.69', '1.54',\n",
              "       '2.47', '1.84', '1.44', '3.4', '290K', '3.48', '3.11', '12.88',\n",
              "       '2.99', '2.11', '2.39', '3.75', '9.26', '0.08M', '0.37M', '320K',\n",
              "       '2.25', '90K', '3.1', '1.62', '5.82', '960K', '200K', '3.14',\n",
              "       '2.36', '2.4', '2.64', '3.44', '2.61', '1.21', '1.93', '1.53M',\n",
              "       '1.64', '60K', '160K', '3.76', '2.51', '2.42', '7.06'],\n",
              "      dtype=object)"
            ]
          },
          "metadata": {},
          "execution_count": 98
        }
      ]
    },
    {
      "cell_type": "code",
      "source": [
        "df['EU_Sales'] = df['EU_Sales'].replace({\"K\":\"*1e-3\", \"M\":\"\"}, regex=True).map(pd.eval)"
      ],
      "metadata": {
        "id": "_O265m6NBcD9"
      },
      "execution_count": 99,
      "outputs": []
    },
    {
      "cell_type": "code",
      "source": [
        "df.loc[:,'EU_Sales'].unique()"
      ],
      "metadata": {
        "colab": {
          "base_uri": "https://localhost:8080/"
        },
        "outputId": "dd430308-43c2-4f1a-9c1f-e5fb09039365",
        "id": "F6Mv7O9OBcD-"
      },
      "execution_count": 100,
      "outputs": [
        {
          "output_type": "execute_result",
          "data": {
            "text/plain": [
              "array([0.000e+00, 9.000e-02, 1.000e-02, 3.000e-02, 3.300e-01, 5.000e-02,\n",
              "       2.000e-02, 1.600e-01, 4.500e-01, 4.000e-02, 5.300e-01, 2.300e-01,\n",
              "       1.000e-01, 2.200e-01, 2.000e-01, 8.000e-02, 2.600e-01, 7.000e-02,\n",
              "       1.100e-01, 1.700e-01, 6.000e-02, 1.400e-01, 1.200e-01, 2.400e-01,\n",
              "       1.300e-01, 2.100e-01, 1.500e-01, 3.000e-01, 2.380e+00, 5.500e-01,\n",
              "       1.120e+00, 4.300e-01, 6.300e-01, 3.500e-01, 1.110e+00, 4.100e-01,\n",
              "       8.900e-01, 3.150e+00, 1.800e-01, 5.400e-01, 2.500e-01, 2.900e-01,\n",
              "       3.400e-01, 6.100e-01, 2.700e-01, 8.600e-01, 8.700e-01, 3.200e-01,\n",
              "       4.400e-01, 2.480e+00, 4.800e-01, 4.700e-01, 6.600e-01, 7.600e-01,\n",
              "       1.940e+00, 9.700e-01, 7.200e-01, 6.200e-01, 4.900e-01, 5.360e+00,\n",
              "       3.100e-01, 4.000e-01, 5.700e-01, 4.600e-01, 1.970e+00, 1.020e+00,\n",
              "       1.750e+00, 2.800e-01, 2.460e+00, 3.800e-01, 5.000e-01, 9.000e-01,\n",
              "       1.900e-01, 3.900e-01, 6.700e-01, 6.400e-01, 3.700e-01, 5.100e-01,\n",
              "       2.830e+00, 5.900e-01, 7.500e-01, 5.200e-01, 1.340e+00, 5.090e+00,\n",
              "       1.090e+00, 2.190e+00, 2.170e+00, 9.100e-01, 2.260e+00, 8.300e-01,\n",
              "       7.400e-01, 8.800e-01, 7.700e-01, 1.240e+00, 9.200e-01, 8.000e-01,\n",
              "       3.600e-01, 1.150e+00, 5.800e-01, 1.510e+00, 1.140e+00, 2.560e+00,\n",
              "       2.090e+00, 1.630e+00, 2.800e+00, 2.650e+00, 2.070e+00, 1.890e+00,\n",
              "       7.300e-01, 4.200e-01, 5.810e+00, 1.390e+00, 7.100e-01, 8.400e-01,\n",
              "       1.300e+00, 1.830e+00, 8.500e-01, 1.160e+00, 2.120e+00, 1.530e+00,\n",
              "       1.580e+00, 5.600e-01, 1.560e+00, 1.060e+00, 1.410e+00, 6.500e-01,\n",
              "       8.200e-01, 6.000e-01, 7.800e-01, 6.060e+00, 9.500e-01, 1.310e+00,\n",
              "       4.320e+00, 1.170e+00, 1.070e+00, 1.250e+00, 4.280e+00, 1.680e+00,\n",
              "       6.800e-01, 2.902e+01, 1.550e+00, 1.100e+00, 2.150e+00, 9.200e+00,\n",
              "       9.900e-01, 3.290e+00, 4.290e+00, 7.900e-01, 1.270e+00, 1.770e+00,\n",
              "       3.520e+00, 1.610e+00, 1.101e+01, 8.030e+00, 9.270e+00, 1.030e+00,\n",
              "       1.080e+00, 1.370e+00, 6.900e-01, 1.280e+00, 1.470e+00, 1.190e+00,\n",
              "       3.580e+00, 1.920e+00, 2.300e+00, 1.220e+00, 5.880e+00, 3.370e+00,\n",
              "       1.010e+00, 1.730e+00, 4.940e+00, 9.400e-01, 1.860e+00, 1.000e+00,\n",
              "       1.200e+00, 1.290e+00, 1.790e+00, 9.800e-01, 1.400e+00, 1.570e+00,\n",
              "       2.270e+00, 2.770e+00, 3.870e+00, 1.130e+00, 3.020e+00, 1.500e+00,\n",
              "       1.780e+00, 1.350e+00, 7.000e-01, 5.490e+00, 6.420e+00, 1.660e+00,\n",
              "       1.360e+00, 1.230e+00, 2.630e+00, 1.950e+00, 1.180e+00, 8.100e-01,\n",
              "       6.210e+00, 1.330e+00, 2.710e+00, 1.720e+00, 4.880e+00, 3.630e+00,\n",
              "       1.050e+00, 3.730e+00, 2.750e+00, 4.300e+00, 2.780e+00, 2.850e+00,\n",
              "       3.420e+00, 2.210e+00, 2.020e+00, 2.040e+00, 9.230e+00, 1.710e+00,\n",
              "       3.300e+00, 2.430e+00, 1.430e+00, 1.880e+00, 8.890e+00, 2.930e+00,\n",
              "       2.130e+00, 2.000e+00, 2.280e+00, 1.490e+00, 2.010e+00, 1.520e+00,\n",
              "       2.550e+00, 3.690e+00, 3.900e+00, 5.040e+00, 1.260e+00, 1.870e+00,\n",
              "       2.100e+00, 1.590e+00, 2.320e+00, 5.050e+00, 2.050e+00, 2.350e+00,\n",
              "       2.890e+00, 6.180e+00, 1.960e+00, 2.790e+00, 1.040e+00, 1.380e+00,\n",
              "       4.510e+00, 1.420e+00, 1.910e+00, 4.440e+00, 2.290e+00, 3.070e+00,\n",
              "       1.850e+00, 4.520e+00, 1.990e+00, 3.280e+00, 1.800e+00, 7.570e+00,\n",
              "       1.650e+00, 9.300e-01, 8.590e+00, 5.310e+00, 1.900e+00, 2.220e+00,\n",
              "       1.980e+00, 9.600e-01, 1.740e+00, 3.910e+00, 1.100e+01, 3.030e+00,\n",
              "       2.860e+00, 2.230e+00, 1.690e+00, 1.540e+00, 2.470e+00, 1.840e+00,\n",
              "       1.440e+00, 3.400e+00, 3.480e+00, 3.110e+00, 1.288e+01, 2.990e+00,\n",
              "       2.110e+00, 2.390e+00, 3.750e+00, 9.260e+00, 2.250e+00, 3.100e+00,\n",
              "       1.620e+00, 5.820e+00, 3.140e+00, 2.360e+00, 2.400e+00, 2.640e+00,\n",
              "       3.440e+00, 2.610e+00, 1.210e+00, 1.930e+00, 1.640e+00, 3.760e+00,\n",
              "       2.510e+00, 2.420e+00, 7.060e+00])"
            ]
          },
          "metadata": {},
          "execution_count": 100
        }
      ]
    },
    {
      "cell_type": "markdown",
      "source": [
        "#### JP_Sales\n",
        "숫자, 숫자M, 숫자K 3경우 데이터가 보인다. 데이터 절삭이 있어 소수점 3째자리 부터 숫자를 알 수 없다. 때문에 해당 스케일을 맞추기 위해 이들 단위를 기존 100만으로 맞춰준다.\n",
        "* 숫자: 단위 100만으로 나둔다.\n",
        "* 숫자M: 단위는 100만으로 맞으므로 M만을 제거한다.\n",
        "* 숫자K: 단위가 1천으로 K를 제거 후 1,000으로 나눈다.\n",
        "* 소수점 3째자리 부터 절삭한 것으로 보인다.  \n",
        "\n",
        "데이터형 변경: 'object' -> 'float'  \n",
        "* sales는 출고량이므로 float로 변경(단위 100만)"
      ],
      "metadata": {
        "id": "bLimE7388b-L"
      }
    },
    {
      "cell_type": "code",
      "source": [
        "df.loc[:,'JP_Sales'].unique()"
      ],
      "metadata": {
        "colab": {
          "base_uri": "https://localhost:8080/"
        },
        "outputId": "393ce391-6bf2-45bc-f01b-cb76688f12d3",
        "id": "k3yHu_QoBfkC"
      },
      "execution_count": 101,
      "outputs": [
        {
          "output_type": "execute_result",
          "data": {
            "text/plain": [
              "array(['0', '0.02', '0.14', '0.11', '0.04', '0K', '0.03', '0.01', '0.08',\n",
              "       '0.3', '0.25', '0.05', '0.16', '0.12', '0.07', '0.85', '0.37',\n",
              "       '0.41', '0.51', '0.89', '1.17', '0.13', '0.17', '0.6', '0.06',\n",
              "       '0.53', '1.25', '0.18', '0.15', '4.1', '0.22', '0.46', '0.34',\n",
              "       '1.2', '0.31', '0.65', '0.21', '1.96', '0.09', '0.28', '0.64',\n",
              "       '0.57', '0.36', '0.19', '0.26', '0.75', '0.44', '0.27', '0.5',\n",
              "       '0.62', '0.87', '0.2', '0.23', '2.35', '0.69', '0.97', '0.01M',\n",
              "       '0.49', '5.32', '0.4', '2.62', '1.08', '0.56', '0.1', '2.23',\n",
              "       '1.07', '0.47', '0M', '0.29', '0.76', '0.72', '0.33', '0.91',\n",
              "       '0.74', '0.24', '0.55', '0.48', '0.32', '30K', '0.7', '0.75M',\n",
              "       '0.9', '0.86', '1.18', '0.45M', '0.63', '0.35', '1.87', '1.31',\n",
              "       '0.38', '1.75', '0.06M', '1.06', '1.13', '4.22', '1.1', '0.88',\n",
              "       '0.59', '0.83', '1.12', '1.33', '1.26', '1.35', '40K', '0.99',\n",
              "       '1.29', '50K', '0.02M', '0.79', '0.45', '3.15M', '1.39', '0.39',\n",
              "       '4.87', '2.55', '2.73', '0.42', '1', '1.45', '1.01', '1.38',\n",
              "       '0.77', '0.96', '2.2', '0.78', '1.11', '210K', '0.54', '160K',\n",
              "       '0.73', '1.52', '3.03', '1.34', '0.8', '1.05', '120K', '0.81',\n",
              "       '1.04', '3.77', '0.93', '2.12', '2.93', '1.21', '0.43', '80K',\n",
              "       '1.15', '20K', '5.33', '1.97', '3.28', '1.09', '3.6', '2780K',\n",
              "       '0.52', '1.53', '0.71', '1.69', '0.58', '2.41', '6.81', '1.27',\n",
              "       '3.08', '1.44', '0.84', '4.13', '0.92', '1.49', '3.96', '2.54',\n",
              "       '1.5', '2.1', '1.36', '0.66', '0.03M', '130K', '0.77M', '2.68',\n",
              "       '4.35', '240K', '2.46', '2.02', '2.28', '3.63', '470K', '1.03',\n",
              "       '330K', '1.6', '1.91', '1.19', '1.3', '2.11', '1.57', '1.14',\n",
              "       '0.07M', '2.69', '0.71M', '6.5', '0.82', '0.1M', '3', '150K',\n",
              "       '0.13M', '10K', '1.98', '0.67', '10.22', '70K', '0.93M', '1.71',\n",
              "       '3.67', '2.65', '2.43', '3.12M', '2.06', '0.16M', '4.36', '0.11M',\n",
              "       '90K', '1.42', '0.94', '7.2', '1020K', '4.18', '2.32', '3.81',\n",
              "       '2.78', '1.56', '260K', '1.61', '1.46', '1.63', '1.76', '2.13',\n",
              "       '2.47', '1.54', '0.05M', '1.48', '6.04', '5.65', '0.68', '0.61',\n",
              "       '2.53', '5.38', '1.4', '1.81', '2.67', '1.93', '3.19', '1.51',\n",
              "       '2.34', '2', '1.24', '1.28', '2.87', '3.79', '0.09M', '2.42',\n",
              "       '3.18', '0.04M', '3.54', '4.16', '1.65', '1.16', '1.7', '0.95',\n",
              "       '3.61', '3.84', '2.66', '1.89', '1.58', '0.98', '3.44', '3.14',\n",
              "       '2.17', '1.06M', '2.05', '1.32', '4.7', '1.37'], dtype=object)"
            ]
          },
          "metadata": {},
          "execution_count": 101
        }
      ]
    },
    {
      "cell_type": "code",
      "source": [
        "df['JP_Sales'] = df['JP_Sales'].replace({\"K\":\"*1e-3\", \"M\":\"\"}, regex=True).map(pd.eval)"
      ],
      "metadata": {
        "id": "aPwCirRgBfkC"
      },
      "execution_count": 102,
      "outputs": []
    },
    {
      "cell_type": "code",
      "source": [
        "df.loc[:,'JP_Sales'].unique()"
      ],
      "metadata": {
        "colab": {
          "base_uri": "https://localhost:8080/"
        },
        "outputId": "ff097e31-df44-4cd4-8894-989975e9cac1",
        "id": "3eJRws7cBfkC"
      },
      "execution_count": 103,
      "outputs": [
        {
          "output_type": "execute_result",
          "data": {
            "text/plain": [
              "array([0.000e+00, 2.000e-02, 1.400e-01, 1.100e-01, 4.000e-02, 3.000e-02,\n",
              "       1.000e-02, 8.000e-02, 3.000e-01, 2.500e-01, 5.000e-02, 1.600e-01,\n",
              "       1.200e-01, 7.000e-02, 8.500e-01, 3.700e-01, 4.100e-01, 5.100e-01,\n",
              "       8.900e-01, 1.170e+00, 1.300e-01, 1.700e-01, 6.000e-01, 6.000e-02,\n",
              "       5.300e-01, 1.250e+00, 1.800e-01, 1.500e-01, 4.100e+00, 2.200e-01,\n",
              "       4.600e-01, 3.400e-01, 1.200e+00, 3.100e-01, 6.500e-01, 2.100e-01,\n",
              "       1.960e+00, 9.000e-02, 2.800e-01, 6.400e-01, 5.700e-01, 3.600e-01,\n",
              "       1.900e-01, 2.600e-01, 7.500e-01, 4.400e-01, 2.700e-01, 5.000e-01,\n",
              "       6.200e-01, 8.700e-01, 2.000e-01, 2.300e-01, 2.350e+00, 6.900e-01,\n",
              "       9.700e-01, 4.900e-01, 5.320e+00, 4.000e-01, 2.620e+00, 1.080e+00,\n",
              "       5.600e-01, 1.000e-01, 2.230e+00, 1.070e+00, 4.700e-01, 2.900e-01,\n",
              "       7.600e-01, 7.200e-01, 3.300e-01, 9.100e-01, 7.400e-01, 2.400e-01,\n",
              "       5.500e-01, 4.800e-01, 3.200e-01, 7.000e-01, 9.000e-01, 8.600e-01,\n",
              "       1.180e+00, 4.500e-01, 6.300e-01, 3.500e-01, 1.870e+00, 1.310e+00,\n",
              "       3.800e-01, 1.750e+00, 1.060e+00, 1.130e+00, 4.220e+00, 1.100e+00,\n",
              "       8.800e-01, 5.900e-01, 8.300e-01, 1.120e+00, 1.330e+00, 1.260e+00,\n",
              "       1.350e+00, 9.900e-01, 1.290e+00, 7.900e-01, 3.150e+00, 1.390e+00,\n",
              "       3.900e-01, 4.870e+00, 2.550e+00, 2.730e+00, 4.200e-01, 1.000e+00,\n",
              "       1.450e+00, 1.010e+00, 1.380e+00, 7.700e-01, 9.600e-01, 2.200e+00,\n",
              "       7.800e-01, 1.110e+00, 5.400e-01, 7.300e-01, 1.520e+00, 3.030e+00,\n",
              "       1.340e+00, 8.000e-01, 1.050e+00, 8.100e-01, 1.040e+00, 3.770e+00,\n",
              "       9.300e-01, 2.120e+00, 2.930e+00, 1.210e+00, 4.300e-01, 1.150e+00,\n",
              "       5.330e+00, 1.970e+00, 3.280e+00, 1.090e+00, 3.600e+00, 2.780e+00,\n",
              "       5.200e-01, 1.530e+00, 7.100e-01, 1.690e+00, 5.800e-01, 2.410e+00,\n",
              "       6.810e+00, 1.270e+00, 3.080e+00, 1.440e+00, 8.400e-01, 4.130e+00,\n",
              "       9.200e-01, 1.490e+00, 3.960e+00, 2.540e+00, 1.500e+00, 2.100e+00,\n",
              "       1.360e+00, 6.600e-01, 2.680e+00, 4.350e+00, 2.460e+00, 2.020e+00,\n",
              "       2.280e+00, 3.630e+00, 4.700e-01, 1.030e+00, 1.600e+00, 1.910e+00,\n",
              "       1.190e+00, 1.300e+00, 2.110e+00, 1.570e+00, 1.140e+00, 2.690e+00,\n",
              "       6.500e+00, 8.200e-01, 3.000e+00, 1.980e+00, 6.700e-01, 1.022e+01,\n",
              "       1.710e+00, 3.670e+00, 2.650e+00, 2.430e+00, 3.120e+00, 2.060e+00,\n",
              "       4.360e+00, 1.420e+00, 9.400e-01, 7.200e+00, 1.020e+00, 4.180e+00,\n",
              "       2.320e+00, 3.810e+00, 2.780e+00, 1.560e+00, 1.610e+00, 1.460e+00,\n",
              "       1.630e+00, 1.760e+00, 2.130e+00, 2.470e+00, 1.540e+00, 1.480e+00,\n",
              "       6.040e+00, 5.650e+00, 6.800e-01, 6.100e-01, 2.530e+00, 5.380e+00,\n",
              "       1.400e+00, 1.810e+00, 2.670e+00, 1.930e+00, 3.190e+00, 1.510e+00,\n",
              "       2.340e+00, 2.000e+00, 1.240e+00, 1.280e+00, 2.870e+00, 3.790e+00,\n",
              "       2.420e+00, 3.180e+00, 3.540e+00, 4.160e+00, 1.650e+00, 1.160e+00,\n",
              "       1.700e+00, 9.500e-01, 3.610e+00, 3.840e+00, 2.660e+00, 1.890e+00,\n",
              "       1.580e+00, 9.800e-01, 3.440e+00, 3.140e+00, 2.170e+00, 2.050e+00,\n",
              "       1.320e+00, 4.700e+00, 1.370e+00])"
            ]
          },
          "metadata": {},
          "execution_count": 103
        }
      ]
    },
    {
      "cell_type": "markdown",
      "source": [
        "#### Other_Sales\n",
        "숫자, 숫자M, 숫자K 3경우 데이터가 보인다. 데이터 절삭이 있어 소수점 3째자리 부터 숫자를 알 수 없다. 때문에 해당 스케일을 맞추기 위해 이들 단위를 기존 100만으로 맞춰준다.\n",
        "* 숫자: 단위 100만으로 나둔다.\n",
        "* 숫자M: 단위는 100만으로 맞으므로 M만을 제거한다.\n",
        "* 숫자K: 단위가 1천으로 K를 제거 후 1,000으로 나눈다.\n",
        "* 소수점 3째자리 부터 절삭한 것으로 보인다.  \n",
        "\n",
        "데이터형 변경: 'object' -> 'float'  \n",
        "* sales는 출고량이므로 float로 변경(단위 100만)"
      ],
      "metadata": {
        "id": "ONsomysj8byr"
      }
    },
    {
      "cell_type": "code",
      "source": [
        "df.loc[:,'Other_Sales'].unique()"
      ],
      "metadata": {
        "colab": {
          "base_uri": "https://localhost:8080/"
        },
        "outputId": "1419e1b2-43ed-4dee-ceda-4cc20183267f",
        "id": "2LtvhZesBgWX"
      },
      "execution_count": 104,
      "outputs": [
        {
          "output_type": "execute_result",
          "data": {
            "text/plain": [
              "array(['0', '0.01', '0.04', '0.06', '0.15', '0.23', '0.02', '0.08',\n",
              "       '0.05', '0.03', '0.1', '0M', '0.01M', '0.2', '0.9', '0.32', '0.07',\n",
              "       '0.34', '0.22', '0.37', '0.14', '1.07', '10K', '0.25', '0K',\n",
              "       '0.24', '0.16', '0.09', '0.21', '0.58', '30K', '0.13', '0.18',\n",
              "       '0.12', '0.27', '0.77', '0.39', '0.44', '0.26', '1.18', '0.11',\n",
              "       '0.72', '0.28', '0.19', '1.09', '0.54', '0.06M', '1.75', '2.46',\n",
              "       '0.31', '0.17', '0.33', '1.16', '0.7', '50K', '0.42', '0.29',\n",
              "       '0.41', '0.61', '1.14', '0.64', '0.43', '0.3', '0.35', '0.66',\n",
              "       '0.05M', '0.4', '2.02', '0.79', '0.69', '0.73', '0.18M', '0.99',\n",
              "       '40K', '80K', '0.36', '1.26', '0.52', '1.73', '0.03M', '0.47',\n",
              "       '1.68', '0.48', '1.32', '0.59', '8.46', '2.85', '1.23', '0.75',\n",
              "       '1.47', '0.49', '0.88', '0.57', '2.96', '2.15', '4.14', '0.53',\n",
              "       '0.04M', '0.38', '0.02M', '0.46', '0.65', '0.51', '1.04', '2.52',\n",
              "       '0.78', '1.67', '0.2M', '1.48', '0.87', '1.41', '20K', '0.5',\n",
              "       '1.78', '340K', '0.71', '60K', '0.63', '0.82', '0.45', '1.05',\n",
              "       '0.1M', '2.12', '1.29', '1.13', '1.21', '1.12', '0.62', '1.02',\n",
              "       '0.56', '0.83', '0.59M', '0.08M', '1.38', '2.9', '190K', '1.37',\n",
              "       '0.55', '0.13M', '270K', '1', '1.01', '2.93', '0.84', '1.63',\n",
              "       '0.91', '2.01', '2.31', '1.1', '0.76', '1.3', '0.96', '1.83',\n",
              "       '1.33', '0.6', '0.68', '0.74', '1.92', '1.79', '0.94', '0.89',\n",
              "       '2.75', '0.85', '0.8', '1.51', '1.06', '0.14M', '120K', '0.98',\n",
              "       '0.93', '3.31', '0.67', '230K', '0.86', '2.05', '1.42', '1.82',\n",
              "       '1.03', '1.62', '310K', '7.53', '10.57', '0.4M', '0.31M', '560K',\n",
              "       '0.22M', '70K', '1.93', '2.26'], dtype=object)"
            ]
          },
          "metadata": {},
          "execution_count": 104
        }
      ]
    },
    {
      "cell_type": "code",
      "source": [
        "df['Other_Sales'] = df['Other_Sales'].replace({\"K\":\"*1e-3\", \"M\":\"\"}, regex=True).map(pd.eval)"
      ],
      "metadata": {
        "id": "-ds7vfxlBgWX"
      },
      "execution_count": 105,
      "outputs": []
    },
    {
      "cell_type": "code",
      "source": [
        "df.loc[:,'Other_Sales'].unique()"
      ],
      "metadata": {
        "colab": {
          "base_uri": "https://localhost:8080/"
        },
        "outputId": "48402d84-c7a1-45ab-e7eb-aa4f75835fe7",
        "id": "e_LMXwojBgWX"
      },
      "execution_count": 106,
      "outputs": [
        {
          "output_type": "execute_result",
          "data": {
            "text/plain": [
              "array([0.000e+00, 1.000e-02, 4.000e-02, 6.000e-02, 1.500e-01, 2.300e-01,\n",
              "       2.000e-02, 8.000e-02, 5.000e-02, 3.000e-02, 1.000e-01, 2.000e-01,\n",
              "       9.000e-01, 3.200e-01, 7.000e-02, 3.400e-01, 2.200e-01, 3.700e-01,\n",
              "       1.400e-01, 1.070e+00, 2.500e-01, 2.400e-01, 1.600e-01, 9.000e-02,\n",
              "       2.100e-01, 5.800e-01, 1.300e-01, 1.800e-01, 1.200e-01, 2.700e-01,\n",
              "       7.700e-01, 3.900e-01, 4.400e-01, 2.600e-01, 1.180e+00, 1.100e-01,\n",
              "       7.200e-01, 2.800e-01, 1.900e-01, 1.090e+00, 5.400e-01, 1.750e+00,\n",
              "       2.460e+00, 3.100e-01, 1.700e-01, 3.300e-01, 1.160e+00, 7.000e-01,\n",
              "       4.200e-01, 2.900e-01, 4.100e-01, 6.100e-01, 1.140e+00, 6.400e-01,\n",
              "       4.300e-01, 3.000e-01, 3.500e-01, 6.600e-01, 4.000e-01, 2.020e+00,\n",
              "       7.900e-01, 6.900e-01, 7.300e-01, 9.900e-01, 3.600e-01, 1.260e+00,\n",
              "       5.200e-01, 1.730e+00, 4.700e-01, 1.680e+00, 4.800e-01, 1.320e+00,\n",
              "       5.900e-01, 8.460e+00, 2.850e+00, 1.230e+00, 7.500e-01, 1.470e+00,\n",
              "       4.900e-01, 8.800e-01, 5.700e-01, 2.960e+00, 2.150e+00, 4.140e+00,\n",
              "       5.300e-01, 3.800e-01, 4.600e-01, 6.500e-01, 5.100e-01, 1.040e+00,\n",
              "       2.520e+00, 7.800e-01, 1.670e+00, 1.480e+00, 8.700e-01, 1.410e+00,\n",
              "       5.000e-01, 1.780e+00, 7.100e-01, 6.300e-01, 8.200e-01, 4.500e-01,\n",
              "       1.050e+00, 2.120e+00, 1.290e+00, 1.130e+00, 1.210e+00, 1.120e+00,\n",
              "       6.200e-01, 1.020e+00, 5.600e-01, 8.300e-01, 1.380e+00, 2.900e+00,\n",
              "       1.370e+00, 5.500e-01, 1.000e+00, 1.010e+00, 2.930e+00, 8.400e-01,\n",
              "       1.630e+00, 9.100e-01, 2.010e+00, 2.310e+00, 1.100e+00, 7.600e-01,\n",
              "       1.300e+00, 9.600e-01, 1.830e+00, 1.330e+00, 6.000e-01, 6.800e-01,\n",
              "       7.400e-01, 1.920e+00, 1.790e+00, 9.400e-01, 8.900e-01, 2.750e+00,\n",
              "       8.500e-01, 8.000e-01, 1.510e+00, 1.060e+00, 9.800e-01, 9.300e-01,\n",
              "       3.310e+00, 6.700e-01, 8.600e-01, 2.050e+00, 1.420e+00, 1.820e+00,\n",
              "       1.030e+00, 1.620e+00, 7.530e+00, 1.057e+01, 1.930e+00, 2.260e+00])"
            ]
          },
          "metadata": {},
          "execution_count": 106
        }
      ]
    },
    {
      "cell_type": "markdown",
      "source": [
        "### Feature추가(출고량 합)"
      ],
      "metadata": {
        "id": "saP4Id5Jwc0S"
      }
    },
    {
      "cell_type": "code",
      "source": [
        "df['Total_Sales'] = df['NA_Sales'] + df['EU_Sales'] + df['JP_Sales'] + df['Other_Sales']"
      ],
      "metadata": {
        "id": "Zrqi0jwIw1Wl"
      },
      "execution_count": 107,
      "outputs": []
    },
    {
      "cell_type": "markdown",
      "source": [
        "### 최종 데이터"
      ],
      "metadata": {
        "id": "rDQXvi85CPiT"
      }
    },
    {
      "cell_type": "code",
      "source": [
        "df"
      ],
      "metadata": {
        "colab": {
          "base_uri": "https://localhost:8080/",
          "height": 0
        },
        "id": "z5DOoCs9CBY7",
        "outputId": "a7a58281-5ca2-407e-a26b-a57a3dab62ad"
      },
      "execution_count": 108,
      "outputs": [
        {
          "output_type": "execute_result",
          "data": {
            "text/plain": [
              "                                                 Name Platform  Year  \\\n",
              "0                        Candace Kane's Candy Factory       DS  2008   \n",
              "1                                      The Munchables      Wii  2009   \n",
              "2      Otome wa Oanesama Boku ni Koi Shiteru Portable      PSP  2010   \n",
              "3                    Deal or No Deal: Special Edition       DS  2010   \n",
              "4           Ben 10 Ultimate Alien: Cosmic Destruction      PS3  2010   \n",
              "...                                               ...      ...   ...   \n",
              "16592                         Ice Age 2: The Meltdown       GC  2006   \n",
              "16593                     Rainbow Islands: Revolution      PSP  2005   \n",
              "16594                                        NBA 2K16      PS3  2015   \n",
              "16595                     Toukiden: The Age of Demons      PSV  2013   \n",
              "16596                        The King of Fighters '95       PS  1996   \n",
              "\n",
              "           Genre                    Publisher  NA_Sales  EU_Sales  JP_Sales  \\\n",
              "0         Action                    Destineer      0.04      0.00      0.00   \n",
              "1         Action           Namco Bandai Games      0.17      0.00      0.00   \n",
              "2      Adventure                    Alchemist      0.00      0.00      0.02   \n",
              "3           Misc                    Zoo Games      0.04      0.00      0.00   \n",
              "4       Platform                  D3Publisher      0.12      0.09      0.00   \n",
              "...          ...                          ...       ...       ...       ...   \n",
              "16592   Platform                Vivendi Games      0.15      0.04      0.00   \n",
              "16593     Action            Rising Star Games      0.01      0.00      0.00   \n",
              "16594     Sports         Take-Two Interactive      0.44      0.19      0.03   \n",
              "16595     Action                   Tecmo Koei      0.05      0.05      0.25   \n",
              "16596   Fighting  Sony Computer Entertainment      0.00      0.00      0.16   \n",
              "\n",
              "       Other_Sales  Total_Sales  \n",
              "0             0.00         0.04  \n",
              "1             0.01         0.18  \n",
              "2             0.00         0.02  \n",
              "3             0.00         0.04  \n",
              "4             0.04         0.25  \n",
              "...            ...          ...  \n",
              "16592         0.01         0.20  \n",
              "16593         0.00         0.01  \n",
              "16594         0.13         0.79  \n",
              "16595         0.03         0.38  \n",
              "16596         0.01         0.17  \n",
              "\n",
              "[16241 rows x 10 columns]"
            ],
            "text/html": [
              "\n",
              "  <div id=\"df-6b88d984-b66b-40b7-b4a1-de42eb6b1ef7\">\n",
              "    <div class=\"colab-df-container\">\n",
              "      <div>\n",
              "<style scoped>\n",
              "    .dataframe tbody tr th:only-of-type {\n",
              "        vertical-align: middle;\n",
              "    }\n",
              "\n",
              "    .dataframe tbody tr th {\n",
              "        vertical-align: top;\n",
              "    }\n",
              "\n",
              "    .dataframe thead th {\n",
              "        text-align: right;\n",
              "    }\n",
              "</style>\n",
              "<table border=\"1\" class=\"dataframe\">\n",
              "  <thead>\n",
              "    <tr style=\"text-align: right;\">\n",
              "      <th></th>\n",
              "      <th>Name</th>\n",
              "      <th>Platform</th>\n",
              "      <th>Year</th>\n",
              "      <th>Genre</th>\n",
              "      <th>Publisher</th>\n",
              "      <th>NA_Sales</th>\n",
              "      <th>EU_Sales</th>\n",
              "      <th>JP_Sales</th>\n",
              "      <th>Other_Sales</th>\n",
              "      <th>Total_Sales</th>\n",
              "    </tr>\n",
              "  </thead>\n",
              "  <tbody>\n",
              "    <tr>\n",
              "      <th>0</th>\n",
              "      <td>Candace Kane's Candy Factory</td>\n",
              "      <td>DS</td>\n",
              "      <td>2008</td>\n",
              "      <td>Action</td>\n",
              "      <td>Destineer</td>\n",
              "      <td>0.04</td>\n",
              "      <td>0.00</td>\n",
              "      <td>0.00</td>\n",
              "      <td>0.00</td>\n",
              "      <td>0.04</td>\n",
              "    </tr>\n",
              "    <tr>\n",
              "      <th>1</th>\n",
              "      <td>The Munchables</td>\n",
              "      <td>Wii</td>\n",
              "      <td>2009</td>\n",
              "      <td>Action</td>\n",
              "      <td>Namco Bandai Games</td>\n",
              "      <td>0.17</td>\n",
              "      <td>0.00</td>\n",
              "      <td>0.00</td>\n",
              "      <td>0.01</td>\n",
              "      <td>0.18</td>\n",
              "    </tr>\n",
              "    <tr>\n",
              "      <th>2</th>\n",
              "      <td>Otome wa Oanesama Boku ni Koi Shiteru Portable</td>\n",
              "      <td>PSP</td>\n",
              "      <td>2010</td>\n",
              "      <td>Adventure</td>\n",
              "      <td>Alchemist</td>\n",
              "      <td>0.00</td>\n",
              "      <td>0.00</td>\n",
              "      <td>0.02</td>\n",
              "      <td>0.00</td>\n",
              "      <td>0.02</td>\n",
              "    </tr>\n",
              "    <tr>\n",
              "      <th>3</th>\n",
              "      <td>Deal or No Deal: Special Edition</td>\n",
              "      <td>DS</td>\n",
              "      <td>2010</td>\n",
              "      <td>Misc</td>\n",
              "      <td>Zoo Games</td>\n",
              "      <td>0.04</td>\n",
              "      <td>0.00</td>\n",
              "      <td>0.00</td>\n",
              "      <td>0.00</td>\n",
              "      <td>0.04</td>\n",
              "    </tr>\n",
              "    <tr>\n",
              "      <th>4</th>\n",
              "      <td>Ben 10 Ultimate Alien: Cosmic Destruction</td>\n",
              "      <td>PS3</td>\n",
              "      <td>2010</td>\n",
              "      <td>Platform</td>\n",
              "      <td>D3Publisher</td>\n",
              "      <td>0.12</td>\n",
              "      <td>0.09</td>\n",
              "      <td>0.00</td>\n",
              "      <td>0.04</td>\n",
              "      <td>0.25</td>\n",
              "    </tr>\n",
              "    <tr>\n",
              "      <th>...</th>\n",
              "      <td>...</td>\n",
              "      <td>...</td>\n",
              "      <td>...</td>\n",
              "      <td>...</td>\n",
              "      <td>...</td>\n",
              "      <td>...</td>\n",
              "      <td>...</td>\n",
              "      <td>...</td>\n",
              "      <td>...</td>\n",
              "      <td>...</td>\n",
              "    </tr>\n",
              "    <tr>\n",
              "      <th>16592</th>\n",
              "      <td>Ice Age 2: The Meltdown</td>\n",
              "      <td>GC</td>\n",
              "      <td>2006</td>\n",
              "      <td>Platform</td>\n",
              "      <td>Vivendi Games</td>\n",
              "      <td>0.15</td>\n",
              "      <td>0.04</td>\n",
              "      <td>0.00</td>\n",
              "      <td>0.01</td>\n",
              "      <td>0.20</td>\n",
              "    </tr>\n",
              "    <tr>\n",
              "      <th>16593</th>\n",
              "      <td>Rainbow Islands: Revolution</td>\n",
              "      <td>PSP</td>\n",
              "      <td>2005</td>\n",
              "      <td>Action</td>\n",
              "      <td>Rising Star Games</td>\n",
              "      <td>0.01</td>\n",
              "      <td>0.00</td>\n",
              "      <td>0.00</td>\n",
              "      <td>0.00</td>\n",
              "      <td>0.01</td>\n",
              "    </tr>\n",
              "    <tr>\n",
              "      <th>16594</th>\n",
              "      <td>NBA 2K16</td>\n",
              "      <td>PS3</td>\n",
              "      <td>2015</td>\n",
              "      <td>Sports</td>\n",
              "      <td>Take-Two Interactive</td>\n",
              "      <td>0.44</td>\n",
              "      <td>0.19</td>\n",
              "      <td>0.03</td>\n",
              "      <td>0.13</td>\n",
              "      <td>0.79</td>\n",
              "    </tr>\n",
              "    <tr>\n",
              "      <th>16595</th>\n",
              "      <td>Toukiden: The Age of Demons</td>\n",
              "      <td>PSV</td>\n",
              "      <td>2013</td>\n",
              "      <td>Action</td>\n",
              "      <td>Tecmo Koei</td>\n",
              "      <td>0.05</td>\n",
              "      <td>0.05</td>\n",
              "      <td>0.25</td>\n",
              "      <td>0.03</td>\n",
              "      <td>0.38</td>\n",
              "    </tr>\n",
              "    <tr>\n",
              "      <th>16596</th>\n",
              "      <td>The King of Fighters '95</td>\n",
              "      <td>PS</td>\n",
              "      <td>1996</td>\n",
              "      <td>Fighting</td>\n",
              "      <td>Sony Computer Entertainment</td>\n",
              "      <td>0.00</td>\n",
              "      <td>0.00</td>\n",
              "      <td>0.16</td>\n",
              "      <td>0.01</td>\n",
              "      <td>0.17</td>\n",
              "    </tr>\n",
              "  </tbody>\n",
              "</table>\n",
              "<p>16241 rows × 10 columns</p>\n",
              "</div>\n",
              "      <button class=\"colab-df-convert\" onclick=\"convertToInteractive('df-6b88d984-b66b-40b7-b4a1-de42eb6b1ef7')\"\n",
              "              title=\"Convert this dataframe to an interactive table.\"\n",
              "              style=\"display:none;\">\n",
              "        \n",
              "  <svg xmlns=\"http://www.w3.org/2000/svg\" height=\"24px\"viewBox=\"0 0 24 24\"\n",
              "       width=\"24px\">\n",
              "    <path d=\"M0 0h24v24H0V0z\" fill=\"none\"/>\n",
              "    <path d=\"M18.56 5.44l.94 2.06.94-2.06 2.06-.94-2.06-.94-.94-2.06-.94 2.06-2.06.94zm-11 1L8.5 8.5l.94-2.06 2.06-.94-2.06-.94L8.5 2.5l-.94 2.06-2.06.94zm10 10l.94 2.06.94-2.06 2.06-.94-2.06-.94-.94-2.06-.94 2.06-2.06.94z\"/><path d=\"M17.41 7.96l-1.37-1.37c-.4-.4-.92-.59-1.43-.59-.52 0-1.04.2-1.43.59L10.3 9.45l-7.72 7.72c-.78.78-.78 2.05 0 2.83L4 21.41c.39.39.9.59 1.41.59.51 0 1.02-.2 1.41-.59l7.78-7.78 2.81-2.81c.8-.78.8-2.07 0-2.86zM5.41 20L4 18.59l7.72-7.72 1.47 1.35L5.41 20z\"/>\n",
              "  </svg>\n",
              "      </button>\n",
              "      \n",
              "  <style>\n",
              "    .colab-df-container {\n",
              "      display:flex;\n",
              "      flex-wrap:wrap;\n",
              "      gap: 12px;\n",
              "    }\n",
              "\n",
              "    .colab-df-convert {\n",
              "      background-color: #E8F0FE;\n",
              "      border: none;\n",
              "      border-radius: 50%;\n",
              "      cursor: pointer;\n",
              "      display: none;\n",
              "      fill: #1967D2;\n",
              "      height: 32px;\n",
              "      padding: 0 0 0 0;\n",
              "      width: 32px;\n",
              "    }\n",
              "\n",
              "    .colab-df-convert:hover {\n",
              "      background-color: #E2EBFA;\n",
              "      box-shadow: 0px 1px 2px rgba(60, 64, 67, 0.3), 0px 1px 3px 1px rgba(60, 64, 67, 0.15);\n",
              "      fill: #174EA6;\n",
              "    }\n",
              "\n",
              "    [theme=dark] .colab-df-convert {\n",
              "      background-color: #3B4455;\n",
              "      fill: #D2E3FC;\n",
              "    }\n",
              "\n",
              "    [theme=dark] .colab-df-convert:hover {\n",
              "      background-color: #434B5C;\n",
              "      box-shadow: 0px 1px 3px 1px rgba(0, 0, 0, 0.15);\n",
              "      filter: drop-shadow(0px 1px 2px rgba(0, 0, 0, 0.3));\n",
              "      fill: #FFFFFF;\n",
              "    }\n",
              "  </style>\n",
              "\n",
              "      <script>\n",
              "        const buttonEl =\n",
              "          document.querySelector('#df-6b88d984-b66b-40b7-b4a1-de42eb6b1ef7 button.colab-df-convert');\n",
              "        buttonEl.style.display =\n",
              "          google.colab.kernel.accessAllowed ? 'block' : 'none';\n",
              "\n",
              "        async function convertToInteractive(key) {\n",
              "          const element = document.querySelector('#df-6b88d984-b66b-40b7-b4a1-de42eb6b1ef7');\n",
              "          const dataTable =\n",
              "            await google.colab.kernel.invokeFunction('convertToInteractive',\n",
              "                                                     [key], {});\n",
              "          if (!dataTable) return;\n",
              "\n",
              "          const docLinkHtml = 'Like what you see? Visit the ' +\n",
              "            '<a target=\"_blank\" href=https://colab.research.google.com/notebooks/data_table.ipynb>data table notebook</a>'\n",
              "            + ' to learn more about interactive tables.';\n",
              "          element.innerHTML = '';\n",
              "          dataTable['output_type'] = 'display_data';\n",
              "          await google.colab.output.renderOutput(dataTable, element);\n",
              "          const docLink = document.createElement('div');\n",
              "          docLink.innerHTML = docLinkHtml;\n",
              "          element.appendChild(docLink);\n",
              "        }\n",
              "      </script>\n",
              "    </div>\n",
              "  </div>\n",
              "  "
            ]
          },
          "metadata": {},
          "execution_count": 108
        }
      ]
    },
    {
      "cell_type": "code",
      "source": [
        "df.info()"
      ],
      "metadata": {
        "colab": {
          "base_uri": "https://localhost:8080/"
        },
        "id": "ZBtz9US6DbQl",
        "outputId": "ddb9eef3-1495-459f-9440-013a7abf9dd9"
      },
      "execution_count": 109,
      "outputs": [
        {
          "output_type": "stream",
          "name": "stdout",
          "text": [
            "<class 'pandas.core.frame.DataFrame'>\n",
            "Int64Index: 16241 entries, 0 to 16596\n",
            "Data columns (total 10 columns):\n",
            " #   Column       Non-Null Count  Dtype  \n",
            "---  ------       --------------  -----  \n",
            " 0   Name         16241 non-null  object \n",
            " 1   Platform     16241 non-null  object \n",
            " 2   Year         16241 non-null  int64  \n",
            " 3   Genre        16241 non-null  object \n",
            " 4   Publisher    16241 non-null  object \n",
            " 5   NA_Sales     16241 non-null  float64\n",
            " 6   EU_Sales     16241 non-null  float64\n",
            " 7   JP_Sales     16241 non-null  float64\n",
            " 8   Other_Sales  16241 non-null  float64\n",
            " 9   Total_Sales  16241 non-null  float64\n",
            "dtypes: float64(5), int64(1), object(4)\n",
            "memory usage: 1.4+ MB\n"
          ]
        }
      ]
    },
    {
      "cell_type": "markdown",
      "source": [
        "## 시각화"
      ],
      "metadata": {
        "id": "zv0dausLKksd"
      }
    },
    {
      "cell_type": "markdown",
      "source": [
        "### Continuous variables 일원량분석(Univariate Exploration)"
      ],
      "metadata": {
        "id": "ZdO35MM4DigC"
      }
    },
    {
      "cell_type": "code",
      "source": [
        "import matplotlib.pyplot as plt\n",
        "import seaborn as sns"
      ],
      "metadata": {
        "id": "RDClr18cYw0c"
      },
      "execution_count": 34,
      "outputs": []
    },
    {
      "cell_type": "markdown",
      "source": [
        "#### NA_Sales"
      ],
      "metadata": {
        "id": "YxOfKWKvMnN2"
      }
    },
    {
      "cell_type": "markdown",
      "source": [
        "1) NA_Sales 통계량"
      ],
      "metadata": {
        "id": "ZEoSOTUZ16Fh"
      }
    },
    {
      "cell_type": "code",
      "source": [
        "df.NA_Sales.describe()"
      ],
      "metadata": {
        "colab": {
          "base_uri": "https://localhost:8080/"
        },
        "id": "ZJ0F59C1bsy2",
        "outputId": "3ace3501-5867-4510-d341-1fc9f81713e7"
      },
      "execution_count": 35,
      "outputs": [
        {
          "output_type": "execute_result",
          "data": {
            "text/plain": [
              "count    16241.000000\n",
              "mean         0.265195\n",
              "std          0.822431\n",
              "min          0.000000\n",
              "25%          0.000000\n",
              "50%          0.080000\n",
              "75%          0.240000\n",
              "max         41.490000\n",
              "Name: NA_Sales, dtype: float64"
            ]
          },
          "metadata": {},
          "execution_count": 35
        }
      ]
    },
    {
      "cell_type": "markdown",
      "source": [
        "2) Histogram"
      ],
      "metadata": {
        "id": "HDjIwhBmMATs"
      }
    },
    {
      "cell_type": "code",
      "source": [
        "plt.hist(df.NA_Sales)"
      ],
      "metadata": {
        "colab": {
          "base_uri": "https://localhost:8080/",
          "height": 354
        },
        "id": "WYrXCyIYM-AX",
        "outputId": "5433764a-d9ba-456c-d8ae-a694fcf4c0ac"
      },
      "execution_count": 59,
      "outputs": [
        {
          "output_type": "execute_result",
          "data": {
            "text/plain": [
              "(array([1.6163e+04, 5.3000e+01, 1.5000e+01, 6.0000e+00, 0.0000e+00,\n",
              "        1.0000e+00, 1.0000e+00, 1.0000e+00, 0.0000e+00, 1.0000e+00]),\n",
              " array([ 0.   ,  4.149,  8.298, 12.447, 16.596, 20.745, 24.894, 29.043,\n",
              "        33.192, 37.341, 41.49 ]),\n",
              " <a list of 10 Patch objects>)"
            ]
          },
          "metadata": {},
          "execution_count": 59
        },
        {
          "output_type": "display_data",
          "data": {
            "text/plain": [
              "<Figure size 432x288 with 1 Axes>"
            ],
            "image/png": "[encoded data removed]"
          },
          "metadata": {
            "needs_background": "light"
          }
        }
      ]
    },
    {
      "cell_type": "code",
      "source": [
        "plt.hist(df.NA_Sales[df.NA_Sales < 1])"
      ],
      "metadata": {
        "colab": {
          "base_uri": "https://localhost:8080/",
          "height": 354
        },
        "id": "AbnN0AZzy1JI",
        "outputId": "c8ef7ba1-dd74-4e09-e1f8-58d98689533f"
      },
      "execution_count": 60,
      "outputs": [
        {
          "output_type": "execute_result",
          "data": {
            "text/plain": [
              "(array([8847., 2683., 1302.,  807.,  560.,  363.,  265.,  219.,  162.,\n",
              "         140.]),\n",
              " array([0.   , 0.099, 0.198, 0.297, 0.396, 0.495, 0.594, 0.693, 0.792,\n",
              "        0.891, 0.99 ]),\n",
              " <a list of 10 Patch objects>)"
            ]
          },
          "metadata": {},
          "execution_count": 60
        },
        {
          "output_type": "display_data",
          "data": {
            "text/plain": [
              "<Figure size 432x288 with 1 Axes>"
            ],
            "image/png": "[encoded data removed]"
          },
          "metadata": {
            "needs_background": "light"
          }
        }
      ]
    },
    {
      "cell_type": "markdown",
      "source": [
        "#### EU_Sales"
      ],
      "metadata": {
        "id": "gMbDtmFJ1Jyh"
      }
    },
    {
      "cell_type": "markdown",
      "source": [
        "1) EU_Sales 통계량"
      ],
      "metadata": {
        "id": "RbpR25JK2kvG"
      }
    },
    {
      "cell_type": "code",
      "source": [
        "df.EU_Sales.describe()"
      ],
      "metadata": {
        "colab": {
          "base_uri": "https://localhost:8080/"
        },
        "outputId": "688d33a5-ca8e-4a63-8548-ec9b123abe3d",
        "id": "PMb-DVH92kvG"
      },
      "execution_count": 45,
      "outputs": [
        {
          "output_type": "execute_result",
          "data": {
            "text/plain": [
              "count    16241.000000\n",
              "mean         0.147378\n",
              "std          0.508340\n",
              "min          0.000000\n",
              "25%          0.000000\n",
              "50%          0.020000\n",
              "75%          0.110000\n",
              "max         29.020000\n",
              "Name: EU_Sales, dtype: float64"
            ]
          },
          "metadata": {},
          "execution_count": 45
        }
      ]
    },
    {
      "cell_type": "markdown",
      "source": [
        "2) Histogram"
      ],
      "metadata": {
        "id": "sLH3NrXw2kvH"
      }
    },
    {
      "cell_type": "code",
      "source": [
        "plt.hist(df.EU_Sales)"
      ],
      "metadata": {
        "colab": {
          "base_uri": "https://localhost:8080/",
          "height": 354
        },
        "outputId": "05d29862-b761-4729-a605-ecb505340837",
        "id": "6uKA0-nI2kvH"
      },
      "execution_count": 46,
      "outputs": [
        {
          "output_type": "execute_result",
          "data": {
            "text/plain": [
              "(array([1.6171e+04, 4.9000e+01, 1.2000e+01, 7.0000e+00, 1.0000e+00,\n",
              "        0.0000e+00, 0.0000e+00, 0.0000e+00, 0.0000e+00, 1.0000e+00]),\n",
              " array([ 0.   ,  2.902,  5.804,  8.706, 11.608, 14.51 , 17.412, 20.314,\n",
              "        23.216, 26.118, 29.02 ]),\n",
              " <a list of 10 Patch objects>)"
            ]
          },
          "metadata": {},
          "execution_count": 46
        },
        {
          "output_type": "display_data",
          "data": {
            "text/plain": [
              "<Figure size 432x288 with 1 Axes>"
            ],
            "image/png": "[encoded data removed]"
          },
          "metadata": {
            "needs_background": "light"
          }
        }
      ]
    },
    {
      "cell_type": "code",
      "source": [
        "plt.hist(df.EU_Sales[df.EU_Sales < 1])"
      ],
      "metadata": {
        "colab": {
          "base_uri": "https://localhost:8080/",
          "height": 354
        },
        "outputId": "283fe71f-c099-438a-d3c4-99ecc2883b92",
        "id": "HRL1LOAN2kvH"
      },
      "execution_count": 47,
      "outputs": [
        {
          "output_type": "execute_result",
          "data": {
            "text/plain": [
              "(array([11813.,  1694.,   802.,   486.,   348.,   229.,   151.,    94.,\n",
              "           84.,    73.]),\n",
              " array([0.   , 0.099, 0.198, 0.297, 0.396, 0.495, 0.594, 0.693, 0.792,\n",
              "        0.891, 0.99 ]),\n",
              " <a list of 10 Patch objects>)"
            ]
          },
          "metadata": {},
          "execution_count": 47
        },
        {
          "output_type": "display_data",
          "data": {
            "text/plain": [
              "<Figure size 432x288 with 1 Axes>"
            ],
            "image/png": "[encoded data removed]"
          },
          "metadata": {
            "needs_background": "light"
          }
        }
      ]
    },
    {
      "cell_type": "markdown",
      "source": [
        "#### JP_Sales"
      ],
      "metadata": {
        "id": "Y1JHUFGf1N07"
      }
    },
    {
      "cell_type": "markdown",
      "source": [
        "1) JP_Sales 통계량"
      ],
      "metadata": {
        "id": "lRfhwaJF2llD"
      }
    },
    {
      "cell_type": "code",
      "source": [
        "df.JP_Sales.describe()"
      ],
      "metadata": {
        "colab": {
          "base_uri": "https://localhost:8080/"
        },
        "outputId": "e506a3e5-dc22-4b19-bc66-66088b503ed3",
        "id": "Tm4tUE-R2llD"
      },
      "execution_count": 48,
      "outputs": [
        {
          "output_type": "execute_result",
          "data": {
            "text/plain": [
              "count    16241.000000\n",
              "mean         0.078283\n",
              "std          0.309272\n",
              "min          0.000000\n",
              "25%          0.000000\n",
              "50%          0.000000\n",
              "75%          0.040000\n",
              "max         10.220000\n",
              "Name: JP_Sales, dtype: float64"
            ]
          },
          "metadata": {},
          "execution_count": 48
        }
      ]
    },
    {
      "cell_type": "markdown",
      "source": [
        "2) Histogram"
      ],
      "metadata": {
        "id": "XnQDtmTj2llD"
      }
    },
    {
      "cell_type": "code",
      "source": [
        "plt.hist(df.JP_Sales)"
      ],
      "metadata": {
        "colab": {
          "base_uri": "https://localhost:8080/",
          "height": 354
        },
        "outputId": "810a922b-b651-4c5c-bf77-f54d1454f909",
        "id": "iY6Wr3wZ2llD"
      },
      "execution_count": 49,
      "outputs": [
        {
          "output_type": "execute_result",
          "data": {
            "text/plain": [
              "(array([1.6011e+04, 1.5300e+02, 3.8000e+01, 2.0000e+01, 1.0000e+01,\n",
              "        5.0000e+00, 2.0000e+00, 1.0000e+00, 0.0000e+00, 1.0000e+00]),\n",
              " array([ 0.   ,  1.022,  2.044,  3.066,  4.088,  5.11 ,  6.132,  7.154,\n",
              "         8.176,  9.198, 10.22 ]),\n",
              " <a list of 10 Patch objects>)"
            ]
          },
          "metadata": {},
          "execution_count": 49
        },
        {
          "output_type": "display_data",
          "data": {
            "text/plain": [
              "<Figure size 432x288 with 1 Axes>"
            ],
            "image/png": "[encoded data removed]"
          },
          "metadata": {
            "needs_background": "light"
          }
        }
      ]
    },
    {
      "cell_type": "code",
      "source": [
        "plt.hist(df.JP_Sales[df.JP_Sales < 1])"
      ],
      "metadata": {
        "colab": {
          "base_uri": "https://localhost:8080/",
          "height": 354
        },
        "outputId": "8a377912-e4da-452a-8de8-7e3a48b6ce02",
        "id": "1o2L0NPu2llD"
      },
      "execution_count": 50,
      "outputs": [
        {
          "output_type": "execute_result",
          "data": {
            "text/plain": [
              "(array([13694.,  1036.,   479.,   288.,   180.,   113.,    64.,    64.,\n",
              "           50.,    35.]),\n",
              " array([0.   , 0.099, 0.198, 0.297, 0.396, 0.495, 0.594, 0.693, 0.792,\n",
              "        0.891, 0.99 ]),\n",
              " <a list of 10 Patch objects>)"
            ]
          },
          "metadata": {},
          "execution_count": 50
        },
        {
          "output_type": "display_data",
          "data": {
            "text/plain": [
              "<Figure size 432x288 with 1 Axes>"
            ],
            "image/png": "[encoded data removed]"
          },
          "metadata": {
            "needs_background": "light"
          }
        }
      ]
    },
    {
      "cell_type": "markdown",
      "source": [
        "#### Other_Sales"
      ],
      "metadata": {
        "id": "zyiryo6c1Ntj"
      }
    },
    {
      "cell_type": "markdown",
      "source": [
        "1) Other_Sales 통계량"
      ],
      "metadata": {
        "id": "NA0sG_Tr2mdw"
      }
    },
    {
      "cell_type": "code",
      "source": [
        "df.Other_Sales.describe()"
      ],
      "metadata": {
        "colab": {
          "base_uri": "https://localhost:8080/"
        },
        "outputId": "f38c8935-e020-4e64-ae00-66138b2cc69e",
        "id": "kQQjfq8d2mdw"
      },
      "execution_count": 51,
      "outputs": [
        {
          "output_type": "execute_result",
          "data": {
            "text/plain": [
              "count    16241.000000\n",
              "mean         0.048234\n",
              "std          0.189678\n",
              "min          0.000000\n",
              "25%          0.000000\n",
              "50%          0.010000\n",
              "75%          0.040000\n",
              "max         10.570000\n",
              "Name: Other_Sales, dtype: float64"
            ]
          },
          "metadata": {},
          "execution_count": 51
        }
      ]
    },
    {
      "cell_type": "markdown",
      "source": [
        "2) Histogram"
      ],
      "metadata": {
        "id": "4YzE6di42mdw"
      }
    },
    {
      "cell_type": "code",
      "source": [
        "plt.hist(df.Other_Sales)"
      ],
      "metadata": {
        "colab": {
          "base_uri": "https://localhost:8080/",
          "height": 354
        },
        "outputId": "5e673c8e-9114-42ee-ecf6-81497c22efd8",
        "id": "zLBF4Ykk2mdw"
      },
      "execution_count": 52,
      "outputs": [
        {
          "output_type": "execute_result",
          "data": {
            "text/plain": [
              "(array([1.6172e+04, 5.3000e+01, 1.1000e+01, 2.0000e+00, 0.0000e+00,\n",
              "        0.0000e+00, 0.0000e+00, 1.0000e+00, 1.0000e+00, 1.0000e+00]),\n",
              " array([ 0.   ,  1.057,  2.114,  3.171,  4.228,  5.285,  6.342,  7.399,\n",
              "         8.456,  9.513, 10.57 ]),\n",
              " <a list of 10 Patch objects>)"
            ]
          },
          "metadata": {},
          "execution_count": 52
        },
        {
          "output_type": "display_data",
          "data": {
            "text/plain": [
              "<Figure size 432x288 with 1 Axes>"
            ],
            "image/png": "[encoded data removed]"
          },
          "metadata": {
            "needs_background": "light"
          }
        }
      ]
    },
    {
      "cell_type": "code",
      "source": [
        "plt.hist(df.Other_Sales[df.Other_Sales < 1])"
      ],
      "metadata": {
        "colab": {
          "base_uri": "https://localhost:8080/",
          "height": 354
        },
        "outputId": "c4fc33d7-ef2c-45e6-f38f-6463f413ee9d",
        "id": "j5bDhtbu2mdw"
      },
      "execution_count": 53,
      "outputs": [
        {
          "output_type": "execute_result",
          "data": {
            "text/plain": [
              "(array([1.4441e+04, 9.7000e+02, 3.5700e+02, 1.5800e+02, 8.3000e+01,\n",
              "        4.9000e+01, 3.8000e+01, 3.6000e+01, 1.9000e+01, 1.1000e+01]),\n",
              " array([0.   , 0.099, 0.198, 0.297, 0.396, 0.495, 0.594, 0.693, 0.792,\n",
              "        0.891, 0.99 ]),\n",
              " <a list of 10 Patch objects>)"
            ]
          },
          "metadata": {},
          "execution_count": 53
        },
        {
          "output_type": "display_data",
          "data": {
            "text/plain": [
              "<Figure size 432x288 with 1 Axes>"
            ],
            "image/png": "[encoded data removed]"
          },
          "metadata": {
            "needs_background": "light"
          }
        }
      ]
    },
    {
      "cell_type": "markdown",
      "source": [
        "#### Total_Sales"
      ],
      "metadata": {
        "id": "haFzflr61cWI"
      }
    },
    {
      "cell_type": "markdown",
      "source": [
        "1) Total_Sales 통계량"
      ],
      "metadata": {
        "id": "sV4y3TB02nPr"
      }
    },
    {
      "cell_type": "code",
      "source": [
        "df.Total_Sales.describe()"
      ],
      "metadata": {
        "colab": {
          "base_uri": "https://localhost:8080/"
        },
        "outputId": "34611bab-4373-497b-edd7-abbacf5ea796",
        "id": "CjsDU6Yf2nPr"
      },
      "execution_count": 110,
      "outputs": [
        {
          "output_type": "execute_result",
          "data": {
            "text/plain": [
              "count    16241.000000\n",
              "mean         0.539091\n",
              "std          1.563905\n",
              "min          0.000000\n",
              "25%          0.060000\n",
              "50%          0.170000\n",
              "75%          0.480000\n",
              "max         82.740000\n",
              "Name: Total_Sales, dtype: float64"
            ]
          },
          "metadata": {},
          "execution_count": 110
        }
      ]
    },
    {
      "cell_type": "markdown",
      "source": [
        "2) Histogram"
      ],
      "metadata": {
        "id": "ys_4IkEF2nPs"
      }
    },
    {
      "cell_type": "code",
      "source": [
        "plt.hist(df.Total_Sales)"
      ],
      "metadata": {
        "colab": {
          "base_uri": "https://localhost:8080/",
          "height": 354
        },
        "outputId": "7632b7c9-8925-4e1a-eae8-bcff3ba7c01c",
        "id": "DdNEDOPb2nPs"
      },
      "execution_count": 111,
      "outputs": [
        {
          "output_type": "execute_result",
          "data": {
            "text/plain": [
              "(array([1.6161e+04, 5.7000e+01, 1.3000e+01, 7.0000e+00, 2.0000e+00,\n",
              "        0.0000e+00, 0.0000e+00, 0.0000e+00, 0.0000e+00, 1.0000e+00]),\n",
              " array([ 0.   ,  8.274, 16.548, 24.822, 33.096, 41.37 , 49.644, 57.918,\n",
              "        66.192, 74.466, 82.74 ]),\n",
              " <a list of 10 Patch objects>)"
            ]
          },
          "metadata": {},
          "execution_count": 111
        },
        {
          "output_type": "display_data",
          "data": {
            "text/plain": [
              "<Figure size 432x288 with 1 Axes>"
            ],
            "image/png": "[encoded data removed]"
          },
          "metadata": {
            "needs_background": "light"
          }
        }
      ]
    },
    {
      "cell_type": "code",
      "source": [
        "plt.hist(df.Total_Sales[df.Total_Sales < 1])"
      ],
      "metadata": {
        "colab": {
          "base_uri": "https://localhost:8080/",
          "height": 336
        },
        "outputId": "f474abb6-48cb-451d-d680-6e2a0e7e1893",
        "id": "aarXPtfv2nPs"
      },
      "execution_count": 112,
      "outputs": [
        {
          "output_type": "execute_result",
          "data": {
            "text/plain": [
              "(array([5611., 3070., 1729., 1054.,  844.,  613.,  438.,  340.,  261.,\n",
              "         236.]),\n",
              " array([0. , 0.1, 0.2, 0.3, 0.4, 0.5, 0.6, 0.7, 0.8, 0.9, 1. ]),\n",
              " <a list of 10 Patch objects>)"
            ]
          },
          "metadata": {},
          "execution_count": 112
        },
        {
          "output_type": "display_data",
          "data": {
            "text/plain": [
              "<Figure size 432x288 with 1 Axes>"
            ],
            "image/png": "[encoded data removed]"
          },
          "metadata": {
            "needs_background": "light"
          }
        }
      ]
    },
    {
      "cell_type": "markdown",
      "source": [
        "### Categorical Variables 일원량분석(Univariate Exploration)"
      ],
      "metadata": {
        "id": "Ibwt3ohP32p_"
      }
    },
    {
      "cell_type": "markdown",
      "source": [
        "#### Platform"
      ],
      "metadata": {
        "id": "yrQp7Ywt4VpM"
      }
    },
    {
      "cell_type": "markdown",
      "source": [
        "1) Platform 빈도"
      ],
      "metadata": {
        "id": "8kIzGC4KLWz9"
      }
    },
    {
      "cell_type": "code",
      "source": [
        "df.Platform.value_counts()"
      ],
      "metadata": {
        "colab": {
          "base_uri": "https://localhost:8080/"
        },
        "id": "xSal7tUuG7ho",
        "outputId": "50ac5a3f-75a5-45fe-ddf5-e5defd031c17"
      },
      "execution_count": 68,
      "outputs": [
        {
          "output_type": "execute_result",
          "data": {
            "text/plain": [
              "DS      2127\n",
              "PS2     2121\n",
              "PS3     1299\n",
              "Wii     1284\n",
              "X360    1231\n",
              "PSP     1193\n",
              "PS      1185\n",
              "PC       935\n",
              "XB       799\n",
              "GBA      784\n",
              "GC       541\n",
              "3DS      498\n",
              "PSV      409\n",
              "PS4      335\n",
              "N64      313\n",
              "SNES     239\n",
              "XOne     212\n",
              "SAT      173\n",
              "WiiU     143\n",
              "2600     115\n",
              "NES       98\n",
              "GB        97\n",
              "DC        52\n",
              "GEN       27\n",
              "NG        12\n",
              "SCD        6\n",
              "WS         6\n",
              "3DO        3\n",
              "TG16       2\n",
              "GG         1\n",
              "PCFX       1\n",
              "Name: Platform, dtype: int64"
            ]
          },
          "metadata": {},
          "execution_count": 68
        }
      ]
    },
    {
      "cell_type": "markdown",
      "source": [
        "2) histogram"
      ],
      "metadata": {
        "id": "TNFtwy1VLapq"
      }
    },
    {
      "cell_type": "code",
      "source": [
        "sns.countplot(x='Platform' , data=df)"
      ],
      "metadata": {
        "colab": {
          "base_uri": "https://localhost:8080/",
          "height": 297
        },
        "id": "BFOCoDJu4dXH",
        "outputId": "236d143f-6f1a-44f6-e9da-2595cc5081ef"
      },
      "execution_count": 61,
      "outputs": [
        {
          "output_type": "execute_result",
          "data": {
            "text/plain": [
              "<matplotlib.axes._subplots.AxesSubplot at 0x7fcb5e6ea050>"
            ]
          },
          "metadata": {},
          "execution_count": 61
        },
        {
          "output_type": "display_data",
          "data": {
            "text/plain": [
              "<Figure size 432x288 with 1 Axes>"
            ],
            "image/png": "[encoded data removed]"
          },
          "metadata": {
            "needs_background": "light"
          }
        }
      ]
    },
    {
      "cell_type": "markdown",
      "source": [
        "#### Year"
      ],
      "metadata": {
        "id": "BhpA2D3k4X81"
      }
    },
    {
      "cell_type": "markdown",
      "source": [
        "1) Year 빈도"
      ],
      "metadata": {
        "id": "Bz9oUaHtLmFG"
      }
    },
    {
      "cell_type": "code",
      "source": [
        "df.Year.value_counts()"
      ],
      "metadata": {
        "colab": {
          "base_uri": "https://localhost:8080/"
        },
        "outputId": "29229097-eec3-4d6b-ed42-0093f201dbe1",
        "id": "ipba2oR-H1zQ"
      },
      "execution_count": 73,
      "outputs": [
        {
          "output_type": "execute_result",
          "data": {
            "text/plain": [
              "2009    1428\n",
              "2008    1423\n",
              "2010    1253\n",
              "2007    1195\n",
              "2011    1133\n",
              "2006    1005\n",
              "2005     934\n",
              "2002     826\n",
              "2003     774\n",
              "2004     740\n",
              "2012     652\n",
              "2015     611\n",
              "2014     580\n",
              "2013     545\n",
              "2001     480\n",
              "1998     377\n",
              "2000     348\n",
              "2016     342\n",
              "1999     336\n",
              "1997     289\n",
              "1996     262\n",
              "1995     219\n",
              "1994     121\n",
              "1993      60\n",
              "1981      46\n",
              "1992      43\n",
              "1991      41\n",
              "1982      36\n",
              "1986      21\n",
              "1989      17\n",
              "1983      17\n",
              "1990      16\n",
              "1987      16\n",
              "1988      15\n",
              "1984      14\n",
              "1985      14\n",
              "1980       8\n",
              "2017       3\n",
              "2020       1\n",
              "Name: Year, dtype: int64"
            ]
          },
          "metadata": {},
          "execution_count": 73
        }
      ]
    },
    {
      "cell_type": "markdown",
      "source": [
        "2) histogram"
      ],
      "metadata": {
        "id": "9JJFEF7rLiyq"
      }
    },
    {
      "cell_type": "code",
      "source": [
        "sns.countplot(x='Year' , data=df)"
      ],
      "metadata": {
        "colab": {
          "base_uri": "https://localhost:8080/",
          "height": 297
        },
        "outputId": "6f90735d-db59-4b18-922c-6877d09a2a6d",
        "id": "mI7oUajTH1zQ"
      },
      "execution_count": 74,
      "outputs": [
        {
          "output_type": "execute_result",
          "data": {
            "text/plain": [
              "<matplotlib.axes._subplots.AxesSubplot at 0x7fcb5fac1f90>"
            ]
          },
          "metadata": {},
          "execution_count": 74
        },
        {
          "output_type": "display_data",
          "data": {
            "text/plain": [
              "<Figure size 432x288 with 1 Axes>"
            ],
            "image/png": "[encoded data removed]"
          },
          "metadata": {
            "needs_background": "light"
          }
        }
      ]
    },
    {
      "cell_type": "markdown",
      "source": [
        "#### Genre"
      ],
      "metadata": {
        "id": "AOHE3FAE4Zrv"
      }
    },
    {
      "cell_type": "markdown",
      "source": [
        "1) Genre 빈도"
      ],
      "metadata": {
        "id": "MVa7ZJUMLodp"
      }
    },
    {
      "cell_type": "code",
      "source": [
        "df.Genre.value_counts()"
      ],
      "metadata": {
        "colab": {
          "base_uri": "https://localhost:8080/"
        },
        "outputId": "f75d74b9-e8ae-4466-b8c7-a46486135097",
        "id": "lURAUccVH29K"
      },
      "execution_count": 69,
      "outputs": [
        {
          "output_type": "execute_result",
          "data": {
            "text/plain": [
              "Action          3240\n",
              "Sports          2299\n",
              "Misc            1681\n",
              "Role-Playing    1465\n",
              "Shooter         1280\n",
              "Adventure       1268\n",
              "Racing          1219\n",
              "Platform         873\n",
              "Simulation       846\n",
              "Fighting         835\n",
              "Strategy         669\n",
              "Puzzle           566\n",
              "Name: Genre, dtype: int64"
            ]
          },
          "metadata": {},
          "execution_count": 69
        }
      ]
    },
    {
      "cell_type": "markdown",
      "source": [
        "2) histogram"
      ],
      "metadata": {
        "id": "vdYj_iA6Lj2T"
      }
    },
    {
      "cell_type": "code",
      "source": [
        "sns.countplot(x='Genre' , data=df)"
      ],
      "metadata": {
        "colab": {
          "base_uri": "https://localhost:8080/",
          "height": 297
        },
        "outputId": "e1b26864-c0de-4ce9-d556-1b44e3b42321",
        "id": "pf3TmhVSH29K"
      },
      "execution_count": 70,
      "outputs": [
        {
          "output_type": "execute_result",
          "data": {
            "text/plain": [
              "<matplotlib.axes._subplots.AxesSubplot at 0x7fcb5e418210>"
            ]
          },
          "metadata": {},
          "execution_count": 70
        },
        {
          "output_type": "display_data",
          "data": {
            "text/plain": [
              "<Figure size 432x288 with 1 Axes>"
            ],
            "image/png": "[encoded data removed]"
          },
          "metadata": {
            "needs_background": "light"
          }
        }
      ]
    },
    {
      "cell_type": "markdown",
      "source": [
        "### 이원량분석(Bivariate Exploration)"
      ],
      "metadata": {
        "id": "bKUQymf7KNC8"
      }
    },
    {
      "cell_type": "markdown",
      "source": [
        "#### 지역별 선호하는 게임 장르\n",
        "꺽은선 그래프로 지역별, 총 출고량을 확인"
      ],
      "metadata": {
        "id": "6Mx5MuffNDpG"
      }
    },
    {
      "cell_type": "markdown",
      "source": [
        "#### 연도별 게임 트렌드"
      ],
      "metadata": {
        "id": "XD6Xx-ZhNIfQ"
      }
    },
    {
      "cell_type": "markdown",
      "source": [
        "#### 인기게임 분석\n",
        "게임을 총 출고량이 높은 순으로 시각화"
      ],
      "metadata": {
        "id": "8kHCn72KNKvC"
      }
    }
  ]
}