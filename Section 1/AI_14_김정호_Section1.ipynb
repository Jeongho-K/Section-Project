{
  "nbformat": 4,
  "nbformat_minor": 0,
  "metadata": {
    "colab": {
      "name": "AI_14_김정호_Section1.ipynb",
      "provenance": [],
      "collapsed_sections": []
    },
    "kernelspec": {
      "name": "python3",
      "display_name": "Python 3"
    },
    "language_info": {
      "name": "python"
    }
  },
  "cells": [
    {
      "cell_type": "markdown",
      "source": [
        "# \b게임회사 다음 분기 계획 결정"
      ],
      "metadata": {
        "id": "CSLPZalpqkvH"
      }
    },
    {
      "cell_type": "markdown",
      "source": [
        "## EDA"
      ],
      "metadata": {
        "id": "t1n4QuTKq14u"
      }
    },
    {
      "cell_type": "markdown",
      "source": [
        "### 데이터 불러오기\n",
        "* Name : 게임의 이름입니다.  \n",
        "* Platform : 게임이 지원되는 플랫폼의 이름입니다.  \n",
        "* Year : 게임이 출시된 연도입니다.  \n",
        "* Genre : 게임의 장르입니다.  \n",
        "* Publisher : 게임을 제작한 회사입니다.  \n",
        "* NA_Sales : 북미지역에서의 출고량입니다.(단위 100만)  \n",
        "* EU_Sales : 유럽지역에서의 출고량입니다.(단위 100만)  \n",
        "* JP_Sales : 일본지역에서의 출고량입니다.(단위 100만)  \n",
        "* Other_Sales : 기타지역에서의 출고량입니다.(단위 100만)  "
      ],
      "metadata": {
        "id": "uV7RJAyCqp3B"
      }
    },
    {
      "cell_type": "code",
      "execution_count": 80,
      "metadata": {
        "id": "4vJ5jgPca-CV"
      },
      "outputs": [],
      "source": [
        "import pandas as pd\n",
        "import numpy as np"
      ]
    },
    {
      "cell_type": "code",
      "source": [
        "# url\n",
        "data_url = 'https://ds-lecture-data.s3.ap-northeast-2.amazonaws.com/datasets/vgames2.csv'\n",
        "# read\n",
        "df = pd.read_csv(data_url, index_col = 0)"
      ],
      "metadata": {
        "id": "x3UDuIw-5LFs"
      },
      "execution_count": 81,
      "outputs": []
    },
    {
      "cell_type": "code",
      "source": [
        "df.head()"
      ],
      "metadata": {
        "colab": {
          "base_uri": "https://localhost:8080/",
          "height": 206
        },
        "id": "5mi21RwjFba4",
        "outputId": "bea227b9-f4e7-4d37-95fc-d6e6dfa86329"
      },
      "execution_count": 82,
      "outputs": [
        {
          "output_type": "execute_result",
          "data": {
            "text/plain": [
              "                                             Name Platform    Year      Genre  \\\n",
              "1                    Candace Kane's Candy Factory       DS  2008.0     Action   \n",
              "2                                  The Munchables      Wii  2009.0     Action   \n",
              "3  Otome wa Oanesama Boku ni Koi Shiteru Portable      PSP  2010.0  Adventure   \n",
              "4                Deal or No Deal: Special Edition       DS  2010.0       Misc   \n",
              "5       Ben 10 Ultimate Alien: Cosmic Destruction      PS3  2010.0   Platform   \n",
              "\n",
              "            Publisher NA_Sales EU_Sales JP_Sales Other_Sales  \n",
              "1           Destineer     0.04        0        0           0  \n",
              "2  Namco Bandai Games     0.17        0        0        0.01  \n",
              "3           Alchemist        0        0     0.02           0  \n",
              "4           Zoo Games     0.04        0        0           0  \n",
              "5         D3Publisher     0.12     0.09        0        0.04  "
            ],
            "text/html": [
              "\n",
              "  <div id=\"df-9a33ee1a-2c08-4717-ac71-3af36b8dc7d5\">\n",
              "    <div class=\"colab-df-container\">\n",
              "      <div>\n",
              "<style scoped>\n",
              "    .dataframe tbody tr th:only-of-type {\n",
              "        vertical-align: middle;\n",
              "    }\n",
              "\n",
              "    .dataframe tbody tr th {\n",
              "        vertical-align: top;\n",
              "    }\n",
              "\n",
              "    .dataframe thead th {\n",
              "        text-align: right;\n",
              "    }\n",
              "</style>\n",
              "<table border=\"1\" class=\"dataframe\">\n",
              "  <thead>\n",
              "    <tr style=\"text-align: right;\">\n",
              "      <th></th>\n",
              "      <th>Name</th>\n",
              "      <th>Platform</th>\n",
              "      <th>Year</th>\n",
              "      <th>Genre</th>\n",
              "      <th>Publisher</th>\n",
              "      <th>NA_Sales</th>\n",
              "      <th>EU_Sales</th>\n",
              "      <th>JP_Sales</th>\n",
              "      <th>Other_Sales</th>\n",
              "    </tr>\n",
              "  </thead>\n",
              "  <tbody>\n",
              "    <tr>\n",
              "      <th>1</th>\n",
              "      <td>Candace Kane's Candy Factory</td>\n",
              "      <td>DS</td>\n",
              "      <td>2008.0</td>\n",
              "      <td>Action</td>\n",
              "      <td>Destineer</td>\n",
              "      <td>0.04</td>\n",
              "      <td>0</td>\n",
              "      <td>0</td>\n",
              "      <td>0</td>\n",
              "    </tr>\n",
              "    <tr>\n",
              "      <th>2</th>\n",
              "      <td>The Munchables</td>\n",
              "      <td>Wii</td>\n",
              "      <td>2009.0</td>\n",
              "      <td>Action</td>\n",
              "      <td>Namco Bandai Games</td>\n",
              "      <td>0.17</td>\n",
              "      <td>0</td>\n",
              "      <td>0</td>\n",
              "      <td>0.01</td>\n",
              "    </tr>\n",
              "    <tr>\n",
              "      <th>3</th>\n",
              "      <td>Otome wa Oanesama Boku ni Koi Shiteru Portable</td>\n",
              "      <td>PSP</td>\n",
              "      <td>2010.0</td>\n",
              "      <td>Adventure</td>\n",
              "      <td>Alchemist</td>\n",
              "      <td>0</td>\n",
              "      <td>0</td>\n",
              "      <td>0.02</td>\n",
              "      <td>0</td>\n",
              "    </tr>\n",
              "    <tr>\n",
              "      <th>4</th>\n",
              "      <td>Deal or No Deal: Special Edition</td>\n",
              "      <td>DS</td>\n",
              "      <td>2010.0</td>\n",
              "      <td>Misc</td>\n",
              "      <td>Zoo Games</td>\n",
              "      <td>0.04</td>\n",
              "      <td>0</td>\n",
              "      <td>0</td>\n",
              "      <td>0</td>\n",
              "    </tr>\n",
              "    <tr>\n",
              "      <th>5</th>\n",
              "      <td>Ben 10 Ultimate Alien: Cosmic Destruction</td>\n",
              "      <td>PS3</td>\n",
              "      <td>2010.0</td>\n",
              "      <td>Platform</td>\n",
              "      <td>D3Publisher</td>\n",
              "      <td>0.12</td>\n",
              "      <td>0.09</td>\n",
              "      <td>0</td>\n",
              "      <td>0.04</td>\n",
              "    </tr>\n",
              "  </tbody>\n",
              "</table>\n",
              "</div>\n",
              "      <button class=\"colab-df-convert\" onclick=\"convertToInteractive('df-9a33ee1a-2c08-4717-ac71-3af36b8dc7d5')\"\n",
              "              title=\"Convert this dataframe to an interactive table.\"\n",
              "              style=\"display:none;\">\n",
              "        \n",
              "  <svg xmlns=\"http://www.w3.org/2000/svg\" height=\"24px\"viewBox=\"0 0 24 24\"\n",
              "       width=\"24px\">\n",
              "    <path d=\"M0 0h24v24H0V0z\" fill=\"none\"/>\n",
              "    <path d=\"M18.56 5.44l.94 2.06.94-2.06 2.06-.94-2.06-.94-.94-2.06-.94 2.06-2.06.94zm-11 1L8.5 8.5l.94-2.06 2.06-.94-2.06-.94L8.5 2.5l-.94 2.06-2.06.94zm10 10l.94 2.06.94-2.06 2.06-.94-2.06-.94-.94-2.06-.94 2.06-2.06.94z\"/><path d=\"M17.41 7.96l-1.37-1.37c-.4-.4-.92-.59-1.43-.59-.52 0-1.04.2-1.43.59L10.3 9.45l-7.72 7.72c-.78.78-.78 2.05 0 2.83L4 21.41c.39.39.9.59 1.41.59.51 0 1.02-.2 1.41-.59l7.78-7.78 2.81-2.81c.8-.78.8-2.07 0-2.86zM5.41 20L4 18.59l7.72-7.72 1.47 1.35L5.41 20z\"/>\n",
              "  </svg>\n",
              "      </button>\n",
              "      \n",
              "  <style>\n",
              "    .colab-df-container {\n",
              "      display:flex;\n",
              "      flex-wrap:wrap;\n",
              "      gap: 12px;\n",
              "    }\n",
              "\n",
              "    .colab-df-convert {\n",
              "      background-color: #E8F0FE;\n",
              "      border: none;\n",
              "      border-radius: 50%;\n",
              "      cursor: pointer;\n",
              "      display: none;\n",
              "      fill: #1967D2;\n",
              "      height: 32px;\n",
              "      padding: 0 0 0 0;\n",
              "      width: 32px;\n",
              "    }\n",
              "\n",
              "    .colab-df-convert:hover {\n",
              "      background-color: #E2EBFA;\n",
              "      box-shadow: 0px 1px 2px rgba(60, 64, 67, 0.3), 0px 1px 3px 1px rgba(60, 64, 67, 0.15);\n",
              "      fill: #174EA6;\n",
              "    }\n",
              "\n",
              "    [theme=dark] .colab-df-convert {\n",
              "      background-color: #3B4455;\n",
              "      fill: #D2E3FC;\n",
              "    }\n",
              "\n",
              "    [theme=dark] .colab-df-convert:hover {\n",
              "      background-color: #434B5C;\n",
              "      box-shadow: 0px 1px 3px 1px rgba(0, 0, 0, 0.15);\n",
              "      filter: drop-shadow(0px 1px 2px rgba(0, 0, 0, 0.3));\n",
              "      fill: #FFFFFF;\n",
              "    }\n",
              "  </style>\n",
              "\n",
              "      <script>\n",
              "        const buttonEl =\n",
              "          document.querySelector('#df-9a33ee1a-2c08-4717-ac71-3af36b8dc7d5 button.colab-df-convert');\n",
              "        buttonEl.style.display =\n",
              "          google.colab.kernel.accessAllowed ? 'block' : 'none';\n",
              "\n",
              "        async function convertToInteractive(key) {\n",
              "          const element = document.querySelector('#df-9a33ee1a-2c08-4717-ac71-3af36b8dc7d5');\n",
              "          const dataTable =\n",
              "            await google.colab.kernel.invokeFunction('convertToInteractive',\n",
              "                                                     [key], {});\n",
              "          if (!dataTable) return;\n",
              "\n",
              "          const docLinkHtml = 'Like what you see? Visit the ' +\n",
              "            '<a target=\"_blank\" href=https://colab.research.google.com/notebooks/data_table.ipynb>data table notebook</a>'\n",
              "            + ' to learn more about interactive tables.';\n",
              "          element.innerHTML = '';\n",
              "          dataTable['output_type'] = 'display_data';\n",
              "          await google.colab.output.renderOutput(dataTable, element);\n",
              "          const docLink = document.createElement('div');\n",
              "          docLink.innerHTML = docLinkHtml;\n",
              "          element.appendChild(docLink);\n",
              "        }\n",
              "      </script>\n",
              "    </div>\n",
              "  </div>\n",
              "  "
            ]
          },
          "metadata": {},
          "execution_count": 82
        }
      ]
    },
    {
      "cell_type": "code",
      "source": [
        "np.shape(df)"
      ],
      "metadata": {
        "colab": {
          "base_uri": "https://localhost:8080/"
        },
        "id": "_c_RPo8iZ0Xu",
        "outputId": "179e1d59-5720-4962-d0bc-5eecb1d24d39"
      },
      "execution_count": 83,
      "outputs": [
        {
          "output_type": "execute_result",
          "data": {
            "text/plain": [
              "(16598, 9)"
            ]
          },
          "metadata": {},
          "execution_count": 83
        }
      ]
    },
    {
      "cell_type": "markdown",
      "source": [
        "### 데이터 중복행 제거"
      ],
      "metadata": {
        "id": "9-1cVsntbqpY"
      }
    },
    {
      "cell_type": "code",
      "source": [
        "df[df.duplicated()]"
      ],
      "metadata": {
        "colab": {
          "base_uri": "https://localhost:8080/",
          "height": 81
        },
        "id": "lP-01fJ_WI8u",
        "outputId": "035cadc9-b51b-42d3-e04b-966ab79dd4b8"
      },
      "execution_count": 84,
      "outputs": [
        {
          "output_type": "execute_result",
          "data": {
            "text/plain": [
              "                             Name Platform  Year    Genre Publisher NA_Sales  \\\n",
              "9185  Wii de Asobu: Metroid Prime      Wii   NaN  Shooter  Nintendo        0   \n",
              "\n",
              "     EU_Sales JP_Sales Other_Sales  \n",
              "9185        0     0.02           0  "
            ],
            "text/html": [
              "\n",
              "  <div id=\"df-0a4f64e8-a307-4b40-bc0c-f546ca33959b\">\n",
              "    <div class=\"colab-df-container\">\n",
              "      <div>\n",
              "<style scoped>\n",
              "    .dataframe tbody tr th:only-of-type {\n",
              "        vertical-align: middle;\n",
              "    }\n",
              "\n",
              "    .dataframe tbody tr th {\n",
              "        vertical-align: top;\n",
              "    }\n",
              "\n",
              "    .dataframe thead th {\n",
              "        text-align: right;\n",
              "    }\n",
              "</style>\n",
              "<table border=\"1\" class=\"dataframe\">\n",
              "  <thead>\n",
              "    <tr style=\"text-align: right;\">\n",
              "      <th></th>\n",
              "      <th>Name</th>\n",
              "      <th>Platform</th>\n",
              "      <th>Year</th>\n",
              "      <th>Genre</th>\n",
              "      <th>Publisher</th>\n",
              "      <th>NA_Sales</th>\n",
              "      <th>EU_Sales</th>\n",
              "      <th>JP_Sales</th>\n",
              "      <th>Other_Sales</th>\n",
              "    </tr>\n",
              "  </thead>\n",
              "  <tbody>\n",
              "    <tr>\n",
              "      <th>9185</th>\n",
              "      <td>Wii de Asobu: Metroid Prime</td>\n",
              "      <td>Wii</td>\n",
              "      <td>NaN</td>\n",
              "      <td>Shooter</td>\n",
              "      <td>Nintendo</td>\n",
              "      <td>0</td>\n",
              "      <td>0</td>\n",
              "      <td>0.02</td>\n",
              "      <td>0</td>\n",
              "    </tr>\n",
              "  </tbody>\n",
              "</table>\n",
              "</div>\n",
              "      <button class=\"colab-df-convert\" onclick=\"convertToInteractive('df-0a4f64e8-a307-4b40-bc0c-f546ca33959b')\"\n",
              "              title=\"Convert this dataframe to an interactive table.\"\n",
              "              style=\"display:none;\">\n",
              "        \n",
              "  <svg xmlns=\"http://www.w3.org/2000/svg\" height=\"24px\"viewBox=\"0 0 24 24\"\n",
              "       width=\"24px\">\n",
              "    <path d=\"M0 0h24v24H0V0z\" fill=\"none\"/>\n",
              "    <path d=\"M18.56 5.44l.94 2.06.94-2.06 2.06-.94-2.06-.94-.94-2.06-.94 2.06-2.06.94zm-11 1L8.5 8.5l.94-2.06 2.06-.94-2.06-.94L8.5 2.5l-.94 2.06-2.06.94zm10 10l.94 2.06.94-2.06 2.06-.94-2.06-.94-.94-2.06-.94 2.06-2.06.94z\"/><path d=\"M17.41 7.96l-1.37-1.37c-.4-.4-.92-.59-1.43-.59-.52 0-1.04.2-1.43.59L10.3 9.45l-7.72 7.72c-.78.78-.78 2.05 0 2.83L4 21.41c.39.39.9.59 1.41.59.51 0 1.02-.2 1.41-.59l7.78-7.78 2.81-2.81c.8-.78.8-2.07 0-2.86zM5.41 20L4 18.59l7.72-7.72 1.47 1.35L5.41 20z\"/>\n",
              "  </svg>\n",
              "      </button>\n",
              "      \n",
              "  <style>\n",
              "    .colab-df-container {\n",
              "      display:flex;\n",
              "      flex-wrap:wrap;\n",
              "      gap: 12px;\n",
              "    }\n",
              "\n",
              "    .colab-df-convert {\n",
              "      background-color: #E8F0FE;\n",
              "      border: none;\n",
              "      border-radius: 50%;\n",
              "      cursor: pointer;\n",
              "      display: none;\n",
              "      fill: #1967D2;\n",
              "      height: 32px;\n",
              "      padding: 0 0 0 0;\n",
              "      width: 32px;\n",
              "    }\n",
              "\n",
              "    .colab-df-convert:hover {\n",
              "      background-color: #E2EBFA;\n",
              "      box-shadow: 0px 1px 2px rgba(60, 64, 67, 0.3), 0px 1px 3px 1px rgba(60, 64, 67, 0.15);\n",
              "      fill: #174EA6;\n",
              "    }\n",
              "\n",
              "    [theme=dark] .colab-df-convert {\n",
              "      background-color: #3B4455;\n",
              "      fill: #D2E3FC;\n",
              "    }\n",
              "\n",
              "    [theme=dark] .colab-df-convert:hover {\n",
              "      background-color: #434B5C;\n",
              "      box-shadow: 0px 1px 3px 1px rgba(0, 0, 0, 0.15);\n",
              "      filter: drop-shadow(0px 1px 2px rgba(0, 0, 0, 0.3));\n",
              "      fill: #FFFFFF;\n",
              "    }\n",
              "  </style>\n",
              "\n",
              "      <script>\n",
              "        const buttonEl =\n",
              "          document.querySelector('#df-0a4f64e8-a307-4b40-bc0c-f546ca33959b button.colab-df-convert');\n",
              "        buttonEl.style.display =\n",
              "          google.colab.kernel.accessAllowed ? 'block' : 'none';\n",
              "\n",
              "        async function convertToInteractive(key) {\n",
              "          const element = document.querySelector('#df-0a4f64e8-a307-4b40-bc0c-f546ca33959b');\n",
              "          const dataTable =\n",
              "            await google.colab.kernel.invokeFunction('convertToInteractive',\n",
              "                                                     [key], {});\n",
              "          if (!dataTable) return;\n",
              "\n",
              "          const docLinkHtml = 'Like what you see? Visit the ' +\n",
              "            '<a target=\"_blank\" href=https://colab.research.google.com/notebooks/data_table.ipynb>data table notebook</a>'\n",
              "            + ' to learn more about interactive tables.';\n",
              "          element.innerHTML = '';\n",
              "          dataTable['output_type'] = 'display_data';\n",
              "          await google.colab.output.renderOutput(dataTable, element);\n",
              "          const docLink = document.createElement('div');\n",
              "          docLink.innerHTML = docLinkHtml;\n",
              "          element.appendChild(docLink);\n",
              "        }\n",
              "      </script>\n",
              "    </div>\n",
              "  </div>\n",
              "  "
            ]
          },
          "metadata": {},
          "execution_count": 84
        }
      ]
    },
    {
      "cell_type": "code",
      "source": [
        "df = df.drop_duplicates(ignore_index = True)"
      ],
      "metadata": {
        "id": "84WJ1NfUXFEd"
      },
      "execution_count": 85,
      "outputs": []
    },
    {
      "cell_type": "markdown",
      "source": [
        "### 결측치 제거"
      ],
      "metadata": {
        "id": "6sOJDBs9Xset"
      }
    },
    {
      "cell_type": "code",
      "source": [
        "df.isnull().sum()"
      ],
      "metadata": {
        "colab": {
          "base_uri": "https://localhost:8080/"
        },
        "id": "_JYDgtG8IkTV",
        "outputId": "b9dbd439-7ebd-44d4-9227-96d8d1c0cf51"
      },
      "execution_count": 86,
      "outputs": [
        {
          "output_type": "execute_result",
          "data": {
            "text/plain": [
              "Name             0\n",
              "Platform         0\n",
              "Year           270\n",
              "Genre           50\n",
              "Publisher       58\n",
              "NA_Sales         0\n",
              "EU_Sales         0\n",
              "JP_Sales         0\n",
              "Other_Sales      0\n",
              "dtype: int64"
            ]
          },
          "metadata": {},
          "execution_count": 86
        }
      ]
    },
    {
      "cell_type": "code",
      "source": [
        "df = df.dropna()"
      ],
      "metadata": {
        "id": "edIkLWthbFD4"
      },
      "execution_count": 87,
      "outputs": []
    },
    {
      "cell_type": "code",
      "source": [
        "df.isnull().sum()"
      ],
      "metadata": {
        "colab": {
          "base_uri": "https://localhost:8080/"
        },
        "id": "AC46M3wxIpmW",
        "outputId": "26f1c992-7a38-4b7f-e17e-172c3c41d1cc"
      },
      "execution_count": 88,
      "outputs": [
        {
          "output_type": "execute_result",
          "data": {
            "text/plain": [
              "Name           0\n",
              "Platform       0\n",
              "Year           0\n",
              "Genre          0\n",
              "Publisher      0\n",
              "NA_Sales       0\n",
              "EU_Sales       0\n",
              "JP_Sales       0\n",
              "Other_Sales    0\n",
              "dtype: int64"
            ]
          },
          "metadata": {},
          "execution_count": 88
        }
      ]
    },
    {
      "cell_type": "markdown",
      "source": [
        "### 데이터내 이상값, 데이터형 처리\n",
        "'Name', 'Publisher'는 고유명사이므로 처리하지 않고 코드북이 없을때도 유추할 수 있는 나머지 변수에서 이상값을 찾아 처리를 진행했다."
      ],
      "metadata": {
        "id": "zBj6LnRUbzO-"
      }
    },
    {
      "cell_type": "code",
      "source": [
        "df.info()"
      ],
      "metadata": {
        "colab": {
          "base_uri": "https://localhost:8080/"
        },
        "id": "Z3hUoYo4dvT9",
        "outputId": "e3a8a36a-acd2-4960-f644-c9c694a6d46a"
      },
      "execution_count": 89,
      "outputs": [
        {
          "output_type": "stream",
          "name": "stdout",
          "text": [
            "<class 'pandas.core.frame.DataFrame'>\n",
            "Int64Index: 16241 entries, 0 to 16596\n",
            "Data columns (total 9 columns):\n",
            " #   Column       Non-Null Count  Dtype  \n",
            "---  ------       --------------  -----  \n",
            " 0   Name         16241 non-null  object \n",
            " 1   Platform     16241 non-null  object \n",
            " 2   Year         16241 non-null  float64\n",
            " 3   Genre        16241 non-null  object \n",
            " 4   Publisher    16241 non-null  object \n",
            " 5   NA_Sales     16241 non-null  object \n",
            " 6   EU_Sales     16241 non-null  object \n",
            " 7   JP_Sales     16241 non-null  object \n",
            " 8   Other_Sales  16241 non-null  object \n",
            "dtypes: float64(1), object(8)\n",
            "memory usage: 1.2+ MB\n"
          ]
        }
      ]
    },
    {
      "cell_type": "markdown",
      "source": [
        "#### Name"
      ],
      "metadata": {
        "id": "8W3B_h1h2n9q"
      }
    },
    {
      "cell_type": "code",
      "source": [
        "df.loc[:,'Name'].unique()"
      ],
      "metadata": {
        "colab": {
          "base_uri": "https://localhost:8080/"
        },
        "id": "CySjbPnC2rd_",
        "outputId": "c3384c56-1f3b-4c89-eb19-a336a18b5fb3"
      },
      "execution_count": 129,
      "outputs": [
        {
          "output_type": "execute_result",
          "data": {
            "text/plain": [
              "array([\"Candace Kane's Candy Factory\", 'The Munchables',\n",
              "       'Otome wa Oanesama Boku ni Koi Shiteru Portable', ...,\n",
              "       'White Album: Tsuzurareru Fuyu no Omoide', 'Minna no Chizu 2',\n",
              "       'Rainbow Islands: Revolution'], dtype=object)"
            ]
          },
          "metadata": {},
          "execution_count": 129
        }
      ]
    },
    {
      "cell_type": "markdown",
      "source": [
        "#### Platform\n",
        "이상값은 없어 보인다"
      ],
      "metadata": {
        "id": "iG0zeZbzdhWL"
      }
    },
    {
      "cell_type": "code",
      "source": [
        "df.loc[:,'Platform'].unique()"
      ],
      "metadata": {
        "colab": {
          "base_uri": "https://localhost:8080/"
        },
        "id": "rlQIXeowWB0X",
        "outputId": "964c5925-9833-4aa4-f73c-e936a2a0e2f1"
      },
      "execution_count": 90,
      "outputs": [
        {
          "output_type": "execute_result",
          "data": {
            "text/plain": [
              "array(['DS', 'Wii', 'PSP', 'PS3', 'PC', 'PS', 'GBA', 'PS4', 'PS2', 'XB',\n",
              "       'X360', 'GC', '3DS', '2600', 'SAT', 'GB', 'NES', 'DC', 'N64',\n",
              "       'XOne', 'SNES', 'WiiU', 'PSV', 'GEN', 'SCD', 'WS', 'NG', 'TG16',\n",
              "       '3DO', 'GG', 'PCFX'], dtype=object)"
            ]
          },
          "metadata": {},
          "execution_count": 90
        }
      ]
    },
    {
      "cell_type": "markdown",
      "source": [
        "#### Year\n",
        "데이터형 변경: 'float' -> 'int'  \n",
        "* 년도는 정수이므로 데이터형을 변경한다.\n",
        "\n",
        "70이상 100이하는 1900을 더하고 70미만은 2000을 더함\n",
        "* 상업적 게임이 나온 첫 시기는 70년대 이므로 70이상은 1900년대로 처리, 70미만은 2000년대로 처리한다."
      ],
      "metadata": {
        "id": "xBk_HhoOdpsC"
      }
    },
    {
      "cell_type": "code",
      "source": [
        "df.loc[:,'Year'] = df.loc[:,'Year'].astype('int')"
      ],
      "metadata": {
        "id": "0jABpJKqd0K3"
      },
      "execution_count": 91,
      "outputs": []
    },
    {
      "cell_type": "code",
      "source": [
        "df.loc[:,'Year'].unique()"
      ],
      "metadata": {
        "colab": {
          "base_uri": "https://localhost:8080/"
        },
        "id": "kQSAf0WicpcR",
        "outputId": "248e6473-342b-4d96-e7ba-f4b75293fb37"
      },
      "execution_count": 92,
      "outputs": [
        {
          "output_type": "execute_result",
          "data": {
            "text/plain": [
              "array([2008, 2009, 2010, 2005, 2011, 2007, 2001, 2003, 2006, 2014, 2015,\n",
              "       2002, 1997, 2013, 1996, 2004, 2000, 1984, 1998, 2016, 1985, 1999,\n",
              "          9,   97, 1995, 1993, 2012, 1987, 1982,   11, 1994, 1990,   15,\n",
              "       1992, 1991, 1983, 1988, 1981,    3, 1989,   96,    6,    8, 1986,\n",
              "          1,    5,    4,   10,   98,    7,   16,   86,   14,   95, 2017,\n",
              "       1980, 2020,    2,   13,    0,   12,   94])"
            ]
          },
          "metadata": {},
          "execution_count": 92
        }
      ]
    },
    {
      "cell_type": "code",
      "source": [
        "# 70이상 100이하는 1900을 더하고 70미만은 2000을 더함\n",
        "df['Year'] = df['Year'].apply(lambda x: x+1900 if (x>=70)&(x<100) else x+2000 if x<70 else x)"
      ],
      "metadata": {
        "id": "ItygQq96cpXJ"
      },
      "execution_count": 121,
      "outputs": []
    },
    {
      "cell_type": "code",
      "source": [
        "df.loc[:,'Year'].unique()"
      ],
      "metadata": {
        "colab": {
          "base_uri": "https://localhost:8080/"
        },
        "id": "nbonZGapqpGt",
        "outputId": "02b20797-966c-4917-f109-44aae3da9fae"
      },
      "execution_count": 122,
      "outputs": [
        {
          "output_type": "execute_result",
          "data": {
            "text/plain": [
              "array([2008, 2009, 2010, 2005, 2011, 2007, 2001, 2003, 2006, 2014, 2015,\n",
              "       2002, 1997, 2013, 1996, 2004, 2000, 1984, 1998, 2016, 1985, 1999,\n",
              "       1995, 1993, 2012, 1987, 1982, 1994, 1990, 1992, 1991, 1983, 1988,\n",
              "       1981, 1989, 1986, 2017, 1980, 2020])"
            ]
          },
          "metadata": {},
          "execution_count": 122
        }
      ]
    },
    {
      "cell_type": "markdown",
      "source": [
        "#### Genre\n",
        "이상값은 없어 보인다"
      ],
      "metadata": {
        "id": "8HAyLzrXvcs5"
      }
    },
    {
      "cell_type": "code",
      "source": [
        "df.loc[:,'Genre'].unique()"
      ],
      "metadata": {
        "colab": {
          "base_uri": "https://localhost:8080/"
        },
        "id": "Kjgs9HJnzGGq",
        "outputId": "a03fe845-1b63-421c-a5dc-b8360359b9aa"
      },
      "execution_count": 124,
      "outputs": [
        {
          "output_type": "execute_result",
          "data": {
            "text/plain": [
              "array(['Action', 'Adventure', 'Misc', 'Platform', 'Sports', 'Simulation',\n",
              "       'Racing', 'Role-Playing', 'Puzzle', 'Strategy', 'Fighting',\n",
              "       'Shooter'], dtype=object)"
            ]
          },
          "metadata": {},
          "execution_count": 124
        }
      ]
    },
    {
      "cell_type": "markdown",
      "source": [
        "#### Publisher"
      ],
      "metadata": {
        "id": "JbM9Gqbm2exK"
      }
    },
    {
      "cell_type": "code",
      "source": [
        "df.loc[:,'Publisher'].unique()"
      ],
      "metadata": {
        "colab": {
          "base_uri": "https://localhost:8080/"
        },
        "id": "nOd9d4Vl2Jon",
        "outputId": "02e39c62-3f92-4299-87fd-eaed5718e7fb"
      },
      "execution_count": 128,
      "outputs": [
        {
          "output_type": "execute_result",
          "data": {
            "text/plain": [
              "array(['Destineer', 'Namco Bandai Games', 'Alchemist', 'Zoo Games',\n",
              "       'D3Publisher', 'Konami Digital Entertainment', 'Deep Silver',\n",
              "       'Tecmo Koei', 'Sega', 'THQ', 'Empire Interactive', 'Ubisoft',\n",
              "       'Paradox Interactive', '505 Games', 'Tomy Corporation',\n",
              "       'Eidos Interactive', 'Microsoft Game Studios',\n",
              "       'Nippon Ichi Software', 'Kalypso Media', 'Electronic Arts',\n",
              "       'Sony Computer Entertainment', 'Activision',\n",
              "       'Tru Blu Entertainment', 'Warner Bros. Interactive Entertainment',\n",
              "       'Midway Games', 'Mindscape', 'Wargaming.net', 'Capcom',\n",
              "       'Acclaim Entertainment', 'Unknown', 'Nintendo',\n",
              "       'Disney Interactive Studios', 'Crave Entertainment', 'Sunflowers',\n",
              "       'Arc System Works', 'Milestone S.r.l', 'Kamui', 'Hudson Soft',\n",
              "       'Square Enix', 'Focus Home Interactive', 'Take-Two Interactive',\n",
              "       'Game Factory', 'Takara Tomy', 'SquareSoft', 'Global Star',\n",
              "       'Infogrames', 'GT Interactive', 'Storm City Games',\n",
              "       'Gathering of Developers', 'Giza10', 'Imagineer', 'Atari',\n",
              "       'SouthPeak Games', 'Graffiti', 'Banpresto', 'Gust',\n",
              "       'From Software', 'TDK Mediactive', '5pb', 'Nobilis', 'Taito',\n",
              "       'Foreign Media Games', 'Nippon Columbia', 'Vivendi Games',\n",
              "       'Codemasters', 'Bethesda Softworks', '3DO', 'Enix Corporation',\n",
              "       'Ignition Entertainment', 'ASCII Media Works',\n",
              "       'Virgin Interactive', 'Easy Interactive', 'SCi', 'Idea Factory',\n",
              "       'Jaleco', 'Majesco Entertainment', 'ArtDink', 'System Soft',\n",
              "       'CBS Electronics', 'Kaga Create', 'Phantagram',\n",
              "       'Zoo Digital Publishing', 'BAM! Entertainment',\n",
              "       'Jester Interactive', 'Quinrose', 'Game Arts', 'Headup Games',\n",
              "       'Rising Star Games', 'TGL', 'Gremlin Interactive Ltd',\n",
              "       '10TACLE Studios', 'Activision Value', 'responDESIGN',\n",
              "       'Rage Software', 'Little Orbit', 'Marvelous Interactive',\n",
              "       'Avanquest', 'Marvelous Entertainment', 'Kadokawa Shoten',\n",
              "       'Compile Heart', 'Takara', 'Seta Corporation', 'Comfort',\n",
              "       'LucasArts', 'NEC Interchannel', 'SNK Playmore', 'Russel', 'FuRyu',\n",
              "       'dramatic create', 'Koch Media', 'LSP Games', 'Microids',\n",
              "       'Psygnosis', 'Culture Brain', 'Saurus', 'Hackberry',\n",
              "       'FuRyu Corporation', 'Midas Interactive Entertainment',\n",
              "       'Office Create', 'Media Factory', 'Asylum Entertainment',\n",
              "       'ValuSoft', 'Universal Interactive', 'bitComposer Games',\n",
              "       'Rocket Company', 'Atlus', 'Number None', 'Genki', 'Compile',\n",
              "       'Telltale Games', 'UFO Interactive', 'Magix', 'NewKidCo', 'Coleco',\n",
              "       'Harmonix Music Systems', 'Sting', 'Hudson Entertainment',\n",
              "       'Ghostlight', 'Sunsoft', 'Spike', 'Home Entertainment Suppliers',\n",
              "       'Screenlife', 'Moss', 'Ubisoft Annecy', 'Oxygen Interactive',\n",
              "       'Kemco', 'P2 Games', 'Datam Polystar', 'Palcom', 'Enterbrain',\n",
              "       'Starfish', '20th Century Fox Video Games', 'Xplosiv',\n",
              "       'Scholastic Inc.', 'Phenomedia', 'GOA', 'Yamasa Entertainment',\n",
              "       'MTV Games', 'PQube', 'Aqua Plus', 'Daedalic',\n",
              "       'ASCII Entertainment', 'Nordic Games', 'Ongakukan',\n",
              "       'Interchannel-Holon', 'Avanquest Software', 'Black Bean Games',\n",
              "       'DTP Entertainment', 'NEC', 'Black Label Games',\n",
              "       'O3 Entertainment', 'Micro Cabin', 'Marvel Entertainment',\n",
              "       'Telegames', 'Hasbro Interactive', 'Tigervision', 'Funsta',\n",
              "       'Kadokawa Games', 'Success', 'Level 5', 'Sammy Corporation',\n",
              "       'Axela', 'Milestone S.r.l.', 'Agatsuma Entertainment', 'Vap',\n",
              "       'System 3 Arcade Software', 'Broccoli', 'Media Rings', 'Interplay',\n",
              "       'Swing! Entertainment', 'Fox Interactive', 'Aques',\n",
              "       'DreamCatcher Interactive', 'General Entertainment',\n",
              "       'Sony Online Entertainment', 'Shogakukan', 'Rebellion',\n",
              "       'Starpath Corp.', 'Square', 'Quintet', 'Touchstone', 'Mumbo Jumbo',\n",
              "       'Epoch', 'Parker Bros.', 'TDK Core', 'Mattel Interactive',\n",
              "       'Prototype', 'Merscom LLC', 'Insomniac Games',\n",
              "       'Human Entertainment', 'Nichibutsu', 'Playlogic Game Factory',\n",
              "       'Ocean', 'Cloud Imperium Games Corporation', 'Funcom',\n",
              "       'Hamster Corporation', 'Idea Factory International',\n",
              "       'Destination Software, Inc', 'DHM Interactive', 'Myelin Media',\n",
              "       'SNK', 'Licensed 4U', 'GSP', 'City Interactive', 'PopCap Games',\n",
              "       'AQ Interactive', 'Victor Interactive', 'Titus',\n",
              "       'Excalibur Publishing', 'Popcorn Arcade', 'Valcon Games', 'Mojang',\n",
              "       'Metro 3D', 'Vatical Entertainment', 'ChunSoft', 'Astragon',\n",
              "       'CyberFront', 'Big Ben Interactive', 'Big Fish Games',\n",
              "       'Conspiracy Entertainment', 'Naxat Soft', 'Paon Corporation',\n",
              "       'Bigben Interactive', 'MediaQuest', 'Blast! Entertainment Ltd',\n",
              "       'Data Design Interactive', 'Nexon', 'Neko Entertainment', 'iWin',\n",
              "       'Introversion Software', 'GameMill Entertainment', 'Play It',\n",
              "       'Asgard', 'ASC Games', '989 Studios', 'MTO', 'Mercury Games',\n",
              "       'Navarre Corp', 'Boost On', 'Maxis', 'Rondomedia',\n",
              "       'MC2 Entertainment', 'CDV Software Entertainment', 'Funbox Media',\n",
              "       'Angel Studios', 'Xseed Games', 'Performance Designed Products',\n",
              "       'Sony Computer Entertainment Europe', 'Wanadoo',\n",
              "       'Lexicon Entertainment', 'Aruze Corp', 'TopWare Interactive',\n",
              "       'Virtual Play Games', 'Seventh Chord', 'JoWood Productions',\n",
              "       'Pinnacle', 'Iceberg Interactive', 'Agetec', 'Mastertronic',\n",
              "       'Vic Tokai', 'ITT Family Games', 'Gameloft',\n",
              "       'Sony Music Entertainment', 'Mastiff', 'imageepoch Inc.',\n",
              "       'Arena Entertainment', 'TOHO', 'Bomb', 'Interchannel',\n",
              "       'LEGO Media', 'Grand Prix Games', 'Mitsui', 'Zushi Games',\n",
              "       'O-Games', 'NCSoft', 'Arika', 'CPG Products',\n",
              "       'Slitherine Software', 'Alternative Software', 'Data Age',\n",
              "       'Plenty', 'PlayV', 'Karin Entertainment', 'Knowledge Adventure',\n",
              "       'Valve Software', 'Gotham Games', 'Pioneer LDC', 'Genterprise',\n",
              "       'G.Rev', 'Kids Station', 'Asmik Ace Entertainment',\n",
              "       'Monte Christo Multimedia', 'Cave', 'Milestone', 'Views',\n",
              "       'Benesse', 'Encore', 'XS Games', 'Avalon Interactive',\n",
              "       'EON Digital Entertainment', 'Mentor Interactive',\n",
              "       'Irem Software Engineering', 'Brash Entertainment',\n",
              "       'Flashpoint Games', 'Imagic', 'KID', 'Media Works', 'Altron',\n",
              "       'Mirai Shounen', 'SSI', 'Strategy First',\n",
              "       'Ascaron Entertainment GmbH', 'Natsume', 'Warashi', 'IE Institute',\n",
              "       'Warp', 'Mad Catz', 'NCS', 'The Learning Company', 'Sweets',\n",
              "       'Game Life', 'HMH Interactive', 'Xicat Interactive',\n",
              "       'Rebellion Developments', 'Yeti', 'Ackkstudios',\n",
              "       'CokeM Interactive', 'Evolved Games', 'Video System',\n",
              "       'Aksys Games', 'PM Studios', 'Coconuts Japan',\n",
              "       'Sunrise Interactive', 'Bohemia Interactive', \"Yuke's\", 'Tivola',\n",
              "       'GungHo', 'Tradewest', 'Tommo', 'GN Software', 'Gaga', 'Aspyr',\n",
              "       'Trion Worlds', 'Revolution (Japan)', 'Misawa', 'Pack-In-Video',\n",
              "       'Hect', 'TalonSoft', 'Aerosoft', 'RTL', 'Minato Station',\n",
              "       'Activision Blizzard', 'Playmates', 'CTO SpA',\n",
              "       'BMG Interactive Entertainment', 'Media Entertainment',\n",
              "       'Hip Interactive', 'Acquire', 'Jack of All Games',\n",
              "       'The Adventure Company', 'Epic Games', 'DSI Games', 'Fortyfive',\n",
              "       'Indie Games', 'NovaLogic', 'Happinet', 'Reef Entertainment',\n",
              "       'Masque Publishing', 'Imadio', 'Microprose', 'Falcom Corporation',\n",
              "       'Square EA', 'Red Storm Entertainment', 'Dusenberry Martin Racing',\n",
              "       'Sonnet', 'Tripwire Interactive', 'RED Entertainment',\n",
              "       'Global A Entertainment', 'Athena', 'Groove Games',\n",
              "       'Mud Duck Productions', 'Ertain', 'System 3', 'Marvelous Games',\n",
              "       'Gamecock', 'Panther Software', 'Playmore', 'Vir2L Studios',\n",
              "       'mixi, Inc', 'HAL Laboratory', 'BushiRoad', 'Jorudan', 'JVC',\n",
              "       'Alawar Entertainment', 'Inti Creates', 'Laguna', 'NetRevo',\n",
              "       'Daedalic Entertainment', 'Time Warner Interactive',\n",
              "       'Slightly Mad Studios', 'Max Five', 'Devolver Digital', 'CCP',\n",
              "       'Flight-Plan', 'Quelle', 'Dorart', 'ESP', 'Answer Software',\n",
              "       'Phoenix Games', 'Yumedia', 'Elite', 'Elf', 'Nordcurrent', 'New',\n",
              "       'Paon', 'Nihon Falcom Corporation', 'Commseed', 'BPS', 'Tryfirst',\n",
              "       'FunSoft', 'Legacy Interactive', 'Princess Soft',\n",
              "       'Graphsim Entertainment', 'Creative Core',\n",
              "       'Electronic Arts Victor', 'Mamba Games', 'Her Interactive',\n",
              "       'Maximum Family Games', 'DreamWorks Interactive', 'Detn8 Games',\n",
              "       'Universal Gamex', 'Hearty Robin', 'GameTek', 'RedOctane',\n",
              "       'U.S. Gold', 'Wizard Video Games',\n",
              "       'Sony Computer Entertainment America', 'Telstar',\n",
              "       'Yacht Club Games', 'PopTop Software', 'Experience Inc.',\n",
              "       'Michaelsoft', 'Gakken', 'T&E Soft', 'Origin Systems',\n",
              "       'Gainax Network Systems', 'inXile Entertainment',\n",
              "       'Focus Multimedia', 'SCS Software', 'Hello Games',\n",
              "       'Essential Games', 'Xing Entertainment', 'Riverhillsoft',\n",
              "       '1C Company', 'Data East', 'Mycom', '7G//AMES', 'DigiCube', 'Fuji',\n",
              "       'Simon & Schuster Interactive', 'Pow',\n",
              "       'Pacific Century Cyber Works', 'Extreme Entertainment Group',\n",
              "       'Image Epoch', 'Core Design Ltd.', 'Otomate', 'Piacci', 'ASK',\n",
              "       'WayForward Technologies', 'Pack In Soft', 'Red Orb', 'Takuyo',\n",
              "       'UIG Entertainment', 'Crystal Dynamics', 'Blue Byte', 'Rain Games',\n",
              "       'Gamebridge', 'New World Computing', 'fonfun', 'Berkeley',\n",
              "       'Interworks Unlimited, Inc.', 'Societa', 'On Demand',\n",
              "       'Crimson Cow', 'Griffin International', 'Visco', 'Syscom',\n",
              "       'King Records', 'Tetris Online', 'EA Games', 'Locus',\n",
              "       'Paradox Development', 'Nippon Telenet', 'Accolade', 'id Software',\n",
              "       'HuneX', 'Interplay Productions', 'Evolution Games',\n",
              "       'Kokopeli Digital Studios', 'Ascaron Entertainment', '989 Sports',\n",
              "       'Illusion Softworks', 'Kando Games', 'Pony Canyon', 'Intergrow',\n",
              "       'Glams', 'Nitroplus', 'Zenrin', 'Team17 Software', 'Fields',\n",
              "       'Havas Interactive', '49Games', 'Alvion', 'Quest', 'Imageworks',\n",
              "       'Stainless Games', 'Daito', 'Enjoy Gaming ltd.', 'Aria',\n",
              "       'Kool Kizz', 'Sold Out', 'Magical Company', 'Imax', 'Summitsoft',\n",
              "       'Cygames', 'Men-A-Vision', 'Adeline Software',\n",
              "       'Revolution Software', 'Valve', 'Codemasters Online', 'TYO',\n",
              "       'Phantom EFX', 'Liquid Games', 'American Softworks', 'SPS', 'Edia',\n",
              "       'Nippon Amuse', 'Asmik Corp', 'MLB.com', 'White Park Bay Software',\n",
              "       'Abylight', 'Ecole', 'TechnoSoft', 'Culture Publishers',\n",
              "       'Ivolgamus', '2D Boy', 'Technos Japan Corporation', 'Giga',\n",
              "       'Westwood Studios', 'UEP Systems', 'KSS', 'Type-Moon',\n",
              "       'Lighthouse Interactive', 'NDA Productions', 'Mystique'],\n",
              "      dtype=object)"
            ]
          },
          "metadata": {},
          "execution_count": 128
        }
      ]
    },
    {
      "cell_type": "markdown",
      "source": [
        "#### NA_Sales\n",
        "숫자, 숫자M, 숫자K 3경우 데이터가 보인다. 이들 단위를 100만으로 맞춰준다.\n",
        "* 숫자: 단위 100만으로 나둔다.\n",
        "* 숫자M: 단위는 100만으로 맞으므로 M만을 제거한다.\n",
        "* 숫자K: 단위가 1천으로 K를 제거 후 1,000으로 나눈다.\n",
        "* 소수점 3째자리 부터 절삭한 것으로 보인다.  \n",
        "\n",
        "데이터형 변경: 'object' -> 'float'  \n",
        "* sales는 출고량이므로 float로 변경(단위 100만)"
      ],
      "metadata": {
        "id": "GBNGXAf10I_Q"
      }
    },
    {
      "cell_type": "code",
      "source": [
        "df.loc[:,'NA_Sales'].unique()"
      ],
      "metadata": {
        "colab": {
          "base_uri": "https://localhost:8080/"
        },
        "id": "NSn4HCYt0MeZ",
        "outputId": "895340e6-297c-4079-f719-e6db9d394c2b"
      },
      "execution_count": 127,
      "outputs": [
        {
          "output_type": "execute_result",
          "data": {
            "text/plain": [
              "array(['0.04', '0.17', '0', '0.12', '0.02', '0.07', '480K', '0.14',\n",
              "       '0.01', '0.57', '0.06', '0.08', '0.48', '0.03', '0.05', '0.29',\n",
              "       '0.19', '0.3', '0.26', '0.11', '0.18', '0.33', '0.51', '60K',\n",
              "       '0.13', '0.34', '0.25', '0.41', '0.52', '0.22', '0.35', '0.1',\n",
              "       '0.67', '0.59', '0.36', '0.21', '1.19', '5.91', '1.98', '0.09',\n",
              "       '0K', '0.5', '0.94', '0.16', '0.63', '0.43', '0.2', '1.23', '0.44',\n",
              "       '0.42', '0.97', '2.67', '0.28', '6.05', '0.47', '0.49', '0.62',\n",
              "       '0.24', '0.72', '1.74', '0.46', '0.65', '0.32', '1.53', '0.23',\n",
              "       '0.53', '0.37', '1.26', '0.39', '0.58', '1.94', '2.31', '1.03',\n",
              "       '0.82', '0.4', '0.93', '0.56', '0.96', '1.64', '0.69', '1.25',\n",
              "       '0.27', '0.92', '0.58M', '1.24', '0.25M', '0.86', '0.73', '0.55',\n",
              "       '1.54', '1.02', '1.27', '0.54', '0.15', '1.09', '3.44', '2.29',\n",
              "       '0.88', '5.55M', '1.37', '2.3', '0.99', '1.15', '0.98', '0.75',\n",
              "       '0.74', '0.7', '0.14M', '0.45', '1.2', '1.41', '0.68', '1.23M',\n",
              "       '1.56', '0.31', '1.45', '1.11', '2.9', '0M', '0.83', '0.78',\n",
              "       '3.38', '0.64', '1.08', '0.38', '1.47', '0.06M', '0.77', '1.05',\n",
              "       '6.85', '3.83', '3.79', '1.13M', '0.9', '3.78', '1.89', '1.17',\n",
              "       '4.03', '0.89', '0.61', '0.71', '23.2', '1.44', '1.31', '3.06',\n",
              "       '3.14', '1.66', '0.79', '1.39', '0.31M', '490K', '1.85', '0.76',\n",
              "       '2.06', '1.36', '1.3', '1.06', '1.1', '240K', '2.08', '1.04',\n",
              "       '0.66', '2.64', '1.58', '0.05M', '3.11', '4.34', '150K', '1.78',\n",
              "       '0.85', '2.91', '0.13M', '1', '1.01', '4100K', '1.07', '3.8',\n",
              "       '2.5', '2.2', '1.5', '1.91', '0.95', '2.03', '2.1', '1.4', '3.18',\n",
              "       '1.73', '1.12', '1.72', '2.05', '1.63', '1.22', '1.13', '1.49',\n",
              "       '2.55', '0.87', '0.81', '0.6', '0.61M', '2.62', '0.84', '2.38',\n",
              "       '1.32', '20K', '3.02', '1.75', '2.02', '1.82', '1.68', '9.03',\n",
              "       '2.56', '1.87', '2.65', '1.48', '3.19', '1.33', '41.49', '30K',\n",
              "       '1.93', '1.16', '1.21', '0.02M', '2.52', '2.28', '5.99', '14.03',\n",
              "       '2.93', '2.45', '0.11M', '2.14', '2.99', '0.01M', '2.6', '1.35',\n",
              "       '0.36M', '50K', '1.28', '2.95', '70K', '15.75', '1.18', '1.42',\n",
              "       '8.94', '7.01', '190K', '1.62', '0.91', '0.8', '2.09', '1.96',\n",
              "       '1.52', '2.39', '1.79', '0.43M', '2.19', '1.43', '1.76', '2.78',\n",
              "       '1.3M', '1.71', '29.08', '3.13', '3.1', '4.99', '4.23', '2.35',\n",
              "       '14.97', '1.65', '1210K', '2.26', '3.64', '2.71', '3.49', '3.33',\n",
              "       '1.46', '1.7', '4.4', '4.02', '2.53', '1610K', '2.01', '100K',\n",
              "       '1.55', '4.47', '1.9', '2.25', '3.98', '2.51', '1.61', '1.84',\n",
              "       '1.81', '170K', '8.41', '2.11', '2.74', '2.42', '3.92', '6.72',\n",
              "       '2.54', '4', '0.9M', '40K', '2.12', '7.28', '2.13', '1.59', '1.88',\n",
              "       '3.39', '450K', '2.96', '8.52', '2.82', '9.67', '7.97', '8.25',\n",
              "       '1.86', '1.67', '1.51', '6.91', '1.57', '3.88', '3.27', '4.14',\n",
              "       '1.92', '220K', '1.29', '2.04', '1.11M', '310K', '0.07M', '2.15',\n",
              "       '6.16', '4.09', '11.38', '1.69', '1.34', '820K', '2.17', '80K',\n",
              "       '4.36', '2.8', '290K', '3.05', '130K', '5.39', '2.66M', '2.47',\n",
              "       '4.15', '4.46', '1.18M', '11.27', '1.38', '3.66', '4.12', '0.55M',\n",
              "       '2.41', '2.57', '2', '2.58', '5.89', '2.18', '1.99', '2.72',\n",
              "       '2.36', '120K', '0.08M', '0.22M', '5.77', '3.68', '3.23', '5.84',\n",
              "       '9', '2.85', '10.83', '6.82', '3.54', '0.3M', '0.04M', '3.42',\n",
              "       '6.99', '1780K', '2930K', '1.14', '2.49', '5.98', '2.33', '1.97',\n",
              "       '5.58', '0.15M', '0.1M', '3.7', '2.07', '4.41', '1.83', '0.29M',\n",
              "       '4.98', '10K', '280K', '2.43', '26.93', '6.42', '3.81', '5.57',\n",
              "       '9.81', '0.37M', '0.12M', '3.28', '3.74', '540K', '2.66', '9.09',\n",
              "       '1.77', '9.63M', '6.06', '4.79', '2.59', '2.48', '0.34M', '2.97',\n",
              "       '2.63', '4.74', '9.07', '0.26M', '3.51', '1.6', '5.03', '3.22',\n",
              "       '3.01', '2.22', '2.77', '3.25', '550K', '2010K', '5.8', '3.59',\n",
              "       '2.4', '1.95', '5.08', '770K', '2.84', '15.85', '7.03M', '4.89',\n",
              "       '3.24', '4.01', '340K', '2.32', '3.4', '90K', '12.78', '2.21',\n",
              "       '3.36', '4.75', '600K', '0.46M', '0.03M', '6.76', '2570K', '3',\n",
              "       '4.05', '5.54', '0.72M', '2.75', '3.21', '6.63', '9.43', '3.03',\n",
              "       '3.5', '2.7', '0.96M', '9.54', '6.75', '3.63', '270K', '420K',\n",
              "       '0.28M', '2.79', '4.21', '2.23', '4.52', '0.45M', '720K', '2.89',\n",
              "       '0.53M', '4.76', '470K', '14.59', '320K', '4.18'], dtype=object)"
            ]
          },
          "metadata": {},
          "execution_count": 127
        }
      ]
    },
    {
      "cell_type": "markdown",
      "source": [
        "지역에 따라서 선호하는 게임 장르가 다를까"
      ],
      "metadata": {
        "id": "MSykJy9AIG7w"
      }
    },
    {
      "cell_type": "markdown",
      "source": [
        "연도별 게임의 트렌드가 있을까"
      ],
      "metadata": {
        "id": "Kg4v_9q0IJop"
      }
    },
    {
      "cell_type": "markdown",
      "source": [
        "출고량이 높은 게임에 대한 분석 및 시각화 프로세스"
      ],
      "metadata": {
        "id": "1BflLDy3INFs"
      }
    }
  ]
}